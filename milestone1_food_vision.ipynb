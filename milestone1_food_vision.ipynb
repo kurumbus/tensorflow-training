{
  "cells": [
    {
      "cell_type": "code",
      "id": "initial_id",
      "metadata": {
        "collapsed": true,
        "ExecuteTime": {
          "end_time": "2025-04-18T07:02:27.907159Z",
          "start_time": "2025-04-18T07:02:27.900793Z"
        },
        "id": "initial_id"
      },
      "source": [
        "# Mixed Precision Training"
      ],
      "outputs": [],
      "execution_count": 1
    },
    {
      "metadata": {
        "id": "2166540f97b376d8",
        "outputId": "88d4015b-f797-4a5d-fb2b-577766103c5d",
        "colab": {
          "base_uri": "https://localhost:8080/"
        }
      },
      "cell_type": "code",
      "outputs": [
        {
          "output_type": "stream",
          "name": "stdout",
          "text": [
            "--2025-04-18 07:08:36--  https://raw.githubusercontent.com/kurumbus/tensorflow-training/refs/heads/master/helper_functions.py\n",
            "Resolving raw.githubusercontent.com (raw.githubusercontent.com)... 185.199.108.133, 185.199.109.133, 185.199.110.133, ...\n",
            "Connecting to raw.githubusercontent.com (raw.githubusercontent.com)|185.199.108.133|:443... connected.\n",
            "HTTP request sent, awaiting response... 200 OK\n",
            "Length: 10246 (10K) [text/plain]\n",
            "Saving to: ‘helper_functions.py.1’\n",
            "\n",
            "\rhelper_functions.py   0%[                    ]       0  --.-KB/s               \rhelper_functions.py 100%[===================>]  10.01K  --.-KB/s    in 0.001s  \n",
            "\n",
            "2025-04-18 07:08:36 (18.0 MB/s) - ‘helper_functions.py.1’ saved [10246/10246]\n",
            "\n"
          ]
        }
      ],
      "execution_count": 2,
      "source": [
        "!wget https://raw.githubusercontent.com/kurumbus/tensorflow-training/refs/heads/master/helper_functions.py"
      ],
      "id": "2166540f97b376d8"
    },
    {
      "cell_type": "code",
      "source": [
        "from helper_functions import create_tensorboard_callback, plot_loss_curves, compare_historys"
      ],
      "metadata": {
        "id": "HX1rru6-uQ4q"
      },
      "id": "HX1rru6-uQ4q",
      "execution_count": 4,
      "outputs": []
    }
  ],
  "metadata": {
    "kernelspec": {
      "display_name": "Python 3",
      "language": "python",
      "name": "python3"
    },
    "language_info": {
      "codemirror_mode": {
        "name": "ipython",
        "version": 2
      },
      "file_extension": ".py",
      "mimetype": "text/x-python",
      "name": "python",
      "nbconvert_exporter": "python",
      "pygments_lexer": "ipython2",
      "version": "2.7.6"
    },
    "colab": {
      "provenance": []
    }
  },
  "nbformat": 4,
  "nbformat_minor": 5
}