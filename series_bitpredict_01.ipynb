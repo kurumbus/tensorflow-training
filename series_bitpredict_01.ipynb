{
  "cells": [
    {
      "cell_type": "code",
      "source": [
        "!wget https://raw.githubusercontent.com/mrdbourke/tensorflow-deep-learning/refs/heads/main/extras/BTC_USD_2013-10-01_2021-05-18-CoinDesk.csv"
      ],
      "metadata": {
        "id": "AchR5LQM5PJd",
        "outputId": "8d90a520-a38e-4d20-8685-14e576dda80a",
        "colab": {
          "base_uri": "https://localhost:8080/"
        }
      },
      "id": "AchR5LQM5PJd",
      "execution_count": 1,
      "outputs": [
        {
          "output_type": "stream",
          "name": "stdout",
          "text": [
            "--2025-07-23 13:37:06--  https://raw.githubusercontent.com/mrdbourke/tensorflow-deep-learning/refs/heads/main/extras/BTC_USD_2013-10-01_2021-05-18-CoinDesk.csv\n",
            "Resolving raw.githubusercontent.com (raw.githubusercontent.com)... 185.199.108.133, 185.199.109.133, 185.199.110.133, ...\n",
            "Connecting to raw.githubusercontent.com (raw.githubusercontent.com)|185.199.108.133|:443... connected.\n",
            "HTTP request sent, awaiting response... 200 OK\n",
            "Length: 178509 (174K) [text/plain]\n",
            "Saving to: ‘BTC_USD_2013-10-01_2021-05-18-CoinDesk.csv’\n",
            "\n",
            "BTC_USD_2013-10-01_ 100%[===================>] 174.33K  --.-KB/s    in 0.03s   \n",
            "\n",
            "2025-07-23 13:37:06 (5.32 MB/s) - ‘BTC_USD_2013-10-01_2021-05-18-CoinDesk.csv’ saved [178509/178509]\n",
            "\n"
          ]
        }
      ]
    },
    {
      "metadata": {
        "ExecuteTime": {
          "end_time": "2025-07-22T09:01:37.196123Z",
          "start_time": "2025-07-22T09:01:36.573132Z"
        },
        "id": "7a0ac31aca5933de",
        "outputId": "cecffe4d-aa25-4f72-e2d1-bfb5781a5d68",
        "colab": {
          "base_uri": "https://localhost:8080/",
          "height": 455
        }
      },
      "cell_type": "code",
      "source": [
        "import pandas as pd\n",
        "\n",
        "df = pd.read_csv('BTC_USD_2013-10-01_2021-05-18-CoinDesk.csv',\n",
        "                 parse_dates=[\"Date\"],\n",
        "                 index_col=[\"Date\"])\n",
        "\n",
        "df"
      ],
      "id": "7a0ac31aca5933de",
      "outputs": [
        {
          "output_type": "execute_result",
          "data": {
            "text/plain": [
              "           Currency  Closing Price (USD)  24h Open (USD)  24h High (USD)  \\\n",
              "Date                                                                       \n",
              "2013-10-01      BTC           123.654990      124.304660      124.751660   \n",
              "2013-10-02      BTC           125.455000      123.654990      125.758500   \n",
              "2013-10-03      BTC           108.584830      125.455000      125.665660   \n",
              "2013-10-04      BTC           118.674660      108.584830      118.675000   \n",
              "2013-10-05      BTC           121.338660      118.674660      121.936330   \n",
              "...             ...                  ...             ...             ...   \n",
              "2021-05-14      BTC         49764.132082    49596.778891    51448.798576   \n",
              "2021-05-15      BTC         50032.693137    49717.354353    51578.312545   \n",
              "2021-05-16      BTC         47885.625255    49926.035067    50690.802950   \n",
              "2021-05-17      BTC         45604.615754    46805.537852    49670.414174   \n",
              "2021-05-18      BTC         43144.471291    46439.336570    46622.853437   \n",
              "\n",
              "            24h Low (USD)  \n",
              "Date                       \n",
              "2013-10-01     122.563490  \n",
              "2013-10-02     123.633830  \n",
              "2013-10-03      83.328330  \n",
              "2013-10-04     107.058160  \n",
              "2013-10-05     118.005660  \n",
              "...                   ...  \n",
              "2021-05-14   46294.720180  \n",
              "2021-05-15   48944.346536  \n",
              "2021-05-16   47005.102292  \n",
              "2021-05-17   43868.638969  \n",
              "2021-05-18   42102.346430  \n",
              "\n",
              "[2787 rows x 5 columns]"
            ],
            "text/html": [
              "\n",
              "  <div id=\"df-72915841-9b66-41cc-a4f7-85ad5e1b72be\" class=\"colab-df-container\">\n",
              "    <div>\n",
              "<style scoped>\n",
              "    .dataframe tbody tr th:only-of-type {\n",
              "        vertical-align: middle;\n",
              "    }\n",
              "\n",
              "    .dataframe tbody tr th {\n",
              "        vertical-align: top;\n",
              "    }\n",
              "\n",
              "    .dataframe thead th {\n",
              "        text-align: right;\n",
              "    }\n",
              "</style>\n",
              "<table border=\"1\" class=\"dataframe\">\n",
              "  <thead>\n",
              "    <tr style=\"text-align: right;\">\n",
              "      <th></th>\n",
              "      <th>Currency</th>\n",
              "      <th>Closing Price (USD)</th>\n",
              "      <th>24h Open (USD)</th>\n",
              "      <th>24h High (USD)</th>\n",
              "      <th>24h Low (USD)</th>\n",
              "    </tr>\n",
              "    <tr>\n",
              "      <th>Date</th>\n",
              "      <th></th>\n",
              "      <th></th>\n",
              "      <th></th>\n",
              "      <th></th>\n",
              "      <th></th>\n",
              "    </tr>\n",
              "  </thead>\n",
              "  <tbody>\n",
              "    <tr>\n",
              "      <th>2013-10-01</th>\n",
              "      <td>BTC</td>\n",
              "      <td>123.654990</td>\n",
              "      <td>124.304660</td>\n",
              "      <td>124.751660</td>\n",
              "      <td>122.563490</td>\n",
              "    </tr>\n",
              "    <tr>\n",
              "      <th>2013-10-02</th>\n",
              "      <td>BTC</td>\n",
              "      <td>125.455000</td>\n",
              "      <td>123.654990</td>\n",
              "      <td>125.758500</td>\n",
              "      <td>123.633830</td>\n",
              "    </tr>\n",
              "    <tr>\n",
              "      <th>2013-10-03</th>\n",
              "      <td>BTC</td>\n",
              "      <td>108.584830</td>\n",
              "      <td>125.455000</td>\n",
              "      <td>125.665660</td>\n",
              "      <td>83.328330</td>\n",
              "    </tr>\n",
              "    <tr>\n",
              "      <th>2013-10-04</th>\n",
              "      <td>BTC</td>\n",
              "      <td>118.674660</td>\n",
              "      <td>108.584830</td>\n",
              "      <td>118.675000</td>\n",
              "      <td>107.058160</td>\n",
              "    </tr>\n",
              "    <tr>\n",
              "      <th>2013-10-05</th>\n",
              "      <td>BTC</td>\n",
              "      <td>121.338660</td>\n",
              "      <td>118.674660</td>\n",
              "      <td>121.936330</td>\n",
              "      <td>118.005660</td>\n",
              "    </tr>\n",
              "    <tr>\n",
              "      <th>...</th>\n",
              "      <td>...</td>\n",
              "      <td>...</td>\n",
              "      <td>...</td>\n",
              "      <td>...</td>\n",
              "      <td>...</td>\n",
              "    </tr>\n",
              "    <tr>\n",
              "      <th>2021-05-14</th>\n",
              "      <td>BTC</td>\n",
              "      <td>49764.132082</td>\n",
              "      <td>49596.778891</td>\n",
              "      <td>51448.798576</td>\n",
              "      <td>46294.720180</td>\n",
              "    </tr>\n",
              "    <tr>\n",
              "      <th>2021-05-15</th>\n",
              "      <td>BTC</td>\n",
              "      <td>50032.693137</td>\n",
              "      <td>49717.354353</td>\n",
              "      <td>51578.312545</td>\n",
              "      <td>48944.346536</td>\n",
              "    </tr>\n",
              "    <tr>\n",
              "      <th>2021-05-16</th>\n",
              "      <td>BTC</td>\n",
              "      <td>47885.625255</td>\n",
              "      <td>49926.035067</td>\n",
              "      <td>50690.802950</td>\n",
              "      <td>47005.102292</td>\n",
              "    </tr>\n",
              "    <tr>\n",
              "      <th>2021-05-17</th>\n",
              "      <td>BTC</td>\n",
              "      <td>45604.615754</td>\n",
              "      <td>46805.537852</td>\n",
              "      <td>49670.414174</td>\n",
              "      <td>43868.638969</td>\n",
              "    </tr>\n",
              "    <tr>\n",
              "      <th>2021-05-18</th>\n",
              "      <td>BTC</td>\n",
              "      <td>43144.471291</td>\n",
              "      <td>46439.336570</td>\n",
              "      <td>46622.853437</td>\n",
              "      <td>42102.346430</td>\n",
              "    </tr>\n",
              "  </tbody>\n",
              "</table>\n",
              "<p>2787 rows × 5 columns</p>\n",
              "</div>\n",
              "    <div class=\"colab-df-buttons\">\n",
              "\n",
              "  <div class=\"colab-df-container\">\n",
              "    <button class=\"colab-df-convert\" onclick=\"convertToInteractive('df-72915841-9b66-41cc-a4f7-85ad5e1b72be')\"\n",
              "            title=\"Convert this dataframe to an interactive table.\"\n",
              "            style=\"display:none;\">\n",
              "\n",
              "  <svg xmlns=\"http://www.w3.org/2000/svg\" height=\"24px\" viewBox=\"0 -960 960 960\">\n",
              "    <path d=\"M120-120v-720h720v720H120Zm60-500h600v-160H180v160Zm220 220h160v-160H400v160Zm0 220h160v-160H400v160ZM180-400h160v-160H180v160Zm440 0h160v-160H620v160ZM180-180h160v-160H180v160Zm440 0h160v-160H620v160Z\"/>\n",
              "  </svg>\n",
              "    </button>\n",
              "\n",
              "  <style>\n",
              "    .colab-df-container {\n",
              "      display:flex;\n",
              "      gap: 12px;\n",
              "    }\n",
              "\n",
              "    .colab-df-convert {\n",
              "      background-color: #E8F0FE;\n",
              "      border: none;\n",
              "      border-radius: 50%;\n",
              "      cursor: pointer;\n",
              "      display: none;\n",
              "      fill: #1967D2;\n",
              "      height: 32px;\n",
              "      padding: 0 0 0 0;\n",
              "      width: 32px;\n",
              "    }\n",
              "\n",
              "    .colab-df-convert:hover {\n",
              "      background-color: #E2EBFA;\n",
              "      box-shadow: 0px 1px 2px rgba(60, 64, 67, 0.3), 0px 1px 3px 1px rgba(60, 64, 67, 0.15);\n",
              "      fill: #174EA6;\n",
              "    }\n",
              "\n",
              "    .colab-df-buttons div {\n",
              "      margin-bottom: 4px;\n",
              "    }\n",
              "\n",
              "    [theme=dark] .colab-df-convert {\n",
              "      background-color: #3B4455;\n",
              "      fill: #D2E3FC;\n",
              "    }\n",
              "\n",
              "    [theme=dark] .colab-df-convert:hover {\n",
              "      background-color: #434B5C;\n",
              "      box-shadow: 0px 1px 3px 1px rgba(0, 0, 0, 0.15);\n",
              "      filter: drop-shadow(0px 1px 2px rgba(0, 0, 0, 0.3));\n",
              "      fill: #FFFFFF;\n",
              "    }\n",
              "  </style>\n",
              "\n",
              "    <script>\n",
              "      const buttonEl =\n",
              "        document.querySelector('#df-72915841-9b66-41cc-a4f7-85ad5e1b72be button.colab-df-convert');\n",
              "      buttonEl.style.display =\n",
              "        google.colab.kernel.accessAllowed ? 'block' : 'none';\n",
              "\n",
              "      async function convertToInteractive(key) {\n",
              "        const element = document.querySelector('#df-72915841-9b66-41cc-a4f7-85ad5e1b72be');\n",
              "        const dataTable =\n",
              "          await google.colab.kernel.invokeFunction('convertToInteractive',\n",
              "                                                    [key], {});\n",
              "        if (!dataTable) return;\n",
              "\n",
              "        const docLinkHtml = 'Like what you see? Visit the ' +\n",
              "          '<a target=\"_blank\" href=https://colab.research.google.com/notebooks/data_table.ipynb>data table notebook</a>'\n",
              "          + ' to learn more about interactive tables.';\n",
              "        element.innerHTML = '';\n",
              "        dataTable['output_type'] = 'display_data';\n",
              "        await google.colab.output.renderOutput(dataTable, element);\n",
              "        const docLink = document.createElement('div');\n",
              "        docLink.innerHTML = docLinkHtml;\n",
              "        element.appendChild(docLink);\n",
              "      }\n",
              "    </script>\n",
              "  </div>\n",
              "\n",
              "\n",
              "    <div id=\"df-97299a9e-79ca-4657-a89f-0f4b79a99ff1\">\n",
              "      <button class=\"colab-df-quickchart\" onclick=\"quickchart('df-97299a9e-79ca-4657-a89f-0f4b79a99ff1')\"\n",
              "                title=\"Suggest charts\"\n",
              "                style=\"display:none;\">\n",
              "\n",
              "<svg xmlns=\"http://www.w3.org/2000/svg\" height=\"24px\"viewBox=\"0 0 24 24\"\n",
              "     width=\"24px\">\n",
              "    <g>\n",
              "        <path d=\"M19 3H5c-1.1 0-2 .9-2 2v14c0 1.1.9 2 2 2h14c1.1 0 2-.9 2-2V5c0-1.1-.9-2-2-2zM9 17H7v-7h2v7zm4 0h-2V7h2v10zm4 0h-2v-4h2v4z\"/>\n",
              "    </g>\n",
              "</svg>\n",
              "      </button>\n",
              "\n",
              "<style>\n",
              "  .colab-df-quickchart {\n",
              "      --bg-color: #E8F0FE;\n",
              "      --fill-color: #1967D2;\n",
              "      --hover-bg-color: #E2EBFA;\n",
              "      --hover-fill-color: #174EA6;\n",
              "      --disabled-fill-color: #AAA;\n",
              "      --disabled-bg-color: #DDD;\n",
              "  }\n",
              "\n",
              "  [theme=dark] .colab-df-quickchart {\n",
              "      --bg-color: #3B4455;\n",
              "      --fill-color: #D2E3FC;\n",
              "      --hover-bg-color: #434B5C;\n",
              "      --hover-fill-color: #FFFFFF;\n",
              "      --disabled-bg-color: #3B4455;\n",
              "      --disabled-fill-color: #666;\n",
              "  }\n",
              "\n",
              "  .colab-df-quickchart {\n",
              "    background-color: var(--bg-color);\n",
              "    border: none;\n",
              "    border-radius: 50%;\n",
              "    cursor: pointer;\n",
              "    display: none;\n",
              "    fill: var(--fill-color);\n",
              "    height: 32px;\n",
              "    padding: 0;\n",
              "    width: 32px;\n",
              "  }\n",
              "\n",
              "  .colab-df-quickchart:hover {\n",
              "    background-color: var(--hover-bg-color);\n",
              "    box-shadow: 0 1px 2px rgba(60, 64, 67, 0.3), 0 1px 3px 1px rgba(60, 64, 67, 0.15);\n",
              "    fill: var(--button-hover-fill-color);\n",
              "  }\n",
              "\n",
              "  .colab-df-quickchart-complete:disabled,\n",
              "  .colab-df-quickchart-complete:disabled:hover {\n",
              "    background-color: var(--disabled-bg-color);\n",
              "    fill: var(--disabled-fill-color);\n",
              "    box-shadow: none;\n",
              "  }\n",
              "\n",
              "  .colab-df-spinner {\n",
              "    border: 2px solid var(--fill-color);\n",
              "    border-color: transparent;\n",
              "    border-bottom-color: var(--fill-color);\n",
              "    animation:\n",
              "      spin 1s steps(1) infinite;\n",
              "  }\n",
              "\n",
              "  @keyframes spin {\n",
              "    0% {\n",
              "      border-color: transparent;\n",
              "      border-bottom-color: var(--fill-color);\n",
              "      border-left-color: var(--fill-color);\n",
              "    }\n",
              "    20% {\n",
              "      border-color: transparent;\n",
              "      border-left-color: var(--fill-color);\n",
              "      border-top-color: var(--fill-color);\n",
              "    }\n",
              "    30% {\n",
              "      border-color: transparent;\n",
              "      border-left-color: var(--fill-color);\n",
              "      border-top-color: var(--fill-color);\n",
              "      border-right-color: var(--fill-color);\n",
              "    }\n",
              "    40% {\n",
              "      border-color: transparent;\n",
              "      border-right-color: var(--fill-color);\n",
              "      border-top-color: var(--fill-color);\n",
              "    }\n",
              "    60% {\n",
              "      border-color: transparent;\n",
              "      border-right-color: var(--fill-color);\n",
              "    }\n",
              "    80% {\n",
              "      border-color: transparent;\n",
              "      border-right-color: var(--fill-color);\n",
              "      border-bottom-color: var(--fill-color);\n",
              "    }\n",
              "    90% {\n",
              "      border-color: transparent;\n",
              "      border-bottom-color: var(--fill-color);\n",
              "    }\n",
              "  }\n",
              "</style>\n",
              "\n",
              "      <script>\n",
              "        async function quickchart(key) {\n",
              "          const quickchartButtonEl =\n",
              "            document.querySelector('#' + key + ' button');\n",
              "          quickchartButtonEl.disabled = true;  // To prevent multiple clicks.\n",
              "          quickchartButtonEl.classList.add('colab-df-spinner');\n",
              "          try {\n",
              "            const charts = await google.colab.kernel.invokeFunction(\n",
              "                'suggestCharts', [key], {});\n",
              "          } catch (error) {\n",
              "            console.error('Error during call to suggestCharts:', error);\n",
              "          }\n",
              "          quickchartButtonEl.classList.remove('colab-df-spinner');\n",
              "          quickchartButtonEl.classList.add('colab-df-quickchart-complete');\n",
              "        }\n",
              "        (() => {\n",
              "          let quickchartButtonEl =\n",
              "            document.querySelector('#df-97299a9e-79ca-4657-a89f-0f4b79a99ff1 button');\n",
              "          quickchartButtonEl.style.display =\n",
              "            google.colab.kernel.accessAllowed ? 'block' : 'none';\n",
              "        })();\n",
              "      </script>\n",
              "    </div>\n",
              "\n",
              "  <div id=\"id_44ee311a-e985-43f6-a074-23b9e9c61b48\">\n",
              "    <style>\n",
              "      .colab-df-generate {\n",
              "        background-color: #E8F0FE;\n",
              "        border: none;\n",
              "        border-radius: 50%;\n",
              "        cursor: pointer;\n",
              "        display: none;\n",
              "        fill: #1967D2;\n",
              "        height: 32px;\n",
              "        padding: 0 0 0 0;\n",
              "        width: 32px;\n",
              "      }\n",
              "\n",
              "      .colab-df-generate:hover {\n",
              "        background-color: #E2EBFA;\n",
              "        box-shadow: 0px 1px 2px rgba(60, 64, 67, 0.3), 0px 1px 3px 1px rgba(60, 64, 67, 0.15);\n",
              "        fill: #174EA6;\n",
              "      }\n",
              "\n",
              "      [theme=dark] .colab-df-generate {\n",
              "        background-color: #3B4455;\n",
              "        fill: #D2E3FC;\n",
              "      }\n",
              "\n",
              "      [theme=dark] .colab-df-generate:hover {\n",
              "        background-color: #434B5C;\n",
              "        box-shadow: 0px 1px 3px 1px rgba(0, 0, 0, 0.15);\n",
              "        filter: drop-shadow(0px 1px 2px rgba(0, 0, 0, 0.3));\n",
              "        fill: #FFFFFF;\n",
              "      }\n",
              "    </style>\n",
              "    <button class=\"colab-df-generate\" onclick=\"generateWithVariable('df')\"\n",
              "            title=\"Generate code using this dataframe.\"\n",
              "            style=\"display:none;\">\n",
              "\n",
              "  <svg xmlns=\"http://www.w3.org/2000/svg\" height=\"24px\"viewBox=\"0 0 24 24\"\n",
              "       width=\"24px\">\n",
              "    <path d=\"M7,19H8.4L18.45,9,17,7.55,7,17.6ZM5,21V16.75L18.45,3.32a2,2,0,0,1,2.83,0l1.4,1.43a1.91,1.91,0,0,1,.58,1.4,1.91,1.91,0,0,1-.58,1.4L9.25,21ZM18.45,9,17,7.55Zm-12,3A5.31,5.31,0,0,0,4.9,8.1,5.31,5.31,0,0,0,1,6.5,5.31,5.31,0,0,0,4.9,4.9,5.31,5.31,0,0,0,6.5,1,5.31,5.31,0,0,0,8.1,4.9,5.31,5.31,0,0,0,12,6.5,5.46,5.46,0,0,0,6.5,12Z\"/>\n",
              "  </svg>\n",
              "    </button>\n",
              "    <script>\n",
              "      (() => {\n",
              "      const buttonEl =\n",
              "        document.querySelector('#id_44ee311a-e985-43f6-a074-23b9e9c61b48 button.colab-df-generate');\n",
              "      buttonEl.style.display =\n",
              "        google.colab.kernel.accessAllowed ? 'block' : 'none';\n",
              "\n",
              "      buttonEl.onclick = () => {\n",
              "        google.colab.notebook.generateWithVariable('df');\n",
              "      }\n",
              "      })();\n",
              "    </script>\n",
              "  </div>\n",
              "\n",
              "    </div>\n",
              "  </div>\n"
            ],
            "application/vnd.google.colaboratory.intrinsic+json": {
              "type": "dataframe",
              "variable_name": "df",
              "summary": "{\n  \"name\": \"df\",\n  \"rows\": 2787,\n  \"fields\": [\n    {\n      \"column\": \"Date\",\n      \"properties\": {\n        \"dtype\": \"date\",\n        \"min\": \"2013-10-01 00:00:00\",\n        \"max\": \"2021-05-18 00:00:00\",\n        \"num_unique_values\": 2787,\n        \"samples\": [\n          \"2019-06-11 00:00:00\",\n          \"2021-05-03 00:00:00\",\n          \"2017-10-05 00:00:00\"\n        ],\n        \"semantic_type\": \"\",\n        \"description\": \"\"\n      }\n    },\n    {\n      \"column\": \"Currency\",\n      \"properties\": {\n        \"dtype\": \"category\",\n        \"num_unique_values\": 1,\n        \"samples\": [\n          \"BTC\"\n        ],\n        \"semantic_type\": \"\",\n        \"description\": \"\"\n      }\n    },\n    {\n      \"column\": \"Closing Price (USD)\",\n      \"properties\": {\n        \"dtype\": \"number\",\n        \"std\": 10887.847444369514,\n        \"min\": 108.58483,\n        \"max\": 63346.7890351052,\n        \"num_unique_values\": 2787,\n        \"samples\": [\n          7954.0062377205\n        ],\n        \"semantic_type\": \"\",\n        \"description\": \"\"\n      }\n    },\n    {\n      \"column\": \"24h Open (USD)\",\n      \"properties\": {\n        \"dtype\": \"number\",\n        \"std\": 10863.800772123866,\n        \"min\": 108.58483,\n        \"max\": 63562.6735446382,\n        \"num_unique_values\": 2787,\n        \"samples\": [\n          7600.9225047785\n        ],\n        \"semantic_type\": \"\",\n        \"description\": \"\"\n      }\n    },\n    {\n      \"column\": \"24h High (USD)\",\n      \"properties\": {\n        \"dtype\": \"number\",\n        \"std\": 11206.779756254147,\n        \"min\": 118.675,\n        \"max\": 64801.787869525,\n        \"num_unique_values\": 2787,\n        \"samples\": [\n          8064.9001353225\n        ],\n        \"semantic_type\": \"\",\n        \"description\": \"\"\n      }\n    },\n    {\n      \"column\": \"24h Low (USD)\",\n      \"properties\": {\n        \"dtype\": \"number\",\n        \"std\": 10475.811251828402,\n        \"min\": 83.32833,\n        \"max\": 62094.6329143272,\n        \"num_unique_values\": 2785,\n        \"samples\": [\n          7714.610306452\n        ],\n        \"semantic_type\": \"\",\n        \"description\": \"\"\n      }\n    }\n  ]\n}"
            }
          },
          "metadata": {},
          "execution_count": 2
        }
      ],
      "execution_count": 2
    },
    {
      "metadata": {
        "ExecuteTime": {
          "end_time": "2025-07-22T09:01:37.543643Z",
          "start_time": "2025-07-22T09:01:37.532584Z"
        },
        "id": "f11db24c1eb21397",
        "outputId": "ea245fb3-b341-4393-91aa-4a8caa363c2f",
        "colab": {
          "base_uri": "https://localhost:8080/",
          "height": 455
        }
      },
      "cell_type": "code",
      "source": [
        "bitcoin_prices = pd.DataFrame(df[\"Closing Price (USD)\"]).rename(columns={\"Closing Price (USD)\": \"price\"})\n",
        "\n",
        "bitcoin_prices"
      ],
      "id": "f11db24c1eb21397",
      "outputs": [
        {
          "output_type": "execute_result",
          "data": {
            "text/plain": [
              "                   price\n",
              "Date                    \n",
              "2013-10-01    123.654990\n",
              "2013-10-02    125.455000\n",
              "2013-10-03    108.584830\n",
              "2013-10-04    118.674660\n",
              "2013-10-05    121.338660\n",
              "...                  ...\n",
              "2021-05-14  49764.132082\n",
              "2021-05-15  50032.693137\n",
              "2021-05-16  47885.625255\n",
              "2021-05-17  45604.615754\n",
              "2021-05-18  43144.471291\n",
              "\n",
              "[2787 rows x 1 columns]"
            ],
            "text/html": [
              "\n",
              "  <div id=\"df-1e9fcdff-b468-4f13-8076-1d27765b6eee\" class=\"colab-df-container\">\n",
              "    <div>\n",
              "<style scoped>\n",
              "    .dataframe tbody tr th:only-of-type {\n",
              "        vertical-align: middle;\n",
              "    }\n",
              "\n",
              "    .dataframe tbody tr th {\n",
              "        vertical-align: top;\n",
              "    }\n",
              "\n",
              "    .dataframe thead th {\n",
              "        text-align: right;\n",
              "    }\n",
              "</style>\n",
              "<table border=\"1\" class=\"dataframe\">\n",
              "  <thead>\n",
              "    <tr style=\"text-align: right;\">\n",
              "      <th></th>\n",
              "      <th>price</th>\n",
              "    </tr>\n",
              "    <tr>\n",
              "      <th>Date</th>\n",
              "      <th></th>\n",
              "    </tr>\n",
              "  </thead>\n",
              "  <tbody>\n",
              "    <tr>\n",
              "      <th>2013-10-01</th>\n",
              "      <td>123.654990</td>\n",
              "    </tr>\n",
              "    <tr>\n",
              "      <th>2013-10-02</th>\n",
              "      <td>125.455000</td>\n",
              "    </tr>\n",
              "    <tr>\n",
              "      <th>2013-10-03</th>\n",
              "      <td>108.584830</td>\n",
              "    </tr>\n",
              "    <tr>\n",
              "      <th>2013-10-04</th>\n",
              "      <td>118.674660</td>\n",
              "    </tr>\n",
              "    <tr>\n",
              "      <th>2013-10-05</th>\n",
              "      <td>121.338660</td>\n",
              "    </tr>\n",
              "    <tr>\n",
              "      <th>...</th>\n",
              "      <td>...</td>\n",
              "    </tr>\n",
              "    <tr>\n",
              "      <th>2021-05-14</th>\n",
              "      <td>49764.132082</td>\n",
              "    </tr>\n",
              "    <tr>\n",
              "      <th>2021-05-15</th>\n",
              "      <td>50032.693137</td>\n",
              "    </tr>\n",
              "    <tr>\n",
              "      <th>2021-05-16</th>\n",
              "      <td>47885.625255</td>\n",
              "    </tr>\n",
              "    <tr>\n",
              "      <th>2021-05-17</th>\n",
              "      <td>45604.615754</td>\n",
              "    </tr>\n",
              "    <tr>\n",
              "      <th>2021-05-18</th>\n",
              "      <td>43144.471291</td>\n",
              "    </tr>\n",
              "  </tbody>\n",
              "</table>\n",
              "<p>2787 rows × 1 columns</p>\n",
              "</div>\n",
              "    <div class=\"colab-df-buttons\">\n",
              "\n",
              "  <div class=\"colab-df-container\">\n",
              "    <button class=\"colab-df-convert\" onclick=\"convertToInteractive('df-1e9fcdff-b468-4f13-8076-1d27765b6eee')\"\n",
              "            title=\"Convert this dataframe to an interactive table.\"\n",
              "            style=\"display:none;\">\n",
              "\n",
              "  <svg xmlns=\"http://www.w3.org/2000/svg\" height=\"24px\" viewBox=\"0 -960 960 960\">\n",
              "    <path d=\"M120-120v-720h720v720H120Zm60-500h600v-160H180v160Zm220 220h160v-160H400v160Zm0 220h160v-160H400v160ZM180-400h160v-160H180v160Zm440 0h160v-160H620v160ZM180-180h160v-160H180v160Zm440 0h160v-160H620v160Z\"/>\n",
              "  </svg>\n",
              "    </button>\n",
              "\n",
              "  <style>\n",
              "    .colab-df-container {\n",
              "      display:flex;\n",
              "      gap: 12px;\n",
              "    }\n",
              "\n",
              "    .colab-df-convert {\n",
              "      background-color: #E8F0FE;\n",
              "      border: none;\n",
              "      border-radius: 50%;\n",
              "      cursor: pointer;\n",
              "      display: none;\n",
              "      fill: #1967D2;\n",
              "      height: 32px;\n",
              "      padding: 0 0 0 0;\n",
              "      width: 32px;\n",
              "    }\n",
              "\n",
              "    .colab-df-convert:hover {\n",
              "      background-color: #E2EBFA;\n",
              "      box-shadow: 0px 1px 2px rgba(60, 64, 67, 0.3), 0px 1px 3px 1px rgba(60, 64, 67, 0.15);\n",
              "      fill: #174EA6;\n",
              "    }\n",
              "\n",
              "    .colab-df-buttons div {\n",
              "      margin-bottom: 4px;\n",
              "    }\n",
              "\n",
              "    [theme=dark] .colab-df-convert {\n",
              "      background-color: #3B4455;\n",
              "      fill: #D2E3FC;\n",
              "    }\n",
              "\n",
              "    [theme=dark] .colab-df-convert:hover {\n",
              "      background-color: #434B5C;\n",
              "      box-shadow: 0px 1px 3px 1px rgba(0, 0, 0, 0.15);\n",
              "      filter: drop-shadow(0px 1px 2px rgba(0, 0, 0, 0.3));\n",
              "      fill: #FFFFFF;\n",
              "    }\n",
              "  </style>\n",
              "\n",
              "    <script>\n",
              "      const buttonEl =\n",
              "        document.querySelector('#df-1e9fcdff-b468-4f13-8076-1d27765b6eee button.colab-df-convert');\n",
              "      buttonEl.style.display =\n",
              "        google.colab.kernel.accessAllowed ? 'block' : 'none';\n",
              "\n",
              "      async function convertToInteractive(key) {\n",
              "        const element = document.querySelector('#df-1e9fcdff-b468-4f13-8076-1d27765b6eee');\n",
              "        const dataTable =\n",
              "          await google.colab.kernel.invokeFunction('convertToInteractive',\n",
              "                                                    [key], {});\n",
              "        if (!dataTable) return;\n",
              "\n",
              "        const docLinkHtml = 'Like what you see? Visit the ' +\n",
              "          '<a target=\"_blank\" href=https://colab.research.google.com/notebooks/data_table.ipynb>data table notebook</a>'\n",
              "          + ' to learn more about interactive tables.';\n",
              "        element.innerHTML = '';\n",
              "        dataTable['output_type'] = 'display_data';\n",
              "        await google.colab.output.renderOutput(dataTable, element);\n",
              "        const docLink = document.createElement('div');\n",
              "        docLink.innerHTML = docLinkHtml;\n",
              "        element.appendChild(docLink);\n",
              "      }\n",
              "    </script>\n",
              "  </div>\n",
              "\n",
              "\n",
              "    <div id=\"df-efdd1c5f-776b-41e4-b6b9-b1f1599510bb\">\n",
              "      <button class=\"colab-df-quickchart\" onclick=\"quickchart('df-efdd1c5f-776b-41e4-b6b9-b1f1599510bb')\"\n",
              "                title=\"Suggest charts\"\n",
              "                style=\"display:none;\">\n",
              "\n",
              "<svg xmlns=\"http://www.w3.org/2000/svg\" height=\"24px\"viewBox=\"0 0 24 24\"\n",
              "     width=\"24px\">\n",
              "    <g>\n",
              "        <path d=\"M19 3H5c-1.1 0-2 .9-2 2v14c0 1.1.9 2 2 2h14c1.1 0 2-.9 2-2V5c0-1.1-.9-2-2-2zM9 17H7v-7h2v7zm4 0h-2V7h2v10zm4 0h-2v-4h2v4z\"/>\n",
              "    </g>\n",
              "</svg>\n",
              "      </button>\n",
              "\n",
              "<style>\n",
              "  .colab-df-quickchart {\n",
              "      --bg-color: #E8F0FE;\n",
              "      --fill-color: #1967D2;\n",
              "      --hover-bg-color: #E2EBFA;\n",
              "      --hover-fill-color: #174EA6;\n",
              "      --disabled-fill-color: #AAA;\n",
              "      --disabled-bg-color: #DDD;\n",
              "  }\n",
              "\n",
              "  [theme=dark] .colab-df-quickchart {\n",
              "      --bg-color: #3B4455;\n",
              "      --fill-color: #D2E3FC;\n",
              "      --hover-bg-color: #434B5C;\n",
              "      --hover-fill-color: #FFFFFF;\n",
              "      --disabled-bg-color: #3B4455;\n",
              "      --disabled-fill-color: #666;\n",
              "  }\n",
              "\n",
              "  .colab-df-quickchart {\n",
              "    background-color: var(--bg-color);\n",
              "    border: none;\n",
              "    border-radius: 50%;\n",
              "    cursor: pointer;\n",
              "    display: none;\n",
              "    fill: var(--fill-color);\n",
              "    height: 32px;\n",
              "    padding: 0;\n",
              "    width: 32px;\n",
              "  }\n",
              "\n",
              "  .colab-df-quickchart:hover {\n",
              "    background-color: var(--hover-bg-color);\n",
              "    box-shadow: 0 1px 2px rgba(60, 64, 67, 0.3), 0 1px 3px 1px rgba(60, 64, 67, 0.15);\n",
              "    fill: var(--button-hover-fill-color);\n",
              "  }\n",
              "\n",
              "  .colab-df-quickchart-complete:disabled,\n",
              "  .colab-df-quickchart-complete:disabled:hover {\n",
              "    background-color: var(--disabled-bg-color);\n",
              "    fill: var(--disabled-fill-color);\n",
              "    box-shadow: none;\n",
              "  }\n",
              "\n",
              "  .colab-df-spinner {\n",
              "    border: 2px solid var(--fill-color);\n",
              "    border-color: transparent;\n",
              "    border-bottom-color: var(--fill-color);\n",
              "    animation:\n",
              "      spin 1s steps(1) infinite;\n",
              "  }\n",
              "\n",
              "  @keyframes spin {\n",
              "    0% {\n",
              "      border-color: transparent;\n",
              "      border-bottom-color: var(--fill-color);\n",
              "      border-left-color: var(--fill-color);\n",
              "    }\n",
              "    20% {\n",
              "      border-color: transparent;\n",
              "      border-left-color: var(--fill-color);\n",
              "      border-top-color: var(--fill-color);\n",
              "    }\n",
              "    30% {\n",
              "      border-color: transparent;\n",
              "      border-left-color: var(--fill-color);\n",
              "      border-top-color: var(--fill-color);\n",
              "      border-right-color: var(--fill-color);\n",
              "    }\n",
              "    40% {\n",
              "      border-color: transparent;\n",
              "      border-right-color: var(--fill-color);\n",
              "      border-top-color: var(--fill-color);\n",
              "    }\n",
              "    60% {\n",
              "      border-color: transparent;\n",
              "      border-right-color: var(--fill-color);\n",
              "    }\n",
              "    80% {\n",
              "      border-color: transparent;\n",
              "      border-right-color: var(--fill-color);\n",
              "      border-bottom-color: var(--fill-color);\n",
              "    }\n",
              "    90% {\n",
              "      border-color: transparent;\n",
              "      border-bottom-color: var(--fill-color);\n",
              "    }\n",
              "  }\n",
              "</style>\n",
              "\n",
              "      <script>\n",
              "        async function quickchart(key) {\n",
              "          const quickchartButtonEl =\n",
              "            document.querySelector('#' + key + ' button');\n",
              "          quickchartButtonEl.disabled = true;  // To prevent multiple clicks.\n",
              "          quickchartButtonEl.classList.add('colab-df-spinner');\n",
              "          try {\n",
              "            const charts = await google.colab.kernel.invokeFunction(\n",
              "                'suggestCharts', [key], {});\n",
              "          } catch (error) {\n",
              "            console.error('Error during call to suggestCharts:', error);\n",
              "          }\n",
              "          quickchartButtonEl.classList.remove('colab-df-spinner');\n",
              "          quickchartButtonEl.classList.add('colab-df-quickchart-complete');\n",
              "        }\n",
              "        (() => {\n",
              "          let quickchartButtonEl =\n",
              "            document.querySelector('#df-efdd1c5f-776b-41e4-b6b9-b1f1599510bb button');\n",
              "          quickchartButtonEl.style.display =\n",
              "            google.colab.kernel.accessAllowed ? 'block' : 'none';\n",
              "        })();\n",
              "      </script>\n",
              "    </div>\n",
              "\n",
              "  <div id=\"id_1583e919-c053-400d-a618-47aa12986178\">\n",
              "    <style>\n",
              "      .colab-df-generate {\n",
              "        background-color: #E8F0FE;\n",
              "        border: none;\n",
              "        border-radius: 50%;\n",
              "        cursor: pointer;\n",
              "        display: none;\n",
              "        fill: #1967D2;\n",
              "        height: 32px;\n",
              "        padding: 0 0 0 0;\n",
              "        width: 32px;\n",
              "      }\n",
              "\n",
              "      .colab-df-generate:hover {\n",
              "        background-color: #E2EBFA;\n",
              "        box-shadow: 0px 1px 2px rgba(60, 64, 67, 0.3), 0px 1px 3px 1px rgba(60, 64, 67, 0.15);\n",
              "        fill: #174EA6;\n",
              "      }\n",
              "\n",
              "      [theme=dark] .colab-df-generate {\n",
              "        background-color: #3B4455;\n",
              "        fill: #D2E3FC;\n",
              "      }\n",
              "\n",
              "      [theme=dark] .colab-df-generate:hover {\n",
              "        background-color: #434B5C;\n",
              "        box-shadow: 0px 1px 3px 1px rgba(0, 0, 0, 0.15);\n",
              "        filter: drop-shadow(0px 1px 2px rgba(0, 0, 0, 0.3));\n",
              "        fill: #FFFFFF;\n",
              "      }\n",
              "    </style>\n",
              "    <button class=\"colab-df-generate\" onclick=\"generateWithVariable('bitcoin_prices')\"\n",
              "            title=\"Generate code using this dataframe.\"\n",
              "            style=\"display:none;\">\n",
              "\n",
              "  <svg xmlns=\"http://www.w3.org/2000/svg\" height=\"24px\"viewBox=\"0 0 24 24\"\n",
              "       width=\"24px\">\n",
              "    <path d=\"M7,19H8.4L18.45,9,17,7.55,7,17.6ZM5,21V16.75L18.45,3.32a2,2,0,0,1,2.83,0l1.4,1.43a1.91,1.91,0,0,1,.58,1.4,1.91,1.91,0,0,1-.58,1.4L9.25,21ZM18.45,9,17,7.55Zm-12,3A5.31,5.31,0,0,0,4.9,8.1,5.31,5.31,0,0,0,1,6.5,5.31,5.31,0,0,0,4.9,4.9,5.31,5.31,0,0,0,6.5,1,5.31,5.31,0,0,0,8.1,4.9,5.31,5.31,0,0,0,12,6.5,5.46,5.46,0,0,0,6.5,12Z\"/>\n",
              "  </svg>\n",
              "    </button>\n",
              "    <script>\n",
              "      (() => {\n",
              "      const buttonEl =\n",
              "        document.querySelector('#id_1583e919-c053-400d-a618-47aa12986178 button.colab-df-generate');\n",
              "      buttonEl.style.display =\n",
              "        google.colab.kernel.accessAllowed ? 'block' : 'none';\n",
              "\n",
              "      buttonEl.onclick = () => {\n",
              "        google.colab.notebook.generateWithVariable('bitcoin_prices');\n",
              "      }\n",
              "      })();\n",
              "    </script>\n",
              "  </div>\n",
              "\n",
              "    </div>\n",
              "  </div>\n"
            ],
            "application/vnd.google.colaboratory.intrinsic+json": {
              "type": "dataframe",
              "variable_name": "bitcoin_prices",
              "summary": "{\n  \"name\": \"bitcoin_prices\",\n  \"rows\": 2787,\n  \"fields\": [\n    {\n      \"column\": \"Date\",\n      \"properties\": {\n        \"dtype\": \"date\",\n        \"min\": \"2013-10-01 00:00:00\",\n        \"max\": \"2021-05-18 00:00:00\",\n        \"num_unique_values\": 2787,\n        \"samples\": [\n          \"2019-06-11 00:00:00\",\n          \"2021-05-03 00:00:00\",\n          \"2017-10-05 00:00:00\"\n        ],\n        \"semantic_type\": \"\",\n        \"description\": \"\"\n      }\n    },\n    {\n      \"column\": \"price\",\n      \"properties\": {\n        \"dtype\": \"number\",\n        \"std\": 10887.847444369514,\n        \"min\": 108.58483,\n        \"max\": 63346.7890351052,\n        \"num_unique_values\": 2787,\n        \"samples\": [\n          7954.0062377205,\n          56427.0431250152,\n          4186.78374\n        ],\n        \"semantic_type\": \"\",\n        \"description\": \"\"\n      }\n    }\n  ]\n}"
            }
          },
          "metadata": {},
          "execution_count": 3
        }
      ],
      "execution_count": 3
    },
    {
      "metadata": {
        "ExecuteTime": {
          "end_time": "2025-07-22T09:01:38.920979Z",
          "start_time": "2025-07-22T09:01:37.849809Z"
        },
        "id": "52bede75f484a007",
        "outputId": "da97d525-b9b8-4087-de65-b0c2bcc2f2d6",
        "colab": {
          "base_uri": "https://localhost:8080/",
          "height": 659
        }
      },
      "cell_type": "code",
      "source": [
        "import matplotlib.pyplot as plt\n",
        "\n",
        "bitcoin_prices.plot(figsize=(10, 7))\n",
        "plt.ylabel(\"BTC Price\")\n",
        "plt.title(\"BTC Price 01-10-2013 to 18-05-2021\")"
      ],
      "id": "52bede75f484a007",
      "outputs": [
        {
          "output_type": "execute_result",
          "data": {
            "text/plain": [
              "Text(0.5, 1.0, 'BTC Price 01-10-2013 to 18-05-2021')"
            ]
          },
          "metadata": {},
          "execution_count": 4
        },
        {
          "output_type": "display_data",
          "data": {
            "text/plain": [
              "<Figure size 1000x700 with 1 Axes>"
            ],
            "image/png": "[encoded data removed]"
          },
          "metadata": {}
        }
      ],
      "execution_count": 4
    },
    {
      "metadata": {
        "ExecuteTime": {
          "end_time": "2025-07-22T09:01:40.030858Z",
          "start_time": "2025-07-22T09:01:39.993223Z"
        },
        "id": "a112f6990a95d71a",
        "outputId": "a2c8578f-ccc4-4887-c60d-375c69696717",
        "colab": {
          "base_uri": "https://localhost:8080/"
        }
      },
      "cell_type": "code",
      "source": [
        "import csv\n",
        "from datetime import datetime\n",
        "\n",
        "timesteps = []\n",
        "btc_price = []\n",
        "\n",
        "with open(\"BTC_USD_2013-10-01_2021-05-18-CoinDesk.csv\", \"r\") as f:\n",
        "    csv_reader = csv.reader(f, delimiter=\",\")\n",
        "    next(csv_reader, None)\n",
        "    for line in csv_reader:\n",
        "        timesteps.append(datetime.strptime(line[1], \"%Y-%m-%d\"))\n",
        "        btc_price.append(float(line[2])) # get the closing price as float\n",
        "\n",
        "# View first 10 of each\n",
        "\n",
        "timesteps[:10], btc_price[:10]"
      ],
      "id": "a112f6990a95d71a",
      "outputs": [
        {
          "output_type": "execute_result",
          "data": {
            "text/plain": [
              "([datetime.datetime(2013, 10, 1, 0, 0),\n",
              "  datetime.datetime(2013, 10, 2, 0, 0),\n",
              "  datetime.datetime(2013, 10, 3, 0, 0),\n",
              "  datetime.datetime(2013, 10, 4, 0, 0),\n",
              "  datetime.datetime(2013, 10, 5, 0, 0),\n",
              "  datetime.datetime(2013, 10, 6, 0, 0),\n",
              "  datetime.datetime(2013, 10, 7, 0, 0),\n",
              "  datetime.datetime(2013, 10, 8, 0, 0),\n",
              "  datetime.datetime(2013, 10, 9, 0, 0),\n",
              "  datetime.datetime(2013, 10, 10, 0, 0)],\n",
              " [123.65499,\n",
              "  125.455,\n",
              "  108.58483,\n",
              "  118.67466,\n",
              "  121.33866,\n",
              "  120.65533,\n",
              "  121.795,\n",
              "  123.033,\n",
              "  124.049,\n",
              "  125.96116])"
            ]
          },
          "metadata": {},
          "execution_count": 5
        }
      ],
      "execution_count": 5
    },
    {
      "metadata": {
        "ExecuteTime": {
          "end_time": "2025-07-22T09:01:40.847387Z",
          "start_time": "2025-07-22T09:01:40.642296Z"
        },
        "id": "5e51cfbb94eadeb9",
        "outputId": "a137f724-b946-4219-9b4d-abaa9e9654bd",
        "colab": {
          "base_uri": "https://localhost:8080/",
          "height": 640
        }
      },
      "cell_type": "code",
      "source": [
        "import matplotlib.pyplot as plt\n",
        "\n",
        "plt.figure(figsize=(10, 7))\n",
        "plt.ylabel(\"BTC Price\")\n",
        "plt.title(\"BTC Price 01-10-2013 to 18-05-2021\")\n",
        "plt.plot(timesteps, btc_price)"
      ],
      "id": "5e51cfbb94eadeb9",
      "outputs": [
        {
          "output_type": "execute_result",
          "data": {
            "text/plain": [
              "[<matplotlib.lines.Line2D at 0x78785b041750>]"
            ]
          },
          "metadata": {},
          "execution_count": 6
        },
        {
          "output_type": "display_data",
          "data": {
            "text/plain": [
              "<Figure size 1000x700 with 1 Axes>"
            ],
            "image/png": "[encoded data removed]"
          },
          "metadata": {}
        }
      ],
      "execution_count": 6
    },
    {
      "metadata": {
        "ExecuteTime": {
          "end_time": "2025-07-22T09:01:41.585986Z",
          "start_time": "2025-07-22T09:01:41.576097Z"
        },
        "id": "44a24274f273120e",
        "outputId": "07ea2e29-53d3-4336-9116-0c9e8dd92e64",
        "colab": {
          "base_uri": "https://localhost:8080/"
        }
      },
      "cell_type": "code",
      "source": [
        "#  WRONG WAY\n",
        "\n",
        "timesteps = bitcoin_prices.index.to_numpy()\n",
        "prices = bitcoin_prices[\"price\"].to_numpy()\n",
        "\n",
        "timesteps[:10], prices[:10]"
      ],
      "id": "44a24274f273120e",
      "outputs": [
        {
          "output_type": "execute_result",
          "data": {
            "text/plain": [
              "(array(['2013-10-01T00:00:00.000000000', '2013-10-02T00:00:00.000000000',\n",
              "        '2013-10-03T00:00:00.000000000', '2013-10-04T00:00:00.000000000',\n",
              "        '2013-10-05T00:00:00.000000000', '2013-10-06T00:00:00.000000000',\n",
              "        '2013-10-07T00:00:00.000000000', '2013-10-08T00:00:00.000000000',\n",
              "        '2013-10-09T00:00:00.000000000', '2013-10-10T00:00:00.000000000'],\n",
              "       dtype='datetime64[ns]'),\n",
              " array([123.65499, 125.455  , 108.58483, 118.67466, 121.33866, 120.65533,\n",
              "        121.795  , 123.033  , 124.049  , 125.96116]))"
            ]
          },
          "metadata": {},
          "execution_count": 7
        }
      ],
      "execution_count": 7
    },
    {
      "metadata": {
        "ExecuteTime": {
          "end_time": "2025-07-22T09:01:42.698765Z",
          "start_time": "2025-07-22T09:01:41.637552Z"
        },
        "id": "1c407ea125d2f69f",
        "outputId": "9031124c-7fd5-431b-bde5-f4a5b66cdbb9",
        "colab": {
          "base_uri": "https://localhost:8080/"
        }
      },
      "cell_type": "code",
      "source": [
        "#  WRONG WAY\n",
        "\n",
        "from sklearn.model_selection import train_test_split\n",
        "\n",
        "X_train, X_test, y_train, y_test = train_test_split(timesteps,  #dates\n",
        "                                                    prices,  # prices\n",
        "                                                    test_size=0.2,\n",
        "                                                    random_state=42)\n",
        "\n",
        "X_train.shape, X_test.shape, y_train.shape, y_test.shape"
      ],
      "id": "1c407ea125d2f69f",
      "outputs": [
        {
          "output_type": "execute_result",
          "data": {
            "text/plain": [
              "((2229,), (558,), (2229,), (558,))"
            ]
          },
          "metadata": {},
          "execution_count": 8
        }
      ],
      "execution_count": 8
    },
    {
      "metadata": {
        "ExecuteTime": {
          "end_time": "2025-07-22T09:01:42.922176Z",
          "start_time": "2025-07-22T09:01:42.747592Z"
        },
        "id": "4933835f112d3f69",
        "outputId": "2a47b816-4eca-45d7-cdfa-de0ad469b195",
        "colab": {
          "base_uri": "https://localhost:8080/",
          "height": 619
        }
      },
      "cell_type": "code",
      "source": [
        "#  WRONG WAY\n",
        "\n",
        "plt.figure(figsize=(10, 7))\n",
        "plt.scatter(X_train, y_train, s=5, label=\"Train data\")\n",
        "plt.scatter(X_test, y_test, s=5, label=\"Test data\")\n",
        "plt.xlabel(\"Date\")\n",
        "plt.ylabel(\"BTC Price\")\n",
        "plt.legend(fontsize=\"x-small\")\n",
        "plt.show()"
      ],
      "id": "4933835f112d3f69",
      "outputs": [
        {
          "output_type": "display_data",
          "data": {
            "text/plain": [
              "<Figure size 1000x700 with 1 Axes>"
            ],
            "image/png": "[encoded data removed]"
          },
          "metadata": {}
        }
      ],
      "execution_count": 9
    },
    {
      "metadata": {
        "ExecuteTime": {
          "end_time": "2025-07-22T09:01:43.227913Z",
          "start_time": "2025-07-22T09:01:42.954185Z"
        },
        "id": "ff3f0acfcb354a39"
      },
      "cell_type": "code",
      "source": [
        "####\n",
        "# RIGHT WAY\n",
        "####"
      ],
      "id": "ff3f0acfcb354a39",
      "outputs": [],
      "execution_count": 10
    },
    {
      "metadata": {
        "ExecuteTime": {
          "end_time": "2025-07-22T09:01:43.260620Z",
          "start_time": "2025-07-22T09:01:43.253264Z"
        },
        "id": "de39fad53ad65597",
        "outputId": "9e19b45c-7cc6-4d74-e1ee-c6066fe9b0f6",
        "colab": {
          "base_uri": "https://localhost:8080/"
        }
      },
      "cell_type": "code",
      "source": [
        "split_size = int(0.8 * len(prices))\n",
        "\n",
        "X_train, y_train = timesteps[:split_size], prices[:split_size]\n",
        "X_test, y_test = timesteps[split_size:], prices[split_size:]\n",
        "\n",
        "len(X_train), len(y_train), len(X_test), len(y_test)"
      ],
      "id": "de39fad53ad65597",
      "outputs": [
        {
          "output_type": "execute_result",
          "data": {
            "text/plain": [
              "(2229, 2229, 558, 558)"
            ]
          },
          "metadata": {},
          "execution_count": 11
        }
      ],
      "execution_count": 11
    },
    {
      "metadata": {
        "ExecuteTime": {
          "end_time": "2025-07-22T09:01:43.498172Z",
          "start_time": "2025-07-22T09:01:43.335823Z"
        },
        "id": "4ab2fe3ced8a702",
        "outputId": "4191e8fe-ed59-4d28-d947-67376e36071b",
        "colab": {
          "base_uri": "https://localhost:8080/",
          "height": 619
        }
      },
      "cell_type": "code",
      "source": [
        "#  WRONG WAY\n",
        "\n",
        "plt.figure(figsize=(10, 7))\n",
        "plt.scatter(X_train, y_train, s=5, label=\"Train data\")\n",
        "plt.scatter(X_test, y_test, s=5, label=\"Test data\")\n",
        "plt.xlabel(\"Date\")\n",
        "plt.ylabel(\"BTC Price\")\n",
        "plt.legend(fontsize=\"x-small\")\n",
        "plt.show()"
      ],
      "id": "4ab2fe3ced8a702",
      "outputs": [
        {
          "output_type": "display_data",
          "data": {
            "text/plain": [
              "<Figure size 1000x700 with 1 Axes>"
            ],
            "image/png": "[encoded data removed]"
          },
          "metadata": {}
        }
      ],
      "execution_count": 12
    },
    {
      "metadata": {
        "ExecuteTime": {
          "end_time": "2025-07-22T09:01:43.565211Z",
          "start_time": "2025-07-22T09:01:43.559626Z"
        },
        "id": "f101ed16c05c8983"
      },
      "cell_type": "code",
      "source": [
        "def plot_time_series(timesteps, values, format=\".\", start=0, end=None, label=None):\n",
        "    \"\"\"\n",
        "    plots teimesteps (a series of points in ttime against values a series of values across timestmeps)\n",
        "\n",
        "    :param timesteps: array of timestemp values\n",
        "    :param values:  array of values across time\n",
        "    :param format:  style of plot\n",
        "    :param start: where to start the plot (setting a value will index from start of timesteps\n",
        "    :param end:  where to end the plot\n",
        "    :param label:  where to end the plot\n",
        "    :return:\n",
        "    \"\"\"\n",
        "\n",
        "    plt.plot(timesteps[start:end], values, format, label=label)\n",
        "    plt.xlabel(\"Time\")\n",
        "    plt.ylabel(\"BTC Price\")\n",
        "    if label:\n",
        "        plt.legend(fontsize=14)\n",
        "    plt.grid(True)"
      ],
      "id": "f101ed16c05c8983",
      "outputs": [],
      "execution_count": 13
    },
    {
      "metadata": {
        "ExecuteTime": {
          "end_time": "2025-07-22T09:01:44.022171Z",
          "start_time": "2025-07-22T09:01:43.700291Z"
        },
        "id": "738be07cb6d82a31",
        "outputId": "289ba853-0079-41c5-e589-7d65bf2c0c1b",
        "colab": {
          "base_uri": "https://localhost:8080/",
          "height": 619
        }
      },
      "cell_type": "code",
      "source": [
        "plt.figure(figsize=(10, 7))\n",
        "plot_time_series(timesteps=X_train, values=y_train, label=\"Train data\")\n",
        "plot_time_series(timesteps=X_test, values=y_test, label=\"Test data\")"
      ],
      "id": "738be07cb6d82a31",
      "outputs": [
        {
          "output_type": "display_data",
          "data": {
            "text/plain": [
              "<Figure size 1000x700 with 1 Axes>"
            ],
            "image/png": "[encoded data removed]"
          },
          "metadata": {}
        }
      ],
      "execution_count": 14
    },
    {
      "metadata": {
        "id": "f7a193f2d0371939"
      },
      "cell_type": "markdown",
      "source": [
        "Model experiments\n",
        "\n",
        "* 0. Native model (baseline\n",
        "* 1. Dense model\n",
        "* 2. same as 1\n",
        "* 3. same as 1\n",
        "* 4. conv1d\n",
        "* 5. lstm\n",
        "* 6. same as 1 + multivariate data\n",
        "* 7. n-beats algorithm\n",
        "* 8. ensemble\n",
        "* 9. future prediction model\n",
        "* 10. same as 1 but with turkey"
      ],
      "id": "f7a193f2d0371939"
    },
    {
      "metadata": {
        "ExecuteTime": {
          "end_time": "2025-07-22T09:01:44.098833Z",
          "start_time": "2025-07-22T09:01:44.089715Z"
        },
        "id": "85a95d2bd6b7af29",
        "outputId": "620401cc-61dd-445b-bc9f-3f67f711ab6c",
        "colab": {
          "base_uri": "https://localhost:8080/"
        }
      },
      "cell_type": "code",
      "source": [
        "# Naive forecast\n",
        "\n",
        "naive_forecast = y_test[:-1]\n",
        "\n",
        "naive_forecast[:10], naive_forecast[-10:]"
      ],
      "id": "85a95d2bd6b7af29",
      "outputs": [
        {
          "output_type": "execute_result",
          "data": {
            "text/plain": [
              "(array([9226.48582088, 8794.35864452, 8798.04205463, 9081.18687849,\n",
              "        8711.53433917, 8760.89271814, 8749.52059102, 8656.97092235,\n",
              "        8500.64355816, 8469.2608989 ]),\n",
              " array([57107.12067189, 58788.20967893, 58102.19142623, 55715.54665129,\n",
              "        56573.5554719 , 52147.82118698, 49764.1320816 , 50032.69313676,\n",
              "        47885.62525472, 45604.61575361]))"
            ]
          },
          "metadata": {},
          "execution_count": 15
        }
      ],
      "execution_count": 15
    },
    {
      "metadata": {
        "ExecuteTime": {
          "end_time": "2025-07-22T09:01:44.498296Z",
          "start_time": "2025-07-22T09:01:44.286402Z"
        },
        "id": "936e66f0aa5953f6",
        "outputId": "8ff75382-b44c-4a06-dd9a-39e774daf92b",
        "colab": {
          "base_uri": "https://localhost:8080/",
          "height": 619
        }
      },
      "cell_type": "code",
      "source": [
        "plt.figure(figsize=(10, 7))\n",
        "plot_time_series(timesteps=X_train, values=y_train, label=\"Train data\")\n",
        "plot_time_series(timesteps=X_test, values=y_test, label=\"Test data\")\n",
        "plot_time_series(timesteps=X_test[1:], values=naive_forecast, format=\"-\", label=\"Naive forecast\")"
      ],
      "id": "936e66f0aa5953f6",
      "outputs": [
        {
          "output_type": "display_data",
          "data": {
            "text/plain": [
              "<Figure size 1000x700 with 1 Axes>"
            ],
            "image/png": "[encoded data removed]"
          },
          "metadata": {}
        }
      ],
      "execution_count": 16
    },
    {
      "metadata": {
        "ExecuteTime": {
          "end_time": "2025-07-22T09:01:48.990734Z",
          "start_time": "2025-07-22T09:01:44.554924Z"
        },
        "id": "e5ee364d0c6f9c46"
      },
      "cell_type": "code",
      "source": [
        "## Evaluating a time series model\n",
        "\n",
        "import tensorflow as tf\n",
        "\n",
        "#Mean absolute scale error implementation\n",
        "\n",
        "def mean_absolute_scaled_error(y_true, y_pred):\n",
        "    \"\"\"\n",
        "    Implement MASE (assuming not seasonality of data)\n",
        "    \"\"\"\n",
        "\n",
        "    mae = tf.reduce_mean(tf.abs(y_true - y_pred))\n",
        "    mae_naive_no_season = tf.reduce_mean(tf.abs(y_true[1:] - y_true[:-1]))\n",
        "    return mae / mae_naive_no_season"
      ],
      "id": "e5ee364d0c6f9c46",
      "outputs": [],
      "execution_count": 17
    },
    {
      "metadata": {
        "ExecuteTime": {
          "end_time": "2025-07-22T09:01:49.070048Z",
          "start_time": "2025-07-22T09:01:49.026036Z"
        },
        "id": "e1f65e7d671718b7",
        "outputId": "8ae40b85-96f7-4ac5-8891-e4b2e73c8ba6",
        "colab": {
          "base_uri": "https://localhost:8080/"
        }
      },
      "cell_type": "code",
      "source": [
        "mean_absolute_scaled_error(y_true=y_test[1:], y_pred= naive_forecast).numpy()"
      ],
      "id": "e1f65e7d671718b7",
      "outputs": [
        {
          "output_type": "execute_result",
          "data": {
            "text/plain": [
              "np.float64(0.9995699939182624)"
            ]
          },
          "metadata": {},
          "execution_count": 18
        }
      ],
      "execution_count": 18
    },
    {
      "metadata": {
        "ExecuteTime": {
          "end_time": "2025-07-22T09:01:49.123331Z",
          "start_time": "2025-07-22T09:01:49.115988Z"
        },
        "id": "e233510bbf4921b1"
      },
      "cell_type": "code",
      "source": [
        "def evaluate_preds(y_true, y_pred):\n",
        "    y_true = tf.cast(y_true, tf.float32)\n",
        "    y_pred = tf.cast(y_pred, tf.float32)\n",
        "\n",
        "    mae = tf.reduce_mean(tf.abs(y_true - y_pred))\n",
        "    mse = tf.reduce_mean(tf.square(y_true - y_pred))\n",
        "    rmse = tf.sqrt(mse)\n",
        "    mape = tf.reduce_mean(tf.abs((y_true - y_pred) / y_true)) * 100\n",
        "    mase = mean_absolute_scaled_error(y_true, y_pred)  # Custom implementation\n",
        "\n",
        "    return {\n",
        "        \"mae\": mae.numpy(),\n",
        "        \"mse\": mse.numpy(),\n",
        "        \"rmse\": rmse.numpy(),\n",
        "        \"mape\": mape.numpy(),\n",
        "        \"mase\": mase.numpy() if isinstance(mase, tf.Tensor) else mase\n",
        "    }"
      ],
      "id": "e233510bbf4921b1",
      "outputs": [],
      "execution_count": 19
    },
    {
      "metadata": {
        "ExecuteTime": {
          "end_time": "2025-07-22T09:01:49.261056Z",
          "start_time": "2025-07-22T09:01:49.224117Z"
        },
        "id": "e7a1519b863e78cc",
        "outputId": "d3cbe8fe-71b9-4ff3-fcd5-2b3e4557e164",
        "colab": {
          "base_uri": "https://localhost:8080/"
        }
      },
      "cell_type": "code",
      "source": [
        "naive_results = evaluate_preds(y_true=y_test[1:], y_pred=naive_forecast)\n",
        "\n",
        "naive_results"
      ],
      "id": "e7a1519b863e78cc",
      "outputs": [
        {
          "output_type": "execute_result",
          "data": {
            "text/plain": [
              "{'mae': np.float32(567.9802),\n",
              " 'mse': np.float32(1147547.0),\n",
              " 'rmse': np.float32(1071.2362),\n",
              " 'mape': np.float32(2.516525),\n",
              " 'mase': np.float32(0.99957)}"
            ]
          },
          "metadata": {},
          "execution_count": 20
        }
      ],
      "execution_count": 20
    },
    {
      "metadata": {
        "ExecuteTime": {
          "end_time": "2025-07-22T09:01:49.332390Z",
          "start_time": "2025-07-22T09:01:49.327915Z"
        },
        "id": "93d1b30306c41348"
      },
      "cell_type": "code",
      "source": [
        "HORIZON=1\n",
        "WINDOW_SIZE=7"
      ],
      "id": "93d1b30306c41348",
      "outputs": [],
      "execution_count": 21
    },
    {
      "metadata": {
        "ExecuteTime": {
          "end_time": "2025-07-22T09:01:49.420959Z",
          "start_time": "2025-07-22T09:01:49.416502Z"
        },
        "id": "7926a7bd1d5c771a"
      },
      "cell_type": "code",
      "source": [
        "def get_labelled_window(x, horizon=HORIZON):\n",
        "    \"\"\"\n",
        "    Creates labels for windowed dataset.\n",
        "    e.g. if horizon=1\n",
        "    input [0,1,2,3,4,5,6,7] -> Output: ([0,1,2,3,4,5,6], [7])\n",
        "    \"\"\"\n",
        "    return x[:, :-horizon], x[:, -horizon:]"
      ],
      "id": "7926a7bd1d5c771a",
      "outputs": [],
      "execution_count": 22
    },
    {
      "metadata": {
        "ExecuteTime": {
          "end_time": "2025-07-22T09:01:49.506105Z",
          "start_time": "2025-07-22T09:01:49.487482Z"
        },
        "id": "43d01ff3b8915d01",
        "outputId": "55aa8157-2e8f-4c24-933e-1bcff10caed1",
        "colab": {
          "base_uri": "https://localhost:8080/"
        }
      },
      "cell_type": "code",
      "source": [
        "test_window, test_labels = get_labelled_window(tf.expand_dims(tf.range(8)+1, axis=0))\n",
        "test_window, test_labels"
      ],
      "id": "43d01ff3b8915d01",
      "outputs": [
        {
          "output_type": "execute_result",
          "data": {
            "text/plain": [
              "(<tf.Tensor: shape=(1, 7), dtype=int32, numpy=array([[1, 2, 3, 4, 5, 6, 7]], dtype=int32)>,\n",
              " <tf.Tensor: shape=(1, 1), dtype=int32, numpy=array([[8]], dtype=int32)>)"
            ]
          },
          "metadata": {},
          "execution_count": 23
        }
      ],
      "execution_count": 23
    },
    {
      "metadata": {
        "ExecuteTime": {
          "end_time": "2025-07-22T09:01:49.572568Z",
          "start_time": "2025-07-22T09:01:49.566687Z"
        },
        "id": "8f54290c0fec3f48"
      },
      "cell_type": "code",
      "source": [
        "import numpy as np\n",
        "\n",
        "def make_windows(x, window_size=WINDOW_SIZE, horizon=HORIZON):\n",
        "    \"\"\"\n",
        "    Turns a 1d array in a 2d array of sequential labelled windows of window_size with horizon size labels\n",
        "    \"\"\"\n",
        "    window_step = np.expand_dims(np.arange(window_size+horizon), axis=0)\n",
        "    window_indexes = window_step + np.expand_dims(\n",
        "        np.arange(len(x)-(window_size+horizon-1)), axis=0\n",
        "    ).T\n",
        "\n",
        "    windowed_array = x[window_indexes]\n",
        "    windows, labels = get_labelled_window(windowed_array, horizon=horizon)\n",
        "    return windows, labels\n"
      ],
      "id": "8f54290c0fec3f48",
      "outputs": [],
      "execution_count": 24
    },
    {
      "metadata": {
        "ExecuteTime": {
          "end_time": "2025-07-22T09:01:49.656234Z",
          "start_time": "2025-07-22T09:01:49.651850Z"
        },
        "id": "30d1b28a08d0258d"
      },
      "cell_type": "code",
      "source": [
        "full_windows, full_labels = make_windows(prices, window_size=WINDOW_SIZE, horizon=HORIZON)"
      ],
      "id": "30d1b28a08d0258d",
      "outputs": [],
      "execution_count": 25
    },
    {
      "metadata": {
        "ExecuteTime": {
          "end_time": "2025-07-22T09:01:49.726265Z",
          "start_time": "2025-07-22T09:01:49.720396Z"
        },
        "id": "eeece6390d726613",
        "outputId": "ab51bfc7-6964-4d79-d30e-a237c581e57f",
        "colab": {
          "base_uri": "https://localhost:8080/"
        }
      },
      "cell_type": "code",
      "source": [
        "for i in range(3):\n",
        "    print(f\"Window: {full_windows[i]} -> Label: {full_labels[i]}\")"
      ],
      "id": "eeece6390d726613",
      "outputs": [
        {
          "output_type": "stream",
          "name": "stdout",
          "text": [
            "Window: [123.65499 125.455   108.58483 118.67466 121.33866 120.65533 121.795  ] -> Label: [123.033]\n",
            "Window: [125.455   108.58483 118.67466 121.33866 120.65533 121.795   123.033  ] -> Label: [124.049]\n",
            "Window: [108.58483 118.67466 121.33866 120.65533 121.795   123.033   124.049  ] -> Label: [125.96116]\n"
          ]
        }
      ],
      "execution_count": 26
    },
    {
      "metadata": {
        "ExecuteTime": {
          "end_time": "2025-07-22T09:01:49.824645Z",
          "start_time": "2025-07-22T09:01:49.781318Z"
        },
        "id": "364d05954253e450"
      },
      "cell_type": "code",
      "source": [
        "# NB: tf.keras.preprocessing.timeseries_dataset_from_array() does everything above does"
      ],
      "id": "364d05954253e450",
      "outputs": [],
      "execution_count": 27
    },
    {
      "metadata": {
        "ExecuteTime": {
          "end_time": "2025-07-22T09:01:49.918327Z",
          "start_time": "2025-07-22T09:01:49.911571Z"
        },
        "id": "2a42564290d2fae"
      },
      "cell_type": "code",
      "source": [
        "# make train/test splits\n",
        "\n",
        "def make_train_test_splits(windows, labels, test_split=0.2):\n",
        "    \"\"\"\n",
        "    Split matching pairs of windows and labels intro train and test splits\n",
        "    \"\"\"\n",
        "    split_size = int(len(windows) * (1-test_split))\n",
        "    train_windows = windows[:split_size]\n",
        "    train_labels = labels[:split_size]\n",
        "    test_windows = windows[split_size:]\n",
        "    test_labels = labels[split_size:]\n",
        "    return train_windows,  test_windows, train_labels, test_labels"
      ],
      "id": "2a42564290d2fae",
      "outputs": [],
      "execution_count": 28
    },
    {
      "metadata": {
        "ExecuteTime": {
          "end_time": "2025-07-22T09:01:49.973983Z",
          "start_time": "2025-07-22T09:01:49.941338Z"
        },
        "id": "54d64104d3e957d4"
      },
      "cell_type": "code",
      "source": [
        "# make a modelling checkpoint callback\n",
        "\n",
        "import os\n",
        "\n",
        "def create_model_checkpoint(model_name, save_path=\"model_experiments\"):\n",
        "    model_name = f\"{model_name}.keras\"\n",
        "    return tf.keras.callbacks.ModelCheckpoint(filepath=os.path.join(save_path, model_name),\n",
        "                                              save_best_only=True,\n",
        "                                              verbose=0)"
      ],
      "id": "54d64104d3e957d4",
      "outputs": [],
      "execution_count": 29
    },
    {
      "metadata": {
        "ExecuteTime": {
          "end_time": "2025-07-22T09:01:50.091578Z",
          "start_time": "2025-07-22T09:01:50.005220Z"
        },
        "id": "e0b6baaf216e75f4"
      },
      "cell_type": "code",
      "source": [
        "## Model 1: Dense model (window=7, horizon=1)\n",
        "# Dense layer (128, Relu) output with linear activation\n",
        "# Adam, MAE\n",
        "# Batch=128 (not 32)\n",
        "# 100 epochs"
      ],
      "id": "e0b6baaf216e75f4",
      "outputs": [],
      "execution_count": 30
    },
    {
      "metadata": {
        "ExecuteTime": {
          "end_time": "2025-07-22T09:01:50.129514Z",
          "start_time": "2025-07-22T09:01:50.124055Z"
        },
        "id": "4a6e2770b83567fb"
      },
      "cell_type": "code",
      "source": [
        "train_windows,  test_windows, train_labels, test_labels = make_train_test_splits(windows=full_windows, labels=full_labels)"
      ],
      "id": "4a6e2770b83567fb",
      "outputs": [],
      "execution_count": 31
    },
    {
      "metadata": {
        "ExecuteTime": {
          "end_time": "2025-07-22T09:01:50.259006Z",
          "start_time": "2025-07-22T09:01:50.206179Z"
        },
        "id": "a9c28be971d54f3f"
      },
      "cell_type": "code",
      "source": [
        "import tensorflow as tf\n",
        "from tensorflow.keras.models import Sequential\n",
        "\n",
        "tf.random.set_seed(42)\n",
        "\n",
        "model_1 = Sequential([\n",
        "    tf.keras.layers.Dense(128, activation=\"relu\"),\n",
        "    tf.keras.layers.Dense(HORIZON, activation=\"linear\")\n",
        "], name=\"model_1_dense\")\n",
        "\n",
        "model_1.compile(loss=\"mae\",\n",
        "                optimizer=tf.keras.optimizers.Adam(),\n",
        "                metrics=[\"mae\", \"mse\"])\n",
        "\n"
      ],
      "id": "a9c28be971d54f3f",
      "outputs": [],
      "execution_count": 32
    },
    {
      "metadata": {
        "ExecuteTime": {
          "end_time": "2025-07-22T09:02:11.473938Z",
          "start_time": "2025-07-22T09:01:50.287679Z"
        },
        "id": "3e7706755689a32b",
        "outputId": "f8356a94-37ca-4564-a27c-047754dd8a62",
        "colab": {
          "base_uri": "https://localhost:8080/"
        }
      },
      "cell_type": "code",
      "source": [
        "model_1.fit(x=train_windows,\n",
        "            y=train_labels,\n",
        "            epochs=100,\n",
        "            verbose=1,\n",
        "            batch_size=128,\n",
        "            validation_data=(test_windows, test_labels),\n",
        "            callbacks=[create_model_checkpoint(model_name = model_1.name)])"
      ],
      "id": "3e7706755689a32b",
      "outputs": [
        {
          "output_type": "stream",
          "name": "stdout",
          "text": [
            "Epoch 1/100\n",
            "\u001b[1m18/18\u001b[0m \u001b[32m━━━━━━━━━━━━━━━━━━━━\u001b[0m\u001b[37m\u001b[0m \u001b[1m2s\u001b[0m 51ms/step - loss: 2337.3896 - mae: 2337.3896 - mse: 15008395.0000 - val_loss: 2798.0183 - val_mae: 2798.0183 - val_mse: 18458094.0000\n",
            "Epoch 2/100\n",
            "\u001b[1m18/18\u001b[0m \u001b[32m━━━━━━━━━━━━━━━━━━━━\u001b[0m\u001b[37m\u001b[0m \u001b[1m0s\u001b[0m 7ms/step - loss: 450.9140 - mae: 450.9140 - mse: 668919.3750 - val_loss: 1888.1167 - val_mae: 1888.1167 - val_mse: 8614710.0000\n",
            "Epoch 3/100\n",
            "\u001b[1m18/18\u001b[0m \u001b[32m━━━━━━━━━━━━━━━━━━━━\u001b[0m\u001b[37m\u001b[0m \u001b[1m0s\u001b[0m 8ms/step - loss: 239.9843 - mae: 239.9843 - mse: 264226.1250 - val_loss: 1353.0187 - val_mae: 1353.0187 - val_mse: 5019376.5000\n",
            "Epoch 4/100\n",
            "\u001b[1m18/18\u001b[0m \u001b[32m━━━━━━━━━━━━━━━━━━━━\u001b[0m\u001b[37m\u001b[0m \u001b[1m0s\u001b[0m 7ms/step - loss: 203.5786 - mae: 203.5786 - mse: 204758.9688 - val_loss: 1178.1172 - val_mae: 1178.1172 - val_mse: 4151469.0000\n",
            "Epoch 5/100\n",
            "\u001b[1m18/18\u001b[0m \u001b[32m━━━━━━━━━━━━━━━━━━━━\u001b[0m\u001b[37m\u001b[0m \u001b[1m0s\u001b[0m 7ms/step - loss: 190.5185 - mae: 190.5185 - mse: 183848.8438 - val_loss: 1032.4991 - val_mae: 1032.4991 - val_mse: 3471796.7500\n",
            "Epoch 6/100\n",
            "\u001b[1m18/18\u001b[0m \u001b[32m━━━━━━━━━━━━━━━━━━━━\u001b[0m\u001b[37m\u001b[0m \u001b[1m0s\u001b[0m 7ms/step - loss: 177.4197 - mae: 177.4197 - mse: 161579.1406 - val_loss: 1008.9507 - val_mae: 1008.9507 - val_mse: 3262223.2500\n",
            "Epoch 7/100\n",
            "\u001b[1m18/18\u001b[0m \u001b[32m━━━━━━━━━━━━━━━━━━━━\u001b[0m\u001b[37m\u001b[0m \u001b[1m0s\u001b[0m 7ms/step - loss: 170.7461 - mae: 170.7461 - mse: 152946.9062 - val_loss: 994.9487 - val_mae: 994.9487 - val_mse: 3098418.5000\n",
            "Epoch 8/100\n",
            "\u001b[1m18/18\u001b[0m \u001b[32m━━━━━━━━━━━━━━━━━━━━\u001b[0m\u001b[37m\u001b[0m \u001b[1m0s\u001b[0m 7ms/step - loss: 165.7428 - mae: 165.7428 - mse: 143589.4375 - val_loss: 942.9769 - val_mae: 942.9769 - val_mse: 2833956.0000\n",
            "Epoch 9/100\n",
            "\u001b[1m18/18\u001b[0m \u001b[32m━━━━━━━━━━━━━━━━━━━━\u001b[0m\u001b[37m\u001b[0m \u001b[1m0s\u001b[0m 7ms/step - loss: 159.4841 - mae: 159.4841 - mse: 132815.1406 - val_loss: 891.9382 - val_mae: 891.9382 - val_mse: 2578900.7500\n",
            "Epoch 10/100\n",
            "\u001b[1m18/18\u001b[0m \u001b[32m━━━━━━━━━━━━━━━━━━━━\u001b[0m\u001b[37m\u001b[0m \u001b[1m0s\u001b[0m 7ms/step - loss: 153.1693 - mae: 153.1693 - mse: 124341.5781 - val_loss: 866.9853 - val_mae: 866.9853 - val_mse: 2423472.7500\n",
            "Epoch 11/100\n",
            "\u001b[1m18/18\u001b[0m \u001b[32m━━━━━━━━━━━━━━━━━━━━\u001b[0m\u001b[37m\u001b[0m \u001b[1m0s\u001b[0m 7ms/step - loss: 149.7210 - mae: 149.7210 - mse: 116921.8125 - val_loss: 835.2488 - val_mae: 835.2488 - val_mse: 2273473.2500\n",
            "Epoch 12/100\n",
            "\u001b[1m18/18\u001b[0m \u001b[32m━━━━━━━━━━━━━━━━━━━━\u001b[0m\u001b[37m\u001b[0m \u001b[1m0s\u001b[0m 7ms/step - loss: 144.6657 - mae: 144.6657 - mse: 111154.2188 - val_loss: 812.3853 - val_mae: 812.3853 - val_mse: 2145932.0000\n",
            "Epoch 13/100\n",
            "\u001b[1m18/18\u001b[0m \u001b[32m━━━━━━━━━━━━━━━━━━━━\u001b[0m\u001b[37m\u001b[0m \u001b[1m0s\u001b[0m 7ms/step - loss: 141.1933 - mae: 141.1933 - mse: 105993.3438 - val_loss: 780.1352 - val_mae: 780.1352 - val_mse: 2015449.7500\n",
            "Epoch 14/100\n",
            "\u001b[1m18/18\u001b[0m \u001b[32m━━━━━━━━━━━━━━━━━━━━\u001b[0m\u001b[37m\u001b[0m \u001b[1m0s\u001b[0m 7ms/step - loss: 137.5221 - mae: 137.5221 - mse: 101588.5781 - val_loss: 762.0051 - val_mae: 762.0051 - val_mse: 1918717.8750\n",
            "Epoch 15/100\n",
            "\u001b[1m18/18\u001b[0m \u001b[32m━━━━━━━━━━━━━━━━━━━━\u001b[0m\u001b[37m\u001b[0m \u001b[1m0s\u001b[0m 7ms/step - loss: 134.9810 - mae: 134.9810 - mse: 97769.3359 - val_loss: 742.3157 - val_mae: 742.3157 - val_mse: 1828830.7500\n",
            "Epoch 16/100\n",
            "\u001b[1m18/18\u001b[0m \u001b[32m━━━━━━━━━━━━━━━━━━━━\u001b[0m\u001b[37m\u001b[0m \u001b[1m0s\u001b[0m 7ms/step - loss: 133.2005 - mae: 133.2005 - mse: 94614.8281 - val_loss: 729.2368 - val_mae: 729.2368 - val_mse: 1757394.1250\n",
            "Epoch 17/100\n",
            "\u001b[1m18/18\u001b[0m \u001b[32m━━━━━━━━━━━━━━━━━━━━\u001b[0m\u001b[37m\u001b[0m \u001b[1m0s\u001b[0m 7ms/step - loss: 130.8330 - mae: 130.8330 - mse: 91463.1406 - val_loss: 704.1940 - val_mae: 704.1940 - val_mse: 1681330.2500\n",
            "Epoch 18/100\n",
            "\u001b[1m18/18\u001b[0m \u001b[32m━━━━━━━━━━━━━━━━━━━━\u001b[0m\u001b[37m\u001b[0m \u001b[1m0s\u001b[0m 7ms/step - loss: 127.0266 - mae: 127.0266 - mse: 88653.4766 - val_loss: 703.9029 - val_mae: 703.9029 - val_mse: 1691308.7500\n",
            "Epoch 19/100\n",
            "\u001b[1m18/18\u001b[0m \u001b[32m━━━━━━━━━━━━━━━━━━━━\u001b[0m\u001b[37m\u001b[0m \u001b[1m0s\u001b[0m 7ms/step - loss: 125.3169 - mae: 125.3169 - mse: 87868.5703 - val_loss: 682.4858 - val_mae: 682.4858 - val_mse: 1574346.3750\n",
            "Epoch 20/100\n",
            "\u001b[1m18/18\u001b[0m \u001b[32m━━━━━━━━━━━━━━━━━━━━\u001b[0m\u001b[37m\u001b[0m \u001b[1m0s\u001b[0m 7ms/step - loss: 123.3900 - mae: 123.3900 - mse: 86129.7812 - val_loss: 674.4069 - val_mae: 674.4069 - val_mse: 1534121.8750\n",
            "Epoch 21/100\n",
            "\u001b[1m18/18\u001b[0m \u001b[32m━━━━━━━━━━━━━━━━━━━━\u001b[0m\u001b[37m\u001b[0m \u001b[1m0s\u001b[0m 7ms/step - loss: 121.1994 - mae: 121.1994 - mse: 83616.9766 - val_loss: 659.5481 - val_mae: 659.5481 - val_mse: 1506649.5000\n",
            "Epoch 22/100\n",
            "\u001b[1m18/18\u001b[0m \u001b[32m━━━━━━━━━━━━━━━━━━━━\u001b[0m\u001b[37m\u001b[0m \u001b[1m0s\u001b[0m 7ms/step - loss: 121.0507 - mae: 121.0507 - mse: 83632.7656 - val_loss: 653.3004 - val_mae: 653.3004 - val_mse: 1460644.1250\n",
            "Epoch 23/100\n",
            "\u001b[1m18/18\u001b[0m \u001b[32m━━━━━━━━━━━━━━━━━━━━\u001b[0m\u001b[37m\u001b[0m \u001b[1m0s\u001b[0m 7ms/step - loss: 119.1370 - mae: 119.1370 - mse: 81165.9219 - val_loss: 643.9227 - val_mae: 643.9227 - val_mse: 1437506.0000\n",
            "Epoch 24/100\n",
            "\u001b[1m18/18\u001b[0m \u001b[32m━━━━━━━━━━━━━━━━━━━━\u001b[0m\u001b[37m\u001b[0m \u001b[1m0s\u001b[0m 7ms/step - loss: 118.6444 - mae: 118.6444 - mse: 81444.9297 - val_loss: 638.9948 - val_mae: 638.9948 - val_mse: 1412793.8750\n",
            "Epoch 25/100\n",
            "\u001b[1m18/18\u001b[0m \u001b[32m━━━━━━━━━━━━━━━━━━━━\u001b[0m\u001b[37m\u001b[0m \u001b[1m0s\u001b[0m 7ms/step - loss: 117.3862 - mae: 117.3862 - mse: 79698.7500 - val_loss: 632.6403 - val_mae: 632.6403 - val_mse: 1398934.5000\n",
            "Epoch 26/100\n",
            "\u001b[1m18/18\u001b[0m \u001b[32m━━━━━━━━━━━━━━━━━━━━\u001b[0m\u001b[37m\u001b[0m \u001b[1m0s\u001b[0m 7ms/step - loss: 117.2720 - mae: 117.2720 - mse: 80205.1484 - val_loss: 630.2280 - val_mae: 630.2280 - val_mse: 1395973.1250\n",
            "Epoch 27/100\n",
            "\u001b[1m18/18\u001b[0m \u001b[32m━━━━━━━━━━━━━━━━━━━━\u001b[0m\u001b[37m\u001b[0m \u001b[1m0s\u001b[0m 6ms/step - loss: 116.9573 - mae: 116.9573 - mse: 80093.2734 - val_loss: 632.8565 - val_mae: 632.8565 - val_mse: 1403888.1250\n",
            "Epoch 28/100\n",
            "\u001b[1m18/18\u001b[0m \u001b[32m━━━━━━━━━━━━━━━━━━━━\u001b[0m\u001b[37m\u001b[0m \u001b[1m0s\u001b[0m 7ms/step - loss: 116.2871 - mae: 116.2871 - mse: 79549.7500 - val_loss: 619.2635 - val_mae: 619.2635 - val_mse: 1352487.7500\n",
            "Epoch 29/100\n",
            "\u001b[1m18/18\u001b[0m \u001b[32m━━━━━━━━━━━━━━━━━━━━\u001b[0m\u001b[37m\u001b[0m \u001b[1m0s\u001b[0m 6ms/step - loss: 115.7101 - mae: 115.7101 - mse: 78639.9844 - val_loss: 626.9695 - val_mae: 626.9695 - val_mse: 1380236.6250\n",
            "Epoch 30/100\n",
            "\u001b[1m18/18\u001b[0m \u001b[32m━━━━━━━━━━━━━━━━━━━━\u001b[0m\u001b[37m\u001b[0m \u001b[1m0s\u001b[0m 7ms/step - loss: 115.2085 - mae: 115.2085 - mse: 78525.5625 - val_loss: 603.3369 - val_mae: 603.3369 - val_mse: 1294661.1250\n",
            "Epoch 31/100\n",
            "\u001b[1m18/18\u001b[0m \u001b[32m━━━━━━━━━━━━━━━━━━━━\u001b[0m\u001b[37m\u001b[0m \u001b[1m0s\u001b[0m 7ms/step - loss: 113.4228 - mae: 113.4228 - mse: 75830.0469 - val_loss: 603.0634 - val_mae: 603.0634 - val_mse: 1297781.6250\n",
            "Epoch 32/100\n",
            "\u001b[1m18/18\u001b[0m \u001b[32m━━━━━━━━━━━━━━━━━━━━\u001b[0m\u001b[37m\u001b[0m \u001b[1m0s\u001b[0m 6ms/step - loss: 114.1993 - mae: 114.1993 - mse: 76043.3750 - val_loss: 610.8577 - val_mae: 610.8577 - val_mse: 1314749.7500\n",
            "Epoch 33/100\n",
            "\u001b[1m18/18\u001b[0m \u001b[32m━━━━━━━━━━━━━━━━━━━━\u001b[0m\u001b[37m\u001b[0m \u001b[1m0s\u001b[0m 6ms/step - loss: 113.0987 - mae: 113.0987 - mse: 75552.1406 - val_loss: 610.9996 - val_mae: 610.9996 - val_mse: 1311184.6250\n",
            "Epoch 34/100\n",
            "\u001b[1m18/18\u001b[0m \u001b[32m━━━━━━━━━━━━━━━━━━━━\u001b[0m\u001b[37m\u001b[0m \u001b[1m0s\u001b[0m 8ms/step - loss: 112.6998 - mae: 112.6998 - mse: 75417.9609 - val_loss: 595.3087 - val_mae: 595.3087 - val_mse: 1270361.7500\n",
            "Epoch 35/100\n",
            "\u001b[1m18/18\u001b[0m \u001b[32m━━━━━━━━━━━━━━━━━━━━\u001b[0m\u001b[37m\u001b[0m \u001b[1m0s\u001b[0m 6ms/step - loss: 111.9299 - mae: 111.9299 - mse: 74611.6016 - val_loss: 597.6685 - val_mae: 597.6685 - val_mse: 1274218.1250\n",
            "Epoch 36/100\n",
            "\u001b[1m18/18\u001b[0m \u001b[32m━━━━━━━━━━━━━━━━━━━━\u001b[0m\u001b[37m\u001b[0m \u001b[1m0s\u001b[0m 6ms/step - loss: 111.5003 - mae: 111.5003 - mse: 74440.9922 - val_loss: 606.1428 - val_mae: 606.1428 - val_mse: 1292560.3750\n",
            "Epoch 37/100\n",
            "\u001b[1m18/18\u001b[0m \u001b[32m━━━━━━━━━━━━━━━━━━━━\u001b[0m\u001b[37m\u001b[0m \u001b[1m0s\u001b[0m 6ms/step - loss: 111.2006 - mae: 111.2006 - mse: 74249.4453 - val_loss: 607.1545 - val_mae: 607.1545 - val_mse: 1291854.6250\n",
            "Epoch 38/100\n",
            "\u001b[1m18/18\u001b[0m \u001b[32m━━━━━━━━━━━━━━━━━━━━\u001b[0m\u001b[37m\u001b[0m \u001b[1m0s\u001b[0m 6ms/step - loss: 111.0064 - mae: 111.0064 - mse: 73785.1953 - val_loss: 596.0695 - val_mae: 596.0695 - val_mse: 1265144.7500\n",
            "Epoch 39/100\n",
            "\u001b[1m18/18\u001b[0m \u001b[32m━━━━━━━━━━━━━━━━━━━━\u001b[0m\u001b[37m\u001b[0m \u001b[1m0s\u001b[0m 7ms/step - loss: 110.5792 - mae: 110.5792 - mse: 73413.0000 - val_loss: 586.6286 - val_mae: 586.6286 - val_mse: 1241088.0000\n",
            "Epoch 40/100\n",
            "\u001b[1m18/18\u001b[0m \u001b[32m━━━━━━━━━━━━━━━━━━━━\u001b[0m\u001b[37m\u001b[0m \u001b[1m0s\u001b[0m 7ms/step - loss: 109.5715 - mae: 109.5715 - mse: 72640.0000 - val_loss: 583.0532 - val_mae: 583.0532 - val_mse: 1228701.8750\n",
            "Epoch 41/100\n",
            "\u001b[1m18/18\u001b[0m \u001b[32m━━━━━━━━━━━━━━━━━━━━\u001b[0m\u001b[37m\u001b[0m \u001b[1m0s\u001b[0m 7ms/step - loss: 109.4401 - mae: 109.4401 - mse: 72117.2188 - val_loss: 581.8434 - val_mae: 581.8434 - val_mse: 1223208.6250\n",
            "Epoch 42/100\n",
            "\u001b[1m18/18\u001b[0m \u001b[32m━━━━━━━━━━━━━━━━━━━━\u001b[0m\u001b[37m\u001b[0m \u001b[1m0s\u001b[0m 7ms/step - loss: 109.2453 - mae: 109.2453 - mse: 71818.3203 - val_loss: 580.1689 - val_mae: 580.1689 - val_mse: 1219878.6250\n",
            "Epoch 43/100\n",
            "\u001b[1m18/18\u001b[0m \u001b[32m━━━━━━━━━━━━━━━━━━━━\u001b[0m\u001b[37m\u001b[0m \u001b[1m0s\u001b[0m 7ms/step - loss: 109.8039 - mae: 109.8039 - mse: 72177.1562 - val_loss: 579.2307 - val_mae: 579.2307 - val_mse: 1213850.8750\n",
            "Epoch 44/100\n",
            "\u001b[1m18/18\u001b[0m \u001b[32m━━━━━━━━━━━━━━━━━━━━\u001b[0m\u001b[37m\u001b[0m \u001b[1m0s\u001b[0m 7ms/step - loss: 109.8592 - mae: 109.8592 - mse: 71506.8828 - val_loss: 578.6223 - val_mae: 578.6223 - val_mse: 1210730.0000\n",
            "Epoch 45/100\n",
            "\u001b[1m18/18\u001b[0m \u001b[32m━━━━━━━━━━━━━━━━━━━━\u001b[0m\u001b[37m\u001b[0m \u001b[1m0s\u001b[0m 6ms/step - loss: 110.2258 - mae: 110.2258 - mse: 71513.9297 - val_loss: 579.2183 - val_mae: 579.2183 - val_mse: 1209261.5000\n",
            "Epoch 46/100\n",
            "\u001b[1m18/18\u001b[0m \u001b[32m━━━━━━━━━━━━━━━━━━━━\u001b[0m\u001b[37m\u001b[0m \u001b[1m0s\u001b[0m 7ms/step - loss: 110.7300 - mae: 110.7300 - mse: 71457.1328 - val_loss: 575.8818 - val_mae: 575.8818 - val_mse: 1203490.2500\n",
            "Epoch 47/100\n",
            "\u001b[1m18/18\u001b[0m \u001b[32m━━━━━━━━━━━━━━━━━━━━\u001b[0m\u001b[37m\u001b[0m \u001b[1m0s\u001b[0m 6ms/step - loss: 109.3301 - mae: 109.3301 - mse: 71024.2109 - val_loss: 575.9969 - val_mae: 575.9969 - val_mse: 1205889.5000\n",
            "Epoch 48/100\n",
            "\u001b[1m18/18\u001b[0m \u001b[32m━━━━━━━━━━━━━━━━━━━━\u001b[0m\u001b[37m\u001b[0m \u001b[1m0s\u001b[0m 7ms/step - loss: 108.2666 - mae: 108.2666 - mse: 70657.4609 - val_loss: 574.1588 - val_mae: 574.1588 - val_mse: 1197860.8750\n",
            "Epoch 49/100\n",
            "\u001b[1m18/18\u001b[0m \u001b[32m━━━━━━━━━━━━━━━━━━━━\u001b[0m\u001b[37m\u001b[0m \u001b[1m0s\u001b[0m 6ms/step - loss: 110.1201 - mae: 110.1201 - mse: 71157.9062 - val_loss: 580.9783 - val_mae: 580.9783 - val_mse: 1213545.8750\n",
            "Epoch 50/100\n",
            "\u001b[1m18/18\u001b[0m \u001b[32m━━━━━━━━━━━━━━━━━━━━\u001b[0m\u001b[37m\u001b[0m \u001b[1m0s\u001b[0m 6ms/step - loss: 110.2409 - mae: 110.2409 - mse: 71495.6250 - val_loss: 590.1553 - val_mae: 590.1553 - val_mse: 1231765.1250\n",
            "Epoch 51/100\n",
            "\u001b[1m18/18\u001b[0m \u001b[32m━━━━━━━━━━━━━━━━━━━━\u001b[0m\u001b[37m\u001b[0m \u001b[1m0s\u001b[0m 6ms/step - loss: 108.9094 - mae: 108.9094 - mse: 70954.3984 - val_loss: 574.5599 - val_mae: 574.5599 - val_mse: 1199160.6250\n",
            "Epoch 52/100\n",
            "\u001b[1m18/18\u001b[0m \u001b[32m━━━━━━━━━━━━━━━━━━━━\u001b[0m\u001b[37m\u001b[0m \u001b[1m0s\u001b[0m 7ms/step - loss: 107.3950 - mae: 107.3950 - mse: 70101.6016 - val_loss: 573.1072 - val_mae: 573.1072 - val_mse: 1190893.5000\n",
            "Epoch 53/100\n",
            "\u001b[1m18/18\u001b[0m \u001b[32m━━━━━━━━━━━━━━━━━━━━\u001b[0m\u001b[37m\u001b[0m \u001b[1m0s\u001b[0m 6ms/step - loss: 109.7408 - mae: 109.7408 - mse: 70577.7266 - val_loss: 592.7590 - val_mae: 592.7590 - val_mse: 1234292.7500\n",
            "Epoch 54/100\n",
            "\u001b[1m18/18\u001b[0m \u001b[32m━━━━━━━━━━━━━━━━━━━━\u001b[0m\u001b[37m\u001b[0m \u001b[1m0s\u001b[0m 7ms/step - loss: 108.3785 - mae: 108.3785 - mse: 70541.7656 - val_loss: 571.4650 - val_mae: 571.4650 - val_mse: 1187239.8750\n",
            "Epoch 55/100\n",
            "\u001b[1m18/18\u001b[0m \u001b[32m━━━━━━━━━━━━━━━━━━━━\u001b[0m\u001b[37m\u001b[0m \u001b[1m0s\u001b[0m 6ms/step - loss: 108.3752 - mae: 108.3752 - mse: 69958.6484 - val_loss: 576.6413 - val_mae: 576.6413 - val_mse: 1200628.5000\n",
            "Epoch 56/100\n",
            "\u001b[1m18/18\u001b[0m \u001b[32m━━━━━━━━━━━━━━━━━━━━\u001b[0m\u001b[37m\u001b[0m \u001b[1m0s\u001b[0m 6ms/step - loss: 107.5539 - mae: 107.5539 - mse: 70051.7188 - val_loss: 572.5782 - val_mae: 572.5782 - val_mse: 1185124.8750\n",
            "Epoch 57/100\n",
            "\u001b[1m18/18\u001b[0m \u001b[32m━━━━━━━━━━━━━━━━━━━━\u001b[0m\u001b[37m\u001b[0m \u001b[1m0s\u001b[0m 6ms/step - loss: 108.9269 - mae: 108.9269 - mse: 70047.5156 - val_loss: 573.9333 - val_mae: 573.9333 - val_mse: 1193106.2500\n",
            "Epoch 58/100\n",
            "\u001b[1m18/18\u001b[0m \u001b[32m━━━━━━━━━━━━━━━━━━━━\u001b[0m\u001b[37m\u001b[0m \u001b[1m0s\u001b[0m 6ms/step - loss: 108.2936 - mae: 108.2936 - mse: 69946.2812 - val_loss: 576.3652 - val_mae: 576.3652 - val_mse: 1198138.2500\n",
            "Epoch 59/100\n",
            "\u001b[1m18/18\u001b[0m \u001b[32m━━━━━━━━━━━━━━━━━━━━\u001b[0m\u001b[37m\u001b[0m \u001b[1m0s\u001b[0m 7ms/step - loss: 107.3271 - mae: 107.3271 - mse: 69894.8203 - val_loss: 570.7623 - val_mae: 570.7623 - val_mse: 1182216.5000\n",
            "Epoch 60/100\n",
            "\u001b[1m18/18\u001b[0m \u001b[32m━━━━━━━━━━━━━━━━━━━━\u001b[0m\u001b[37m\u001b[0m \u001b[1m0s\u001b[0m 6ms/step - loss: 108.4427 - mae: 108.4427 - mse: 69679.0938 - val_loss: 577.1415 - val_mae: 577.1415 - val_mse: 1197655.8750\n",
            "Epoch 61/100\n",
            "\u001b[1m18/18\u001b[0m \u001b[32m━━━━━━━━━━━━━━━━━━━━\u001b[0m\u001b[37m\u001b[0m \u001b[1m0s\u001b[0m 6ms/step - loss: 109.0479 - mae: 109.0479 - mse: 70326.1719 - val_loss: 588.7227 - val_mae: 588.7227 - val_mse: 1221417.5000\n",
            "Epoch 62/100\n",
            "\u001b[1m18/18\u001b[0m \u001b[32m━━━━━━━━━━━━━━━━━━━━\u001b[0m\u001b[37m\u001b[0m \u001b[1m0s\u001b[0m 6ms/step - loss: 108.0255 - mae: 108.0255 - mse: 70068.0781 - val_loss: 572.8466 - val_mae: 572.8466 - val_mse: 1188120.0000\n",
            "Epoch 63/100\n",
            "\u001b[1m18/18\u001b[0m \u001b[32m━━━━━━━━━━━━━━━━━━━━\u001b[0m\u001b[37m\u001b[0m \u001b[1m0s\u001b[0m 7ms/step - loss: 106.7968 - mae: 106.7968 - mse: 69303.7188 - val_loss: 569.0643 - val_mae: 569.0643 - val_mse: 1179579.3750\n",
            "Epoch 64/100\n",
            "\u001b[1m18/18\u001b[0m \u001b[32m━━━━━━━━━━━━━━━━━━━━\u001b[0m\u001b[37m\u001b[0m \u001b[1m0s\u001b[0m 6ms/step - loss: 107.0296 - mae: 107.0296 - mse: 69265.8125 - val_loss: 569.8246 - val_mae: 569.8246 - val_mse: 1180638.8750\n",
            "Epoch 65/100\n",
            "\u001b[1m18/18\u001b[0m \u001b[32m━━━━━━━━━━━━━━━━━━━━\u001b[0m\u001b[37m\u001b[0m \u001b[1m0s\u001b[0m 6ms/step - loss: 107.0962 - mae: 107.0962 - mse: 69126.5703 - val_loss: 581.4374 - val_mae: 581.4374 - val_mse: 1205371.8750\n",
            "Epoch 66/100\n",
            "\u001b[1m18/18\u001b[0m \u001b[32m━━━━━━━━━━━━━━━━━━━━\u001b[0m\u001b[37m\u001b[0m \u001b[1m0s\u001b[0m 6ms/step - loss: 107.0795 - mae: 107.0795 - mse: 69506.0859 - val_loss: 573.9762 - val_mae: 573.9762 - val_mse: 1189329.3750\n",
            "Epoch 67/100\n",
            "\u001b[1m18/18\u001b[0m \u001b[32m━━━━━━━━━━━━━━━━━━━━\u001b[0m\u001b[37m\u001b[0m \u001b[1m0s\u001b[0m 6ms/step - loss: 106.9006 - mae: 106.9006 - mse: 69154.5703 - val_loss: 582.3027 - val_mae: 582.3027 - val_mse: 1206648.6250\n",
            "Epoch 68/100\n",
            "\u001b[1m18/18\u001b[0m \u001b[32m━━━━━━━━━━━━━━━━━━━━\u001b[0m\u001b[37m\u001b[0m \u001b[1m0s\u001b[0m 7ms/step - loss: 106.7596 - mae: 106.7596 - mse: 69350.0000 - val_loss: 568.1788 - val_mae: 568.1788 - val_mse: 1175261.0000\n",
            "Epoch 69/100\n",
            "\u001b[1m18/18\u001b[0m \u001b[32m━━━━━━━━━━━━━━━━━━━━\u001b[0m\u001b[37m\u001b[0m \u001b[1m0s\u001b[0m 6ms/step - loss: 106.9795 - mae: 106.9795 - mse: 68935.2734 - val_loss: 575.1461 - val_mae: 575.1461 - val_mse: 1190371.3750\n",
            "Epoch 70/100\n",
            "\u001b[1m18/18\u001b[0m \u001b[32m━━━━━━━━━━━━━━━━━━━━\u001b[0m\u001b[37m\u001b[0m \u001b[1m0s\u001b[0m 6ms/step - loss: 108.0587 - mae: 108.0587 - mse: 69644.5234 - val_loss: 594.1588 - val_mae: 594.1588 - val_mse: 1232594.8750\n",
            "Epoch 71/100\n",
            "\u001b[1m18/18\u001b[0m \u001b[32m━━━━━━━━━━━━━━━━━━━━\u001b[0m\u001b[37m\u001b[0m \u001b[1m0s\u001b[0m 7ms/step - loss: 107.7160 - mae: 107.7160 - mse: 69679.3125 - val_loss: 568.0148 - val_mae: 568.0148 - val_mse: 1172820.5000\n",
            "Epoch 72/100\n",
            "\u001b[1m18/18\u001b[0m \u001b[32m━━━━━━━━━━━━━━━━━━━━\u001b[0m\u001b[37m\u001b[0m \u001b[1m0s\u001b[0m 7ms/step - loss: 106.4284 - mae: 106.4284 - mse: 68684.0781 - val_loss: 567.6024 - val_mae: 567.6024 - val_mse: 1173013.0000\n",
            "Epoch 73/100\n",
            "\u001b[1m18/18\u001b[0m \u001b[32m━━━━━━━━━━━━━━━━━━━━\u001b[0m\u001b[37m\u001b[0m \u001b[1m0s\u001b[0m 6ms/step - loss: 106.9440 - mae: 106.9440 - mse: 68812.9609 - val_loss: 576.7591 - val_mae: 576.7591 - val_mse: 1193652.5000\n",
            "Epoch 74/100\n",
            "\u001b[1m18/18\u001b[0m \u001b[32m━━━━━━━━━━━━━━━━━━━━\u001b[0m\u001b[37m\u001b[0m \u001b[1m0s\u001b[0m 7ms/step - loss: 106.8995 - mae: 106.8995 - mse: 68966.1016 - val_loss: 567.5891 - val_mae: 567.5891 - val_mse: 1171600.7500\n",
            "Epoch 75/100\n",
            "\u001b[1m18/18\u001b[0m \u001b[32m━━━━━━━━━━━━━━━━━━━━\u001b[0m\u001b[37m\u001b[0m \u001b[1m0s\u001b[0m 6ms/step - loss: 106.5804 - mae: 106.5804 - mse: 68707.9531 - val_loss: 569.1694 - val_mae: 569.1694 - val_mse: 1175607.2500\n",
            "Epoch 76/100\n",
            "\u001b[1m18/18\u001b[0m \u001b[32m━━━━━━━━━━━━━━━━━━━━\u001b[0m\u001b[37m\u001b[0m \u001b[1m0s\u001b[0m 6ms/step - loss: 107.3484 - mae: 107.3484 - mse: 68906.9766 - val_loss: 580.9980 - val_mae: 580.9980 - val_mse: 1202643.1250\n",
            "Epoch 77/100\n",
            "\u001b[1m18/18\u001b[0m \u001b[32m━━━━━━━━━━━━━━━━━━━━\u001b[0m\u001b[37m\u001b[0m \u001b[1m0s\u001b[0m 7ms/step - loss: 108.3864 - mae: 108.3864 - mse: 69629.6562 - val_loss: 595.7773 - val_mae: 595.7773 - val_mse: 1234734.3750\n",
            "Epoch 78/100\n",
            "\u001b[1m18/18\u001b[0m \u001b[32m━━━━━━━━━━━━━━━━━━━━\u001b[0m\u001b[37m\u001b[0m \u001b[1m0s\u001b[0m 7ms/step - loss: 107.3720 - mae: 107.3720 - mse: 69295.6797 - val_loss: 567.4470 - val_mae: 567.4470 - val_mse: 1170909.3750\n",
            "Epoch 79/100\n",
            "\u001b[1m18/18\u001b[0m \u001b[32m━━━━━━━━━━━━━━━━━━━━\u001b[0m\u001b[37m\u001b[0m \u001b[1m0s\u001b[0m 6ms/step - loss: 106.2311 - mae: 106.2311 - mse: 68405.5156 - val_loss: 573.2366 - val_mae: 573.2366 - val_mse: 1184217.5000\n",
            "Epoch 80/100\n",
            "\u001b[1m18/18\u001b[0m \u001b[32m━━━━━━━━━━━━━━━━━━━━\u001b[0m\u001b[37m\u001b[0m \u001b[1m0s\u001b[0m 6ms/step - loss: 107.0978 - mae: 107.0978 - mse: 68837.8750 - val_loss: 569.8512 - val_mae: 569.8512 - val_mse: 1176385.0000\n",
            "Epoch 81/100\n",
            "\u001b[1m18/18\u001b[0m \u001b[32m━━━━━━━━━━━━━━━━━━━━\u001b[0m\u001b[37m\u001b[0m \u001b[1m0s\u001b[0m 6ms/step - loss: 106.2898 - mae: 106.2898 - mse: 68459.5625 - val_loss: 571.4446 - val_mae: 571.4446 - val_mse: 1179976.5000\n",
            "Epoch 82/100\n",
            "\u001b[1m18/18\u001b[0m \u001b[32m━━━━━━━━━━━━━━━━━━━━\u001b[0m\u001b[37m\u001b[0m \u001b[1m0s\u001b[0m 7ms/step - loss: 106.9609 - mae: 106.9609 - mse: 68608.7500 - val_loss: 568.7505 - val_mae: 568.7505 - val_mse: 1173822.3750\n",
            "Epoch 83/100\n",
            "\u001b[1m18/18\u001b[0m \u001b[32m━━━━━━━━━━━━━━━━━━━━\u001b[0m\u001b[37m\u001b[0m \u001b[1m0s\u001b[0m 7ms/step - loss: 105.7683 - mae: 105.7683 - mse: 68206.6953 - val_loss: 567.2802 - val_mae: 567.2802 - val_mse: 1167244.0000\n",
            "Epoch 84/100\n",
            "\u001b[1m18/18\u001b[0m \u001b[32m━━━━━━━━━━━━━━━━━━━━\u001b[0m\u001b[37m\u001b[0m \u001b[1m0s\u001b[0m 6ms/step - loss: 106.6950 - mae: 106.6950 - mse: 68315.8359 - val_loss: 575.5762 - val_mae: 575.5762 - val_mse: 1189272.7500\n",
            "Epoch 85/100\n",
            "\u001b[1m18/18\u001b[0m \u001b[32m━━━━━━━━━━━━━━━━━━━━\u001b[0m\u001b[37m\u001b[0m \u001b[1m0s\u001b[0m 6ms/step - loss: 106.9713 - mae: 106.9713 - mse: 68760.5938 - val_loss: 567.3543 - val_mae: 567.3543 - val_mse: 1169036.0000\n",
            "Epoch 86/100\n",
            "\u001b[1m18/18\u001b[0m \u001b[32m━━━━━━━━━━━━━━━━━━━━\u001b[0m\u001b[37m\u001b[0m \u001b[1m0s\u001b[0m 6ms/step - loss: 106.4616 - mae: 106.4616 - mse: 68344.3047 - val_loss: 568.7706 - val_mae: 568.7706 - val_mse: 1172323.6250\n",
            "Epoch 87/100\n",
            "\u001b[1m18/18\u001b[0m \u001b[32m━━━━━━━━━━━━━━━━━━━━\u001b[0m\u001b[37m\u001b[0m \u001b[1m0s\u001b[0m 8ms/step - loss: 106.2584 - mae: 106.2584 - mse: 68213.8438 - val_loss: 566.5818 - val_mae: 566.5818 - val_mse: 1166805.7500\n",
            "Epoch 88/100\n",
            "\u001b[1m18/18\u001b[0m \u001b[32m━━━━━━━━━━━━━━━━━━━━\u001b[0m\u001b[37m\u001b[0m \u001b[1m0s\u001b[0m 7ms/step - loss: 106.7130 - mae: 106.7130 - mse: 68188.7969 - val_loss: 566.5687 - val_mae: 566.5687 - val_mse: 1165875.6250\n",
            "Epoch 89/100\n",
            "\u001b[1m18/18\u001b[0m \u001b[32m━━━━━━━━━━━━━━━━━━━━\u001b[0m\u001b[37m\u001b[0m \u001b[1m0s\u001b[0m 6ms/step - loss: 106.1869 - mae: 106.1869 - mse: 68070.8906 - val_loss: 568.3230 - val_mae: 568.3230 - val_mse: 1171527.1250\n",
            "Epoch 90/100\n",
            "\u001b[1m18/18\u001b[0m \u001b[32m━━━━━━━━━━━━━━━━━━━━\u001b[0m\u001b[37m\u001b[0m \u001b[1m0s\u001b[0m 6ms/step - loss: 106.1421 - mae: 106.1421 - mse: 68208.6484 - val_loss: 568.2986 - val_mae: 568.2986 - val_mse: 1171415.5000\n",
            "Epoch 91/100\n",
            "\u001b[1m18/18\u001b[0m \u001b[32m━━━━━━━━━━━━━━━━━━━━\u001b[0m\u001b[37m\u001b[0m \u001b[1m0s\u001b[0m 6ms/step - loss: 105.8998 - mae: 105.8998 - mse: 68137.3984 - val_loss: 569.8568 - val_mae: 569.8568 - val_mse: 1174268.7500\n",
            "Epoch 92/100\n",
            "\u001b[1m18/18\u001b[0m \u001b[32m━━━━━━━━━━━━━━━━━━━━\u001b[0m\u001b[37m\u001b[0m \u001b[1m0s\u001b[0m 6ms/step - loss: 106.5830 - mae: 106.5830 - mse: 68361.8281 - val_loss: 572.5618 - val_mae: 572.5618 - val_mse: 1181517.3750\n",
            "Epoch 93/100\n",
            "\u001b[1m18/18\u001b[0m \u001b[32m━━━━━━━━━━━━━━━━━━━━\u001b[0m\u001b[37m\u001b[0m \u001b[1m0s\u001b[0m 6ms/step - loss: 106.4798 - mae: 106.4798 - mse: 68452.2969 - val_loss: 566.7199 - val_mae: 566.7199 - val_mse: 1165697.1250\n",
            "Epoch 94/100\n",
            "\u001b[1m18/18\u001b[0m \u001b[32m━━━━━━━━━━━━━━━━━━━━\u001b[0m\u001b[37m\u001b[0m \u001b[1m0s\u001b[0m 6ms/step - loss: 106.1238 - mae: 106.1238 - mse: 67981.0312 - val_loss: 568.1907 - val_mae: 568.1907 - val_mse: 1170311.8750\n",
            "Epoch 95/100\n",
            "\u001b[1m18/18\u001b[0m \u001b[32m━━━━━━━━━━━━━━━━━━━━\u001b[0m\u001b[37m\u001b[0m \u001b[1m0s\u001b[0m 6ms/step - loss: 106.9861 - mae: 106.9861 - mse: 68191.8906 - val_loss: 605.2517 - val_mae: 605.2517 - val_mse: 1256533.0000\n",
            "Epoch 96/100\n",
            "\u001b[1m18/18\u001b[0m \u001b[32m━━━━━━━━━━━━━━━━━━━━\u001b[0m\u001b[37m\u001b[0m \u001b[1m0s\u001b[0m 6ms/step - loss: 108.4081 - mae: 108.4081 - mse: 69056.2109 - val_loss: 570.7944 - val_mae: 570.7944 - val_mse: 1177000.2500\n",
            "Epoch 97/100\n",
            "\u001b[1m18/18\u001b[0m \u001b[32m━━━━━━━━━━━━━━━━━━━━\u001b[0m\u001b[37m\u001b[0m \u001b[1m0s\u001b[0m 6ms/step - loss: 105.0112 - mae: 105.0112 - mse: 67807.9062 - val_loss: 568.8994 - val_mae: 568.8994 - val_mse: 1166774.6250\n",
            "Epoch 98/100\n",
            "\u001b[1m18/18\u001b[0m \u001b[32m━━━━━━━━━━━━━━━━━━━━\u001b[0m\u001b[37m\u001b[0m \u001b[1m0s\u001b[0m 6ms/step - loss: 105.8494 - mae: 105.8494 - mse: 67827.3125 - val_loss: 574.0147 - val_mae: 574.0147 - val_mse: 1173462.3750\n",
            "Epoch 99/100\n",
            "\u001b[1m18/18\u001b[0m \u001b[32m━━━━━━━━━━━━━━━━━━━━\u001b[0m\u001b[37m\u001b[0m \u001b[1m0s\u001b[0m 6ms/step - loss: 108.2240 - mae: 108.2240 - mse: 68521.8984 - val_loss: 609.2018 - val_mae: 609.2018 - val_mse: 1264917.6250\n",
            "Epoch 100/100\n",
            "\u001b[1m18/18\u001b[0m \u001b[32m━━━━━━━━━━━━━━━━━━━━\u001b[0m\u001b[37m\u001b[0m \u001b[1m0s\u001b[0m 6ms/step - loss: 108.4825 - mae: 108.4825 - mse: 68978.4453 - val_loss: 571.2273 - val_mae: 571.2273 - val_mse: 1175795.1250\n"
          ]
        },
        {
          "output_type": "execute_result",
          "data": {
            "text/plain": [
              "<keras.src.callbacks.history.History at 0x7877cc5c5790>"
            ]
          },
          "metadata": {},
          "execution_count": 33
        }
      ],
      "execution_count": 33
    },
    {
      "metadata": {
        "ExecuteTime": {
          "end_time": "2025-07-22T09:02:11.800127Z",
          "start_time": "2025-07-22T09:02:11.574576Z"
        },
        "id": "4f1074478a4355b4",
        "outputId": "5a363798-5685-4586-94e4-f17d871cbf2a",
        "colab": {
          "base_uri": "https://localhost:8080/"
        }
      },
      "cell_type": "code",
      "source": [
        "model_1.evaluate(test_windows, test_labels)"
      ],
      "id": "4f1074478a4355b4",
      "outputs": [
        {
          "output_type": "stream",
          "name": "stdout",
          "text": [
            "\u001b[1m18/18\u001b[0m \u001b[32m━━━━━━━━━━━━━━━━━━━━\u001b[0m\u001b[37m\u001b[0m \u001b[1m0s\u001b[0m 12ms/step - loss: 286.6812 - mae: 286.6812 - mse: 346305.7812\n"
          ]
        },
        {
          "output_type": "execute_result",
          "data": {
            "text/plain": [
              "[570.9273071289062, 570.9273071289062, 1176004.625]"
            ]
          },
          "metadata": {},
          "execution_count": 34
        }
      ],
      "execution_count": 34
    },
    {
      "metadata": {
        "ExecuteTime": {
          "end_time": "2025-07-22T09:02:12.871193Z",
          "start_time": "2025-07-22T09:02:11.873178Z"
        },
        "id": "767e13eba265382",
        "outputId": "bd4f044b-7293-4334-8ce0-6ad805aa95cc",
        "colab": {
          "base_uri": "https://localhost:8080/"
        }
      },
      "cell_type": "code",
      "source": [
        "model_1 = tf.keras.models.load_model(\"model_experiments/model_1_dense.keras\")\n",
        "\n",
        "model_1.evaluate(test_windows, test_labels)"
      ],
      "id": "767e13eba265382",
      "outputs": [
        {
          "output_type": "stream",
          "name": "stdout",
          "text": [
            "\u001b[1m18/18\u001b[0m \u001b[32m━━━━━━━━━━━━━━━━━━━━\u001b[0m\u001b[37m\u001b[0m \u001b[1m1s\u001b[0m 8ms/step - loss: 282.7900 - mae: 282.7900 - mse: 345232.2812\n"
          ]
        },
        {
          "output_type": "execute_result",
          "data": {
            "text/plain": [
              "[566.3765258789062, 566.3765258789062, 1165759.0]"
            ]
          },
          "metadata": {},
          "execution_count": 35
        }
      ],
      "execution_count": 35
    },
    {
      "metadata": {
        "ExecuteTime": {
          "end_time": "2025-07-22T09:02:12.957137Z",
          "start_time": "2025-07-22T09:02:12.951467Z"
        },
        "id": "6396785ed251205"
      },
      "cell_type": "code",
      "source": [
        "## making forecasts with a model\n",
        "def make_preds(model, input_data):\n",
        "    \"\"\"\n",
        "    uses model to make prediction on input_Data\n",
        "    \"\"\"\n",
        "    forecast = model.predict(input_data)\n",
        "    return tf.squeeze(forecast)"
      ],
      "id": "6396785ed251205",
      "outputs": [],
      "execution_count": 36
    },
    {
      "metadata": {
        "ExecuteTime": {
          "end_time": "2025-07-22T09:02:13.258335Z",
          "start_time": "2025-07-22T09:02:13.050186Z"
        },
        "id": "d7902d3439c758fe",
        "outputId": "1cdab7a3-c1c2-4eda-d262-eba8bd39c962",
        "colab": {
          "base_uri": "https://localhost:8080/"
        }
      },
      "cell_type": "code",
      "source": [
        "model_1_preds = make_preds(model_1, test_windows)\n",
        "len(model_1_preds), model_1_preds[:10]"
      ],
      "id": "d7902d3439c758fe",
      "outputs": [
        {
          "output_type": "stream",
          "name": "stdout",
          "text": [
            "\u001b[1m18/18\u001b[0m \u001b[32m━━━━━━━━━━━━━━━━━━━━\u001b[0m\u001b[37m\u001b[0m \u001b[1m0s\u001b[0m 8ms/step\n"
          ]
        },
        {
          "output_type": "execute_result",
          "data": {
            "text/plain": [
              "(556,\n",
              " <tf.Tensor: shape=(10,), dtype=float32, numpy=\n",
              " array([8848.651, 8794.976, 9054.374, 8775.654, 8731.445, 8749.296,\n",
              "        8670.747, 8531.085, 8462.759, 8532.935], dtype=float32)>)"
            ]
          },
          "metadata": {},
          "execution_count": 37
        }
      ],
      "execution_count": 37
    },
    {
      "metadata": {
        "ExecuteTime": {
          "end_time": "2025-07-22T09:02:13.319439Z",
          "start_time": "2025-07-22T09:02:13.309473Z"
        },
        "id": "fd1eb4f31ce17b0b",
        "outputId": "57fc85b9-dc74-4332-a0b3-9e92233d0dd0",
        "colab": {
          "base_uri": "https://localhost:8080/"
        }
      },
      "cell_type": "code",
      "source": [
        "tf.squeeze(test_labels.shape), model_1_preds.shape"
      ],
      "id": "fd1eb4f31ce17b0b",
      "outputs": [
        {
          "output_type": "execute_result",
          "data": {
            "text/plain": [
              "(<tf.Tensor: shape=(2,), dtype=int32, numpy=array([556,   1], dtype=int32)>,\n",
              " TensorShape([556]))"
            ]
          },
          "metadata": {},
          "execution_count": 38
        }
      ],
      "execution_count": 38
    },
    {
      "metadata": {
        "ExecuteTime": {
          "end_time": "2025-07-22T09:02:13.461065Z",
          "start_time": "2025-07-22T09:02:13.431657Z"
        },
        "id": "97060a9c967bb93c",
        "outputId": "b233feae-e399-42f7-d5c2-d63c7e2f5e29",
        "colab": {
          "base_uri": "https://localhost:8080/"
        }
      },
      "cell_type": "code",
      "source": [
        "model_1_results = evaluate_preds(y_true=tf.squeeze(test_labels), y_pred=model_1_preds)\n",
        "model_1_results"
      ],
      "id": "97060a9c967bb93c",
      "outputs": [
        {
          "output_type": "execute_result",
          "data": {
            "text/plain": [
              "{'mae': np.float32(566.37646),\n",
              " 'mse': np.float32(1165759.1),\n",
              " 'rmse': np.float32(1079.7032),\n",
              " 'mape': np.float32(2.5316947),\n",
              " 'mase': np.float32(0.99496657)}"
            ]
          },
          "metadata": {},
          "execution_count": 39
        }
      ],
      "execution_count": 39
    },
    {
      "metadata": {
        "ExecuteTime": {
          "end_time": "2025-07-22T09:02:13.585541Z",
          "start_time": "2025-07-22T09:02:13.579459Z"
        },
        "id": "427fbd68c7ba15c",
        "outputId": "c59f5960-c4e3-4674-c6c4-4a0f28fd6ad5",
        "colab": {
          "base_uri": "https://localhost:8080/"
        }
      },
      "cell_type": "code",
      "source": [
        "naive_results"
      ],
      "id": "427fbd68c7ba15c",
      "outputs": [
        {
          "output_type": "execute_result",
          "data": {
            "text/plain": [
              "{'mae': np.float32(567.9802),\n",
              " 'mse': np.float32(1147547.0),\n",
              " 'rmse': np.float32(1071.2362),\n",
              " 'mape': np.float32(2.516525),\n",
              " 'mase': np.float32(0.99957)}"
            ]
          },
          "metadata": {},
          "execution_count": 40
        }
      ],
      "execution_count": 40
    },
    {
      "metadata": {
        "ExecuteTime": {
          "end_time": "2025-07-22T09:02:14.486267Z",
          "start_time": "2025-07-22T09:02:13.667019Z"
        },
        "id": "78c57403d5ad1722",
        "outputId": "b9fe4c76-f58c-49d4-8997-f2400fd48b46",
        "colab": {
          "base_uri": "https://localhost:8080/",
          "height": 619
        }
      },
      "cell_type": "code",
      "source": [
        "offset = 300\n",
        "plt.figure(figsize=(10, 7))\n",
        "plot_time_series(timesteps=X_test[-len(test_windows):],\n",
        "                 values=test_labels[:, 0],\n",
        "                 label=\"Test data\")\n",
        "\n",
        "plot_time_series(timesteps=X_test[-len(test_windows):],\n",
        "                 values=model_1_preds,\n",
        "                 format=\"-\",\n",
        "                 label=\"model_1_preds\")"
      ],
      "id": "78c57403d5ad1722",
      "outputs": [
        {
          "output_type": "display_data",
          "data": {
            "text/plain": [
              "<Figure size 1000x700 with 1 Axes>"
            ],
            "image/png": "[encoded data removed]"
          },
          "metadata": {}
        }
      ],
      "execution_count": 41
    },
    {
      "metadata": {
        "id": "97b3e555480bd737"
      },
      "cell_type": "markdown",
      "source": [
        "##### SAME BUT WINDOW IS 30"
      ],
      "id": "97b3e555480bd737"
    },
    {
      "metadata": {
        "ExecuteTime": {
          "end_time": "2025-07-22T09:02:14.704756Z",
          "start_time": "2025-07-22T09:02:14.699654Z"
        },
        "id": "3862fd1c87248738"
      },
      "cell_type": "code",
      "source": [],
      "id": "3862fd1c87248738",
      "outputs": [],
      "execution_count": 41
    },
    {
      "metadata": {
        "ExecuteTime": {
          "end_time": "2025-07-22T09:02:14.810732Z",
          "start_time": "2025-07-22T09:02:14.803292Z"
        },
        "id": "97d2cd1a4d98dec8"
      },
      "cell_type": "code",
      "source": [
        "WINDOW30 = 30\n",
        "\n",
        "full_windows, full_labels = make_windows(prices, window_size=WINDOW30, horizon=HORIZON)\n",
        "train_windows, test_windows, train_labels, test_labels = make_train_test_splits(windows=full_windows,\n",
        "                                                                                labels=full_labels)"
      ],
      "id": "97d2cd1a4d98dec8",
      "outputs": [],
      "execution_count": 42
    },
    {
      "metadata": {
        "ExecuteTime": {
          "end_time": "2025-07-22T09:02:15.177914Z",
          "start_time": "2025-07-22T09:02:14.891415Z"
        },
        "id": "67dd219830e16ed8"
      },
      "cell_type": "code",
      "source": [
        "model_2 = Sequential([\n",
        "    tf.keras.layers.Dense(128, activation=\"relu\"),\n",
        "    tf.keras.layers.Dense(HORIZON, activation=\"linear\")\n",
        "], name=\"model_2_dense\")\n",
        "\n",
        "model_2.compile(loss=\"mae\",\n",
        "                optimizer=tf.keras.optimizers.Adam(),\n",
        "                metrics=[\"mae\", \"mse\"])"
      ],
      "id": "67dd219830e16ed8",
      "outputs": [],
      "execution_count": 43
    },
    {
      "metadata": {
        "ExecuteTime": {
          "end_time": "2025-07-22T09:02:33.512136Z",
          "start_time": "2025-07-22T09:02:15.235562Z"
        },
        "id": "bac04e2204990a87",
        "outputId": "f8dae7ac-7015-4916-e2c2-59e86a2b9208",
        "colab": {
          "base_uri": "https://localhost:8080/"
        }
      },
      "cell_type": "code",
      "source": [
        "model_2.fit(x=train_windows,\n",
        "            y=train_labels,\n",
        "            epochs=100,\n",
        "            verbose=0,\n",
        "            batch_size=128,\n",
        "            validation_data=(test_windows, test_labels),\n",
        "            callbacks=[create_model_checkpoint(model_name = model_2.name)])"
      ],
      "id": "bac04e2204990a87",
      "outputs": [
        {
          "output_type": "execute_result",
          "data": {
            "text/plain": [
              "<keras.src.callbacks.history.History at 0x78777a38b5d0>"
            ]
          },
          "metadata": {},
          "execution_count": 44
        }
      ],
      "execution_count": 44
    },
    {
      "metadata": {
        "ExecuteTime": {
          "end_time": "2025-07-22T09:02:33.995233Z",
          "start_time": "2025-07-22T09:02:33.596648Z"
        },
        "id": "b9f8acf865b4e636",
        "outputId": "89de94ff-58f0-4c9f-eb62-b845374941d6",
        "colab": {
          "base_uri": "https://localhost:8080/"
        }
      },
      "cell_type": "code",
      "source": [
        "model_2 = tf.keras.models.load_model(\"model_experiments/model_2_dense.keras\")\n",
        "model_2.evaluate(test_windows, test_labels)"
      ],
      "id": "b9f8acf865b4e636",
      "outputs": [
        {
          "output_type": "stream",
          "name": "stdout",
          "text": [
            "\u001b[1m18/18\u001b[0m \u001b[32m━━━━━━━━━━━━━━━━━━━━\u001b[0m\u001b[37m\u001b[0m \u001b[1m1s\u001b[0m 10ms/step - loss: 313.2094 - mae: 313.2094 - mse: 405997.0312\n"
          ]
        },
        {
          "output_type": "execute_result",
          "data": {
            "text/plain": [
              "[616.4238891601562, 616.4238891601562, 1353744.0]"
            ]
          },
          "metadata": {},
          "execution_count": 45
        }
      ],
      "execution_count": 45
    },
    {
      "metadata": {
        "ExecuteTime": {
          "end_time": "2025-07-22T09:02:34.227245Z",
          "start_time": "2025-07-22T09:02:34.060355Z"
        },
        "id": "cae63c7f648f71cb",
        "outputId": "0e1dfb32-5d17-42f8-a8bc-2852c5f32218",
        "colab": {
          "base_uri": "https://localhost:8080/"
        }
      },
      "cell_type": "code",
      "source": [
        "model_2_preds = make_preds(model_2,\n",
        "                           input_data=test_windows)"
      ],
      "id": "cae63c7f648f71cb",
      "outputs": [
        {
          "output_type": "stream",
          "name": "stdout",
          "text": [
            "\u001b[1m18/18\u001b[0m \u001b[32m━━━━━━━━━━━━━━━━━━━━\u001b[0m\u001b[37m\u001b[0m \u001b[1m0s\u001b[0m 8ms/step\n"
          ]
        }
      ],
      "execution_count": 46
    },
    {
      "metadata": {
        "ExecuteTime": {
          "end_time": "2025-07-22T09:02:34.307535Z",
          "start_time": "2025-07-22T09:02:34.297950Z"
        },
        "id": "873cc73e46241a08",
        "outputId": "05527ebb-c018-455e-d823-c5fc3554d409",
        "colab": {
          "base_uri": "https://localhost:8080/"
        }
      },
      "cell_type": "code",
      "source": [
        "model_2_results = evaluate_preds(y_true=tf.squeeze(test_labels), y_pred=model_2_preds)\n",
        "model_2_results"
      ],
      "id": "873cc73e46241a08",
      "outputs": [
        {
          "output_type": "execute_result",
          "data": {
            "text/plain": [
              "{'mae': np.float32(616.4239),\n",
              " 'mse': np.float32(1353744.1),\n",
              " 'rmse': np.float32(1163.5051),\n",
              " 'mape': np.float32(2.7937298),\n",
              " 'mase': np.float32(1.077515)}"
            ]
          },
          "metadata": {},
          "execution_count": 47
        }
      ],
      "execution_count": 47
    },
    {
      "metadata": {
        "ExecuteTime": {
          "end_time": "2025-07-22T09:02:34.374234Z",
          "start_time": "2025-07-22T09:02:34.368461Z"
        },
        "id": "ad41c50db143bd72",
        "outputId": "7029f42f-2459-499e-98ad-3ef96dde6686",
        "colab": {
          "base_uri": "https://localhost:8080/"
        }
      },
      "cell_type": "code",
      "source": [
        "model_1_results"
      ],
      "id": "ad41c50db143bd72",
      "outputs": [
        {
          "output_type": "execute_result",
          "data": {
            "text/plain": [
              "{'mae': np.float32(566.37646),\n",
              " 'mse': np.float32(1165759.1),\n",
              " 'rmse': np.float32(1079.7032),\n",
              " 'mape': np.float32(2.5316947),\n",
              " 'mase': np.float32(0.99496657)}"
            ]
          },
          "metadata": {},
          "execution_count": 48
        }
      ],
      "execution_count": 48
    },
    {
      "metadata": {
        "ExecuteTime": {
          "end_time": "2025-07-22T09:02:34.475707Z",
          "start_time": "2025-07-22T09:02:34.472122Z"
        },
        "id": "1cd78804c5ee3652"
      },
      "cell_type": "code",
      "source": [
        "# conv1d"
      ],
      "id": "1cd78804c5ee3652",
      "outputs": [],
      "execution_count": 49
    },
    {
      "metadata": {
        "ExecuteTime": {
          "end_time": "2025-07-22T09:02:34.566755Z",
          "start_time": "2025-07-22T09:02:34.561674Z"
        },
        "id": "5530a9ed6ef0b11"
      },
      "cell_type": "code",
      "source": [
        "WINDOW_SIZE = 7\n",
        "HORIZON = 1\n",
        "\n",
        "full_windows, full_labels = make_windows(prices, window_size=WINDOW_SIZE, horizon=HORIZON)"
      ],
      "id": "5530a9ed6ef0b11",
      "outputs": [],
      "execution_count": 50
    },
    {
      "metadata": {
        "ExecuteTime": {
          "end_time": "2025-07-22T09:02:34.674578Z",
          "start_time": "2025-07-22T09:02:34.666343Z"
        },
        "id": "166119b5685c7679",
        "outputId": "eaeb542e-0952-4548-cb9a-1576e0308e45",
        "colab": {
          "base_uri": "https://localhost:8080/"
        }
      },
      "cell_type": "code",
      "source": [
        "len(full_windows)"
      ],
      "id": "166119b5685c7679",
      "outputs": [
        {
          "output_type": "execute_result",
          "data": {
            "text/plain": [
              "2780"
            ]
          },
          "metadata": {},
          "execution_count": 51
        }
      ],
      "execution_count": 51
    },
    {
      "metadata": {
        "ExecuteTime": {
          "end_time": "2025-07-22T09:02:34.764971Z",
          "start_time": "2025-07-22T09:02:34.759719Z"
        },
        "id": "daf460edfe9664a8",
        "outputId": "f61c4e6c-cb27-453f-a4c3-ea7ab37c8a20",
        "colab": {
          "base_uri": "https://localhost:8080/"
        }
      },
      "cell_type": "code",
      "source": [
        "train_windows, test_windows, train_labels, test_labels = make_train_test_splits(windows=full_windows, labels=full_labels)\n",
        "len(train_windows)"
      ],
      "id": "daf460edfe9664a8",
      "outputs": [
        {
          "output_type": "execute_result",
          "data": {
            "text/plain": [
              "2224"
            ]
          },
          "metadata": {},
          "execution_count": 52
        }
      ],
      "execution_count": 52
    },
    {
      "metadata": {
        "ExecuteTime": {
          "end_time": "2025-07-22T09:02:34.860014Z",
          "start_time": "2025-07-22T09:02:34.853319Z"
        },
        "id": "c7f3772e5f37d588",
        "outputId": "456fed92-ac26-4962-a7c2-f3e2ebadb615",
        "colab": {
          "base_uri": "https://localhost:8080/"
        }
      },
      "cell_type": "code",
      "source": [
        "x = tf.constant(train_windows[0])\n",
        "x"
      ],
      "id": "c7f3772e5f37d588",
      "outputs": [
        {
          "output_type": "execute_result",
          "data": {
            "text/plain": [
              "<tf.Tensor: shape=(7,), dtype=float64, numpy=\n",
              "array([123.65499, 125.455  , 108.58483, 118.67466, 121.33866, 120.65533,\n",
              "       121.795  ])>"
            ]
          },
          "metadata": {},
          "execution_count": 53
        }
      ],
      "execution_count": 53
    },
    {
      "metadata": {
        "ExecuteTime": {
          "end_time": "2025-07-22T09:02:34.974859Z",
          "start_time": "2025-07-22T09:02:34.968026Z"
        },
        "id": "99e952a0d6158f4d"
      },
      "cell_type": "code",
      "source": [
        "import tensorflow as tf\n",
        "from tensorflow.keras import layers\n",
        "\n",
        "expand_dims_layer = layers.Lambda(lambda x: tf.expand_dims(x, axis=-1))"
      ],
      "id": "99e952a0d6158f4d",
      "outputs": [],
      "execution_count": 54
    },
    {
      "metadata": {
        "ExecuteTime": {
          "end_time": "2025-07-22T09:02:35.038057Z",
          "start_time": "2025-07-22T09:02:35.033420Z"
        },
        "id": "d76a8db593d7e0d0"
      },
      "cell_type": "code",
      "source": [],
      "id": "d76a8db593d7e0d0",
      "outputs": [],
      "execution_count": 54
    },
    {
      "metadata": {
        "ExecuteTime": {
          "end_time": "2025-07-22T09:02:35.102291Z",
          "start_time": "2025-07-22T09:02:35.092203Z"
        },
        "id": "8d84a22cb0587adf",
        "outputId": "092606af-210c-4442-d72c-59aaca25fe88",
        "colab": {
          "base_uri": "https://localhost:8080/"
        }
      },
      "cell_type": "code",
      "source": [
        "print(f\"Original shape: {x.shape}\")\n",
        "print(f\"Expanded shape: {expand_dims_layer(x).shape}\")\n",
        "print(f\"Original values with expanded shape:\\n {expand_dims_layer(x)}\")"
      ],
      "id": "8d84a22cb0587adf",
      "outputs": [
        {
          "output_type": "stream",
          "name": "stdout",
          "text": [
            "Original shape: (7,)\n",
            "Expanded shape: (7, 1)\n",
            "Original values with expanded shape:\n",
            " [[123.65499]\n",
            " [125.455  ]\n",
            " [108.58483]\n",
            " [118.67466]\n",
            " [121.33866]\n",
            " [120.65533]\n",
            " [121.795  ]]\n"
          ]
        }
      ],
      "execution_count": 55
    },
    {
      "metadata": {
        "ExecuteTime": {
          "end_time": "2025-07-22T09:02:35.219939Z",
          "start_time": "2025-07-22T09:02:35.185404Z"
        },
        "id": "27f0343de8ffbb8f"
      },
      "cell_type": "code",
      "source": [
        "tf.random.set_seed(42)\n",
        "\n",
        "model_4 = tf.keras.Sequential([\n",
        "    layers.Lambda(lambda x: tf.expand_dims(x, axis=-1)),\n",
        "    layers.Conv1D(filters=128, kernel_size=5, strides=1, padding=\"causal\", activation=\"relu\"),\n",
        "    layers.Dense(HORIZON)\n",
        "], name=\"model_4_conv1D\")\n",
        "\n",
        "model_4.compile(loss=\"mae\", optimizer=tf.keras.optimizers.Adam())"
      ],
      "id": "27f0343de8ffbb8f",
      "outputs": [],
      "execution_count": 56
    },
    {
      "metadata": {
        "ExecuteTime": {
          "end_time": "2025-07-22T09:02:55.043158Z",
          "start_time": "2025-07-22T09:02:35.354678Z"
        },
        "id": "40f8eec5cdc0d764",
        "outputId": "fda7b38f-df4c-42ff-c3c9-60cd92c0cad2",
        "colab": {
          "base_uri": "https://localhost:8080/"
        }
      },
      "cell_type": "code",
      "source": [
        "model_4.fit(x=train_windows,\n",
        "            y=train_labels,\n",
        "            batch_size=128,\n",
        "            epochs=100,\n",
        "            verbose=1,\n",
        "            validation_data=(test_windows, test_labels),\n",
        "            callbacks=[create_model_checkpoint(model_name = model_4.name)])"
      ],
      "id": "40f8eec5cdc0d764",
      "outputs": [
        {
          "output_type": "stream",
          "name": "stdout",
          "text": [
            "Epoch 1/100\n",
            "\u001b[1m18/18\u001b[0m \u001b[32m━━━━━━━━━━━━━━━━━━━━\u001b[0m\u001b[37m\u001b[0m \u001b[1m3s\u001b[0m 58ms/step - loss: 2922.3169 - val_loss: 10015.7959\n",
            "Epoch 2/100\n",
            "\u001b[1m18/18\u001b[0m \u001b[32m━━━━━━━━━━━━━━━━━━━━\u001b[0m\u001b[37m\u001b[0m \u001b[1m0s\u001b[0m 7ms/step - loss: 1210.8721 - val_loss: 5470.8096\n",
            "Epoch 3/100\n",
            "\u001b[1m18/18\u001b[0m \u001b[32m━━━━━━━━━━━━━━━━━━━━\u001b[0m\u001b[37m\u001b[0m \u001b[1m0s\u001b[0m 7ms/step - loss: 782.5145 - val_loss: 3764.9653\n",
            "Epoch 4/100\n",
            "\u001b[1m18/18\u001b[0m \u001b[32m━━━━━━━━━━━━━━━━━━━━\u001b[0m\u001b[37m\u001b[0m \u001b[1m0s\u001b[0m 7ms/step - loss: 537.4070 - val_loss: 2742.2317\n",
            "Epoch 5/100\n",
            "\u001b[1m18/18\u001b[0m \u001b[32m━━━━━━━━━━━━━━━━━━━━\u001b[0m\u001b[37m\u001b[0m \u001b[1m0s\u001b[0m 7ms/step - loss: 415.6693 - val_loss: 2197.4033\n",
            "Epoch 6/100\n",
            "\u001b[1m18/18\u001b[0m \u001b[32m━━━━━━━━━━━━━━━━━━━━\u001b[0m\u001b[37m\u001b[0m \u001b[1m0s\u001b[0m 7ms/step - loss: 346.6187 - val_loss: 1895.2289\n",
            "Epoch 7/100\n",
            "\u001b[1m18/18\u001b[0m \u001b[32m━━━━━━━━━━━━━━━━━━━━\u001b[0m\u001b[37m\u001b[0m \u001b[1m0s\u001b[0m 7ms/step - loss: 303.5757 - val_loss: 1674.1864\n",
            "Epoch 8/100\n",
            "\u001b[1m18/18\u001b[0m \u001b[32m━━━━━━━━━━━━━━━━━━━━\u001b[0m\u001b[37m\u001b[0m \u001b[1m0s\u001b[0m 7ms/step - loss: 267.5222 - val_loss: 1462.3630\n",
            "Epoch 9/100\n",
            "\u001b[1m18/18\u001b[0m \u001b[32m━━━━━━━━━━━━━━━━━━━━\u001b[0m\u001b[37m\u001b[0m \u001b[1m0s\u001b[0m 7ms/step - loss: 237.2613 - val_loss: 1312.7836\n",
            "Epoch 10/100\n",
            "\u001b[1m18/18\u001b[0m \u001b[32m━━━━━━━━━━━━━━━━━━━━\u001b[0m\u001b[37m\u001b[0m \u001b[1m0s\u001b[0m 7ms/step - loss: 218.7985 - val_loss: 1238.2621\n",
            "Epoch 11/100\n",
            "\u001b[1m18/18\u001b[0m \u001b[32m━━━━━━━━━━━━━━━━━━━━\u001b[0m\u001b[37m\u001b[0m \u001b[1m0s\u001b[0m 7ms/step - loss: 211.2548 - val_loss: 1218.1904\n",
            "Epoch 12/100\n",
            "\u001b[1m18/18\u001b[0m \u001b[32m━━━━━━━━━━━━━━━━━━━━\u001b[0m\u001b[37m\u001b[0m \u001b[1m0s\u001b[0m 7ms/step - loss: 209.2097 - val_loss: 1215.4637\n",
            "Epoch 13/100\n",
            "\u001b[1m18/18\u001b[0m \u001b[32m━━━━━━━━━━━━━━━━━━━━\u001b[0m\u001b[37m\u001b[0m \u001b[1m0s\u001b[0m 7ms/step - loss: 209.1209 - val_loss: 1214.7230\n",
            "Epoch 14/100\n",
            "\u001b[1m18/18\u001b[0m \u001b[32m━━━━━━━━━━━━━━━━━━━━\u001b[0m\u001b[37m\u001b[0m \u001b[1m0s\u001b[0m 7ms/step - loss: 209.2168 - val_loss: 1214.3718\n",
            "Epoch 15/100\n",
            "\u001b[1m18/18\u001b[0m \u001b[32m━━━━━━━━━━━━━━━━━━━━\u001b[0m\u001b[37m\u001b[0m \u001b[1m0s\u001b[0m 5ms/step - loss: 209.1377 - val_loss: 1215.0471\n",
            "Epoch 16/100\n",
            "\u001b[1m18/18\u001b[0m \u001b[32m━━━━━━━━━━━━━━━━━━━━\u001b[0m\u001b[37m\u001b[0m \u001b[1m0s\u001b[0m 7ms/step - loss: 209.1798 - val_loss: 1214.3458\n",
            "Epoch 17/100\n",
            "\u001b[1m18/18\u001b[0m \u001b[32m━━━━━━━━━━━━━━━━━━━━\u001b[0m\u001b[37m\u001b[0m \u001b[1m0s\u001b[0m 5ms/step - loss: 209.1270 - val_loss: 1215.3793\n",
            "Epoch 18/100\n",
            "\u001b[1m18/18\u001b[0m \u001b[32m━━━━━━━━━━━━━━━━━━━━\u001b[0m\u001b[37m\u001b[0m \u001b[1m0s\u001b[0m 5ms/step - loss: 209.1639 - val_loss: 1215.6469\n",
            "Epoch 19/100\n",
            "\u001b[1m18/18\u001b[0m \u001b[32m━━━━━━━━━━━━━━━━━━━━\u001b[0m\u001b[37m\u001b[0m \u001b[1m0s\u001b[0m 5ms/step - loss: 209.1785 - val_loss: 1215.0532\n",
            "Epoch 20/100\n",
            "\u001b[1m18/18\u001b[0m \u001b[32m━━━━━━━━━━━━━━━━━━━━\u001b[0m\u001b[37m\u001b[0m \u001b[1m0s\u001b[0m 5ms/step - loss: 209.1266 - val_loss: 1215.0532\n",
            "Epoch 21/100\n",
            "\u001b[1m18/18\u001b[0m \u001b[32m━━━━━━━━━━━━━━━━━━━━\u001b[0m\u001b[37m\u001b[0m \u001b[1m0s\u001b[0m 5ms/step - loss: 209.1639 - val_loss: 1215.6183\n",
            "Epoch 22/100\n",
            "\u001b[1m18/18\u001b[0m \u001b[32m━━━━━━━━━━━━━━━━━━━━\u001b[0m\u001b[37m\u001b[0m \u001b[1m0s\u001b[0m 6ms/step - loss: 209.2576 - val_loss: 1215.2268\n",
            "Epoch 23/100\n",
            "\u001b[1m18/18\u001b[0m \u001b[32m━━━━━━━━━━━━━━━━━━━━\u001b[0m\u001b[37m\u001b[0m \u001b[1m0s\u001b[0m 6ms/step - loss: 209.2442 - val_loss: 1216.1931\n",
            "Epoch 24/100\n",
            "\u001b[1m18/18\u001b[0m \u001b[32m━━━━━━━━━━━━━━━━━━━━\u001b[0m\u001b[37m\u001b[0m \u001b[1m0s\u001b[0m 6ms/step - loss: 209.3726 - val_loss: 1217.8937\n",
            "Epoch 25/100\n",
            "\u001b[1m18/18\u001b[0m \u001b[32m━━━━━━━━━━━━━━━━━━━━\u001b[0m\u001b[37m\u001b[0m \u001b[1m0s\u001b[0m 6ms/step - loss: 209.4615 - val_loss: 1217.8547\n",
            "Epoch 26/100\n",
            "\u001b[1m18/18\u001b[0m \u001b[32m━━━━━━━━━━━━━━━━━━━━\u001b[0m\u001b[37m\u001b[0m \u001b[1m0s\u001b[0m 5ms/step - loss: 209.4756 - val_loss: 1217.0168\n",
            "Epoch 27/100\n",
            "\u001b[1m18/18\u001b[0m \u001b[32m━━━━━━━━━━━━━━━━━━━━\u001b[0m\u001b[37m\u001b[0m \u001b[1m0s\u001b[0m 5ms/step - loss: 209.4184 - val_loss: 1217.2423\n",
            "Epoch 28/100\n",
            "\u001b[1m18/18\u001b[0m \u001b[32m━━━━━━━━━━━━━━━━━━━━\u001b[0m\u001b[37m\u001b[0m \u001b[1m0s\u001b[0m 6ms/step - loss: 209.4069 - val_loss: 1214.7722\n",
            "Epoch 29/100\n",
            "\u001b[1m18/18\u001b[0m \u001b[32m━━━━━━━━━━━━━━━━━━━━\u001b[0m\u001b[37m\u001b[0m \u001b[1m0s\u001b[0m 6ms/step - loss: 209.2320 - val_loss: 1214.4308\n",
            "Epoch 30/100\n",
            "\u001b[1m18/18\u001b[0m \u001b[32m━━━━━━━━━━━━━━━━━━━━\u001b[0m\u001b[37m\u001b[0m \u001b[1m0s\u001b[0m 6ms/step - loss: 209.3383 - val_loss: 1216.0353\n",
            "Epoch 31/100\n",
            "\u001b[1m18/18\u001b[0m \u001b[32m━━━━━━━━━━━━━━━━━━━━\u001b[0m\u001b[37m\u001b[0m \u001b[1m0s\u001b[0m 6ms/step - loss: 209.4491 - val_loss: 1218.8309\n",
            "Epoch 32/100\n",
            "\u001b[1m18/18\u001b[0m \u001b[32m━━━━━━━━━━━━━━━━━━━━\u001b[0m\u001b[37m\u001b[0m \u001b[1m0s\u001b[0m 6ms/step - loss: 209.6143 - val_loss: 1217.7169\n",
            "Epoch 33/100\n",
            "\u001b[1m18/18\u001b[0m \u001b[32m━━━━━━━━━━━━━━━━━━━━\u001b[0m\u001b[37m\u001b[0m \u001b[1m0s\u001b[0m 6ms/step - loss: 209.3996 - val_loss: 1216.1993\n",
            "Epoch 34/100\n",
            "\u001b[1m18/18\u001b[0m \u001b[32m━━━━━━━━━━━━━━━━━━━━\u001b[0m\u001b[37m\u001b[0m \u001b[1m0s\u001b[0m 7ms/step - loss: 209.2746 - val_loss: 1213.9543\n",
            "Epoch 35/100\n",
            "\u001b[1m18/18\u001b[0m \u001b[32m━━━━━━━━━━━━━━━━━━━━\u001b[0m\u001b[37m\u001b[0m \u001b[1m0s\u001b[0m 6ms/step - loss: 209.2953 - val_loss: 1214.7610\n",
            "Epoch 36/100\n",
            "\u001b[1m18/18\u001b[0m \u001b[32m━━━━━━━━━━━━━━━━━━━━\u001b[0m\u001b[37m\u001b[0m \u001b[1m0s\u001b[0m 5ms/step - loss: 209.4434 - val_loss: 1218.1387\n",
            "Epoch 37/100\n",
            "\u001b[1m18/18\u001b[0m \u001b[32m━━━━━━━━━━━━━━━━━━━━\u001b[0m\u001b[37m\u001b[0m \u001b[1m0s\u001b[0m 5ms/step - loss: 209.4910 - val_loss: 1218.3062\n",
            "Epoch 38/100\n",
            "\u001b[1m18/18\u001b[0m \u001b[32m━━━━━━━━━━━━━━━━━━━━\u001b[0m\u001b[37m\u001b[0m \u001b[1m0s\u001b[0m 6ms/step - loss: 209.4534 - val_loss: 1218.0446\n",
            "Epoch 39/100\n",
            "\u001b[1m18/18\u001b[0m \u001b[32m━━━━━━━━━━━━━━━━━━━━\u001b[0m\u001b[37m\u001b[0m \u001b[1m0s\u001b[0m 6ms/step - loss: 209.4615 - val_loss: 1217.8977\n",
            "Epoch 40/100\n",
            "\u001b[1m18/18\u001b[0m \u001b[32m━━━━━━━━━━━━━━━━━━━━\u001b[0m\u001b[37m\u001b[0m \u001b[1m0s\u001b[0m 6ms/step - loss: 209.4761 - val_loss: 1217.3896\n",
            "Epoch 41/100\n",
            "\u001b[1m18/18\u001b[0m \u001b[32m━━━━━━━━━━━━━━━━━━━━\u001b[0m\u001b[37m\u001b[0m \u001b[1m0s\u001b[0m 6ms/step - loss: 209.4367 - val_loss: 1218.7762\n",
            "Epoch 42/100\n",
            "\u001b[1m18/18\u001b[0m \u001b[32m━━━━━━━━━━━━━━━━━━━━\u001b[0m\u001b[37m\u001b[0m \u001b[1m0s\u001b[0m 6ms/step - loss: 209.5188 - val_loss: 1217.9780\n",
            "Epoch 43/100\n",
            "\u001b[1m18/18\u001b[0m \u001b[32m━━━━━━━━━━━━━━━━━━━━\u001b[0m\u001b[37m\u001b[0m \u001b[1m0s\u001b[0m 6ms/step - loss: 209.4295 - val_loss: 1216.6023\n",
            "Epoch 44/100\n",
            "\u001b[1m18/18\u001b[0m \u001b[32m━━━━━━━━━━━━━━━━━━━━\u001b[0m\u001b[37m\u001b[0m \u001b[1m0s\u001b[0m 5ms/step - loss: 209.5222 - val_loss: 1217.5591\n",
            "Epoch 45/100\n",
            "\u001b[1m18/18\u001b[0m \u001b[32m━━━━━━━━━━━━━━━━━━━━\u001b[0m\u001b[37m\u001b[0m \u001b[1m0s\u001b[0m 6ms/step - loss: 209.4608 - val_loss: 1218.7365\n",
            "Epoch 46/100\n",
            "\u001b[1m18/18\u001b[0m \u001b[32m━━━━━━━━━━━━━━━━━━━━\u001b[0m\u001b[37m\u001b[0m \u001b[1m0s\u001b[0m 6ms/step - loss: 209.4164 - val_loss: 1216.6350\n",
            "Epoch 47/100\n",
            "\u001b[1m18/18\u001b[0m \u001b[32m━━━━━━━━━━━━━━━━━━━━\u001b[0m\u001b[37m\u001b[0m \u001b[1m0s\u001b[0m 6ms/step - loss: 209.4079 - val_loss: 1215.7096\n",
            "Epoch 48/100\n",
            "\u001b[1m18/18\u001b[0m \u001b[32m━━━━━━━━━━━━━━━━━━━━\u001b[0m\u001b[37m\u001b[0m \u001b[1m0s\u001b[0m 6ms/step - loss: 209.5295 - val_loss: 1219.2505\n",
            "Epoch 49/100\n",
            "\u001b[1m18/18\u001b[0m \u001b[32m━━━━━━━━━━━━━━━━━━━━\u001b[0m\u001b[37m\u001b[0m \u001b[1m0s\u001b[0m 5ms/step - loss: 209.5235 - val_loss: 1219.2253\n",
            "Epoch 50/100\n",
            "\u001b[1m18/18\u001b[0m \u001b[32m━━━━━━━━━━━━━━━━━━━━\u001b[0m\u001b[37m\u001b[0m \u001b[1m0s\u001b[0m 6ms/step - loss: 209.4682 - val_loss: 1218.2188\n",
            "Epoch 51/100\n",
            "\u001b[1m18/18\u001b[0m \u001b[32m━━━━━━━━━━━━━━━━━━━━\u001b[0m\u001b[37m\u001b[0m \u001b[1m0s\u001b[0m 6ms/step - loss: 209.4766 - val_loss: 1216.6868\n",
            "Epoch 52/100\n",
            "\u001b[1m18/18\u001b[0m \u001b[32m━━━━━━━━━━━━━━━━━━━━\u001b[0m\u001b[37m\u001b[0m \u001b[1m0s\u001b[0m 6ms/step - loss: 209.5573 - val_loss: 1219.8008\n",
            "Epoch 53/100\n",
            "\u001b[1m18/18\u001b[0m \u001b[32m━━━━━━━━━━━━━━━━━━━━\u001b[0m\u001b[37m\u001b[0m \u001b[1m0s\u001b[0m 6ms/step - loss: 209.5373 - val_loss: 1218.2158\n",
            "Epoch 54/100\n",
            "\u001b[1m18/18\u001b[0m \u001b[32m━━━━━━━━━━━━━━━━━━━━\u001b[0m\u001b[37m\u001b[0m \u001b[1m0s\u001b[0m 5ms/step - loss: 209.3480 - val_loss: 1216.2400\n",
            "Epoch 55/100\n",
            "\u001b[1m18/18\u001b[0m \u001b[32m━━━━━━━━━━━━━━━━━━━━\u001b[0m\u001b[37m\u001b[0m \u001b[1m0s\u001b[0m 6ms/step - loss: 209.5141 - val_loss: 1218.1095\n",
            "Epoch 56/100\n",
            "\u001b[1m18/18\u001b[0m \u001b[32m━━━━━━━━━━━━━━━━━━━━\u001b[0m\u001b[37m\u001b[0m \u001b[1m0s\u001b[0m 5ms/step - loss: 209.5885 - val_loss: 1220.5575\n",
            "Epoch 57/100\n",
            "\u001b[1m18/18\u001b[0m \u001b[32m━━━━━━━━━━━━━━━━━━━━\u001b[0m\u001b[37m\u001b[0m \u001b[1m0s\u001b[0m 5ms/step - loss: 209.5833 - val_loss: 1218.0238\n",
            "Epoch 58/100\n",
            "\u001b[1m18/18\u001b[0m \u001b[32m━━━━━━━━━━━━━━━━━━━━\u001b[0m\u001b[37m\u001b[0m \u001b[1m0s\u001b[0m 5ms/step - loss: 209.3687 - val_loss: 1217.8483\n",
            "Epoch 59/100\n",
            "\u001b[1m18/18\u001b[0m \u001b[32m━━━━━━━━━━━━━━━━━━━━\u001b[0m\u001b[37m\u001b[0m \u001b[1m0s\u001b[0m 6ms/step - loss: 209.4299 - val_loss: 1215.3860\n",
            "Epoch 60/100\n",
            "\u001b[1m18/18\u001b[0m \u001b[32m━━━━━━━━━━━━━━━━━━━━\u001b[0m\u001b[37m\u001b[0m \u001b[1m0s\u001b[0m 6ms/step - loss: 209.4866 - val_loss: 1220.5474\n",
            "Epoch 61/100\n",
            "\u001b[1m18/18\u001b[0m \u001b[32m━━━━━━━━━━━━━━━━━━━━\u001b[0m\u001b[37m\u001b[0m \u001b[1m0s\u001b[0m 6ms/step - loss: 209.6213 - val_loss: 1220.5056\n",
            "Epoch 62/100\n",
            "\u001b[1m18/18\u001b[0m \u001b[32m━━━━━━━━━━━━━━━━━━━━\u001b[0m\u001b[37m\u001b[0m \u001b[1m0s\u001b[0m 6ms/step - loss: 209.5581 - val_loss: 1218.4335\n",
            "Epoch 63/100\n",
            "\u001b[1m18/18\u001b[0m \u001b[32m━━━━━━━━━━━━━━━━━━━━\u001b[0m\u001b[37m\u001b[0m \u001b[1m0s\u001b[0m 6ms/step - loss: 209.4366 - val_loss: 1218.6598\n",
            "Epoch 64/100\n",
            "\u001b[1m18/18\u001b[0m \u001b[32m━━━━━━━━━━━━━━━━━━━━\u001b[0m\u001b[37m\u001b[0m \u001b[1m0s\u001b[0m 6ms/step - loss: 209.5082 - val_loss: 1218.0962\n",
            "Epoch 65/100\n",
            "\u001b[1m18/18\u001b[0m \u001b[32m━━━━━━━━━━━━━━━━━━━━\u001b[0m\u001b[37m\u001b[0m \u001b[1m0s\u001b[0m 6ms/step - loss: 209.5397 - val_loss: 1220.0298\n",
            "Epoch 66/100\n",
            "\u001b[1m18/18\u001b[0m \u001b[32m━━━━━━━━━━━━━━━━━━━━\u001b[0m\u001b[37m\u001b[0m \u001b[1m0s\u001b[0m 5ms/step - loss: 209.5366 - val_loss: 1219.5568\n",
            "Epoch 67/100\n",
            "\u001b[1m18/18\u001b[0m \u001b[32m━━━━━━━━━━━━━━━━━━━━\u001b[0m\u001b[37m\u001b[0m \u001b[1m0s\u001b[0m 6ms/step - loss: 209.4760 - val_loss: 1218.4921\n",
            "Epoch 68/100\n",
            "\u001b[1m18/18\u001b[0m \u001b[32m━━━━━━━━━━━━━━━━━━━━\u001b[0m\u001b[37m\u001b[0m \u001b[1m0s\u001b[0m 6ms/step - loss: 209.4735 - val_loss: 1216.0063\n",
            "Epoch 69/100\n",
            "\u001b[1m18/18\u001b[0m \u001b[32m━━━━━━━━━━━━━━━━━━━━\u001b[0m\u001b[37m\u001b[0m \u001b[1m0s\u001b[0m 6ms/step - loss: 209.4284 - val_loss: 1217.5363\n",
            "Epoch 70/100\n",
            "\u001b[1m18/18\u001b[0m \u001b[32m━━━━━━━━━━━━━━━━━━━━\u001b[0m\u001b[37m\u001b[0m \u001b[1m0s\u001b[0m 6ms/step - loss: 209.3946 - val_loss: 1215.7594\n",
            "Epoch 71/100\n",
            "\u001b[1m18/18\u001b[0m \u001b[32m━━━━━━━━━━━━━━━━━━━━\u001b[0m\u001b[37m\u001b[0m \u001b[1m0s\u001b[0m 6ms/step - loss: 209.3910 - val_loss: 1217.1414\n",
            "Epoch 72/100\n",
            "\u001b[1m18/18\u001b[0m \u001b[32m━━━━━━━━━━━━━━━━━━━━\u001b[0m\u001b[37m\u001b[0m \u001b[1m0s\u001b[0m 6ms/step - loss: 209.4671 - val_loss: 1218.6133\n",
            "Epoch 73/100\n",
            "\u001b[1m18/18\u001b[0m \u001b[32m━━━━━━━━━━━━━━━━━━━━\u001b[0m\u001b[37m\u001b[0m \u001b[1m0s\u001b[0m 6ms/step - loss: 209.6139 - val_loss: 1224.1963\n",
            "Epoch 74/100\n",
            "\u001b[1m18/18\u001b[0m \u001b[32m━━━━━━━━━━━━━━━━━━━━\u001b[0m\u001b[37m\u001b[0m \u001b[1m0s\u001b[0m 6ms/step - loss: 209.8264 - val_loss: 1221.4967\n",
            "Epoch 75/100\n",
            "\u001b[1m18/18\u001b[0m \u001b[32m━━━━━━━━━━━━━━━━━━━━\u001b[0m\u001b[37m\u001b[0m \u001b[1m0s\u001b[0m 6ms/step - loss: 209.6480 - val_loss: 1221.4514\n",
            "Epoch 76/100\n",
            "\u001b[1m18/18\u001b[0m \u001b[32m━━━━━━━━━━━━━━━━━━━━\u001b[0m\u001b[37m\u001b[0m \u001b[1m0s\u001b[0m 6ms/step - loss: 209.5798 - val_loss: 1221.4247\n",
            "Epoch 77/100\n",
            "\u001b[1m18/18\u001b[0m \u001b[32m━━━━━━━━━━━━━━━━━━━━\u001b[0m\u001b[37m\u001b[0m \u001b[1m0s\u001b[0m 6ms/step - loss: 209.6744 - val_loss: 1223.2479\n",
            "Epoch 78/100\n",
            "\u001b[1m18/18\u001b[0m \u001b[32m━━━━━━━━━━━━━━━━━━━━\u001b[0m\u001b[37m\u001b[0m \u001b[1m0s\u001b[0m 6ms/step - loss: 209.7432 - val_loss: 1223.4684\n",
            "Epoch 79/100\n",
            "\u001b[1m18/18\u001b[0m \u001b[32m━━━━━━━━━━━━━━━━━━━━\u001b[0m\u001b[37m\u001b[0m \u001b[1m0s\u001b[0m 6ms/step - loss: 209.7035 - val_loss: 1222.5366\n",
            "Epoch 80/100\n",
            "\u001b[1m18/18\u001b[0m \u001b[32m━━━━━━━━━━━━━━━━━━━━\u001b[0m\u001b[37m\u001b[0m \u001b[1m0s\u001b[0m 6ms/step - loss: 209.6399 - val_loss: 1221.8834\n",
            "Epoch 81/100\n",
            "\u001b[1m18/18\u001b[0m \u001b[32m━━━━━━━━━━━━━━━━━━━━\u001b[0m\u001b[37m\u001b[0m \u001b[1m0s\u001b[0m 6ms/step - loss: 209.5023 - val_loss: 1218.4326\n",
            "Epoch 82/100\n",
            "\u001b[1m18/18\u001b[0m \u001b[32m━━━━━━━━━━━━━━━━━━━━\u001b[0m\u001b[37m\u001b[0m \u001b[1m0s\u001b[0m 6ms/step - loss: 209.2766 - val_loss: 1216.4480\n",
            "Epoch 83/100\n",
            "\u001b[1m18/18\u001b[0m \u001b[32m━━━━━━━━━━━━━━━━━━━━\u001b[0m\u001b[37m\u001b[0m \u001b[1m0s\u001b[0m 6ms/step - loss: 209.4707 - val_loss: 1224.3351\n",
            "Epoch 84/100\n",
            "\u001b[1m18/18\u001b[0m \u001b[32m━━━━━━━━━━━━━━━━━━━━\u001b[0m\u001b[37m\u001b[0m \u001b[1m0s\u001b[0m 6ms/step - loss: 209.9196 - val_loss: 1228.9545\n",
            "Epoch 85/100\n",
            "\u001b[1m18/18\u001b[0m \u001b[32m━━━━━━━━━━━━━━━━━━━━\u001b[0m\u001b[37m\u001b[0m \u001b[1m0s\u001b[0m 6ms/step - loss: 209.9333 - val_loss: 1224.6055\n",
            "Epoch 86/100\n",
            "\u001b[1m18/18\u001b[0m \u001b[32m━━━━━━━━━━━━━━━━━━━━\u001b[0m\u001b[37m\u001b[0m \u001b[1m0s\u001b[0m 6ms/step - loss: 209.6488 - val_loss: 1221.2732\n",
            "Epoch 87/100\n",
            "\u001b[1m18/18\u001b[0m \u001b[32m━━━━━━━━━━━━━━━━━━━━\u001b[0m\u001b[37m\u001b[0m \u001b[1m0s\u001b[0m 6ms/step - loss: 209.4748 - val_loss: 1220.4546\n",
            "Epoch 88/100\n",
            "\u001b[1m18/18\u001b[0m \u001b[32m━━━━━━━━━━━━━━━━━━━━\u001b[0m\u001b[37m\u001b[0m \u001b[1m0s\u001b[0m 6ms/step - loss: 209.5500 - val_loss: 1221.5720\n",
            "Epoch 89/100\n",
            "\u001b[1m18/18\u001b[0m \u001b[32m━━━━━━━━━━━━━━━━━━━━\u001b[0m\u001b[37m\u001b[0m \u001b[1m0s\u001b[0m 6ms/step - loss: 209.5096 - val_loss: 1221.9487\n",
            "Epoch 90/100\n",
            "\u001b[1m18/18\u001b[0m \u001b[32m━━━━━━━━━━━━━━━━━━━━\u001b[0m\u001b[37m\u001b[0m \u001b[1m0s\u001b[0m 6ms/step - loss: 209.5373 - val_loss: 1221.8488\n",
            "Epoch 91/100\n",
            "\u001b[1m18/18\u001b[0m \u001b[32m━━━━━━━━━━━━━━━━━━━━\u001b[0m\u001b[37m\u001b[0m \u001b[1m0s\u001b[0m 6ms/step - loss: 209.5903 - val_loss: 1221.8768\n",
            "Epoch 92/100\n",
            "\u001b[1m18/18\u001b[0m \u001b[32m━━━━━━━━━━━━━━━━━━━━\u001b[0m\u001b[37m\u001b[0m \u001b[1m0s\u001b[0m 6ms/step - loss: 209.5802 - val_loss: 1223.2242\n",
            "Epoch 93/100\n",
            "\u001b[1m18/18\u001b[0m \u001b[32m━━━━━━━━━━━━━━━━━━━━\u001b[0m\u001b[37m\u001b[0m \u001b[1m0s\u001b[0m 6ms/step - loss: 209.6596 - val_loss: 1224.4733\n",
            "Epoch 94/100\n",
            "\u001b[1m18/18\u001b[0m \u001b[32m━━━━━━━━━━━━━━━━━━━━\u001b[0m\u001b[37m\u001b[0m \u001b[1m0s\u001b[0m 6ms/step - loss: 209.6283 - val_loss: 1219.9840\n",
            "Epoch 95/100\n",
            "\u001b[1m18/18\u001b[0m \u001b[32m━━━━━━━━━━━━━━━━━━━━\u001b[0m\u001b[37m\u001b[0m \u001b[1m0s\u001b[0m 6ms/step - loss: 209.3583 - val_loss: 1219.2169\n",
            "Epoch 96/100\n",
            "\u001b[1m18/18\u001b[0m \u001b[32m━━━━━━━━━━━━━━━━━━━━\u001b[0m\u001b[37m\u001b[0m \u001b[1m0s\u001b[0m 6ms/step - loss: 209.3856 - val_loss: 1221.7192\n",
            "Epoch 97/100\n",
            "\u001b[1m18/18\u001b[0m \u001b[32m━━━━━━━━━━━━━━━━━━━━\u001b[0m\u001b[37m\u001b[0m \u001b[1m0s\u001b[0m 6ms/step - loss: 209.5645 - val_loss: 1225.2214\n",
            "Epoch 98/100\n",
            "\u001b[1m18/18\u001b[0m \u001b[32m━━━━━━━━━━━━━━━━━━━━\u001b[0m\u001b[37m\u001b[0m \u001b[1m0s\u001b[0m 6ms/step - loss: 209.6535 - val_loss: 1223.6506\n",
            "Epoch 99/100\n",
            "\u001b[1m18/18\u001b[0m \u001b[32m━━━━━━━━━━━━━━━━━━━━\u001b[0m\u001b[37m\u001b[0m \u001b[1m0s\u001b[0m 5ms/step - loss: 209.6442 - val_loss: 1225.1375\n",
            "Epoch 100/100\n",
            "\u001b[1m18/18\u001b[0m \u001b[32m━━━━━━━━━━━━━━━━━━━━\u001b[0m\u001b[37m\u001b[0m \u001b[1m0s\u001b[0m 6ms/step - loss: 209.6040 - val_loss: 1220.1298\n"
          ]
        },
        {
          "output_type": "execute_result",
          "data": {
            "text/plain": [
              "<keras.src.callbacks.history.History at 0x78777252df50>"
            ]
          },
          "metadata": {},
          "execution_count": 57
        }
      ],
      "execution_count": 57
    },
    {
      "metadata": {
        "ExecuteTime": {
          "end_time": "2025-07-22T09:02:55.120666Z",
          "start_time": "2025-07-22T09:02:55.103217Z"
        },
        "id": "500001b967f6ae54",
        "outputId": "a79a62a0-4eb3-457e-bd01-bdd0cde2c079",
        "colab": {
          "base_uri": "https://localhost:8080/",
          "height": 250
        }
      },
      "cell_type": "code",
      "source": [
        "model_4.summary()"
      ],
      "id": "500001b967f6ae54",
      "outputs": [
        {
          "output_type": "display_data",
          "data": {
            "text/plain": [
              "\u001b[1mModel: \"model_4_conv1D\"\u001b[0m\n"
            ],
            "text/html": [
              "<pre style=\"white-space:pre;overflow-x:auto;line-height:normal;font-family:Menlo,'DejaVu Sans Mono',consolas,'Courier New',monospace\"><span style=\"font-weight: bold\">Model: \"model_4_conv1D\"</span>\n",
              "</pre>\n"
            ]
          },
          "metadata": {}
        },
        {
          "output_type": "display_data",
          "data": {
            "text/plain": [
              "┏━━━━━━━━━━━━━━━━━━━━━━━━━━━━━━━━━┳━━━━━━━━━━━━━━━━━━━━━━━━┳━━━━━━━━━━━━━━━┓\n",
              "┃\u001b[1m \u001b[0m\u001b[1mLayer (type)                   \u001b[0m\u001b[1m \u001b[0m┃\u001b[1m \u001b[0m\u001b[1mOutput Shape          \u001b[0m\u001b[1m \u001b[0m┃\u001b[1m \u001b[0m\u001b[1m      Param #\u001b[0m\u001b[1m \u001b[0m┃\n",
              "┡━━━━━━━━━━━━━━━━━━━━━━━━━━━━━━━━━╇━━━━━━━━━━━━━━━━━━━━━━━━╇━━━━━━━━━━━━━━━┩\n",
              "│ lambda_1 (\u001b[38;5;33mLambda\u001b[0m)               │ (\u001b[38;5;45mNone\u001b[0m, \u001b[38;5;34m7\u001b[0m, \u001b[38;5;34m1\u001b[0m)           │             \u001b[38;5;34m0\u001b[0m │\n",
              "├─────────────────────────────────┼────────────────────────┼───────────────┤\n",
              "│ conv1d (\u001b[38;5;33mConv1D\u001b[0m)                 │ (\u001b[38;5;45mNone\u001b[0m, \u001b[38;5;34m7\u001b[0m, \u001b[38;5;34m128\u001b[0m)         │           \u001b[38;5;34m768\u001b[0m │\n",
              "├─────────────────────────────────┼────────────────────────┼───────────────┤\n",
              "│ dense_4 (\u001b[38;5;33mDense\u001b[0m)                 │ (\u001b[38;5;45mNone\u001b[0m, \u001b[38;5;34m7\u001b[0m, \u001b[38;5;34m1\u001b[0m)           │           \u001b[38;5;34m129\u001b[0m │\n",
              "└─────────────────────────────────┴────────────────────────┴───────────────┘\n"
            ],
            "text/html": [
              "<pre style=\"white-space:pre;overflow-x:auto;line-height:normal;font-family:Menlo,'DejaVu Sans Mono',consolas,'Courier New',monospace\">┏━━━━━━━━━━━━━━━━━━━━━━━━━━━━━━━━━┳━━━━━━━━━━━━━━━━━━━━━━━━┳━━━━━━━━━━━━━━━┓\n",
              "┃<span style=\"font-weight: bold\"> Layer (type)                    </span>┃<span style=\"font-weight: bold\"> Output Shape           </span>┃<span style=\"font-weight: bold\">       Param # </span>┃\n",
              "┡━━━━━━━━━━━━━━━━━━━━━━━━━━━━━━━━━╇━━━━━━━━━━━━━━━━━━━━━━━━╇━━━━━━━━━━━━━━━┩\n",
              "│ lambda_1 (<span style=\"color: #0087ff; text-decoration-color: #0087ff\">Lambda</span>)               │ (<span style=\"color: #00d7ff; text-decoration-color: #00d7ff\">None</span>, <span style=\"color: #00af00; text-decoration-color: #00af00\">7</span>, <span style=\"color: #00af00; text-decoration-color: #00af00\">1</span>)           │             <span style=\"color: #00af00; text-decoration-color: #00af00\">0</span> │\n",
              "├─────────────────────────────────┼────────────────────────┼───────────────┤\n",
              "│ conv1d (<span style=\"color: #0087ff; text-decoration-color: #0087ff\">Conv1D</span>)                 │ (<span style=\"color: #00d7ff; text-decoration-color: #00d7ff\">None</span>, <span style=\"color: #00af00; text-decoration-color: #00af00\">7</span>, <span style=\"color: #00af00; text-decoration-color: #00af00\">128</span>)         │           <span style=\"color: #00af00; text-decoration-color: #00af00\">768</span> │\n",
              "├─────────────────────────────────┼────────────────────────┼───────────────┤\n",
              "│ dense_4 (<span style=\"color: #0087ff; text-decoration-color: #0087ff\">Dense</span>)                 │ (<span style=\"color: #00d7ff; text-decoration-color: #00d7ff\">None</span>, <span style=\"color: #00af00; text-decoration-color: #00af00\">7</span>, <span style=\"color: #00af00; text-decoration-color: #00af00\">1</span>)           │           <span style=\"color: #00af00; text-decoration-color: #00af00\">129</span> │\n",
              "└─────────────────────────────────┴────────────────────────┴───────────────┘\n",
              "</pre>\n"
            ]
          },
          "metadata": {}
        },
        {
          "output_type": "display_data",
          "data": {
            "text/plain": [
              "\u001b[1m Total params: \u001b[0m\u001b[38;5;34m2,693\u001b[0m (10.52 KB)\n"
            ],
            "text/html": [
              "<pre style=\"white-space:pre;overflow-x:auto;line-height:normal;font-family:Menlo,'DejaVu Sans Mono',consolas,'Courier New',monospace\"><span style=\"font-weight: bold\"> Total params: </span><span style=\"color: #00af00; text-decoration-color: #00af00\">2,693</span> (10.52 KB)\n",
              "</pre>\n"
            ]
          },
          "metadata": {}
        },
        {
          "output_type": "display_data",
          "data": {
            "text/plain": [
              "\u001b[1m Trainable params: \u001b[0m\u001b[38;5;34m897\u001b[0m (3.50 KB)\n"
            ],
            "text/html": [
              "<pre style=\"white-space:pre;overflow-x:auto;line-height:normal;font-family:Menlo,'DejaVu Sans Mono',consolas,'Courier New',monospace\"><span style=\"font-weight: bold\"> Trainable params: </span><span style=\"color: #00af00; text-decoration-color: #00af00\">897</span> (3.50 KB)\n",
              "</pre>\n"
            ]
          },
          "metadata": {}
        },
        {
          "output_type": "display_data",
          "data": {
            "text/plain": [
              "\u001b[1m Non-trainable params: \u001b[0m\u001b[38;5;34m0\u001b[0m (0.00 B)\n"
            ],
            "text/html": [
              "<pre style=\"white-space:pre;overflow-x:auto;line-height:normal;font-family:Menlo,'DejaVu Sans Mono',consolas,'Courier New',monospace\"><span style=\"font-weight: bold\"> Non-trainable params: </span><span style=\"color: #00af00; text-decoration-color: #00af00\">0</span> (0.00 B)\n",
              "</pre>\n"
            ]
          },
          "metadata": {}
        },
        {
          "output_type": "display_data",
          "data": {
            "text/plain": [
              "\u001b[1m Optimizer params: \u001b[0m\u001b[38;5;34m1,796\u001b[0m (7.02 KB)\n"
            ],
            "text/html": [
              "<pre style=\"white-space:pre;overflow-x:auto;line-height:normal;font-family:Menlo,'DejaVu Sans Mono',consolas,'Courier New',monospace\"><span style=\"font-weight: bold\"> Optimizer params: </span><span style=\"color: #00af00; text-decoration-color: #00af00\">1,796</span> (7.02 KB)\n",
              "</pre>\n"
            ]
          },
          "metadata": {}
        }
      ],
      "execution_count": 58
    },
    {
      "metadata": {
        "ExecuteTime": {
          "end_time": "2025-07-22T09:02:55.349322Z",
          "start_time": "2025-07-22T09:02:55.232598Z"
        },
        "id": "280f9c045fec6f16",
        "outputId": "68ba92fa-dec7-4464-c0b3-422aac8508e1",
        "colab": {
          "base_uri": "https://localhost:8080/"
        }
      },
      "cell_type": "code",
      "source": [
        "model_4.evaluate(test_windows, test_labels)"
      ],
      "id": "280f9c045fec6f16",
      "outputs": [
        {
          "output_type": "stream",
          "name": "stdout",
          "text": [
            "\u001b[1m18/18\u001b[0m \u001b[32m━━━━━━━━━━━━━━━━━━━━\u001b[0m\u001b[37m\u001b[0m \u001b[1m0s\u001b[0m 12ms/step - loss: 597.3721\n"
          ]
        },
        {
          "output_type": "execute_result",
          "data": {
            "text/plain": [
              "1220.129638671875"
            ]
          },
          "metadata": {},
          "execution_count": 59
        }
      ],
      "execution_count": 59
    },
    {
      "metadata": {
        "ExecuteTime": {
          "end_time": "2025-07-22T09:02:55.430613Z",
          "start_time": "2025-07-22T09:02:55.426910Z"
        },
        "id": "a3b2c94885baf693"
      },
      "cell_type": "code",
      "source": [
        "# RNN LSTM"
      ],
      "id": "a3b2c94885baf693",
      "outputs": [],
      "execution_count": 60
    },
    {
      "metadata": {
        "ExecuteTime": {
          "end_time": "2025-07-22T09:02:55.533453Z",
          "start_time": "2025-07-22T09:02:55.487222Z"
        },
        "id": "b4643830f76a863"
      },
      "cell_type": "code",
      "source": [
        "inputs = layers.Input(shape=(WINDOW_SIZE,))\n",
        "x = layers.Lambda(lambda x: tf.expand_dims(x, axis=1))(inputs)\n",
        "#x = layers.LSTM(128, return_sequences=True)(x)\n",
        "x = layers.LSTM(128, activation='relu')(x)\n",
        "#x = layers.Dense(32, activation=\"relu\")(x)\n",
        "output = layers.Dense(HORIZON)(x)\n",
        "model_5 = tf.keras.Model(inputs=inputs, outputs=output, name = \"model_5_LSTM\")"
      ],
      "id": "b4643830f76a863",
      "outputs": [],
      "execution_count": 61
    },
    {
      "metadata": {
        "ExecuteTime": {
          "end_time": "2025-07-22T09:02:55.570255Z",
          "start_time": "2025-07-22T09:02:55.562952Z"
        },
        "id": "1d300259f18afe5b"
      },
      "cell_type": "code",
      "source": [
        "model_5.compile(loss=\"mae\", optimizer=tf.keras.optimizers.Adam())"
      ],
      "id": "1d300259f18afe5b",
      "outputs": [],
      "execution_count": 62
    },
    {
      "metadata": {
        "ExecuteTime": {
          "end_time": "2025-07-22T09:03:38.653937Z",
          "start_time": "2025-07-22T09:02:55.608353Z"
        },
        "id": "b142e8ade026f973",
        "outputId": "41a2d547-fcc3-4fea-ad54-b6fb282f6ea0",
        "colab": {
          "base_uri": "https://localhost:8080/"
        }
      },
      "cell_type": "code",
      "source": [
        "model_5.fit(x=train_windows,\n",
        "            y=train_labels,\n",
        "            epochs=200,\n",
        "            verbose=1,\n",
        "            batch_size=128,\n",
        "            validation_data=(test_windows, test_labels),\n",
        "            callbacks=[create_model_checkpoint(model_name = model_5.name)])"
      ],
      "id": "b142e8ade026f973",
      "outputs": [
        {
          "output_type": "stream",
          "name": "stdout",
          "text": [
            "Epoch 1/200\n",
            "\u001b[1m18/18\u001b[0m \u001b[32m━━━━━━━━━━━━━━━━━━━━\u001b[0m\u001b[37m\u001b[0m \u001b[1m10s\u001b[0m 279ms/step - loss: 2525.4521 - val_loss: 10071.6543\n",
            "Epoch 2/200\n",
            "\u001b[1m18/18\u001b[0m \u001b[32m━━━━━━━━━━━━━━━━━━━━\u001b[0m\u001b[37m\u001b[0m \u001b[1m0s\u001b[0m 7ms/step - loss: 1259.0734 - val_loss: 1402.1224\n",
            "Epoch 3/200\n",
            "\u001b[1m18/18\u001b[0m \u001b[32m━━━━━━━━━━━━━━━━━━━━\u001b[0m\u001b[37m\u001b[0m \u001b[1m0s\u001b[0m 7ms/step - loss: 252.3642 - val_loss: 1089.8218\n",
            "Epoch 4/200\n",
            "\u001b[1m18/18\u001b[0m \u001b[32m━━━━━━━━━━━━━━━━━━━━\u001b[0m\u001b[37m\u001b[0m \u001b[1m0s\u001b[0m 7ms/step - loss: 196.8942 - val_loss: 1064.9159\n",
            "Epoch 5/200\n",
            "\u001b[1m18/18\u001b[0m \u001b[32m━━━━━━━━━━━━━━━━━━━━\u001b[0m\u001b[37m\u001b[0m \u001b[1m0s\u001b[0m 6ms/step - loss: 188.3772 - val_loss: 1109.4471\n",
            "Epoch 6/200\n",
            "\u001b[1m18/18\u001b[0m \u001b[32m━━━━━━━━━━━━━━━━━━━━\u001b[0m\u001b[37m\u001b[0m \u001b[1m0s\u001b[0m 6ms/step - loss: 184.4979 - val_loss: 1113.0073\n",
            "Epoch 7/200\n",
            "\u001b[1m18/18\u001b[0m \u001b[32m━━━━━━━━━━━━━━━━━━━━\u001b[0m\u001b[37m\u001b[0m \u001b[1m0s\u001b[0m 6ms/step - loss: 183.8347 - val_loss: 1092.3573\n",
            "Epoch 8/200\n",
            "\u001b[1m18/18\u001b[0m \u001b[32m━━━━━━━━━━━━━━━━━━━━\u001b[0m\u001b[37m\u001b[0m \u001b[1m0s\u001b[0m 6ms/step - loss: 182.1191 - val_loss: 1087.8716\n",
            "Epoch 9/200\n",
            "\u001b[1m18/18\u001b[0m \u001b[32m━━━━━━━━━━━━━━━━━━━━\u001b[0m\u001b[37m\u001b[0m \u001b[1m0s\u001b[0m 6ms/step - loss: 181.0852 - val_loss: 1083.0344\n",
            "Epoch 10/200\n",
            "\u001b[1m18/18\u001b[0m \u001b[32m━━━━━━━━━━━━━━━━━━━━\u001b[0m\u001b[37m\u001b[0m \u001b[1m0s\u001b[0m 6ms/step - loss: 179.9666 - val_loss: 1080.2208\n",
            "Epoch 11/200\n",
            "\u001b[1m18/18\u001b[0m \u001b[32m━━━━━━━━━━━━━━━━━━━━\u001b[0m\u001b[37m\u001b[0m \u001b[1m0s\u001b[0m 6ms/step - loss: 178.8915 - val_loss: 1067.6896\n",
            "Epoch 12/200\n",
            "\u001b[1m18/18\u001b[0m \u001b[32m━━━━━━━━━━━━━━━━━━━━\u001b[0m\u001b[37m\u001b[0m \u001b[1m0s\u001b[0m 7ms/step - loss: 177.4057 - val_loss: 1061.4257\n",
            "Epoch 13/200\n",
            "\u001b[1m18/18\u001b[0m \u001b[32m━━━━━━━━━━━━━━━━━━━━\u001b[0m\u001b[37m\u001b[0m \u001b[1m0s\u001b[0m 7ms/step - loss: 176.1508 - val_loss: 1047.2842\n",
            "Epoch 14/200\n",
            "\u001b[1m18/18\u001b[0m \u001b[32m━━━━━━━━━━━━━━━━━━━━\u001b[0m\u001b[37m\u001b[0m \u001b[1m0s\u001b[0m 7ms/step - loss: 174.5986 - val_loss: 1038.5710\n",
            "Epoch 15/200\n",
            "\u001b[1m18/18\u001b[0m \u001b[32m━━━━━━━━━━━━━━━━━━━━\u001b[0m\u001b[37m\u001b[0m \u001b[1m0s\u001b[0m 7ms/step - loss: 173.1609 - val_loss: 1028.1824\n",
            "Epoch 16/200\n",
            "\u001b[1m18/18\u001b[0m \u001b[32m━━━━━━━━━━━━━━━━━━━━\u001b[0m\u001b[37m\u001b[0m \u001b[1m0s\u001b[0m 7ms/step - loss: 171.7099 - val_loss: 1017.9344\n",
            "Epoch 17/200\n",
            "\u001b[1m18/18\u001b[0m \u001b[32m━━━━━━━━━━━━━━━━━━━━\u001b[0m\u001b[37m\u001b[0m \u001b[1m0s\u001b[0m 7ms/step - loss: 170.2158 - val_loss: 1009.2023\n",
            "Epoch 18/200\n",
            "\u001b[1m18/18\u001b[0m \u001b[32m━━━━━━━━━━━━━━━━━━━━\u001b[0m\u001b[37m\u001b[0m \u001b[1m0s\u001b[0m 7ms/step - loss: 168.7097 - val_loss: 1001.5642\n",
            "Epoch 19/200\n",
            "\u001b[1m18/18\u001b[0m \u001b[32m━━━━━━━━━━━━━━━━━━━━\u001b[0m\u001b[37m\u001b[0m \u001b[1m0s\u001b[0m 7ms/step - loss: 167.1908 - val_loss: 992.1338\n",
            "Epoch 20/200\n",
            "\u001b[1m18/18\u001b[0m \u001b[32m━━━━━━━━━━━━━━━━━━━━\u001b[0m\u001b[37m\u001b[0m \u001b[1m0s\u001b[0m 7ms/step - loss: 165.7516 - val_loss: 978.6641\n",
            "Epoch 21/200\n",
            "\u001b[1m18/18\u001b[0m \u001b[32m━━━━━━━━━━━━━━━━━━━━\u001b[0m\u001b[37m\u001b[0m \u001b[1m0s\u001b[0m 7ms/step - loss: 165.1950 - val_loss: 945.7493\n",
            "Epoch 22/200\n",
            "\u001b[1m18/18\u001b[0m \u001b[32m━━━━━━━━━━━━━━━━━━━━\u001b[0m\u001b[37m\u001b[0m \u001b[1m0s\u001b[0m 5ms/step - loss: 161.9507 - val_loss: 948.3727\n",
            "Epoch 23/200\n",
            "\u001b[1m18/18\u001b[0m \u001b[32m━━━━━━━━━━━━━━━━━━━━\u001b[0m\u001b[37m\u001b[0m \u001b[1m0s\u001b[0m 7ms/step - loss: 160.6526 - val_loss: 938.6652\n",
            "Epoch 24/200\n",
            "\u001b[1m18/18\u001b[0m \u001b[32m━━━━━━━━━━━━━━━━━━━━\u001b[0m\u001b[37m\u001b[0m \u001b[1m0s\u001b[0m 7ms/step - loss: 159.1307 - val_loss: 927.4954\n",
            "Epoch 25/200\n",
            "\u001b[1m18/18\u001b[0m \u001b[32m━━━━━━━━━━━━━━━━━━━━\u001b[0m\u001b[37m\u001b[0m \u001b[1m0s\u001b[0m 7ms/step - loss: 157.5452 - val_loss: 914.4387\n",
            "Epoch 26/200\n",
            "\u001b[1m18/18\u001b[0m \u001b[32m━━━━━━━━━━━━━━━━━━━━\u001b[0m\u001b[37m\u001b[0m \u001b[1m0s\u001b[0m 7ms/step - loss: 155.8278 - val_loss: 904.5650\n",
            "Epoch 27/200\n",
            "\u001b[1m18/18\u001b[0m \u001b[32m━━━━━━━━━━━━━━━━━━━━\u001b[0m\u001b[37m\u001b[0m \u001b[1m0s\u001b[0m 7ms/step - loss: 154.1018 - val_loss: 894.5498\n",
            "Epoch 28/200\n",
            "\u001b[1m18/18\u001b[0m \u001b[32m━━━━━━━━━━━━━━━━━━━━\u001b[0m\u001b[37m\u001b[0m \u001b[1m0s\u001b[0m 7ms/step - loss: 152.5541 - val_loss: 885.8856\n",
            "Epoch 29/200\n",
            "\u001b[1m18/18\u001b[0m \u001b[32m━━━━━━━━━━━━━━━━━━━━\u001b[0m\u001b[37m\u001b[0m \u001b[1m0s\u001b[0m 7ms/step - loss: 150.9794 - val_loss: 877.8829\n",
            "Epoch 30/200\n",
            "\u001b[1m18/18\u001b[0m \u001b[32m━━━━━━━━━━━━━━━━━━━━\u001b[0m\u001b[37m\u001b[0m \u001b[1m0s\u001b[0m 7ms/step - loss: 149.4673 - val_loss: 866.9213\n",
            "Epoch 31/200\n",
            "\u001b[1m18/18\u001b[0m \u001b[32m━━━━━━━━━━━━━━━━━━━━\u001b[0m\u001b[37m\u001b[0m \u001b[1m0s\u001b[0m 7ms/step - loss: 148.0444 - val_loss: 848.8232\n",
            "Epoch 32/200\n",
            "\u001b[1m18/18\u001b[0m \u001b[32m━━━━━━━━━━━━━━━━━━━━\u001b[0m\u001b[37m\u001b[0m \u001b[1m0s\u001b[0m 5ms/step - loss: 146.1433 - val_loss: 849.0341\n",
            "Epoch 33/200\n",
            "\u001b[1m18/18\u001b[0m \u001b[32m━━━━━━━━━━━━━━━━━━━━\u001b[0m\u001b[37m\u001b[0m \u001b[1m0s\u001b[0m 7ms/step - loss: 145.0739 - val_loss: 830.9581\n",
            "Epoch 34/200\n",
            "\u001b[1m18/18\u001b[0m \u001b[32m━━━━━━━━━━━━━━━━━━━━\u001b[0m\u001b[37m\u001b[0m \u001b[1m0s\u001b[0m 7ms/step - loss: 143.2085 - val_loss: 826.3074\n",
            "Epoch 35/200\n",
            "\u001b[1m18/18\u001b[0m \u001b[32m━━━━━━━━━━━━━━━━━━━━\u001b[0m\u001b[37m\u001b[0m \u001b[1m0s\u001b[0m 8ms/step - loss: 142.0740 - val_loss: 803.2852\n",
            "Epoch 36/200\n",
            "\u001b[1m18/18\u001b[0m \u001b[32m━━━━━━━━━━━━━━━━━━━━\u001b[0m\u001b[37m\u001b[0m \u001b[1m0s\u001b[0m 7ms/step - loss: 139.9806 - val_loss: 798.6024\n",
            "Epoch 37/200\n",
            "\u001b[1m18/18\u001b[0m \u001b[32m━━━━━━━━━━━━━━━━━━━━\u001b[0m\u001b[37m\u001b[0m \u001b[1m0s\u001b[0m 7ms/step - loss: 138.8326 - val_loss: 781.9345\n",
            "Epoch 38/200\n",
            "\u001b[1m18/18\u001b[0m \u001b[32m━━━━━━━━━━━━━━━━━━━━\u001b[0m\u001b[37m\u001b[0m \u001b[1m0s\u001b[0m 7ms/step - loss: 137.1271 - val_loss: 779.0329\n",
            "Epoch 39/200\n",
            "\u001b[1m18/18\u001b[0m \u001b[32m━━━━━━━━━━━━━━━━━━━━\u001b[0m\u001b[37m\u001b[0m \u001b[1m0s\u001b[0m 7ms/step - loss: 135.9889 - val_loss: 766.5751\n",
            "Epoch 40/200\n",
            "\u001b[1m18/18\u001b[0m \u001b[32m━━━━━━━━━━━━━━━━━━━━\u001b[0m\u001b[37m\u001b[0m \u001b[1m0s\u001b[0m 7ms/step - loss: 134.6541 - val_loss: 756.2028\n",
            "Epoch 41/200\n",
            "\u001b[1m18/18\u001b[0m \u001b[32m━━━━━━━━━━━━━━━━━━━━\u001b[0m\u001b[37m\u001b[0m \u001b[1m0s\u001b[0m 7ms/step - loss: 133.5037 - val_loss: 751.4891\n",
            "Epoch 42/200\n",
            "\u001b[1m18/18\u001b[0m \u001b[32m━━━━━━━━━━━━━━━━━━━━\u001b[0m\u001b[37m\u001b[0m \u001b[1m0s\u001b[0m 7ms/step - loss: 132.3697 - val_loss: 741.8099\n",
            "Epoch 43/200\n",
            "\u001b[1m18/18\u001b[0m \u001b[32m━━━━━━━━━━━━━━━━━━━━\u001b[0m\u001b[37m\u001b[0m \u001b[1m0s\u001b[0m 6ms/step - loss: 131.1352 - val_loss: 741.9939\n",
            "Epoch 44/200\n",
            "\u001b[1m18/18\u001b[0m \u001b[32m━━━━━━━━━━━━━━━━━━━━\u001b[0m\u001b[37m\u001b[0m \u001b[1m0s\u001b[0m 7ms/step - loss: 130.6000 - val_loss: 729.9070\n",
            "Epoch 45/200\n",
            "\u001b[1m18/18\u001b[0m \u001b[32m━━━━━━━━━━━━━━━━━━━━\u001b[0m\u001b[37m\u001b[0m \u001b[1m0s\u001b[0m 7ms/step - loss: 129.0429 - val_loss: 720.0246\n",
            "Epoch 46/200\n",
            "\u001b[1m18/18\u001b[0m \u001b[32m━━━━━━━━━━━━━━━━━━━━\u001b[0m\u001b[37m\u001b[0m \u001b[1m0s\u001b[0m 5ms/step - loss: 127.9684 - val_loss: 720.2063\n",
            "Epoch 47/200\n",
            "\u001b[1m18/18\u001b[0m \u001b[32m━━━━━━━━━━━━━━━━━━━━\u001b[0m\u001b[37m\u001b[0m \u001b[1m0s\u001b[0m 5ms/step - loss: 127.6166 - val_loss: 720.1978\n",
            "Epoch 48/200\n",
            "\u001b[1m18/18\u001b[0m \u001b[32m━━━━━━━━━━━━━━━━━━━━\u001b[0m\u001b[37m\u001b[0m \u001b[1m0s\u001b[0m 7ms/step - loss: 127.3140 - val_loss: 712.7362\n",
            "Epoch 49/200\n",
            "\u001b[1m18/18\u001b[0m \u001b[32m━━━━━━━━━━━━━━━━━━━━\u001b[0m\u001b[37m\u001b[0m \u001b[1m0s\u001b[0m 7ms/step - loss: 126.4215 - val_loss: 699.8273\n",
            "Epoch 50/200\n",
            "\u001b[1m18/18\u001b[0m \u001b[32m━━━━━━━━━━━━━━━━━━━━\u001b[0m\u001b[37m\u001b[0m \u001b[1m0s\u001b[0m 7ms/step - loss: 125.1126 - val_loss: 691.3707\n",
            "Epoch 51/200\n",
            "\u001b[1m18/18\u001b[0m \u001b[32m━━━━━━━━━━━━━━━━━━━━\u001b[0m\u001b[37m\u001b[0m \u001b[1m0s\u001b[0m 7ms/step - loss: 124.2964 - val_loss: 686.2313\n",
            "Epoch 52/200\n",
            "\u001b[1m18/18\u001b[0m \u001b[32m━━━━━━━━━━━━━━━━━━━━\u001b[0m\u001b[37m\u001b[0m \u001b[1m0s\u001b[0m 7ms/step - loss: 123.4623 - val_loss: 678.6125\n",
            "Epoch 53/200\n",
            "\u001b[1m18/18\u001b[0m \u001b[32m━━━━━━━━━━━━━━━━━━━━\u001b[0m\u001b[37m\u001b[0m \u001b[1m0s\u001b[0m 7ms/step - loss: 122.7546 - val_loss: 675.4249\n",
            "Epoch 54/200\n",
            "\u001b[1m18/18\u001b[0m \u001b[32m━━━━━━━━━━━━━━━━━━━━\u001b[0m\u001b[37m\u001b[0m \u001b[1m0s\u001b[0m 7ms/step - loss: 122.2237 - val_loss: 672.7341\n",
            "Epoch 55/200\n",
            "\u001b[1m18/18\u001b[0m \u001b[32m━━━━━━━━━━━━━━━━━━━━\u001b[0m\u001b[37m\u001b[0m \u001b[1m0s\u001b[0m 5ms/step - loss: 121.9094 - val_loss: 674.8272\n",
            "Epoch 56/200\n",
            "\u001b[1m18/18\u001b[0m \u001b[32m━━━━━━━━━━━━━━━━━━━━\u001b[0m\u001b[37m\u001b[0m \u001b[1m0s\u001b[0m 7ms/step - loss: 122.1476 - val_loss: 670.1091\n",
            "Epoch 57/200\n",
            "\u001b[1m18/18\u001b[0m \u001b[32m━━━━━━━━━━━━━━━━━━━━\u001b[0m\u001b[37m\u001b[0m \u001b[1m0s\u001b[0m 7ms/step - loss: 121.1949 - val_loss: 662.5309\n",
            "Epoch 58/200\n",
            "\u001b[1m18/18\u001b[0m \u001b[32m━━━━━━━━━━━━━━━━━━━━\u001b[0m\u001b[37m\u001b[0m \u001b[1m0s\u001b[0m 7ms/step - loss: 120.3781 - val_loss: 651.9423\n",
            "Epoch 59/200\n",
            "\u001b[1m18/18\u001b[0m \u001b[32m━━━━━━━━━━━━━━━━━━━━\u001b[0m\u001b[37m\u001b[0m \u001b[1m0s\u001b[0m 7ms/step - loss: 119.7071 - val_loss: 647.6178\n",
            "Epoch 60/200\n",
            "\u001b[1m18/18\u001b[0m \u001b[32m━━━━━━━━━━━━━━━━━━━━\u001b[0m\u001b[37m\u001b[0m \u001b[1m0s\u001b[0m 7ms/step - loss: 119.2991 - val_loss: 645.5433\n",
            "Epoch 61/200\n",
            "\u001b[1m18/18\u001b[0m \u001b[32m━━━━━━━━━━━━━━━━━━━━\u001b[0m\u001b[37m\u001b[0m \u001b[1m0s\u001b[0m 7ms/step - loss: 118.7415 - val_loss: 643.2875\n",
            "Epoch 62/200\n",
            "\u001b[1m18/18\u001b[0m \u001b[32m━━━━━━━━━━━━━━━━━━━━\u001b[0m\u001b[37m\u001b[0m \u001b[1m0s\u001b[0m 7ms/step - loss: 118.6681 - val_loss: 638.2769\n",
            "Epoch 63/200\n",
            "\u001b[1m18/18\u001b[0m \u001b[32m━━━━━━━━━━━━━━━━━━━━\u001b[0m\u001b[37m\u001b[0m \u001b[1m0s\u001b[0m 7ms/step - loss: 118.1029 - val_loss: 635.9016\n",
            "Epoch 64/200\n",
            "\u001b[1m18/18\u001b[0m \u001b[32m━━━━━━━━━━━━━━━━━━━━\u001b[0m\u001b[37m\u001b[0m \u001b[1m0s\u001b[0m 7ms/step - loss: 117.7246 - val_loss: 633.6583\n",
            "Epoch 65/200\n",
            "\u001b[1m18/18\u001b[0m \u001b[32m━━━━━━━━━━━━━━━━━━━━\u001b[0m\u001b[37m\u001b[0m \u001b[1m0s\u001b[0m 7ms/step - loss: 117.4416 - val_loss: 631.0129\n",
            "Epoch 66/200\n",
            "\u001b[1m18/18\u001b[0m \u001b[32m━━━━━━━━━━━━━━━━━━━━\u001b[0m\u001b[37m\u001b[0m \u001b[1m0s\u001b[0m 7ms/step - loss: 117.1238 - val_loss: 628.0228\n",
            "Epoch 67/200\n",
            "\u001b[1m18/18\u001b[0m \u001b[32m━━━━━━━━━━━━━━━━━━━━\u001b[0m\u001b[37m\u001b[0m \u001b[1m0s\u001b[0m 7ms/step - loss: 116.8106 - val_loss: 626.3018\n",
            "Epoch 68/200\n",
            "\u001b[1m18/18\u001b[0m \u001b[32m━━━━━━━━━━━━━━━━━━━━\u001b[0m\u001b[37m\u001b[0m \u001b[1m0s\u001b[0m 7ms/step - loss: 116.5303 - val_loss: 623.8212\n",
            "Epoch 69/200\n",
            "\u001b[1m18/18\u001b[0m \u001b[32m━━━━━━━━━━━━━━━━━━━━\u001b[0m\u001b[37m\u001b[0m \u001b[1m0s\u001b[0m 5ms/step - loss: 116.2838 - val_loss: 625.3244\n",
            "Epoch 70/200\n",
            "\u001b[1m18/18\u001b[0m \u001b[32m━━━━━━━━━━━━━━━━━━━━\u001b[0m\u001b[37m\u001b[0m \u001b[1m0s\u001b[0m 5ms/step - loss: 116.2369 - val_loss: 626.2614\n",
            "Epoch 71/200\n",
            "\u001b[1m18/18\u001b[0m \u001b[32m━━━━━━━━━━━━━━━━━━━━\u001b[0m\u001b[37m\u001b[0m \u001b[1m0s\u001b[0m 6ms/step - loss: 116.5494 - val_loss: 627.3388\n",
            "Epoch 72/200\n",
            "\u001b[1m18/18\u001b[0m \u001b[32m━━━━━━━━━━━━━━━━━━━━\u001b[0m\u001b[37m\u001b[0m \u001b[1m0s\u001b[0m 7ms/step - loss: 115.8461 - val_loss: 615.6888\n",
            "Epoch 73/200\n",
            "\u001b[1m18/18\u001b[0m \u001b[32m━━━━━━━━━━━━━━━━━━━━\u001b[0m\u001b[37m\u001b[0m \u001b[1m0s\u001b[0m 7ms/step - loss: 115.1081 - val_loss: 614.2377\n",
            "Epoch 74/200\n",
            "\u001b[1m18/18\u001b[0m \u001b[32m━━━━━━━━━━━━━━━━━━━━\u001b[0m\u001b[37m\u001b[0m \u001b[1m0s\u001b[0m 5ms/step - loss: 115.0677 - val_loss: 615.0703\n",
            "Epoch 75/200\n",
            "\u001b[1m18/18\u001b[0m \u001b[32m━━━━━━━━━━━━━━━━━━━━\u001b[0m\u001b[37m\u001b[0m \u001b[1m0s\u001b[0m 7ms/step - loss: 114.9806 - val_loss: 610.3083\n",
            "Epoch 76/200\n",
            "\u001b[1m18/18\u001b[0m \u001b[32m━━━━━━━━━━━━━━━━━━━━\u001b[0m\u001b[37m\u001b[0m \u001b[1m0s\u001b[0m 7ms/step - loss: 114.4358 - val_loss: 609.8055\n",
            "Epoch 77/200\n",
            "\u001b[1m18/18\u001b[0m \u001b[32m━━━━━━━━━━━━━━━━━━━━\u001b[0m\u001b[37m\u001b[0m \u001b[1m0s\u001b[0m 7ms/step - loss: 114.3944 - val_loss: 606.7964\n",
            "Epoch 78/200\n",
            "\u001b[1m18/18\u001b[0m \u001b[32m━━━━━━━━━━━━━━━━━━━━\u001b[0m\u001b[37m\u001b[0m \u001b[1m0s\u001b[0m 6ms/step - loss: 114.1380 - val_loss: 608.5174\n",
            "Epoch 79/200\n",
            "\u001b[1m18/18\u001b[0m \u001b[32m━━━━━━━━━━━━━━━━━━━━\u001b[0m\u001b[37m\u001b[0m \u001b[1m0s\u001b[0m 7ms/step - loss: 114.0779 - val_loss: 605.4765\n",
            "Epoch 80/200\n",
            "\u001b[1m18/18\u001b[0m \u001b[32m━━━━━━━━━━━━━━━━━━━━\u001b[0m\u001b[37m\u001b[0m \u001b[1m0s\u001b[0m 7ms/step - loss: 113.6233 - val_loss: 603.2742\n",
            "Epoch 81/200\n",
            "\u001b[1m18/18\u001b[0m \u001b[32m━━━━━━━━━━━━━━━━━━━━\u001b[0m\u001b[37m\u001b[0m \u001b[1m0s\u001b[0m 5ms/step - loss: 113.5102 - val_loss: 604.9536\n",
            "Epoch 82/200\n",
            "\u001b[1m18/18\u001b[0m \u001b[32m━━━━━━━━━━━━━━━━━━━━\u001b[0m\u001b[37m\u001b[0m \u001b[1m0s\u001b[0m 7ms/step - loss: 113.5422 - val_loss: 599.8820\n",
            "Epoch 83/200\n",
            "\u001b[1m18/18\u001b[0m \u001b[32m━━━━━━━━━━━━━━━━━━━━\u001b[0m\u001b[37m\u001b[0m \u001b[1m0s\u001b[0m 6ms/step - loss: 113.1652 - val_loss: 600.2810\n",
            "Epoch 84/200\n",
            "\u001b[1m18/18\u001b[0m \u001b[32m━━━━━━━━━━━━━━━━━━━━\u001b[0m\u001b[37m\u001b[0m \u001b[1m0s\u001b[0m 7ms/step - loss: 112.8800 - val_loss: 597.4627\n",
            "Epoch 85/200\n",
            "\u001b[1m18/18\u001b[0m \u001b[32m━━━━━━━━━━━━━━━━━━━━\u001b[0m\u001b[37m\u001b[0m \u001b[1m0s\u001b[0m 7ms/step - loss: 115.1470 - val_loss: 596.7825\n",
            "Epoch 86/200\n",
            "\u001b[1m18/18\u001b[0m \u001b[32m━━━━━━━━━━━━━━━━━━━━\u001b[0m\u001b[37m\u001b[0m \u001b[1m0s\u001b[0m 7ms/step - loss: 112.6372 - val_loss: 595.1900\n",
            "Epoch 87/200\n",
            "\u001b[1m18/18\u001b[0m \u001b[32m━━━━━━━━━━━━━━━━━━━━\u001b[0m\u001b[37m\u001b[0m \u001b[1m0s\u001b[0m 7ms/step - loss: 112.4770 - val_loss: 593.9318\n",
            "Epoch 88/200\n",
            "\u001b[1m18/18\u001b[0m \u001b[32m━━━━━━━━━━━━━━━━━━━━\u001b[0m\u001b[37m\u001b[0m \u001b[1m0s\u001b[0m 7ms/step - loss: 112.3606 - val_loss: 593.0549\n",
            "Epoch 89/200\n",
            "\u001b[1m18/18\u001b[0m \u001b[32m━━━━━━━━━━━━━━━━━━━━\u001b[0m\u001b[37m\u001b[0m \u001b[1m0s\u001b[0m 6ms/step - loss: 112.2153 - val_loss: 593.4558\n",
            "Epoch 90/200\n",
            "\u001b[1m18/18\u001b[0m \u001b[32m━━━━━━━━━━━━━━━━━━━━\u001b[0m\u001b[37m\u001b[0m \u001b[1m0s\u001b[0m 7ms/step - loss: 112.1449 - val_loss: 591.5132\n",
            "Epoch 91/200\n",
            "\u001b[1m18/18\u001b[0m \u001b[32m━━━━━━━━━━━━━━━━━━━━\u001b[0m\u001b[37m\u001b[0m \u001b[1m0s\u001b[0m 6ms/step - loss: 112.1464 - val_loss: 595.8990\n",
            "Epoch 92/200\n",
            "\u001b[1m18/18\u001b[0m \u001b[32m━━━━━━━━━━━━━━━━━━━━\u001b[0m\u001b[37m\u001b[0m \u001b[1m0s\u001b[0m 5ms/step - loss: 112.4459 - val_loss: 596.9089\n",
            "Epoch 93/200\n",
            "\u001b[1m18/18\u001b[0m \u001b[32m━━━━━━━━━━━━━━━━━━━━\u001b[0m\u001b[37m\u001b[0m \u001b[1m0s\u001b[0m 7ms/step - loss: 112.9083 - val_loss: 589.6940\n",
            "Epoch 94/200\n",
            "\u001b[1m18/18\u001b[0m \u001b[32m━━━━━━━━━━━━━━━━━━━━\u001b[0m\u001b[37m\u001b[0m \u001b[1m0s\u001b[0m 7ms/step - loss: 111.8608 - val_loss: 587.9506\n",
            "Epoch 95/200\n",
            "\u001b[1m18/18\u001b[0m \u001b[32m━━━━━━━━━━━━━━━━━━━━\u001b[0m\u001b[37m\u001b[0m \u001b[1m0s\u001b[0m 5ms/step - loss: 111.5390 - val_loss: 597.5703\n",
            "Epoch 96/200\n",
            "\u001b[1m18/18\u001b[0m \u001b[32m━━━━━━━━━━━━━━━━━━━━\u001b[0m\u001b[37m\u001b[0m \u001b[1m0s\u001b[0m 6ms/step - loss: 112.2270 - val_loss: 597.2146\n",
            "Epoch 97/200\n",
            "\u001b[1m18/18\u001b[0m \u001b[32m━━━━━━━━━━━━━━━━━━━━\u001b[0m\u001b[37m\u001b[0m \u001b[1m0s\u001b[0m 7ms/step - loss: 112.3280 - val_loss: 586.9506\n",
            "Epoch 98/200\n",
            "\u001b[1m18/18\u001b[0m \u001b[32m━━━━━━━━━━━━━━━━━━━━\u001b[0m\u001b[37m\u001b[0m \u001b[1m0s\u001b[0m 6ms/step - loss: 111.7869 - val_loss: 608.9100\n",
            "Epoch 99/200\n",
            "\u001b[1m18/18\u001b[0m \u001b[32m━━━━━━━━━━━━━━━━━━━━\u001b[0m\u001b[37m\u001b[0m \u001b[1m0s\u001b[0m 7ms/step - loss: 112.6438 - val_loss: 585.5147\n",
            "Epoch 100/200\n",
            "\u001b[1m18/18\u001b[0m \u001b[32m━━━━━━━━━━━━━━━━━━━━\u001b[0m\u001b[37m\u001b[0m \u001b[1m0s\u001b[0m 7ms/step - loss: 111.0174 - val_loss: 584.6246\n",
            "Epoch 101/200\n",
            "\u001b[1m18/18\u001b[0m \u001b[32m━━━━━━━━━━━━━━━━━━━━\u001b[0m\u001b[37m\u001b[0m \u001b[1m0s\u001b[0m 7ms/step - loss: 110.9061 - val_loss: 584.2631\n",
            "Epoch 102/200\n",
            "\u001b[1m18/18\u001b[0m \u001b[32m━━━━━━━━━━━━━━━━━━━━\u001b[0m\u001b[37m\u001b[0m \u001b[1m0s\u001b[0m 5ms/step - loss: 110.7924 - val_loss: 585.3472\n",
            "Epoch 103/200\n",
            "\u001b[1m18/18\u001b[0m \u001b[32m━━━━━━━━━━━━━━━━━━━━\u001b[0m\u001b[37m\u001b[0m \u001b[1m0s\u001b[0m 7ms/step - loss: 111.0533 - val_loss: 581.2440\n",
            "Epoch 104/200\n",
            "\u001b[1m18/18\u001b[0m \u001b[32m━━━━━━━━━━━━━━━━━━━━\u001b[0m\u001b[37m\u001b[0m \u001b[1m0s\u001b[0m 6ms/step - loss: 110.5210 - val_loss: 588.1541\n",
            "Epoch 105/200\n",
            "\u001b[1m18/18\u001b[0m \u001b[32m━━━━━━━━━━━━━━━━━━━━\u001b[0m\u001b[37m\u001b[0m \u001b[1m0s\u001b[0m 6ms/step - loss: 111.3483 - val_loss: 604.7547\n",
            "Epoch 106/200\n",
            "\u001b[1m18/18\u001b[0m \u001b[32m━━━━━━━━━━━━━━━━━━━━\u001b[0m\u001b[37m\u001b[0m \u001b[1m0s\u001b[0m 6ms/step - loss: 111.9919 - val_loss: 587.2691\n",
            "Epoch 107/200\n",
            "\u001b[1m18/18\u001b[0m \u001b[32m━━━━━━━━━━━━━━━━━━━━\u001b[0m\u001b[37m\u001b[0m \u001b[1m0s\u001b[0m 6ms/step - loss: 110.8838 - val_loss: 586.3427\n",
            "Epoch 108/200\n",
            "\u001b[1m18/18\u001b[0m \u001b[32m━━━━━━━━━━━━━━━━━━━━\u001b[0m\u001b[37m\u001b[0m \u001b[1m0s\u001b[0m 6ms/step - loss: 111.0172 - val_loss: 584.9245\n",
            "Epoch 109/200\n",
            "\u001b[1m18/18\u001b[0m \u001b[32m━━━━━━━━━━━━━━━━━━━━\u001b[0m\u001b[37m\u001b[0m \u001b[1m0s\u001b[0m 6ms/step - loss: 110.8516 - val_loss: 604.9848\n",
            "Epoch 110/200\n",
            "\u001b[1m18/18\u001b[0m \u001b[32m━━━━━━━━━━━━━━━━━━━━\u001b[0m\u001b[37m\u001b[0m \u001b[1m0s\u001b[0m 6ms/step - loss: 112.4448 - val_loss: 638.3275\n",
            "Epoch 111/200\n",
            "\u001b[1m18/18\u001b[0m \u001b[32m━━━━━━━━━━━━━━━━━━━━\u001b[0m\u001b[37m\u001b[0m \u001b[1m0s\u001b[0m 5ms/step - loss: 114.2326 - val_loss: 615.5483\n",
            "Epoch 112/200\n",
            "\u001b[1m18/18\u001b[0m \u001b[32m━━━━━━━━━━━━━━━━━━━━\u001b[0m\u001b[37m\u001b[0m \u001b[1m0s\u001b[0m 5ms/step - loss: 112.5016 - val_loss: 614.6450\n",
            "Epoch 113/200\n",
            "\u001b[1m18/18\u001b[0m \u001b[32m━━━━━━━━━━━━━━━━━━━━\u001b[0m\u001b[37m\u001b[0m \u001b[1m0s\u001b[0m 5ms/step - loss: 112.6022 - val_loss: 615.0224\n",
            "Epoch 114/200\n",
            "\u001b[1m18/18\u001b[0m \u001b[32m━━━━━━━━━━━━━━━━━━━━\u001b[0m\u001b[37m\u001b[0m \u001b[1m0s\u001b[0m 5ms/step - loss: 112.4572 - val_loss: 612.7851\n",
            "Epoch 115/200\n",
            "\u001b[1m18/18\u001b[0m \u001b[32m━━━━━━━━━━━━━━━━━━━━\u001b[0m\u001b[37m\u001b[0m \u001b[1m0s\u001b[0m 5ms/step - loss: 112.3009 - val_loss: 611.8253\n",
            "Epoch 116/200\n",
            "\u001b[1m18/18\u001b[0m \u001b[32m━━━━━━━━━━━━━━━━━━━━\u001b[0m\u001b[37m\u001b[0m \u001b[1m0s\u001b[0m 5ms/step - loss: 112.1426 - val_loss: 602.1481\n",
            "Epoch 117/200\n",
            "\u001b[1m18/18\u001b[0m \u001b[32m━━━━━━━━━━━━━━━━━━━━\u001b[0m\u001b[37m\u001b[0m \u001b[1m0s\u001b[0m 6ms/step - loss: 111.6910 - val_loss: 606.4941\n",
            "Epoch 118/200\n",
            "\u001b[1m18/18\u001b[0m \u001b[32m━━━━━━━━━━━━━━━━━━━━\u001b[0m\u001b[37m\u001b[0m \u001b[1m0s\u001b[0m 5ms/step - loss: 111.7347 - val_loss: 622.1589\n",
            "Epoch 119/200\n",
            "\u001b[1m18/18\u001b[0m \u001b[32m━━━━━━━━━━━━━━━━━━━━\u001b[0m\u001b[37m\u001b[0m \u001b[1m0s\u001b[0m 5ms/step - loss: 112.3767 - val_loss: 624.9600\n",
            "Epoch 120/200\n",
            "\u001b[1m18/18\u001b[0m \u001b[32m━━━━━━━━━━━━━━━━━━━━\u001b[0m\u001b[37m\u001b[0m \u001b[1m0s\u001b[0m 6ms/step - loss: 112.3996 - val_loss: 628.5402\n",
            "Epoch 121/200\n",
            "\u001b[1m18/18\u001b[0m \u001b[32m━━━━━━━━━━━━━━━━━━━━\u001b[0m\u001b[37m\u001b[0m \u001b[1m0s\u001b[0m 6ms/step - loss: 112.9784 - val_loss: 611.2950\n",
            "Epoch 122/200\n",
            "\u001b[1m18/18\u001b[0m \u001b[32m━━━━━━━━━━━━━━━━━━━━\u001b[0m\u001b[37m\u001b[0m \u001b[1m0s\u001b[0m 6ms/step - loss: 111.0811 - val_loss: 614.9268\n",
            "Epoch 123/200\n",
            "\u001b[1m18/18\u001b[0m \u001b[32m━━━━━━━━━━━━━━━━━━━━\u001b[0m\u001b[37m\u001b[0m \u001b[1m0s\u001b[0m 6ms/step - loss: 111.5285 - val_loss: 618.2596\n",
            "Epoch 124/200\n",
            "\u001b[1m18/18\u001b[0m \u001b[32m━━━━━━━━━━━━━━━━━━━━\u001b[0m\u001b[37m\u001b[0m \u001b[1m0s\u001b[0m 5ms/step - loss: 111.7777 - val_loss: 633.9438\n",
            "Epoch 125/200\n",
            "\u001b[1m18/18\u001b[0m \u001b[32m━━━━━━━━━━━━━━━━━━━━\u001b[0m\u001b[37m\u001b[0m \u001b[1m0s\u001b[0m 5ms/step - loss: 113.1530 - val_loss: 602.5790\n",
            "Epoch 126/200\n",
            "\u001b[1m18/18\u001b[0m \u001b[32m━━━━━━━━━━━━━━━━━━━━\u001b[0m\u001b[37m\u001b[0m \u001b[1m0s\u001b[0m 5ms/step - loss: 110.9444 - val_loss: 608.7799\n",
            "Epoch 127/200\n",
            "\u001b[1m18/18\u001b[0m \u001b[32m━━━━━━━━━━━━━━━━━━━━\u001b[0m\u001b[37m\u001b[0m \u001b[1m0s\u001b[0m 5ms/step - loss: 111.2812 - val_loss: 614.3694\n",
            "Epoch 128/200\n",
            "\u001b[1m18/18\u001b[0m \u001b[32m━━━━━━━━━━━━━━━━━━━━\u001b[0m\u001b[37m\u001b[0m \u001b[1m0s\u001b[0m 6ms/step - loss: 110.8977 - val_loss: 603.6989\n",
            "Epoch 129/200\n",
            "\u001b[1m18/18\u001b[0m \u001b[32m━━━━━━━━━━━━━━━━━━━━\u001b[0m\u001b[37m\u001b[0m \u001b[1m0s\u001b[0m 6ms/step - loss: 110.3612 - val_loss: 588.2281\n",
            "Epoch 130/200\n",
            "\u001b[1m18/18\u001b[0m \u001b[32m━━━━━━━━━━━━━━━━━━━━\u001b[0m\u001b[37m\u001b[0m \u001b[1m0s\u001b[0m 6ms/step - loss: 109.4275 - val_loss: 587.7930\n",
            "Epoch 131/200\n",
            "\u001b[1m18/18\u001b[0m \u001b[32m━━━━━━━━━━━━━━━━━━━━\u001b[0m\u001b[37m\u001b[0m \u001b[1m0s\u001b[0m 6ms/step - loss: 109.5531 - val_loss: 608.4561\n",
            "Epoch 132/200\n",
            "\u001b[1m18/18\u001b[0m \u001b[32m━━━━━━━━━━━━━━━━━━━━\u001b[0m\u001b[37m\u001b[0m \u001b[1m0s\u001b[0m 6ms/step - loss: 111.0563 - val_loss: 620.8053\n",
            "Epoch 133/200\n",
            "\u001b[1m18/18\u001b[0m \u001b[32m━━━━━━━━━━━━━━━━━━━━\u001b[0m\u001b[37m\u001b[0m \u001b[1m0s\u001b[0m 5ms/step - loss: 112.1302 - val_loss: 625.2422\n",
            "Epoch 134/200\n",
            "\u001b[1m18/18\u001b[0m \u001b[32m━━━━━━━━━━━━━━━━━━━━\u001b[0m\u001b[37m\u001b[0m \u001b[1m0s\u001b[0m 5ms/step - loss: 112.8055 - val_loss: 603.4030\n",
            "Epoch 135/200\n",
            "\u001b[1m18/18\u001b[0m \u001b[32m━━━━━━━━━━━━━━━━━━━━\u001b[0m\u001b[37m\u001b[0m \u001b[1m0s\u001b[0m 5ms/step - loss: 110.7654 - val_loss: 596.1162\n",
            "Epoch 136/200\n",
            "\u001b[1m18/18\u001b[0m \u001b[32m━━━━━━━━━━━━━━━━━━━━\u001b[0m\u001b[37m\u001b[0m \u001b[1m0s\u001b[0m 5ms/step - loss: 110.0240 - val_loss: 604.4943\n",
            "Epoch 137/200\n",
            "\u001b[1m18/18\u001b[0m \u001b[32m━━━━━━━━━━━━━━━━━━━━\u001b[0m\u001b[37m\u001b[0m \u001b[1m0s\u001b[0m 5ms/step - loss: 110.2752 - val_loss: 605.1795\n",
            "Epoch 138/200\n",
            "\u001b[1m18/18\u001b[0m \u001b[32m━━━━━━━━━━━━━━━━━━━━\u001b[0m\u001b[37m\u001b[0m \u001b[1m0s\u001b[0m 6ms/step - loss: 110.5840 - val_loss: 605.5471\n",
            "Epoch 139/200\n",
            "\u001b[1m18/18\u001b[0m \u001b[32m━━━━━━━━━━━━━━━━━━━━\u001b[0m\u001b[37m\u001b[0m \u001b[1m0s\u001b[0m 5ms/step - loss: 110.3448 - val_loss: 598.5013\n",
            "Epoch 140/200\n",
            "\u001b[1m18/18\u001b[0m \u001b[32m━━━━━━━━━━━━━━━━━━━━\u001b[0m\u001b[37m\u001b[0m \u001b[1m0s\u001b[0m 5ms/step - loss: 110.0952 - val_loss: 590.4662\n",
            "Epoch 141/200\n",
            "\u001b[1m18/18\u001b[0m \u001b[32m━━━━━━━━━━━━━━━━━━━━\u001b[0m\u001b[37m\u001b[0m \u001b[1m0s\u001b[0m 6ms/step - loss: 109.6792 - val_loss: 607.8790\n",
            "Epoch 142/200\n",
            "\u001b[1m18/18\u001b[0m \u001b[32m━━━━━━━━━━━━━━━━━━━━\u001b[0m\u001b[37m\u001b[0m \u001b[1m0s\u001b[0m 6ms/step - loss: 110.2427 - val_loss: 581.7067\n",
            "Epoch 143/200\n",
            "\u001b[1m18/18\u001b[0m \u001b[32m━━━━━━━━━━━━━━━━━━━━\u001b[0m\u001b[37m\u001b[0m \u001b[1m0s\u001b[0m 6ms/step - loss: 108.6628 - val_loss: 586.3074\n",
            "Epoch 144/200\n",
            "\u001b[1m18/18\u001b[0m \u001b[32m━━━━━━━━━━━━━━━━━━━━\u001b[0m\u001b[37m\u001b[0m \u001b[1m0s\u001b[0m 6ms/step - loss: 109.0377 - val_loss: 585.1744\n",
            "Epoch 145/200\n",
            "\u001b[1m18/18\u001b[0m \u001b[32m━━━━━━━━━━━━━━━━━━━━\u001b[0m\u001b[37m\u001b[0m \u001b[1m0s\u001b[0m 5ms/step - loss: 108.9244 - val_loss: 598.9319\n",
            "Epoch 146/200\n",
            "\u001b[1m18/18\u001b[0m \u001b[32m━━━━━━━━━━━━━━━━━━━━\u001b[0m\u001b[37m\u001b[0m \u001b[1m0s\u001b[0m 5ms/step - loss: 109.9339 - val_loss: 600.1004\n",
            "Epoch 147/200\n",
            "\u001b[1m18/18\u001b[0m \u001b[32m━━━━━━━━━━━━━━━━━━━━\u001b[0m\u001b[37m\u001b[0m \u001b[1m0s\u001b[0m 5ms/step - loss: 110.0305 - val_loss: 608.7273\n",
            "Epoch 148/200\n",
            "\u001b[1m18/18\u001b[0m \u001b[32m━━━━━━━━━━━━━━━━━━━━\u001b[0m\u001b[37m\u001b[0m \u001b[1m0s\u001b[0m 6ms/step - loss: 110.8158 - val_loss: 602.9943\n",
            "Epoch 149/200\n",
            "\u001b[1m18/18\u001b[0m \u001b[32m━━━━━━━━━━━━━━━━━━━━\u001b[0m\u001b[37m\u001b[0m \u001b[1m0s\u001b[0m 6ms/step - loss: 110.3406 - val_loss: 607.2459\n",
            "Epoch 150/200\n",
            "\u001b[1m18/18\u001b[0m \u001b[32m━━━━━━━━━━━━━━━━━━━━\u001b[0m\u001b[37m\u001b[0m \u001b[1m0s\u001b[0m 6ms/step - loss: 110.6099 - val_loss: 604.0728\n",
            "Epoch 151/200\n",
            "\u001b[1m18/18\u001b[0m \u001b[32m━━━━━━━━━━━━━━━━━━━━\u001b[0m\u001b[37m\u001b[0m \u001b[1m0s\u001b[0m 5ms/step - loss: 110.7187 - val_loss: 608.2411\n",
            "Epoch 152/200\n",
            "\u001b[1m18/18\u001b[0m \u001b[32m━━━━━━━━━━━━━━━━━━━━\u001b[0m\u001b[37m\u001b[0m \u001b[1m0s\u001b[0m 6ms/step - loss: 111.0325 - val_loss: 595.2255\n",
            "Epoch 153/200\n",
            "\u001b[1m18/18\u001b[0m \u001b[32m━━━━━━━━━━━━━━━━━━━━\u001b[0m\u001b[37m\u001b[0m \u001b[1m0s\u001b[0m 6ms/step - loss: 109.4842 - val_loss: 595.3246\n",
            "Epoch 154/200\n",
            "\u001b[1m18/18\u001b[0m \u001b[32m━━━━━━━━━━━━━━━━━━━━\u001b[0m\u001b[37m\u001b[0m \u001b[1m0s\u001b[0m 5ms/step - loss: 109.3999 - val_loss: 594.5107\n",
            "Epoch 155/200\n",
            "\u001b[1m18/18\u001b[0m \u001b[32m━━━━━━━━━━━━━━━━━━━━\u001b[0m\u001b[37m\u001b[0m \u001b[1m0s\u001b[0m 5ms/step - loss: 109.2222 - val_loss: 590.5517\n",
            "Epoch 156/200\n",
            "\u001b[1m18/18\u001b[0m \u001b[32m━━━━━━━━━━━━━━━━━━━━\u001b[0m\u001b[37m\u001b[0m \u001b[1m0s\u001b[0m 5ms/step - loss: 109.1140 - val_loss: 592.0593\n",
            "Epoch 157/200\n",
            "\u001b[1m18/18\u001b[0m \u001b[32m━━━━━━━━━━━━━━━━━━━━\u001b[0m\u001b[37m\u001b[0m \u001b[1m0s\u001b[0m 5ms/step - loss: 108.8841 - val_loss: 588.4784\n",
            "Epoch 158/200\n",
            "\u001b[1m18/18\u001b[0m \u001b[32m━━━━━━━━━━━━━━━━━━━━\u001b[0m\u001b[37m\u001b[0m \u001b[1m0s\u001b[0m 5ms/step - loss: 108.8386 - val_loss: 587.5072\n",
            "Epoch 159/200\n",
            "\u001b[1m18/18\u001b[0m \u001b[32m━━━━━━━━━━━━━━━━━━━━\u001b[0m\u001b[37m\u001b[0m \u001b[1m0s\u001b[0m 7ms/step - loss: 108.6289 - val_loss: 581.0889\n",
            "Epoch 160/200\n",
            "\u001b[1m18/18\u001b[0m \u001b[32m━━━━━━━━━━━━━━━━━━━━\u001b[0m\u001b[37m\u001b[0m \u001b[1m0s\u001b[0m 6ms/step - loss: 108.2863 - val_loss: 584.1113\n",
            "Epoch 161/200\n",
            "\u001b[1m18/18\u001b[0m \u001b[32m━━━━━━━━━━━━━━━━━━━━\u001b[0m\u001b[37m\u001b[0m \u001b[1m0s\u001b[0m 5ms/step - loss: 108.3349 - val_loss: 585.6365\n",
            "Epoch 162/200\n",
            "\u001b[1m18/18\u001b[0m \u001b[32m━━━━━━━━━━━━━━━━━━━━\u001b[0m\u001b[37m\u001b[0m \u001b[1m0s\u001b[0m 5ms/step - loss: 108.5946 - val_loss: 587.6826\n",
            "Epoch 163/200\n",
            "\u001b[1m18/18\u001b[0m \u001b[32m━━━━━━━━━━━━━━━━━━━━\u001b[0m\u001b[37m\u001b[0m \u001b[1m0s\u001b[0m 5ms/step - loss: 108.9015 - val_loss: 590.9785\n",
            "Epoch 164/200\n",
            "\u001b[1m18/18\u001b[0m \u001b[32m━━━━━━━━━━━━━━━━━━━━\u001b[0m\u001b[37m\u001b[0m \u001b[1m0s\u001b[0m 5ms/step - loss: 109.0513 - val_loss: 598.2432\n",
            "Epoch 165/200\n",
            "\u001b[1m18/18\u001b[0m \u001b[32m━━━━━━━━━━━━━━━━━━━━\u001b[0m\u001b[37m\u001b[0m \u001b[1m0s\u001b[0m 5ms/step - loss: 109.4199 - val_loss: 597.8058\n",
            "Epoch 166/200\n",
            "\u001b[1m18/18\u001b[0m \u001b[32m━━━━━━━━━━━━━━━━━━━━\u001b[0m\u001b[37m\u001b[0m \u001b[1m0s\u001b[0m 6ms/step - loss: 109.4025 - val_loss: 602.3313\n",
            "Epoch 167/200\n",
            "\u001b[1m18/18\u001b[0m \u001b[32m━━━━━━━━━━━━━━━━━━━━\u001b[0m\u001b[37m\u001b[0m \u001b[1m0s\u001b[0m 5ms/step - loss: 109.8197 - val_loss: 602.5786\n",
            "Epoch 168/200\n",
            "\u001b[1m18/18\u001b[0m \u001b[32m━━━━━━━━━━━━━━━━━━━━\u001b[0m\u001b[37m\u001b[0m \u001b[1m0s\u001b[0m 5ms/step - loss: 109.8362 - val_loss: 597.6816\n",
            "Epoch 169/200\n",
            "\u001b[1m18/18\u001b[0m \u001b[32m━━━━━━━━━━━━━━━━━━━━\u001b[0m\u001b[37m\u001b[0m \u001b[1m0s\u001b[0m 5ms/step - loss: 109.4564 - val_loss: 608.9379\n",
            "Epoch 170/200\n",
            "\u001b[1m18/18\u001b[0m \u001b[32m━━━━━━━━━━━━━━━━━━━━\u001b[0m\u001b[37m\u001b[0m \u001b[1m0s\u001b[0m 5ms/step - loss: 110.4998 - val_loss: 615.6222\n",
            "Epoch 171/200\n",
            "\u001b[1m18/18\u001b[0m \u001b[32m━━━━━━━━━━━━━━━━━━━━\u001b[0m\u001b[37m\u001b[0m \u001b[1m0s\u001b[0m 5ms/step - loss: 110.7782 - val_loss: 608.0818\n",
            "Epoch 172/200\n",
            "\u001b[1m18/18\u001b[0m \u001b[32m━━━━━━━━━━━━━━━━━━━━\u001b[0m\u001b[37m\u001b[0m \u001b[1m0s\u001b[0m 6ms/step - loss: 110.0541 - val_loss: 597.3630\n",
            "Epoch 173/200\n",
            "\u001b[1m18/18\u001b[0m \u001b[32m━━━━━━━━━━━━━━━━━━━━\u001b[0m\u001b[37m\u001b[0m \u001b[1m0s\u001b[0m 6ms/step - loss: 109.3217 - val_loss: 599.8363\n",
            "Epoch 174/200\n",
            "\u001b[1m18/18\u001b[0m \u001b[32m━━━━━━━━━━━━━━━━━━━━\u001b[0m\u001b[37m\u001b[0m \u001b[1m0s\u001b[0m 5ms/step - loss: 109.2396 - val_loss: 596.1373\n",
            "Epoch 175/200\n",
            "\u001b[1m18/18\u001b[0m \u001b[32m━━━━━━━━━━━━━━━━━━━━\u001b[0m\u001b[37m\u001b[0m \u001b[1m0s\u001b[0m 6ms/step - loss: 108.8767 - val_loss: 587.5357\n",
            "Epoch 176/200\n",
            "\u001b[1m18/18\u001b[0m \u001b[32m━━━━━━━━━━━━━━━━━━━━\u001b[0m\u001b[37m\u001b[0m \u001b[1m0s\u001b[0m 7ms/step - loss: 108.0522 - val_loss: 575.7863\n",
            "Epoch 177/200\n",
            "\u001b[1m18/18\u001b[0m \u001b[32m━━━━━━━━━━━━━━━━━━━━\u001b[0m\u001b[37m\u001b[0m \u001b[1m0s\u001b[0m 5ms/step - loss: 107.5170 - val_loss: 589.5641\n",
            "Epoch 178/200\n",
            "\u001b[1m18/18\u001b[0m \u001b[32m━━━━━━━━━━━━━━━━━━━━\u001b[0m\u001b[37m\u001b[0m \u001b[1m0s\u001b[0m 5ms/step - loss: 108.6270 - val_loss: 599.1127\n",
            "Epoch 179/200\n",
            "\u001b[1m18/18\u001b[0m \u001b[32m━━━━━━━━━━━━━━━━━━━━\u001b[0m\u001b[37m\u001b[0m \u001b[1m0s\u001b[0m 5ms/step - loss: 109.7894 - val_loss: 607.6219\n",
            "Epoch 180/200\n",
            "\u001b[1m18/18\u001b[0m \u001b[32m━━━━━━━━━━━━━━━━━━━━\u001b[0m\u001b[37m\u001b[0m \u001b[1m0s\u001b[0m 5ms/step - loss: 110.0238 - val_loss: 597.4601\n",
            "Epoch 181/200\n",
            "\u001b[1m18/18\u001b[0m \u001b[32m━━━━━━━━━━━━━━━━━━━━\u001b[0m\u001b[37m\u001b[0m \u001b[1m0s\u001b[0m 5ms/step - loss: 109.1808 - val_loss: 590.7665\n",
            "Epoch 182/200\n",
            "\u001b[1m18/18\u001b[0m \u001b[32m━━━━━━━━━━━━━━━━━━━━\u001b[0m\u001b[37m\u001b[0m \u001b[1m0s\u001b[0m 6ms/step - loss: 108.4926 - val_loss: 581.6719\n",
            "Epoch 183/200\n",
            "\u001b[1m18/18\u001b[0m \u001b[32m━━━━━━━━━━━━━━━━━━━━\u001b[0m\u001b[37m\u001b[0m \u001b[1m0s\u001b[0m 5ms/step - loss: 107.7444 - val_loss: 586.2385\n",
            "Epoch 184/200\n",
            "\u001b[1m18/18\u001b[0m \u001b[32m━━━━━━━━━━━━━━━━━━━━\u001b[0m\u001b[37m\u001b[0m \u001b[1m0s\u001b[0m 6ms/step - loss: 108.3510 - val_loss: 603.0693\n",
            "Epoch 185/200\n",
            "\u001b[1m18/18\u001b[0m \u001b[32m━━━━━━━━━━━━━━━━━━━━\u001b[0m\u001b[37m\u001b[0m \u001b[1m0s\u001b[0m 6ms/step - loss: 109.9062 - val_loss: 598.3698\n",
            "Epoch 186/200\n",
            "\u001b[1m18/18\u001b[0m \u001b[32m━━━━━━━━━━━━━━━━━━━━\u001b[0m\u001b[37m\u001b[0m \u001b[1m0s\u001b[0m 5ms/step - loss: 110.0566 - val_loss: 612.1104\n",
            "Epoch 187/200\n",
            "\u001b[1m18/18\u001b[0m \u001b[32m━━━━━━━━━━━━━━━━━━━━\u001b[0m\u001b[37m\u001b[0m \u001b[1m0s\u001b[0m 5ms/step - loss: 110.5352 - val_loss: 588.3187\n",
            "Epoch 188/200\n",
            "\u001b[1m18/18\u001b[0m \u001b[32m━━━━━━━━━━━━━━━━━━━━\u001b[0m\u001b[37m\u001b[0m \u001b[1m0s\u001b[0m 7ms/step - loss: 107.9554 - val_loss: 573.8674\n",
            "Epoch 189/200\n",
            "\u001b[1m18/18\u001b[0m \u001b[32m━━━━━━━━━━━━━━━━━━━━\u001b[0m\u001b[37m\u001b[0m \u001b[1m0s\u001b[0m 5ms/step - loss: 106.8850 - val_loss: 575.1171\n",
            "Epoch 190/200\n",
            "\u001b[1m18/18\u001b[0m \u001b[32m━━━━━━━━━━━━━━━━━━━━\u001b[0m\u001b[37m\u001b[0m \u001b[1m0s\u001b[0m 5ms/step - loss: 107.1090 - val_loss: 584.1273\n",
            "Epoch 191/200\n",
            "\u001b[1m18/18\u001b[0m \u001b[32m━━━━━━━━━━━━━━━━━━━━\u001b[0m\u001b[37m\u001b[0m \u001b[1m0s\u001b[0m 6ms/step - loss: 108.3750 - val_loss: 600.5191\n",
            "Epoch 192/200\n",
            "\u001b[1m18/18\u001b[0m \u001b[32m━━━━━━━━━━━━━━━━━━━━\u001b[0m\u001b[37m\u001b[0m \u001b[1m0s\u001b[0m 6ms/step - loss: 109.7704 - val_loss: 619.7147\n",
            "Epoch 193/200\n",
            "\u001b[1m18/18\u001b[0m \u001b[32m━━━━━━━━━━━━━━━━━━━━\u001b[0m\u001b[37m\u001b[0m \u001b[1m0s\u001b[0m 5ms/step - loss: 110.9320 - val_loss: 586.5532\n",
            "Epoch 194/200\n",
            "\u001b[1m18/18\u001b[0m \u001b[32m━━━━━━━━━━━━━━━━━━━━\u001b[0m\u001b[37m\u001b[0m \u001b[1m0s\u001b[0m 5ms/step - loss: 107.9829 - val_loss: 575.1157\n",
            "Epoch 195/200\n",
            "\u001b[1m18/18\u001b[0m \u001b[32m━━━━━━━━━━━━━━━━━━━━\u001b[0m\u001b[37m\u001b[0m \u001b[1m0s\u001b[0m 5ms/step - loss: 112.2454 - val_loss: 579.6174\n",
            "Epoch 196/200\n",
            "\u001b[1m18/18\u001b[0m \u001b[32m━━━━━━━━━━━━━━━━━━━━\u001b[0m\u001b[37m\u001b[0m \u001b[1m0s\u001b[0m 5ms/step - loss: 107.2925 - val_loss: 584.6600\n",
            "Epoch 197/200\n",
            "\u001b[1m18/18\u001b[0m \u001b[32m━━━━━━━━━━━━━━━━━━━━\u001b[0m\u001b[37m\u001b[0m \u001b[1m0s\u001b[0m 6ms/step - loss: 108.0897 - val_loss: 591.9945\n",
            "Epoch 198/200\n",
            "\u001b[1m18/18\u001b[0m \u001b[32m━━━━━━━━━━━━━━━━━━━━\u001b[0m\u001b[37m\u001b[0m \u001b[1m0s\u001b[0m 5ms/step - loss: 109.1505 - val_loss: 615.6282\n",
            "Epoch 199/200\n",
            "\u001b[1m18/18\u001b[0m \u001b[32m━━━━━━━━━━━━━━━━━━━━\u001b[0m\u001b[37m\u001b[0m \u001b[1m0s\u001b[0m 5ms/step - loss: 110.8931 - val_loss: 582.2042\n",
            "Epoch 200/200\n",
            "\u001b[1m18/18\u001b[0m \u001b[32m━━━━━━━━━━━━━━━━━━━━\u001b[0m\u001b[37m\u001b[0m \u001b[1m0s\u001b[0m 5ms/step - loss: 107.5423 - val_loss: 575.3761\n"
          ]
        },
        {
          "output_type": "execute_result",
          "data": {
            "text/plain": [
              "<keras.src.callbacks.history.History at 0x7876f4505ed0>"
            ]
          },
          "metadata": {},
          "execution_count": 63
        }
      ],
      "execution_count": 63
    },
    {
      "metadata": {
        "ExecuteTime": {
          "end_time": "2025-07-22T09:03:38.845943Z",
          "start_time": "2025-07-22T09:03:38.696046Z"
        },
        "id": "dd6ebc94a7436619",
        "outputId": "a67a4122-8aa7-4644-aa5e-0d6146d7a8fc",
        "colab": {
          "base_uri": "https://localhost:8080/"
        }
      },
      "cell_type": "code",
      "source": [
        "model_5.evaluate(test_windows, test_labels)\n"
      ],
      "id": "dd6ebc94a7436619",
      "outputs": [
        {
          "output_type": "stream",
          "name": "stdout",
          "text": [
            "\u001b[1m18/18\u001b[0m \u001b[32m━━━━━━━━━━━━━━━━━━━━\u001b[0m\u001b[37m\u001b[0m \u001b[1m2s\u001b[0m 48ms/step - loss: 285.8040\n"
          ]
        },
        {
          "output_type": "execute_result",
          "data": {
            "text/plain": [
              "575.3760375976562"
            ]
          },
          "metadata": {},
          "execution_count": 64
        }
      ],
      "execution_count": 64
    },
    {
      "metadata": {
        "ExecuteTime": {
          "end_time": "2025-07-22T09:03:39.412604Z",
          "start_time": "2025-07-22T09:03:38.956500Z"
        },
        "id": "db0af047f4c7440f",
        "outputId": "bcfb97f6-ebed-4514-9a52-561c9d9402bd",
        "colab": {
          "base_uri": "https://localhost:8080/"
        }
      },
      "cell_type": "code",
      "source": [
        "model_5_preds = make_preds(model_5, test_windows)"
      ],
      "id": "db0af047f4c7440f",
      "outputs": [
        {
          "output_type": "stream",
          "name": "stdout",
          "text": [
            "\u001b[1m18/18\u001b[0m \u001b[32m━━━━━━━━━━━━━━━━━━━━\u001b[0m\u001b[37m\u001b[0m \u001b[1m1s\u001b[0m 24ms/step\n"
          ]
        }
      ],
      "execution_count": 65
    },
    {
      "metadata": {
        "ExecuteTime": {
          "end_time": "2025-07-22T09:03:39.493159Z",
          "start_time": "2025-07-22T09:03:39.473760Z"
        },
        "id": "7e0f5bd8ef82f5aa",
        "outputId": "b618ce1f-e0c7-4c17-e985-78199a41d561",
        "colab": {
          "base_uri": "https://localhost:8080/"
        }
      },
      "cell_type": "code",
      "source": [
        "model_5_results = evaluate_preds(y_true=tf.squeeze(test_labels), y_pred=model_5_preds)\n",
        "model_5_results\n"
      ],
      "id": "7e0f5bd8ef82f5aa",
      "outputs": [
        {
          "output_type": "execute_result",
          "data": {
            "text/plain": [
              "{'mae': np.float32(575.3761),\n",
              " 'mse': np.float32(1178077.5),\n",
              " 'rmse': np.float32(1085.3928),\n",
              " 'mape': np.float32(2.56993),\n",
              " 'mase': np.float32(1.0107764)}"
            ]
          },
          "metadata": {},
          "execution_count": 66
        }
      ],
      "execution_count": 66
    },
    {
      "metadata": {
        "ExecuteTime": {
          "end_time": "2025-07-22T09:03:39.556317Z",
          "start_time": "2025-07-22T09:03:39.542722Z"
        },
        "id": "b1f68882c7add559",
        "outputId": "891ac329-38ae-4d80-d94a-c1d73b3d3226",
        "colab": {
          "base_uri": "https://localhost:8080/"
        }
      },
      "cell_type": "code",
      "source": [
        "naive_results"
      ],
      "id": "b1f68882c7add559",
      "outputs": [
        {
          "output_type": "execute_result",
          "data": {
            "text/plain": [
              "{'mae': np.float32(567.9802),\n",
              " 'mse': np.float32(1147547.0),\n",
              " 'rmse': np.float32(1071.2362),\n",
              " 'mape': np.float32(2.516525),\n",
              " 'mase': np.float32(0.99957)}"
            ]
          },
          "metadata": {},
          "execution_count": 67
        }
      ],
      "execution_count": 67
    },
    {
      "metadata": {
        "ExecuteTime": {
          "end_time": "2025-07-22T09:03:39.679093Z",
          "start_time": "2025-07-22T09:03:39.674070Z"
        },
        "id": "cd0a3f6765d4583"
      },
      "cell_type": "code",
      "source": [
        "## MULTIVARIATE"
      ],
      "id": "cd0a3f6765d4583",
      "outputs": [],
      "execution_count": 68
    },
    {
      "metadata": {
        "ExecuteTime": {
          "end_time": "2025-07-22T09:03:39.821905Z",
          "start_time": "2025-07-22T09:03:39.809536Z"
        },
        "id": "a4d94f8d1fe6701f",
        "outputId": "2ab607e0-0e63-4b2e-a4af-3b3d954144b2",
        "colab": {
          "base_uri": "https://localhost:8080/",
          "height": 237
        }
      },
      "cell_type": "code",
      "source": [
        "bitcoin_prices.head()"
      ],
      "id": "a4d94f8d1fe6701f",
      "outputs": [
        {
          "output_type": "execute_result",
          "data": {
            "text/plain": [
              "                price\n",
              "Date                 \n",
              "2013-10-01  123.65499\n",
              "2013-10-02  125.45500\n",
              "2013-10-03  108.58483\n",
              "2013-10-04  118.67466\n",
              "2013-10-05  121.33866"
            ],
            "text/html": [
              "\n",
              "  <div id=\"df-7183aeff-1e46-453a-8278-57f5abfef34e\" class=\"colab-df-container\">\n",
              "    <div>\n",
              "<style scoped>\n",
              "    .dataframe tbody tr th:only-of-type {\n",
              "        vertical-align: middle;\n",
              "    }\n",
              "\n",
              "    .dataframe tbody tr th {\n",
              "        vertical-align: top;\n",
              "    }\n",
              "\n",
              "    .dataframe thead th {\n",
              "        text-align: right;\n",
              "    }\n",
              "</style>\n",
              "<table border=\"1\" class=\"dataframe\">\n",
              "  <thead>\n",
              "    <tr style=\"text-align: right;\">\n",
              "      <th></th>\n",
              "      <th>price</th>\n",
              "    </tr>\n",
              "    <tr>\n",
              "      <th>Date</th>\n",
              "      <th></th>\n",
              "    </tr>\n",
              "  </thead>\n",
              "  <tbody>\n",
              "    <tr>\n",
              "      <th>2013-10-01</th>\n",
              "      <td>123.65499</td>\n",
              "    </tr>\n",
              "    <tr>\n",
              "      <th>2013-10-02</th>\n",
              "      <td>125.45500</td>\n",
              "    </tr>\n",
              "    <tr>\n",
              "      <th>2013-10-03</th>\n",
              "      <td>108.58483</td>\n",
              "    </tr>\n",
              "    <tr>\n",
              "      <th>2013-10-04</th>\n",
              "      <td>118.67466</td>\n",
              "    </tr>\n",
              "    <tr>\n",
              "      <th>2013-10-05</th>\n",
              "      <td>121.33866</td>\n",
              "    </tr>\n",
              "  </tbody>\n",
              "</table>\n",
              "</div>\n",
              "    <div class=\"colab-df-buttons\">\n",
              "\n",
              "  <div class=\"colab-df-container\">\n",
              "    <button class=\"colab-df-convert\" onclick=\"convertToInteractive('df-7183aeff-1e46-453a-8278-57f5abfef34e')\"\n",
              "            title=\"Convert this dataframe to an interactive table.\"\n",
              "            style=\"display:none;\">\n",
              "\n",
              "  <svg xmlns=\"http://www.w3.org/2000/svg\" height=\"24px\" viewBox=\"0 -960 960 960\">\n",
              "    <path d=\"M120-120v-720h720v720H120Zm60-500h600v-160H180v160Zm220 220h160v-160H400v160Zm0 220h160v-160H400v160ZM180-400h160v-160H180v160Zm440 0h160v-160H620v160ZM180-180h160v-160H180v160Zm440 0h160v-160H620v160Z\"/>\n",
              "  </svg>\n",
              "    </button>\n",
              "\n",
              "  <style>\n",
              "    .colab-df-container {\n",
              "      display:flex;\n",
              "      gap: 12px;\n",
              "    }\n",
              "\n",
              "    .colab-df-convert {\n",
              "      background-color: #E8F0FE;\n",
              "      border: none;\n",
              "      border-radius: 50%;\n",
              "      cursor: pointer;\n",
              "      display: none;\n",
              "      fill: #1967D2;\n",
              "      height: 32px;\n",
              "      padding: 0 0 0 0;\n",
              "      width: 32px;\n",
              "    }\n",
              "\n",
              "    .colab-df-convert:hover {\n",
              "      background-color: #E2EBFA;\n",
              "      box-shadow: 0px 1px 2px rgba(60, 64, 67, 0.3), 0px 1px 3px 1px rgba(60, 64, 67, 0.15);\n",
              "      fill: #174EA6;\n",
              "    }\n",
              "\n",
              "    .colab-df-buttons div {\n",
              "      margin-bottom: 4px;\n",
              "    }\n",
              "\n",
              "    [theme=dark] .colab-df-convert {\n",
              "      background-color: #3B4455;\n",
              "      fill: #D2E3FC;\n",
              "    }\n",
              "\n",
              "    [theme=dark] .colab-df-convert:hover {\n",
              "      background-color: #434B5C;\n",
              "      box-shadow: 0px 1px 3px 1px rgba(0, 0, 0, 0.15);\n",
              "      filter: drop-shadow(0px 1px 2px rgba(0, 0, 0, 0.3));\n",
              "      fill: #FFFFFF;\n",
              "    }\n",
              "  </style>\n",
              "\n",
              "    <script>\n",
              "      const buttonEl =\n",
              "        document.querySelector('#df-7183aeff-1e46-453a-8278-57f5abfef34e button.colab-df-convert');\n",
              "      buttonEl.style.display =\n",
              "        google.colab.kernel.accessAllowed ? 'block' : 'none';\n",
              "\n",
              "      async function convertToInteractive(key) {\n",
              "        const element = document.querySelector('#df-7183aeff-1e46-453a-8278-57f5abfef34e');\n",
              "        const dataTable =\n",
              "          await google.colab.kernel.invokeFunction('convertToInteractive',\n",
              "                                                    [key], {});\n",
              "        if (!dataTable) return;\n",
              "\n",
              "        const docLinkHtml = 'Like what you see? Visit the ' +\n",
              "          '<a target=\"_blank\" href=https://colab.research.google.com/notebooks/data_table.ipynb>data table notebook</a>'\n",
              "          + ' to learn more about interactive tables.';\n",
              "        element.innerHTML = '';\n",
              "        dataTable['output_type'] = 'display_data';\n",
              "        await google.colab.output.renderOutput(dataTable, element);\n",
              "        const docLink = document.createElement('div');\n",
              "        docLink.innerHTML = docLinkHtml;\n",
              "        element.appendChild(docLink);\n",
              "      }\n",
              "    </script>\n",
              "  </div>\n",
              "\n",
              "\n",
              "    <div id=\"df-16afc0de-513e-4577-a876-e0cbb3ed98ba\">\n",
              "      <button class=\"colab-df-quickchart\" onclick=\"quickchart('df-16afc0de-513e-4577-a876-e0cbb3ed98ba')\"\n",
              "                title=\"Suggest charts\"\n",
              "                style=\"display:none;\">\n",
              "\n",
              "<svg xmlns=\"http://www.w3.org/2000/svg\" height=\"24px\"viewBox=\"0 0 24 24\"\n",
              "     width=\"24px\">\n",
              "    <g>\n",
              "        <path d=\"M19 3H5c-1.1 0-2 .9-2 2v14c0 1.1.9 2 2 2h14c1.1 0 2-.9 2-2V5c0-1.1-.9-2-2-2zM9 17H7v-7h2v7zm4 0h-2V7h2v10zm4 0h-2v-4h2v4z\"/>\n",
              "    </g>\n",
              "</svg>\n",
              "      </button>\n",
              "\n",
              "<style>\n",
              "  .colab-df-quickchart {\n",
              "      --bg-color: #E8F0FE;\n",
              "      --fill-color: #1967D2;\n",
              "      --hover-bg-color: #E2EBFA;\n",
              "      --hover-fill-color: #174EA6;\n",
              "      --disabled-fill-color: #AAA;\n",
              "      --disabled-bg-color: #DDD;\n",
              "  }\n",
              "\n",
              "  [theme=dark] .colab-df-quickchart {\n",
              "      --bg-color: #3B4455;\n",
              "      --fill-color: #D2E3FC;\n",
              "      --hover-bg-color: #434B5C;\n",
              "      --hover-fill-color: #FFFFFF;\n",
              "      --disabled-bg-color: #3B4455;\n",
              "      --disabled-fill-color: #666;\n",
              "  }\n",
              "\n",
              "  .colab-df-quickchart {\n",
              "    background-color: var(--bg-color);\n",
              "    border: none;\n",
              "    border-radius: 50%;\n",
              "    cursor: pointer;\n",
              "    display: none;\n",
              "    fill: var(--fill-color);\n",
              "    height: 32px;\n",
              "    padding: 0;\n",
              "    width: 32px;\n",
              "  }\n",
              "\n",
              "  .colab-df-quickchart:hover {\n",
              "    background-color: var(--hover-bg-color);\n",
              "    box-shadow: 0 1px 2px rgba(60, 64, 67, 0.3), 0 1px 3px 1px rgba(60, 64, 67, 0.15);\n",
              "    fill: var(--button-hover-fill-color);\n",
              "  }\n",
              "\n",
              "  .colab-df-quickchart-complete:disabled,\n",
              "  .colab-df-quickchart-complete:disabled:hover {\n",
              "    background-color: var(--disabled-bg-color);\n",
              "    fill: var(--disabled-fill-color);\n",
              "    box-shadow: none;\n",
              "  }\n",
              "\n",
              "  .colab-df-spinner {\n",
              "    border: 2px solid var(--fill-color);\n",
              "    border-color: transparent;\n",
              "    border-bottom-color: var(--fill-color);\n",
              "    animation:\n",
              "      spin 1s steps(1) infinite;\n",
              "  }\n",
              "\n",
              "  @keyframes spin {\n",
              "    0% {\n",
              "      border-color: transparent;\n",
              "      border-bottom-color: var(--fill-color);\n",
              "      border-left-color: var(--fill-color);\n",
              "    }\n",
              "    20% {\n",
              "      border-color: transparent;\n",
              "      border-left-color: var(--fill-color);\n",
              "      border-top-color: var(--fill-color);\n",
              "    }\n",
              "    30% {\n",
              "      border-color: transparent;\n",
              "      border-left-color: var(--fill-color);\n",
              "      border-top-color: var(--fill-color);\n",
              "      border-right-color: var(--fill-color);\n",
              "    }\n",
              "    40% {\n",
              "      border-color: transparent;\n",
              "      border-right-color: var(--fill-color);\n",
              "      border-top-color: var(--fill-color);\n",
              "    }\n",
              "    60% {\n",
              "      border-color: transparent;\n",
              "      border-right-color: var(--fill-color);\n",
              "    }\n",
              "    80% {\n",
              "      border-color: transparent;\n",
              "      border-right-color: var(--fill-color);\n",
              "      border-bottom-color: var(--fill-color);\n",
              "    }\n",
              "    90% {\n",
              "      border-color: transparent;\n",
              "      border-bottom-color: var(--fill-color);\n",
              "    }\n",
              "  }\n",
              "</style>\n",
              "\n",
              "      <script>\n",
              "        async function quickchart(key) {\n",
              "          const quickchartButtonEl =\n",
              "            document.querySelector('#' + key + ' button');\n",
              "          quickchartButtonEl.disabled = true;  // To prevent multiple clicks.\n",
              "          quickchartButtonEl.classList.add('colab-df-spinner');\n",
              "          try {\n",
              "            const charts = await google.colab.kernel.invokeFunction(\n",
              "                'suggestCharts', [key], {});\n",
              "          } catch (error) {\n",
              "            console.error('Error during call to suggestCharts:', error);\n",
              "          }\n",
              "          quickchartButtonEl.classList.remove('colab-df-spinner');\n",
              "          quickchartButtonEl.classList.add('colab-df-quickchart-complete');\n",
              "        }\n",
              "        (() => {\n",
              "          let quickchartButtonEl =\n",
              "            document.querySelector('#df-16afc0de-513e-4577-a876-e0cbb3ed98ba button');\n",
              "          quickchartButtonEl.style.display =\n",
              "            google.colab.kernel.accessAllowed ? 'block' : 'none';\n",
              "        })();\n",
              "      </script>\n",
              "    </div>\n",
              "\n",
              "    </div>\n",
              "  </div>\n"
            ],
            "application/vnd.google.colaboratory.intrinsic+json": {
              "type": "dataframe",
              "variable_name": "bitcoin_prices",
              "summary": "{\n  \"name\": \"bitcoin_prices\",\n  \"rows\": 2787,\n  \"fields\": [\n    {\n      \"column\": \"Date\",\n      \"properties\": {\n        \"dtype\": \"date\",\n        \"min\": \"2013-10-01 00:00:00\",\n        \"max\": \"2021-05-18 00:00:00\",\n        \"num_unique_values\": 2787,\n        \"samples\": [\n          \"2019-06-11 00:00:00\",\n          \"2021-05-03 00:00:00\",\n          \"2017-10-05 00:00:00\"\n        ],\n        \"semantic_type\": \"\",\n        \"description\": \"\"\n      }\n    },\n    {\n      \"column\": \"price\",\n      \"properties\": {\n        \"dtype\": \"number\",\n        \"std\": 10887.847444369514,\n        \"min\": 108.58483,\n        \"max\": 63346.7890351052,\n        \"num_unique_values\": 2787,\n        \"samples\": [\n          7954.0062377205,\n          56427.0431250152,\n          4186.78374\n        ],\n        \"semantic_type\": \"\",\n        \"description\": \"\"\n      }\n    }\n  ]\n}"
            }
          },
          "metadata": {},
          "execution_count": 69
        }
      ],
      "execution_count": 69
    },
    {
      "metadata": {
        "ExecuteTime": {
          "end_time": "2025-07-22T09:03:40.160771Z",
          "start_time": "2025-07-22T09:03:40.153585Z"
        },
        "id": "5a4a53250684a4b0"
      },
      "cell_type": "code",
      "source": [
        "#block reward date\n",
        "block_reward_1 = 50 # not in dataset\n",
        "block_reward_2 = 25 # 8.11.2012\n",
        "block_reward_3 = 12.5 # 9.7.206\n",
        "block_reward_4 = 6.25 # 18.5.2020\n",
        "\n",
        "#block reward dates\n",
        "block_reward_2_datetime = np.datetime64(\"2012-11-28\")\n",
        "block_reward_3_datetime = np.datetime64(\"2016-07-09\")\n",
        "block_reward_4_datetime = np.datetime64(\"2020-05-18\")\n",
        "\n",
        "block_reward_2_days = (block_reward_3_datetime - bitcoin_prices.index[0]).days\n",
        "block_reward_3_days = (block_reward_4_datetime - bitcoin_prices.index[0]).days\n"
      ],
      "id": "5a4a53250684a4b0",
      "outputs": [],
      "execution_count": 70
    },
    {
      "metadata": {
        "ExecuteTime": {
          "end_time": "2025-07-22T09:03:40.266037Z",
          "start_time": "2025-07-22T09:03:40.247379Z"
        },
        "id": "8d21d9ce0af34c97",
        "outputId": "7e73ac48-7a6d-49b2-a6d6-7a89b4dbd4d9",
        "colab": {
          "base_uri": "https://localhost:8080/",
          "height": 455
        }
      },
      "cell_type": "code",
      "source": [
        "bitcoin_prices_block = bitcoin_prices.copy()\n",
        "bitcoin_prices_block[\"block_reward\"] = None\n",
        "bitcoin_prices_block.iloc[:block_reward_2_days, -1] = block_reward_2\n",
        "bitcoin_prices_block.iloc[block_reward_2_days:block_reward_3_days, -1] = block_reward_3\n",
        "bitcoin_prices_block.iloc[block_reward_3_days:, -1] = block_reward_4\n",
        "bitcoin_prices_block"
      ],
      "id": "8d21d9ce0af34c97",
      "outputs": [
        {
          "output_type": "execute_result",
          "data": {
            "text/plain": [
              "                   price block_reward\n",
              "Date                                 \n",
              "2013-10-01    123.654990           25\n",
              "2013-10-02    125.455000           25\n",
              "2013-10-03    108.584830           25\n",
              "2013-10-04    118.674660           25\n",
              "2013-10-05    121.338660           25\n",
              "...                  ...          ...\n",
              "2021-05-14  49764.132082         6.25\n",
              "2021-05-15  50032.693137         6.25\n",
              "2021-05-16  47885.625255         6.25\n",
              "2021-05-17  45604.615754         6.25\n",
              "2021-05-18  43144.471291         6.25\n",
              "\n",
              "[2787 rows x 2 columns]"
            ],
            "text/html": [
              "\n",
              "  <div id=\"df-ef781d4b-7c22-4801-843b-2f4935298f05\" class=\"colab-df-container\">\n",
              "    <div>\n",
              "<style scoped>\n",
              "    .dataframe tbody tr th:only-of-type {\n",
              "        vertical-align: middle;\n",
              "    }\n",
              "\n",
              "    .dataframe tbody tr th {\n",
              "        vertical-align: top;\n",
              "    }\n",
              "\n",
              "    .dataframe thead th {\n",
              "        text-align: right;\n",
              "    }\n",
              "</style>\n",
              "<table border=\"1\" class=\"dataframe\">\n",
              "  <thead>\n",
              "    <tr style=\"text-align: right;\">\n",
              "      <th></th>\n",
              "      <th>price</th>\n",
              "      <th>block_reward</th>\n",
              "    </tr>\n",
              "    <tr>\n",
              "      <th>Date</th>\n",
              "      <th></th>\n",
              "      <th></th>\n",
              "    </tr>\n",
              "  </thead>\n",
              "  <tbody>\n",
              "    <tr>\n",
              "      <th>2013-10-01</th>\n",
              "      <td>123.654990</td>\n",
              "      <td>25</td>\n",
              "    </tr>\n",
              "    <tr>\n",
              "      <th>2013-10-02</th>\n",
              "      <td>125.455000</td>\n",
              "      <td>25</td>\n",
              "    </tr>\n",
              "    <tr>\n",
              "      <th>2013-10-03</th>\n",
              "      <td>108.584830</td>\n",
              "      <td>25</td>\n",
              "    </tr>\n",
              "    <tr>\n",
              "      <th>2013-10-04</th>\n",
              "      <td>118.674660</td>\n",
              "      <td>25</td>\n",
              "    </tr>\n",
              "    <tr>\n",
              "      <th>2013-10-05</th>\n",
              "      <td>121.338660</td>\n",
              "      <td>25</td>\n",
              "    </tr>\n",
              "    <tr>\n",
              "      <th>...</th>\n",
              "      <td>...</td>\n",
              "      <td>...</td>\n",
              "    </tr>\n",
              "    <tr>\n",
              "      <th>2021-05-14</th>\n",
              "      <td>49764.132082</td>\n",
              "      <td>6.25</td>\n",
              "    </tr>\n",
              "    <tr>\n",
              "      <th>2021-05-15</th>\n",
              "      <td>50032.693137</td>\n",
              "      <td>6.25</td>\n",
              "    </tr>\n",
              "    <tr>\n",
              "      <th>2021-05-16</th>\n",
              "      <td>47885.625255</td>\n",
              "      <td>6.25</td>\n",
              "    </tr>\n",
              "    <tr>\n",
              "      <th>2021-05-17</th>\n",
              "      <td>45604.615754</td>\n",
              "      <td>6.25</td>\n",
              "    </tr>\n",
              "    <tr>\n",
              "      <th>2021-05-18</th>\n",
              "      <td>43144.471291</td>\n",
              "      <td>6.25</td>\n",
              "    </tr>\n",
              "  </tbody>\n",
              "</table>\n",
              "<p>2787 rows × 2 columns</p>\n",
              "</div>\n",
              "    <div class=\"colab-df-buttons\">\n",
              "\n",
              "  <div class=\"colab-df-container\">\n",
              "    <button class=\"colab-df-convert\" onclick=\"convertToInteractive('df-ef781d4b-7c22-4801-843b-2f4935298f05')\"\n",
              "            title=\"Convert this dataframe to an interactive table.\"\n",
              "            style=\"display:none;\">\n",
              "\n",
              "  <svg xmlns=\"http://www.w3.org/2000/svg\" height=\"24px\" viewBox=\"0 -960 960 960\">\n",
              "    <path d=\"M120-120v-720h720v720H120Zm60-500h600v-160H180v160Zm220 220h160v-160H400v160Zm0 220h160v-160H400v160ZM180-400h160v-160H180v160Zm440 0h160v-160H620v160ZM180-180h160v-160H180v160Zm440 0h160v-160H620v160Z\"/>\n",
              "  </svg>\n",
              "    </button>\n",
              "\n",
              "  <style>\n",
              "    .colab-df-container {\n",
              "      display:flex;\n",
              "      gap: 12px;\n",
              "    }\n",
              "\n",
              "    .colab-df-convert {\n",
              "      background-color: #E8F0FE;\n",
              "      border: none;\n",
              "      border-radius: 50%;\n",
              "      cursor: pointer;\n",
              "      display: none;\n",
              "      fill: #1967D2;\n",
              "      height: 32px;\n",
              "      padding: 0 0 0 0;\n",
              "      width: 32px;\n",
              "    }\n",
              "\n",
              "    .colab-df-convert:hover {\n",
              "      background-color: #E2EBFA;\n",
              "      box-shadow: 0px 1px 2px rgba(60, 64, 67, 0.3), 0px 1px 3px 1px rgba(60, 64, 67, 0.15);\n",
              "      fill: #174EA6;\n",
              "    }\n",
              "\n",
              "    .colab-df-buttons div {\n",
              "      margin-bottom: 4px;\n",
              "    }\n",
              "\n",
              "    [theme=dark] .colab-df-convert {\n",
              "      background-color: #3B4455;\n",
              "      fill: #D2E3FC;\n",
              "    }\n",
              "\n",
              "    [theme=dark] .colab-df-convert:hover {\n",
              "      background-color: #434B5C;\n",
              "      box-shadow: 0px 1px 3px 1px rgba(0, 0, 0, 0.15);\n",
              "      filter: drop-shadow(0px 1px 2px rgba(0, 0, 0, 0.3));\n",
              "      fill: #FFFFFF;\n",
              "    }\n",
              "  </style>\n",
              "\n",
              "    <script>\n",
              "      const buttonEl =\n",
              "        document.querySelector('#df-ef781d4b-7c22-4801-843b-2f4935298f05 button.colab-df-convert');\n",
              "      buttonEl.style.display =\n",
              "        google.colab.kernel.accessAllowed ? 'block' : 'none';\n",
              "\n",
              "      async function convertToInteractive(key) {\n",
              "        const element = document.querySelector('#df-ef781d4b-7c22-4801-843b-2f4935298f05');\n",
              "        const dataTable =\n",
              "          await google.colab.kernel.invokeFunction('convertToInteractive',\n",
              "                                                    [key], {});\n",
              "        if (!dataTable) return;\n",
              "\n",
              "        const docLinkHtml = 'Like what you see? Visit the ' +\n",
              "          '<a target=\"_blank\" href=https://colab.research.google.com/notebooks/data_table.ipynb>data table notebook</a>'\n",
              "          + ' to learn more about interactive tables.';\n",
              "        element.innerHTML = '';\n",
              "        dataTable['output_type'] = 'display_data';\n",
              "        await google.colab.output.renderOutput(dataTable, element);\n",
              "        const docLink = document.createElement('div');\n",
              "        docLink.innerHTML = docLinkHtml;\n",
              "        element.appendChild(docLink);\n",
              "      }\n",
              "    </script>\n",
              "  </div>\n",
              "\n",
              "\n",
              "    <div id=\"df-97b3e4cb-4056-4cc8-b78f-365f7fc84749\">\n",
              "      <button class=\"colab-df-quickchart\" onclick=\"quickchart('df-97b3e4cb-4056-4cc8-b78f-365f7fc84749')\"\n",
              "                title=\"Suggest charts\"\n",
              "                style=\"display:none;\">\n",
              "\n",
              "<svg xmlns=\"http://www.w3.org/2000/svg\" height=\"24px\"viewBox=\"0 0 24 24\"\n",
              "     width=\"24px\">\n",
              "    <g>\n",
              "        <path d=\"M19 3H5c-1.1 0-2 .9-2 2v14c0 1.1.9 2 2 2h14c1.1 0 2-.9 2-2V5c0-1.1-.9-2-2-2zM9 17H7v-7h2v7zm4 0h-2V7h2v10zm4 0h-2v-4h2v4z\"/>\n",
              "    </g>\n",
              "</svg>\n",
              "      </button>\n",
              "\n",
              "<style>\n",
              "  .colab-df-quickchart {\n",
              "      --bg-color: #E8F0FE;\n",
              "      --fill-color: #1967D2;\n",
              "      --hover-bg-color: #E2EBFA;\n",
              "      --hover-fill-color: #174EA6;\n",
              "      --disabled-fill-color: #AAA;\n",
              "      --disabled-bg-color: #DDD;\n",
              "  }\n",
              "\n",
              "  [theme=dark] .colab-df-quickchart {\n",
              "      --bg-color: #3B4455;\n",
              "      --fill-color: #D2E3FC;\n",
              "      --hover-bg-color: #434B5C;\n",
              "      --hover-fill-color: #FFFFFF;\n",
              "      --disabled-bg-color: #3B4455;\n",
              "      --disabled-fill-color: #666;\n",
              "  }\n",
              "\n",
              "  .colab-df-quickchart {\n",
              "    background-color: var(--bg-color);\n",
              "    border: none;\n",
              "    border-radius: 50%;\n",
              "    cursor: pointer;\n",
              "    display: none;\n",
              "    fill: var(--fill-color);\n",
              "    height: 32px;\n",
              "    padding: 0;\n",
              "    width: 32px;\n",
              "  }\n",
              "\n",
              "  .colab-df-quickchart:hover {\n",
              "    background-color: var(--hover-bg-color);\n",
              "    box-shadow: 0 1px 2px rgba(60, 64, 67, 0.3), 0 1px 3px 1px rgba(60, 64, 67, 0.15);\n",
              "    fill: var(--button-hover-fill-color);\n",
              "  }\n",
              "\n",
              "  .colab-df-quickchart-complete:disabled,\n",
              "  .colab-df-quickchart-complete:disabled:hover {\n",
              "    background-color: var(--disabled-bg-color);\n",
              "    fill: var(--disabled-fill-color);\n",
              "    box-shadow: none;\n",
              "  }\n",
              "\n",
              "  .colab-df-spinner {\n",
              "    border: 2px solid var(--fill-color);\n",
              "    border-color: transparent;\n",
              "    border-bottom-color: var(--fill-color);\n",
              "    animation:\n",
              "      spin 1s steps(1) infinite;\n",
              "  }\n",
              "\n",
              "  @keyframes spin {\n",
              "    0% {\n",
              "      border-color: transparent;\n",
              "      border-bottom-color: var(--fill-color);\n",
              "      border-left-color: var(--fill-color);\n",
              "    }\n",
              "    20% {\n",
              "      border-color: transparent;\n",
              "      border-left-color: var(--fill-color);\n",
              "      border-top-color: var(--fill-color);\n",
              "    }\n",
              "    30% {\n",
              "      border-color: transparent;\n",
              "      border-left-color: var(--fill-color);\n",
              "      border-top-color: var(--fill-color);\n",
              "      border-right-color: var(--fill-color);\n",
              "    }\n",
              "    40% {\n",
              "      border-color: transparent;\n",
              "      border-right-color: var(--fill-color);\n",
              "      border-top-color: var(--fill-color);\n",
              "    }\n",
              "    60% {\n",
              "      border-color: transparent;\n",
              "      border-right-color: var(--fill-color);\n",
              "    }\n",
              "    80% {\n",
              "      border-color: transparent;\n",
              "      border-right-color: var(--fill-color);\n",
              "      border-bottom-color: var(--fill-color);\n",
              "    }\n",
              "    90% {\n",
              "      border-color: transparent;\n",
              "      border-bottom-color: var(--fill-color);\n",
              "    }\n",
              "  }\n",
              "</style>\n",
              "\n",
              "      <script>\n",
              "        async function quickchart(key) {\n",
              "          const quickchartButtonEl =\n",
              "            document.querySelector('#' + key + ' button');\n",
              "          quickchartButtonEl.disabled = true;  // To prevent multiple clicks.\n",
              "          quickchartButtonEl.classList.add('colab-df-spinner');\n",
              "          try {\n",
              "            const charts = await google.colab.kernel.invokeFunction(\n",
              "                'suggestCharts', [key], {});\n",
              "          } catch (error) {\n",
              "            console.error('Error during call to suggestCharts:', error);\n",
              "          }\n",
              "          quickchartButtonEl.classList.remove('colab-df-spinner');\n",
              "          quickchartButtonEl.classList.add('colab-df-quickchart-complete');\n",
              "        }\n",
              "        (() => {\n",
              "          let quickchartButtonEl =\n",
              "            document.querySelector('#df-97b3e4cb-4056-4cc8-b78f-365f7fc84749 button');\n",
              "          quickchartButtonEl.style.display =\n",
              "            google.colab.kernel.accessAllowed ? 'block' : 'none';\n",
              "        })();\n",
              "      </script>\n",
              "    </div>\n",
              "\n",
              "  <div id=\"id_23a3e2f3-1d20-4cc9-a2ec-c070c35ff650\">\n",
              "    <style>\n",
              "      .colab-df-generate {\n",
              "        background-color: #E8F0FE;\n",
              "        border: none;\n",
              "        border-radius: 50%;\n",
              "        cursor: pointer;\n",
              "        display: none;\n",
              "        fill: #1967D2;\n",
              "        height: 32px;\n",
              "        padding: 0 0 0 0;\n",
              "        width: 32px;\n",
              "      }\n",
              "\n",
              "      .colab-df-generate:hover {\n",
              "        background-color: #E2EBFA;\n",
              "        box-shadow: 0px 1px 2px rgba(60, 64, 67, 0.3), 0px 1px 3px 1px rgba(60, 64, 67, 0.15);\n",
              "        fill: #174EA6;\n",
              "      }\n",
              "\n",
              "      [theme=dark] .colab-df-generate {\n",
              "        background-color: #3B4455;\n",
              "        fill: #D2E3FC;\n",
              "      }\n",
              "\n",
              "      [theme=dark] .colab-df-generate:hover {\n",
              "        background-color: #434B5C;\n",
              "        box-shadow: 0px 1px 3px 1px rgba(0, 0, 0, 0.15);\n",
              "        filter: drop-shadow(0px 1px 2px rgba(0, 0, 0, 0.3));\n",
              "        fill: #FFFFFF;\n",
              "      }\n",
              "    </style>\n",
              "    <button class=\"colab-df-generate\" onclick=\"generateWithVariable('bitcoin_prices_block')\"\n",
              "            title=\"Generate code using this dataframe.\"\n",
              "            style=\"display:none;\">\n",
              "\n",
              "  <svg xmlns=\"http://www.w3.org/2000/svg\" height=\"24px\"viewBox=\"0 0 24 24\"\n",
              "       width=\"24px\">\n",
              "    <path d=\"M7,19H8.4L18.45,9,17,7.55,7,17.6ZM5,21V16.75L18.45,3.32a2,2,0,0,1,2.83,0l1.4,1.43a1.91,1.91,0,0,1,.58,1.4,1.91,1.91,0,0,1-.58,1.4L9.25,21ZM18.45,9,17,7.55Zm-12,3A5.31,5.31,0,0,0,4.9,8.1,5.31,5.31,0,0,0,1,6.5,5.31,5.31,0,0,0,4.9,4.9,5.31,5.31,0,0,0,6.5,1,5.31,5.31,0,0,0,8.1,4.9,5.31,5.31,0,0,0,12,6.5,5.46,5.46,0,0,0,6.5,12Z\"/>\n",
              "  </svg>\n",
              "    </button>\n",
              "    <script>\n",
              "      (() => {\n",
              "      const buttonEl =\n",
              "        document.querySelector('#id_23a3e2f3-1d20-4cc9-a2ec-c070c35ff650 button.colab-df-generate');\n",
              "      buttonEl.style.display =\n",
              "        google.colab.kernel.accessAllowed ? 'block' : 'none';\n",
              "\n",
              "      buttonEl.onclick = () => {\n",
              "        google.colab.notebook.generateWithVariable('bitcoin_prices_block');\n",
              "      }\n",
              "      })();\n",
              "    </script>\n",
              "  </div>\n",
              "\n",
              "    </div>\n",
              "  </div>\n"
            ],
            "application/vnd.google.colaboratory.intrinsic+json": {
              "type": "dataframe",
              "variable_name": "bitcoin_prices_block",
              "summary": "{\n  \"name\": \"bitcoin_prices_block\",\n  \"rows\": 2787,\n  \"fields\": [\n    {\n      \"column\": \"Date\",\n      \"properties\": {\n        \"dtype\": \"date\",\n        \"min\": \"2013-10-01 00:00:00\",\n        \"max\": \"2021-05-18 00:00:00\",\n        \"num_unique_values\": 2787,\n        \"samples\": [\n          \"2019-06-11 00:00:00\",\n          \"2021-05-03 00:00:00\",\n          \"2017-10-05 00:00:00\"\n        ],\n        \"semantic_type\": \"\",\n        \"description\": \"\"\n      }\n    },\n    {\n      \"column\": \"price\",\n      \"properties\": {\n        \"dtype\": \"number\",\n        \"std\": 10887.847444369514,\n        \"min\": 108.58483,\n        \"max\": 63346.7890351052,\n        \"num_unique_values\": 2787,\n        \"samples\": [\n          7954.0062377205,\n          56427.0431250152,\n          4186.78374\n        ],\n        \"semantic_type\": \"\",\n        \"description\": \"\"\n      }\n    },\n    {\n      \"column\": \"block_reward\",\n      \"properties\": {\n        \"dtype\": \"date\",\n        \"min\": 6.25,\n        \"max\": 25,\n        \"num_unique_values\": 3,\n        \"samples\": [\n          25,\n          12.5,\n          6.25\n        ],\n        \"semantic_type\": \"\",\n        \"description\": \"\"\n      }\n    }\n  ]\n}"
            }
          },
          "metadata": {},
          "execution_count": 71
        }
      ],
      "execution_count": 71
    },
    {
      "metadata": {
        "ExecuteTime": {
          "end_time": "2025-07-22T09:03:41.010694Z",
          "start_time": "2025-07-22T09:03:40.634816Z"
        },
        "id": "6cd96e4e4a4b5d31",
        "outputId": "eb7205e5-07e8-4063-e7cb-d8a37157d0b4",
        "colab": {
          "base_uri": "https://localhost:8080/",
          "height": 637
        }
      },
      "cell_type": "code",
      "source": [
        "from sklearn.preprocessing import minmax_scale\n",
        "\n",
        "scaled_price_block_df = pd.DataFrame(\n",
        "    minmax_scale(bitcoin_prices_block[[\"price\", \"block_reward\"]]),\n",
        "    columns =bitcoin_prices_block.columns,\n",
        "    index = bitcoin_prices_block.index)\n",
        "\n",
        "scaled_price_block_df.plot(figsize=(10, 7))"
      ],
      "id": "6cd96e4e4a4b5d31",
      "outputs": [
        {
          "output_type": "execute_result",
          "data": {
            "text/plain": [
              "<Axes: xlabel='Date'>"
            ]
          },
          "metadata": {},
          "execution_count": 72
        },
        {
          "output_type": "display_data",
          "data": {
            "text/plain": [
              "<Figure size 1000x700 with 1 Axes>"
            ],
            "image/png": "[encoded data removed]"
          },
          "metadata": {}
        }
      ],
      "execution_count": 72
    },
    {
      "metadata": {
        "ExecuteTime": {
          "end_time": "2025-07-22T09:03:41.333725Z",
          "start_time": "2025-07-22T09:03:41.316772Z"
        },
        "id": "d6530bdfe0ede414",
        "outputId": "8b86015d-1ee0-49b5-e2f0-1d1f944fe4f1",
        "colab": {
          "base_uri": "https://localhost:8080/",
          "height": 455
        }
      },
      "cell_type": "code",
      "source": [
        "HORIZON = 1\n",
        "WINDOW_SIZE = 7\n",
        "\n",
        "bitcoin_prices_windowed = bitcoin_prices_block.copy()\n",
        "\n",
        "\n",
        "for i in range(WINDOW_SIZE): # shift values for each step in WINDOW SIZE\n",
        "    bitcoin_prices_windowed[f\"price_{i+1}\"] = (\n",
        "        bitcoin_prices_windowed[f\"price\"].shift(periods=i+1))\n",
        "\n",
        "bitcoin_prices_windowed"
      ],
      "id": "d6530bdfe0ede414",
      "outputs": [
        {
          "output_type": "execute_result",
          "data": {
            "text/plain": [
              "                   price block_reward       price_1       price_2  \\\n",
              "Date                                                                \n",
              "2013-10-01    123.654990           25           NaN           NaN   \n",
              "2013-10-02    125.455000           25    123.654990           NaN   \n",
              "2013-10-03    108.584830           25    125.455000    123.654990   \n",
              "2013-10-04    118.674660           25    108.584830    125.455000   \n",
              "2013-10-05    121.338660           25    118.674660    108.584830   \n",
              "...                  ...          ...           ...           ...   \n",
              "2021-05-14  49764.132082         6.25  52147.821187  56573.555472   \n",
              "2021-05-15  50032.693137         6.25  49764.132082  52147.821187   \n",
              "2021-05-16  47885.625255         6.25  50032.693137  49764.132082   \n",
              "2021-05-17  45604.615754         6.25  47885.625255  50032.693137   \n",
              "2021-05-18  43144.471291         6.25  45604.615754  47885.625255   \n",
              "\n",
              "                 price_3       price_4       price_5       price_6  \\\n",
              "Date                                                                 \n",
              "2013-10-01           NaN           NaN           NaN           NaN   \n",
              "2013-10-02           NaN           NaN           NaN           NaN   \n",
              "2013-10-03           NaN           NaN           NaN           NaN   \n",
              "2013-10-04    123.654990           NaN           NaN           NaN   \n",
              "2013-10-05    125.455000    123.654990           NaN           NaN   \n",
              "...                  ...           ...           ...           ...   \n",
              "2021-05-14  55715.546651  58102.191426  58788.209679  57107.120672   \n",
              "2021-05-15  56573.555472  55715.546651  58102.191426  58788.209679   \n",
              "2021-05-16  52147.821187  56573.555472  55715.546651  58102.191426   \n",
              "2021-05-17  49764.132082  52147.821187  56573.555472  55715.546651   \n",
              "2021-05-18  50032.693137  49764.132082  52147.821187  56573.555472   \n",
              "\n",
              "                 price_7  \n",
              "Date                      \n",
              "2013-10-01           NaN  \n",
              "2013-10-02           NaN  \n",
              "2013-10-03           NaN  \n",
              "2013-10-04           NaN  \n",
              "2013-10-05           NaN  \n",
              "...                  ...  \n",
              "2021-05-14  56583.849879  \n",
              "2021-05-15  57107.120672  \n",
              "2021-05-16  58788.209679  \n",
              "2021-05-17  58102.191426  \n",
              "2021-05-18  55715.546651  \n",
              "\n",
              "[2787 rows x 9 columns]"
            ],
            "text/html": [
              "\n",
              "  <div id=\"df-02588d38-914c-4f9e-a6b3-2d0fd0d57e43\" class=\"colab-df-container\">\n",
              "    <div>\n",
              "<style scoped>\n",
              "    .dataframe tbody tr th:only-of-type {\n",
              "        vertical-align: middle;\n",
              "    }\n",
              "\n",
              "    .dataframe tbody tr th {\n",
              "        vertical-align: top;\n",
              "    }\n",
              "\n",
              "    .dataframe thead th {\n",
              "        text-align: right;\n",
              "    }\n",
              "</style>\n",
              "<table border=\"1\" class=\"dataframe\">\n",
              "  <thead>\n",
              "    <tr style=\"text-align: right;\">\n",
              "      <th></th>\n",
              "      <th>price</th>\n",
              "      <th>block_reward</th>\n",
              "      <th>price_1</th>\n",
              "      <th>price_2</th>\n",
              "      <th>price_3</th>\n",
              "      <th>price_4</th>\n",
              "      <th>price_5</th>\n",
              "      <th>price_6</th>\n",
              "      <th>price_7</th>\n",
              "    </tr>\n",
              "    <tr>\n",
              "      <th>Date</th>\n",
              "      <th></th>\n",
              "      <th></th>\n",
              "      <th></th>\n",
              "      <th></th>\n",
              "      <th></th>\n",
              "      <th></th>\n",
              "      <th></th>\n",
              "      <th></th>\n",
              "      <th></th>\n",
              "    </tr>\n",
              "  </thead>\n",
              "  <tbody>\n",
              "    <tr>\n",
              "      <th>2013-10-01</th>\n",
              "      <td>123.654990</td>\n",
              "      <td>25</td>\n",
              "      <td>NaN</td>\n",
              "      <td>NaN</td>\n",
              "      <td>NaN</td>\n",
              "      <td>NaN</td>\n",
              "      <td>NaN</td>\n",
              "      <td>NaN</td>\n",
              "      <td>NaN</td>\n",
              "    </tr>\n",
              "    <tr>\n",
              "      <th>2013-10-02</th>\n",
              "      <td>125.455000</td>\n",
              "      <td>25</td>\n",
              "      <td>123.654990</td>\n",
              "      <td>NaN</td>\n",
              "      <td>NaN</td>\n",
              "      <td>NaN</td>\n",
              "      <td>NaN</td>\n",
              "      <td>NaN</td>\n",
              "      <td>NaN</td>\n",
              "    </tr>\n",
              "    <tr>\n",
              "      <th>2013-10-03</th>\n",
              "      <td>108.584830</td>\n",
              "      <td>25</td>\n",
              "      <td>125.455000</td>\n",
              "      <td>123.654990</td>\n",
              "      <td>NaN</td>\n",
              "      <td>NaN</td>\n",
              "      <td>NaN</td>\n",
              "      <td>NaN</td>\n",
              "      <td>NaN</td>\n",
              "    </tr>\n",
              "    <tr>\n",
              "      <th>2013-10-04</th>\n",
              "      <td>118.674660</td>\n",
              "      <td>25</td>\n",
              "      <td>108.584830</td>\n",
              "      <td>125.455000</td>\n",
              "      <td>123.654990</td>\n",
              "      <td>NaN</td>\n",
              "      <td>NaN</td>\n",
              "      <td>NaN</td>\n",
              "      <td>NaN</td>\n",
              "    </tr>\n",
              "    <tr>\n",
              "      <th>2013-10-05</th>\n",
              "      <td>121.338660</td>\n",
              "      <td>25</td>\n",
              "      <td>118.674660</td>\n",
              "      <td>108.584830</td>\n",
              "      <td>125.455000</td>\n",
              "      <td>123.654990</td>\n",
              "      <td>NaN</td>\n",
              "      <td>NaN</td>\n",
              "      <td>NaN</td>\n",
              "    </tr>\n",
              "    <tr>\n",
              "      <th>...</th>\n",
              "      <td>...</td>\n",
              "      <td>...</td>\n",
              "      <td>...</td>\n",
              "      <td>...</td>\n",
              "      <td>...</td>\n",
              "      <td>...</td>\n",
              "      <td>...</td>\n",
              "      <td>...</td>\n",
              "      <td>...</td>\n",
              "    </tr>\n",
              "    <tr>\n",
              "      <th>2021-05-14</th>\n",
              "      <td>49764.132082</td>\n",
              "      <td>6.25</td>\n",
              "      <td>52147.821187</td>\n",
              "      <td>56573.555472</td>\n",
              "      <td>55715.546651</td>\n",
              "      <td>58102.191426</td>\n",
              "      <td>58788.209679</td>\n",
              "      <td>57107.120672</td>\n",
              "      <td>56583.849879</td>\n",
              "    </tr>\n",
              "    <tr>\n",
              "      <th>2021-05-15</th>\n",
              "      <td>50032.693137</td>\n",
              "      <td>6.25</td>\n",
              "      <td>49764.132082</td>\n",
              "      <td>52147.821187</td>\n",
              "      <td>56573.555472</td>\n",
              "      <td>55715.546651</td>\n",
              "      <td>58102.191426</td>\n",
              "      <td>58788.209679</td>\n",
              "      <td>57107.120672</td>\n",
              "    </tr>\n",
              "    <tr>\n",
              "      <th>2021-05-16</th>\n",
              "      <td>47885.625255</td>\n",
              "      <td>6.25</td>\n",
              "      <td>50032.693137</td>\n",
              "      <td>49764.132082</td>\n",
              "      <td>52147.821187</td>\n",
              "      <td>56573.555472</td>\n",
              "      <td>55715.546651</td>\n",
              "      <td>58102.191426</td>\n",
              "      <td>58788.209679</td>\n",
              "    </tr>\n",
              "    <tr>\n",
              "      <th>2021-05-17</th>\n",
              "      <td>45604.615754</td>\n",
              "      <td>6.25</td>\n",
              "      <td>47885.625255</td>\n",
              "      <td>50032.693137</td>\n",
              "      <td>49764.132082</td>\n",
              "      <td>52147.821187</td>\n",
              "      <td>56573.555472</td>\n",
              "      <td>55715.546651</td>\n",
              "      <td>58102.191426</td>\n",
              "    </tr>\n",
              "    <tr>\n",
              "      <th>2021-05-18</th>\n",
              "      <td>43144.471291</td>\n",
              "      <td>6.25</td>\n",
              "      <td>45604.615754</td>\n",
              "      <td>47885.625255</td>\n",
              "      <td>50032.693137</td>\n",
              "      <td>49764.132082</td>\n",
              "      <td>52147.821187</td>\n",
              "      <td>56573.555472</td>\n",
              "      <td>55715.546651</td>\n",
              "    </tr>\n",
              "  </tbody>\n",
              "</table>\n",
              "<p>2787 rows × 9 columns</p>\n",
              "</div>\n",
              "    <div class=\"colab-df-buttons\">\n",
              "\n",
              "  <div class=\"colab-df-container\">\n",
              "    <button class=\"colab-df-convert\" onclick=\"convertToInteractive('df-02588d38-914c-4f9e-a6b3-2d0fd0d57e43')\"\n",
              "            title=\"Convert this dataframe to an interactive table.\"\n",
              "            style=\"display:none;\">\n",
              "\n",
              "  <svg xmlns=\"http://www.w3.org/2000/svg\" height=\"24px\" viewBox=\"0 -960 960 960\">\n",
              "    <path d=\"M120-120v-720h720v720H120Zm60-500h600v-160H180v160Zm220 220h160v-160H400v160Zm0 220h160v-160H400v160ZM180-400h160v-160H180v160Zm440 0h160v-160H620v160ZM180-180h160v-160H180v160Zm440 0h160v-160H620v160Z\"/>\n",
              "  </svg>\n",
              "    </button>\n",
              "\n",
              "  <style>\n",
              "    .colab-df-container {\n",
              "      display:flex;\n",
              "      gap: 12px;\n",
              "    }\n",
              "\n",
              "    .colab-df-convert {\n",
              "      background-color: #E8F0FE;\n",
              "      border: none;\n",
              "      border-radius: 50%;\n",
              "      cursor: pointer;\n",
              "      display: none;\n",
              "      fill: #1967D2;\n",
              "      height: 32px;\n",
              "      padding: 0 0 0 0;\n",
              "      width: 32px;\n",
              "    }\n",
              "\n",
              "    .colab-df-convert:hover {\n",
              "      background-color: #E2EBFA;\n",
              "      box-shadow: 0px 1px 2px rgba(60, 64, 67, 0.3), 0px 1px 3px 1px rgba(60, 64, 67, 0.15);\n",
              "      fill: #174EA6;\n",
              "    }\n",
              "\n",
              "    .colab-df-buttons div {\n",
              "      margin-bottom: 4px;\n",
              "    }\n",
              "\n",
              "    [theme=dark] .colab-df-convert {\n",
              "      background-color: #3B4455;\n",
              "      fill: #D2E3FC;\n",
              "    }\n",
              "\n",
              "    [theme=dark] .colab-df-convert:hover {\n",
              "      background-color: #434B5C;\n",
              "      box-shadow: 0px 1px 3px 1px rgba(0, 0, 0, 0.15);\n",
              "      filter: drop-shadow(0px 1px 2px rgba(0, 0, 0, 0.3));\n",
              "      fill: #FFFFFF;\n",
              "    }\n",
              "  </style>\n",
              "\n",
              "    <script>\n",
              "      const buttonEl =\n",
              "        document.querySelector('#df-02588d38-914c-4f9e-a6b3-2d0fd0d57e43 button.colab-df-convert');\n",
              "      buttonEl.style.display =\n",
              "        google.colab.kernel.accessAllowed ? 'block' : 'none';\n",
              "\n",
              "      async function convertToInteractive(key) {\n",
              "        const element = document.querySelector('#df-02588d38-914c-4f9e-a6b3-2d0fd0d57e43');\n",
              "        const dataTable =\n",
              "          await google.colab.kernel.invokeFunction('convertToInteractive',\n",
              "                                                    [key], {});\n",
              "        if (!dataTable) return;\n",
              "\n",
              "        const docLinkHtml = 'Like what you see? Visit the ' +\n",
              "          '<a target=\"_blank\" href=https://colab.research.google.com/notebooks/data_table.ipynb>data table notebook</a>'\n",
              "          + ' to learn more about interactive tables.';\n",
              "        element.innerHTML = '';\n",
              "        dataTable['output_type'] = 'display_data';\n",
              "        await google.colab.output.renderOutput(dataTable, element);\n",
              "        const docLink = document.createElement('div');\n",
              "        docLink.innerHTML = docLinkHtml;\n",
              "        element.appendChild(docLink);\n",
              "      }\n",
              "    </script>\n",
              "  </div>\n",
              "\n",
              "\n",
              "    <div id=\"df-f656a6ca-ac56-4c62-bdc5-8f7a21a323f4\">\n",
              "      <button class=\"colab-df-quickchart\" onclick=\"quickchart('df-f656a6ca-ac56-4c62-bdc5-8f7a21a323f4')\"\n",
              "                title=\"Suggest charts\"\n",
              "                style=\"display:none;\">\n",
              "\n",
              "<svg xmlns=\"http://www.w3.org/2000/svg\" height=\"24px\"viewBox=\"0 0 24 24\"\n",
              "     width=\"24px\">\n",
              "    <g>\n",
              "        <path d=\"M19 3H5c-1.1 0-2 .9-2 2v14c0 1.1.9 2 2 2h14c1.1 0 2-.9 2-2V5c0-1.1-.9-2-2-2zM9 17H7v-7h2v7zm4 0h-2V7h2v10zm4 0h-2v-4h2v4z\"/>\n",
              "    </g>\n",
              "</svg>\n",
              "      </button>\n",
              "\n",
              "<style>\n",
              "  .colab-df-quickchart {\n",
              "      --bg-color: #E8F0FE;\n",
              "      --fill-color: #1967D2;\n",
              "      --hover-bg-color: #E2EBFA;\n",
              "      --hover-fill-color: #174EA6;\n",
              "      --disabled-fill-color: #AAA;\n",
              "      --disabled-bg-color: #DDD;\n",
              "  }\n",
              "\n",
              "  [theme=dark] .colab-df-quickchart {\n",
              "      --bg-color: #3B4455;\n",
              "      --fill-color: #D2E3FC;\n",
              "      --hover-bg-color: #434B5C;\n",
              "      --hover-fill-color: #FFFFFF;\n",
              "      --disabled-bg-color: #3B4455;\n",
              "      --disabled-fill-color: #666;\n",
              "  }\n",
              "\n",
              "  .colab-df-quickchart {\n",
              "    background-color: var(--bg-color);\n",
              "    border: none;\n",
              "    border-radius: 50%;\n",
              "    cursor: pointer;\n",
              "    display: none;\n",
              "    fill: var(--fill-color);\n",
              "    height: 32px;\n",
              "    padding: 0;\n",
              "    width: 32px;\n",
              "  }\n",
              "\n",
              "  .colab-df-quickchart:hover {\n",
              "    background-color: var(--hover-bg-color);\n",
              "    box-shadow: 0 1px 2px rgba(60, 64, 67, 0.3), 0 1px 3px 1px rgba(60, 64, 67, 0.15);\n",
              "    fill: var(--button-hover-fill-color);\n",
              "  }\n",
              "\n",
              "  .colab-df-quickchart-complete:disabled,\n",
              "  .colab-df-quickchart-complete:disabled:hover {\n",
              "    background-color: var(--disabled-bg-color);\n",
              "    fill: var(--disabled-fill-color);\n",
              "    box-shadow: none;\n",
              "  }\n",
              "\n",
              "  .colab-df-spinner {\n",
              "    border: 2px solid var(--fill-color);\n",
              "    border-color: transparent;\n",
              "    border-bottom-color: var(--fill-color);\n",
              "    animation:\n",
              "      spin 1s steps(1) infinite;\n",
              "  }\n",
              "\n",
              "  @keyframes spin {\n",
              "    0% {\n",
              "      border-color: transparent;\n",
              "      border-bottom-color: var(--fill-color);\n",
              "      border-left-color: var(--fill-color);\n",
              "    }\n",
              "    20% {\n",
              "      border-color: transparent;\n",
              "      border-left-color: var(--fill-color);\n",
              "      border-top-color: var(--fill-color);\n",
              "    }\n",
              "    30% {\n",
              "      border-color: transparent;\n",
              "      border-left-color: var(--fill-color);\n",
              "      border-top-color: var(--fill-color);\n",
              "      border-right-color: var(--fill-color);\n",
              "    }\n",
              "    40% {\n",
              "      border-color: transparent;\n",
              "      border-right-color: var(--fill-color);\n",
              "      border-top-color: var(--fill-color);\n",
              "    }\n",
              "    60% {\n",
              "      border-color: transparent;\n",
              "      border-right-color: var(--fill-color);\n",
              "    }\n",
              "    80% {\n",
              "      border-color: transparent;\n",
              "      border-right-color: var(--fill-color);\n",
              "      border-bottom-color: var(--fill-color);\n",
              "    }\n",
              "    90% {\n",
              "      border-color: transparent;\n",
              "      border-bottom-color: var(--fill-color);\n",
              "    }\n",
              "  }\n",
              "</style>\n",
              "\n",
              "      <script>\n",
              "        async function quickchart(key) {\n",
              "          const quickchartButtonEl =\n",
              "            document.querySelector('#' + key + ' button');\n",
              "          quickchartButtonEl.disabled = true;  // To prevent multiple clicks.\n",
              "          quickchartButtonEl.classList.add('colab-df-spinner');\n",
              "          try {\n",
              "            const charts = await google.colab.kernel.invokeFunction(\n",
              "                'suggestCharts', [key], {});\n",
              "          } catch (error) {\n",
              "            console.error('Error during call to suggestCharts:', error);\n",
              "          }\n",
              "          quickchartButtonEl.classList.remove('colab-df-spinner');\n",
              "          quickchartButtonEl.classList.add('colab-df-quickchart-complete');\n",
              "        }\n",
              "        (() => {\n",
              "          let quickchartButtonEl =\n",
              "            document.querySelector('#df-f656a6ca-ac56-4c62-bdc5-8f7a21a323f4 button');\n",
              "          quickchartButtonEl.style.display =\n",
              "            google.colab.kernel.accessAllowed ? 'block' : 'none';\n",
              "        })();\n",
              "      </script>\n",
              "    </div>\n",
              "\n",
              "  <div id=\"id_3ca00bd1-d354-40ba-98ba-9fd156e0b7e7\">\n",
              "    <style>\n",
              "      .colab-df-generate {\n",
              "        background-color: #E8F0FE;\n",
              "        border: none;\n",
              "        border-radius: 50%;\n",
              "        cursor: pointer;\n",
              "        display: none;\n",
              "        fill: #1967D2;\n",
              "        height: 32px;\n",
              "        padding: 0 0 0 0;\n",
              "        width: 32px;\n",
              "      }\n",
              "\n",
              "      .colab-df-generate:hover {\n",
              "        background-color: #E2EBFA;\n",
              "        box-shadow: 0px 1px 2px rgba(60, 64, 67, 0.3), 0px 1px 3px 1px rgba(60, 64, 67, 0.15);\n",
              "        fill: #174EA6;\n",
              "      }\n",
              "\n",
              "      [theme=dark] .colab-df-generate {\n",
              "        background-color: #3B4455;\n",
              "        fill: #D2E3FC;\n",
              "      }\n",
              "\n",
              "      [theme=dark] .colab-df-generate:hover {\n",
              "        background-color: #434B5C;\n",
              "        box-shadow: 0px 1px 3px 1px rgba(0, 0, 0, 0.15);\n",
              "        filter: drop-shadow(0px 1px 2px rgba(0, 0, 0, 0.3));\n",
              "        fill: #FFFFFF;\n",
              "      }\n",
              "    </style>\n",
              "    <button class=\"colab-df-generate\" onclick=\"generateWithVariable('bitcoin_prices_windowed')\"\n",
              "            title=\"Generate code using this dataframe.\"\n",
              "            style=\"display:none;\">\n",
              "\n",
              "  <svg xmlns=\"http://www.w3.org/2000/svg\" height=\"24px\"viewBox=\"0 0 24 24\"\n",
              "       width=\"24px\">\n",
              "    <path d=\"M7,19H8.4L18.45,9,17,7.55,7,17.6ZM5,21V16.75L18.45,3.32a2,2,0,0,1,2.83,0l1.4,1.43a1.91,1.91,0,0,1,.58,1.4,1.91,1.91,0,0,1-.58,1.4L9.25,21ZM18.45,9,17,7.55Zm-12,3A5.31,5.31,0,0,0,4.9,8.1,5.31,5.31,0,0,0,1,6.5,5.31,5.31,0,0,0,4.9,4.9,5.31,5.31,0,0,0,6.5,1,5.31,5.31,0,0,0,8.1,4.9,5.31,5.31,0,0,0,12,6.5,5.46,5.46,0,0,0,6.5,12Z\"/>\n",
              "  </svg>\n",
              "    </button>\n",
              "    <script>\n",
              "      (() => {\n",
              "      const buttonEl =\n",
              "        document.querySelector('#id_3ca00bd1-d354-40ba-98ba-9fd156e0b7e7 button.colab-df-generate');\n",
              "      buttonEl.style.display =\n",
              "        google.colab.kernel.accessAllowed ? 'block' : 'none';\n",
              "\n",
              "      buttonEl.onclick = () => {\n",
              "        google.colab.notebook.generateWithVariable('bitcoin_prices_windowed');\n",
              "      }\n",
              "      })();\n",
              "    </script>\n",
              "  </div>\n",
              "\n",
              "    </div>\n",
              "  </div>\n"
            ],
            "application/vnd.google.colaboratory.intrinsic+json": {
              "type": "dataframe",
              "variable_name": "bitcoin_prices_windowed",
              "summary": "{\n  \"name\": \"bitcoin_prices_windowed\",\n  \"rows\": 2787,\n  \"fields\": [\n    {\n      \"column\": \"Date\",\n      \"properties\": {\n        \"dtype\": \"date\",\n        \"min\": \"2013-10-01 00:00:00\",\n        \"max\": \"2021-05-18 00:00:00\",\n        \"num_unique_values\": 2787,\n        \"samples\": [\n          \"2019-06-11 00:00:00\",\n          \"2021-05-03 00:00:00\",\n          \"2017-10-05 00:00:00\"\n        ],\n        \"semantic_type\": \"\",\n        \"description\": \"\"\n      }\n    },\n    {\n      \"column\": \"price\",\n      \"properties\": {\n        \"dtype\": \"number\",\n        \"std\": 10887.847444369514,\n        \"min\": 108.58483,\n        \"max\": 63346.7890351052,\n        \"num_unique_values\": 2787,\n        \"samples\": [\n          7954.0062377205,\n          56427.0431250152,\n          4186.78374\n        ],\n        \"semantic_type\": \"\",\n        \"description\": \"\"\n      }\n    },\n    {\n      \"column\": \"block_reward\",\n      \"properties\": {\n        \"dtype\": \"date\",\n        \"min\": 6.25,\n        \"max\": 25,\n        \"num_unique_values\": 3,\n        \"samples\": [\n          25,\n          12.5,\n          6.25\n        ],\n        \"semantic_type\": \"\",\n        \"description\": \"\"\n      }\n    },\n    {\n      \"column\": \"price_1\",\n      \"properties\": {\n        \"dtype\": \"number\",\n        \"std\": 10867.669449725989,\n        \"min\": 108.58483,\n        \"max\": 63346.7890351052,\n        \"num_unique_values\": 2786,\n        \"samples\": [\n          7600.9224920885,\n          57677.9752218988,\n          4186.78374\n        ],\n        \"semantic_type\": \"\",\n        \"description\": \"\"\n      }\n    },\n    {\n      \"column\": \"price_2\",\n      \"properties\": {\n        \"dtype\": \"number\",\n        \"std\": 10844.33784830378,\n        \"min\": 108.58483,\n        \"max\": 63346.7890351052,\n        \"num_unique_values\": 2785,\n        \"samples\": [\n          7600.9224920885,\n          57302.6464240813,\n          4186.78374\n        ],\n        \"semantic_type\": \"\",\n        \"description\": \"\"\n      }\n    },\n    {\n      \"column\": \"price_3\",\n      \"properties\": {\n        \"dtype\": \"number\",\n        \"std\": 10817.871229715482,\n        \"min\": 108.58483,\n        \"max\": 63346.7890351052,\n        \"num_unique_values\": 2784,\n        \"samples\": [\n          241.07183,\n          6883.4963937703,\n          9126.6368222216\n        ],\n        \"semantic_type\": \"\",\n        \"description\": \"\"\n      }\n    },\n    {\n      \"column\": \"price_4\",\n      \"properties\": {\n        \"dtype\": \"number\",\n        \"std\": 10788.26111548367,\n        \"min\": 108.58483,\n        \"max\": 63346.7890351052,\n        \"num_unique_values\": 2783,\n        \"samples\": [\n          241.07183,\n          15374.0443857602,\n          9078.5787771302\n        ],\n        \"semantic_type\": \"\",\n        \"description\": \"\"\n      }\n    },\n    {\n      \"column\": \"price_5\",\n      \"properties\": {\n        \"dtype\": \"number\",\n        \"std\": 10758.915269128049,\n        \"min\": 108.58483,\n        \"max\": 63346.7890351052,\n        \"num_unique_values\": 2782,\n        \"samples\": [\n          6181.7442069566,\n          10691.31129913,\n          3920.99125\n        ],\n        \"semantic_type\": \"\",\n        \"description\": \"\"\n      }\n    },\n    {\n      \"column\": \"price_6\",\n      \"properties\": {\n        \"dtype\": \"number\",\n        \"std\": 10725.887328798453,\n        \"min\": 108.58483,\n        \"max\": 63346.7890351052,\n        \"num_unique_values\": 2781,\n        \"samples\": [\n          15242.93625,\n          609.495,\n          3753.435\n        ],\n        \"semantic_type\": \"\",\n        \"description\": \"\"\n      }\n    },\n    {\n      \"column\": \"price_7\",\n      \"properties\": {\n        \"dtype\": \"number\",\n        \"std\": 10685.56601239665,\n        \"min\": 108.58483,\n        \"max\": 63346.7890351052,\n        \"num_unique_values\": 2780,\n        \"samples\": [\n          15242.93625,\n          609.495,\n          3753.435\n        ],\n        \"semantic_type\": \"\",\n        \"description\": \"\"\n      }\n    }\n  ]\n}"
            }
          },
          "metadata": {},
          "execution_count": 73
        }
      ],
      "execution_count": 73
    },
    {
      "metadata": {
        "ExecuteTime": {
          "end_time": "2025-07-22T09:03:41.525693Z",
          "start_time": "2025-07-22T09:03:41.515754Z"
        },
        "id": "1bd375339392f4bc"
      },
      "cell_type": "code",
      "source": [
        "X = bitcoin_prices_windowed.dropna().drop('price', axis=1).astype(np.float32)\n",
        "y = bitcoin_prices_windowed.dropna()['price'].astype(np.float32)"
      ],
      "id": "1bd375339392f4bc",
      "outputs": [],
      "execution_count": 74
    },
    {
      "metadata": {
        "ExecuteTime": {
          "end_time": "2025-07-22T09:03:42.013808Z",
          "start_time": "2025-07-22T09:03:42.006141Z"
        },
        "id": "ba7cff00323eed9a",
        "outputId": "624ef2d3-53ec-4c43-919a-323224bf39c6",
        "colab": {
          "base_uri": "https://localhost:8080/"
        }
      },
      "cell_type": "code",
      "source": [
        "split_size = int(len(X) * 0.8)\n",
        "X_train, y_train = X[:split_size], y[:split_size]\n",
        "X_test, y_test = X[split_size:], y[split_size:]\n",
        "\n",
        "len(X_train), len(y_train), len(X_test), len(y_test)"
      ],
      "id": "ba7cff00323eed9a",
      "outputs": [
        {
          "output_type": "execute_result",
          "data": {
            "text/plain": [
              "(2224, 2224, 556, 556)"
            ]
          },
          "metadata": {},
          "execution_count": 75
        }
      ],
      "execution_count": 75
    },
    {
      "metadata": {
        "ExecuteTime": {
          "end_time": "2025-07-22T09:03:42.245317Z",
          "start_time": "2025-07-22T09:03:42.214413Z"
        },
        "id": "c25f7bf32dd8c08c"
      },
      "cell_type": "code",
      "source": [
        "tf.random.set_seed(42)\n",
        "model_6 = tf.keras.Sequential([\n",
        "    layers.Dense(128, activation='relu'),\n",
        "   # layers.Dense(128, activation='relu'),\n",
        "    layers.Dense(HORIZON)\n",
        "], name=\"model_6_dense_multivariate\")\n",
        "\n",
        "model_6.compile(loss=\"mae\",\n",
        "                optimizer = tf.keras.optimizers.Adam())"
      ],
      "id": "c25f7bf32dd8c08c",
      "outputs": [],
      "execution_count": 76
    },
    {
      "metadata": {
        "ExecuteTime": {
          "end_time": "2025-07-22T09:04:18.268837Z",
          "start_time": "2025-07-22T09:03:42.489163Z"
        },
        "id": "19cc0f71e5836e06",
        "outputId": "65e2ddc8-aeb1-483a-b6b2-8e218bd440c1",
        "colab": {
          "base_uri": "https://localhost:8080/"
        }
      },
      "cell_type": "code",
      "source": [
        "model_6.fit(x=X_train, y=y_train,\n",
        "            epochs=200,\n",
        "            batch_size=128,\n",
        "            verbose=1,\n",
        "            validation_data=(X_test, y_test),\n",
        "            callbacks=[create_model_checkpoint(model_name = model_6.name)])"
      ],
      "id": "19cc0f71e5836e06",
      "outputs": [
        {
          "output_type": "stream",
          "name": "stdout",
          "text": [
            "Epoch 1/200\n",
            "\u001b[1m18/18\u001b[0m \u001b[32m━━━━━━━━━━━━━━━━━━━━\u001b[0m\u001b[37m\u001b[0m \u001b[1m2s\u001b[0m 44ms/step - loss: 1198.0897 - val_loss: 2028.1621\n",
            "Epoch 2/200\n",
            "\u001b[1m18/18\u001b[0m \u001b[32m━━━━━━━━━━━━━━━━━━━━\u001b[0m\u001b[37m\u001b[0m \u001b[1m0s\u001b[0m 7ms/step - loss: 284.7870 - val_loss: 1295.9840\n",
            "Epoch 3/200\n",
            "\u001b[1m18/18\u001b[0m \u001b[32m━━━━━━━━━━━━━━━━━━━━\u001b[0m\u001b[37m\u001b[0m \u001b[1m0s\u001b[0m 6ms/step - loss: 227.5053 - val_loss: 1169.5775\n",
            "Epoch 4/200\n",
            "\u001b[1m18/18\u001b[0m \u001b[32m━━━━━━━━━━━━━━━━━━━━\u001b[0m\u001b[37m\u001b[0m \u001b[1m0s\u001b[0m 6ms/step - loss: 202.9543 - val_loss: 1182.6389\n",
            "Epoch 5/200\n",
            "\u001b[1m18/18\u001b[0m \u001b[32m━━━━━━━━━━━━━━━━━━━━\u001b[0m\u001b[37m\u001b[0m \u001b[1m0s\u001b[0m 7ms/step - loss: 196.9217 - val_loss: 1101.0588\n",
            "Epoch 6/200\n",
            "\u001b[1m18/18\u001b[0m \u001b[32m━━━━━━━━━━━━━━━━━━━━\u001b[0m\u001b[37m\u001b[0m \u001b[1m0s\u001b[0m 7ms/step - loss: 186.0729 - val_loss: 1096.4525\n",
            "Epoch 7/200\n",
            "\u001b[1m18/18\u001b[0m \u001b[32m━━━━━━━━━━━━━━━━━━━━\u001b[0m\u001b[37m\u001b[0m \u001b[1m0s\u001b[0m 7ms/step - loss: 180.5434 - val_loss: 1025.7712\n",
            "Epoch 8/200\n",
            "\u001b[1m18/18\u001b[0m \u001b[32m━━━━━━━━━━━━━━━━━━━━\u001b[0m\u001b[37m\u001b[0m \u001b[1m0s\u001b[0m 7ms/step - loss: 170.8109 - val_loss: 959.0068\n",
            "Epoch 9/200\n",
            "\u001b[1m18/18\u001b[0m \u001b[32m━━━━━━━━━━━━━━━━━━━━\u001b[0m\u001b[37m\u001b[0m \u001b[1m0s\u001b[0m 7ms/step - loss: 165.0661 - val_loss: 929.5878\n",
            "Epoch 10/200\n",
            "\u001b[1m18/18\u001b[0m \u001b[32m━━━━━━━━━━━━━━━━━━━━\u001b[0m\u001b[37m\u001b[0m \u001b[1m0s\u001b[0m 7ms/step - loss: 157.7523 - val_loss: 885.8542\n",
            "Epoch 11/200\n",
            "\u001b[1m18/18\u001b[0m \u001b[32m━━━━━━━━━━━━━━━━━━━━\u001b[0m\u001b[37m\u001b[0m \u001b[1m0s\u001b[0m 7ms/step - loss: 151.8064 - val_loss: 840.2833\n",
            "Epoch 12/200\n",
            "\u001b[1m18/18\u001b[0m \u001b[32m━━━━━━━━━━━━━━━━━━━━\u001b[0m\u001b[37m\u001b[0m \u001b[1m0s\u001b[0m 7ms/step - loss: 145.5065 - val_loss: 790.1157\n",
            "Epoch 13/200\n",
            "\u001b[1m18/18\u001b[0m \u001b[32m━━━━━━━━━━━━━━━━━━━━\u001b[0m\u001b[37m\u001b[0m \u001b[1m0s\u001b[0m 7ms/step - loss: 142.4402 - val_loss: 759.6100\n",
            "Epoch 14/200\n",
            "\u001b[1m18/18\u001b[0m \u001b[32m━━━━━━━━━━━━━━━━━━━━\u001b[0m\u001b[37m\u001b[0m \u001b[1m0s\u001b[0m 7ms/step - loss: 137.4403 - val_loss: 728.4688\n",
            "Epoch 15/200\n",
            "\u001b[1m18/18\u001b[0m \u001b[32m━━━━━━━━━━━━━━━━━━━━\u001b[0m\u001b[37m\u001b[0m \u001b[1m0s\u001b[0m 7ms/step - loss: 133.0226 - val_loss: 705.0800\n",
            "Epoch 16/200\n",
            "\u001b[1m18/18\u001b[0m \u001b[32m━━━━━━━━━━━━━━━━━━━━\u001b[0m\u001b[37m\u001b[0m \u001b[1m0s\u001b[0m 6ms/step - loss: 126.2831 - val_loss: 686.3092\n",
            "Epoch 17/200\n",
            "\u001b[1m18/18\u001b[0m \u001b[32m━━━━━━━━━━━━━━━━━━━━\u001b[0m\u001b[37m\u001b[0m \u001b[1m0s\u001b[0m 6ms/step - loss: 124.0640 - val_loss: 677.5635\n",
            "Epoch 18/200\n",
            "\u001b[1m18/18\u001b[0m \u001b[32m━━━━━━━━━━━━━━━━━━━━\u001b[0m\u001b[37m\u001b[0m \u001b[1m0s\u001b[0m 6ms/step - loss: 121.4820 - val_loss: 655.7009\n",
            "Epoch 19/200\n",
            "\u001b[1m18/18\u001b[0m \u001b[32m━━━━━━━━━━━━━━━━━━━━\u001b[0m\u001b[37m\u001b[0m \u001b[1m0s\u001b[0m 6ms/step - loss: 119.6630 - val_loss: 643.2371\n",
            "Epoch 20/200\n",
            "\u001b[1m18/18\u001b[0m \u001b[32m━━━━━━━━━━━━━━━━━━━━\u001b[0m\u001b[37m\u001b[0m \u001b[1m0s\u001b[0m 6ms/step - loss: 117.5763 - val_loss: 633.7291\n",
            "Epoch 21/200\n",
            "\u001b[1m18/18\u001b[0m \u001b[32m━━━━━━━━━━━━━━━━━━━━\u001b[0m\u001b[37m\u001b[0m \u001b[1m0s\u001b[0m 6ms/step - loss: 116.3672 - val_loss: 620.4299\n",
            "Epoch 22/200\n",
            "\u001b[1m18/18\u001b[0m \u001b[32m━━━━━━━━━━━━━━━━━━━━\u001b[0m\u001b[37m\u001b[0m \u001b[1m0s\u001b[0m 7ms/step - loss: 115.8440 - val_loss: 618.9782\n",
            "Epoch 23/200\n",
            "\u001b[1m18/18\u001b[0m \u001b[32m━━━━━━━━━━━━━━━━━━━━\u001b[0m\u001b[37m\u001b[0m \u001b[1m0s\u001b[0m 7ms/step - loss: 114.7756 - val_loss: 613.2110\n",
            "Epoch 24/200\n",
            "\u001b[1m18/18\u001b[0m \u001b[32m━━━━━━━━━━━━━━━━━━━━\u001b[0m\u001b[37m\u001b[0m \u001b[1m0s\u001b[0m 7ms/step - loss: 113.6463 - val_loss: 603.3763\n",
            "Epoch 25/200\n",
            "\u001b[1m18/18\u001b[0m \u001b[32m━━━━━━━━━━━━━━━━━━━━\u001b[0m\u001b[37m\u001b[0m \u001b[1m0s\u001b[0m 6ms/step - loss: 113.0113 - val_loss: 599.2328\n",
            "Epoch 26/200\n",
            "\u001b[1m18/18\u001b[0m \u001b[32m━━━━━━━━━━━━━━━━━━━━\u001b[0m\u001b[37m\u001b[0m \u001b[1m0s\u001b[0m 7ms/step - loss: 114.3485 - val_loss: 596.1497\n",
            "Epoch 27/200\n",
            "\u001b[1m18/18\u001b[0m \u001b[32m━━━━━━━━━━━━━━━━━━━━\u001b[0m\u001b[37m\u001b[0m \u001b[1m0s\u001b[0m 6ms/step - loss: 113.4125 - val_loss: 598.8352\n",
            "Epoch 28/200\n",
            "\u001b[1m18/18\u001b[0m \u001b[32m━━━━━━━━━━━━━━━━━━━━\u001b[0m\u001b[37m\u001b[0m \u001b[1m0s\u001b[0m 6ms/step - loss: 113.0634 - val_loss: 597.9231\n",
            "Epoch 29/200\n",
            "\u001b[1m18/18\u001b[0m \u001b[32m━━━━━━━━━━━━━━━━━━━━\u001b[0m\u001b[37m\u001b[0m \u001b[1m0s\u001b[0m 5ms/step - loss: 112.2520 - val_loss: 607.7228\n",
            "Epoch 30/200\n",
            "\u001b[1m18/18\u001b[0m \u001b[32m━━━━━━━━━━━━━━━━━━━━\u001b[0m\u001b[37m\u001b[0m \u001b[1m0s\u001b[0m 7ms/step - loss: 112.6680 - val_loss: 594.4782\n",
            "Epoch 31/200\n",
            "\u001b[1m18/18\u001b[0m \u001b[32m━━━━━━━━━━━━━━━━━━━━\u001b[0m\u001b[37m\u001b[0m \u001b[1m0s\u001b[0m 6ms/step - loss: 111.3732 - val_loss: 585.6769\n",
            "Epoch 32/200\n",
            "\u001b[1m18/18\u001b[0m \u001b[32m━━━━━━━━━━━━━━━━━━━━\u001b[0m\u001b[37m\u001b[0m \u001b[1m0s\u001b[0m 5ms/step - loss: 111.8375 - val_loss: 586.8336\n",
            "Epoch 33/200\n",
            "\u001b[1m18/18\u001b[0m \u001b[32m━━━━━━━━━━━━━━━━━━━━\u001b[0m\u001b[37m\u001b[0m \u001b[1m0s\u001b[0m 5ms/step - loss: 115.3389 - val_loss: 612.3889\n",
            "Epoch 34/200\n",
            "\u001b[1m18/18\u001b[0m \u001b[32m━━━━━━━━━━━━━━━━━━━━\u001b[0m\u001b[37m\u001b[0m \u001b[1m0s\u001b[0m 6ms/step - loss: 111.1839 - val_loss: 582.9459\n",
            "Epoch 35/200\n",
            "\u001b[1m18/18\u001b[0m \u001b[32m━━━━━━━━━━━━━━━━━━━━\u001b[0m\u001b[37m\u001b[0m \u001b[1m0s\u001b[0m 5ms/step - loss: 111.5075 - val_loss: 594.3701\n",
            "Epoch 36/200\n",
            "\u001b[1m18/18\u001b[0m \u001b[32m━━━━━━━━━━━━━━━━━━━━\u001b[0m\u001b[37m\u001b[0m \u001b[1m0s\u001b[0m 5ms/step - loss: 111.2520 - val_loss: 589.7305\n",
            "Epoch 37/200\n",
            "\u001b[1m18/18\u001b[0m \u001b[32m━━━━━━━━━━━━━━━━━━━━\u001b[0m\u001b[37m\u001b[0m \u001b[1m0s\u001b[0m 5ms/step - loss: 111.2404 - val_loss: 593.1879\n",
            "Epoch 38/200\n",
            "\u001b[1m18/18\u001b[0m \u001b[32m━━━━━━━━━━━━━━━━━━━━\u001b[0m\u001b[37m\u001b[0m \u001b[1m0s\u001b[0m 5ms/step - loss: 110.2425 - val_loss: 587.0759\n",
            "Epoch 39/200\n",
            "\u001b[1m18/18\u001b[0m \u001b[32m━━━━━━━━━━━━━━━━━━━━\u001b[0m\u001b[37m\u001b[0m \u001b[1m0s\u001b[0m 5ms/step - loss: 110.4664 - val_loss: 592.7094\n",
            "Epoch 40/200\n",
            "\u001b[1m18/18\u001b[0m \u001b[32m━━━━━━━━━━━━━━━━━━━━\u001b[0m\u001b[37m\u001b[0m \u001b[1m0s\u001b[0m 5ms/step - loss: 110.4381 - val_loss: 592.5211\n",
            "Epoch 41/200\n",
            "\u001b[1m18/18\u001b[0m \u001b[32m━━━━━━━━━━━━━━━━━━━━\u001b[0m\u001b[37m\u001b[0m \u001b[1m0s\u001b[0m 5ms/step - loss: 110.8583 - val_loss: 601.2501\n",
            "Epoch 42/200\n",
            "\u001b[1m18/18\u001b[0m \u001b[32m━━━━━━━━━━━━━━━━━━━━\u001b[0m\u001b[37m\u001b[0m \u001b[1m0s\u001b[0m 5ms/step - loss: 110.1819 - val_loss: 590.6714\n",
            "Epoch 43/200\n",
            "\u001b[1m18/18\u001b[0m \u001b[32m━━━━━━━━━━━━━━━━━━━━\u001b[0m\u001b[37m\u001b[0m \u001b[1m0s\u001b[0m 6ms/step - loss: 109.2272 - val_loss: 579.9042\n",
            "Epoch 44/200\n",
            "\u001b[1m18/18\u001b[0m \u001b[32m━━━━━━━━━━━━━━━━━━━━\u001b[0m\u001b[37m\u001b[0m \u001b[1m0s\u001b[0m 5ms/step - loss: 109.0479 - val_loss: 584.4370\n",
            "Epoch 45/200\n",
            "\u001b[1m18/18\u001b[0m \u001b[32m━━━━━━━━━━━━━━━━━━━━\u001b[0m\u001b[37m\u001b[0m \u001b[1m0s\u001b[0m 6ms/step - loss: 108.9923 - val_loss: 576.1470\n",
            "Epoch 46/200\n",
            "\u001b[1m18/18\u001b[0m \u001b[32m━━━━━━━━━━━━━━━━━━━━\u001b[0m\u001b[37m\u001b[0m \u001b[1m0s\u001b[0m 5ms/step - loss: 108.8482 - val_loss: 577.5776\n",
            "Epoch 47/200\n",
            "\u001b[1m18/18\u001b[0m \u001b[32m━━━━━━━━━━━━━━━━━━━━\u001b[0m\u001b[37m\u001b[0m \u001b[1m0s\u001b[0m 5ms/step - loss: 110.1795 - val_loss: 600.1161\n",
            "Epoch 48/200\n",
            "\u001b[1m18/18\u001b[0m \u001b[32m━━━━━━━━━━━━━━━━━━━━\u001b[0m\u001b[37m\u001b[0m \u001b[1m0s\u001b[0m 5ms/step - loss: 109.8171 - val_loss: 592.2728\n",
            "Epoch 49/200\n",
            "\u001b[1m18/18\u001b[0m \u001b[32m━━━━━━━━━━━━━━━━━━━━\u001b[0m\u001b[37m\u001b[0m \u001b[1m0s\u001b[0m 5ms/step - loss: 109.1092 - val_loss: 587.1039\n",
            "Epoch 50/200\n",
            "\u001b[1m18/18\u001b[0m \u001b[32m━━━━━━━━━━━━━━━━━━━━\u001b[0m\u001b[37m\u001b[0m \u001b[1m0s\u001b[0m 6ms/step - loss: 108.8228 - val_loss: 577.6476\n",
            "Epoch 51/200\n",
            "\u001b[1m18/18\u001b[0m \u001b[32m━━━━━━━━━━━━━━━━━━━━\u001b[0m\u001b[37m\u001b[0m \u001b[1m0s\u001b[0m 6ms/step - loss: 110.0156 - val_loss: 584.4109\n",
            "Epoch 52/200\n",
            "\u001b[1m18/18\u001b[0m \u001b[32m━━━━━━━━━━━━━━━━━━━━\u001b[0m\u001b[37m\u001b[0m \u001b[1m0s\u001b[0m 6ms/step - loss: 108.0575 - val_loss: 578.2321\n",
            "Epoch 53/200\n",
            "\u001b[1m18/18\u001b[0m \u001b[32m━━━━━━━━━━━━━━━━━━━━\u001b[0m\u001b[37m\u001b[0m \u001b[1m0s\u001b[0m 6ms/step - loss: 109.8791 - val_loss: 594.4968\n",
            "Epoch 54/200\n",
            "\u001b[1m18/18\u001b[0m \u001b[32m━━━━━━━━━━━━━━━━━━━━\u001b[0m\u001b[37m\u001b[0m \u001b[1m0s\u001b[0m 5ms/step - loss: 109.6408 - val_loss: 588.1185\n",
            "Epoch 55/200\n",
            "\u001b[1m18/18\u001b[0m \u001b[32m━━━━━━━━━━━━━━━━━━━━\u001b[0m\u001b[37m\u001b[0m \u001b[1m0s\u001b[0m 5ms/step - loss: 109.1541 - val_loss: 577.0174\n",
            "Epoch 56/200\n",
            "\u001b[1m18/18\u001b[0m \u001b[32m━━━━━━━━━━━━━━━━━━━━\u001b[0m\u001b[37m\u001b[0m \u001b[1m0s\u001b[0m 5ms/step - loss: 107.7800 - val_loss: 580.5195\n",
            "Epoch 57/200\n",
            "\u001b[1m18/18\u001b[0m \u001b[32m━━━━━━━━━━━━━━━━━━━━\u001b[0m\u001b[37m\u001b[0m \u001b[1m0s\u001b[0m 5ms/step - loss: 110.0050 - val_loss: 586.9442\n",
            "Epoch 58/200\n",
            "\u001b[1m18/18\u001b[0m \u001b[32m━━━━━━━━━━━━━━━━━━━━\u001b[0m\u001b[37m\u001b[0m \u001b[1m0s\u001b[0m 6ms/step - loss: 107.4598 - val_loss: 571.8441\n",
            "Epoch 59/200\n",
            "\u001b[1m18/18\u001b[0m \u001b[32m━━━━━━━━━━━━━━━━━━━━\u001b[0m\u001b[37m\u001b[0m \u001b[1m0s\u001b[0m 5ms/step - loss: 108.1278 - val_loss: 588.8882\n",
            "Epoch 60/200\n",
            "\u001b[1m18/18\u001b[0m \u001b[32m━━━━━━━━━━━━━━━━━━━━\u001b[0m\u001b[37m\u001b[0m \u001b[1m0s\u001b[0m 5ms/step - loss: 108.9816 - val_loss: 580.4623\n",
            "Epoch 61/200\n",
            "\u001b[1m18/18\u001b[0m \u001b[32m━━━━━━━━━━━━━━━━━━━━\u001b[0m\u001b[37m\u001b[0m \u001b[1m0s\u001b[0m 6ms/step - loss: 107.1840 - val_loss: 576.2595\n",
            "Epoch 62/200\n",
            "\u001b[1m18/18\u001b[0m \u001b[32m━━━━━━━━━━━━━━━━━━━━\u001b[0m\u001b[37m\u001b[0m \u001b[1m0s\u001b[0m 6ms/step - loss: 107.7448 - val_loss: 579.6264\n",
            "Epoch 63/200\n",
            "\u001b[1m18/18\u001b[0m \u001b[32m━━━━━━━━━━━━━━━━━━━━\u001b[0m\u001b[37m\u001b[0m \u001b[1m0s\u001b[0m 5ms/step - loss: 108.4792 - val_loss: 577.6191\n",
            "Epoch 64/200\n",
            "\u001b[1m18/18\u001b[0m \u001b[32m━━━━━━━━━━━━━━━━━━━━\u001b[0m\u001b[37m\u001b[0m \u001b[1m0s\u001b[0m 5ms/step - loss: 108.3751 - val_loss: 575.4192\n",
            "Epoch 65/200\n",
            "\u001b[1m18/18\u001b[0m \u001b[32m━━━━━━━━━━━━━━━━━━━━\u001b[0m\u001b[37m\u001b[0m \u001b[1m0s\u001b[0m 5ms/step - loss: 107.2936 - val_loss: 576.6281\n",
            "Epoch 66/200\n",
            "\u001b[1m18/18\u001b[0m \u001b[32m━━━━━━━━━━━━━━━━━━━━\u001b[0m\u001b[37m\u001b[0m \u001b[1m0s\u001b[0m 6ms/step - loss: 109.5938 - val_loss: 571.8746\n",
            "Epoch 67/200\n",
            "\u001b[1m18/18\u001b[0m \u001b[32m━━━━━━━━━━━━━━━━━━━━\u001b[0m\u001b[37m\u001b[0m \u001b[1m0s\u001b[0m 7ms/step - loss: 106.5789 - val_loss: 571.4520\n",
            "Epoch 68/200\n",
            "\u001b[1m18/18\u001b[0m \u001b[32m━━━━━━━━━━━━━━━━━━━━\u001b[0m\u001b[37m\u001b[0m \u001b[1m0s\u001b[0m 6ms/step - loss: 107.3582 - val_loss: 583.6032\n",
            "Epoch 69/200\n",
            "\u001b[1m18/18\u001b[0m \u001b[32m━━━━━━━━━━━━━━━━━━━━\u001b[0m\u001b[37m\u001b[0m \u001b[1m0s\u001b[0m 5ms/step - loss: 107.6081 - val_loss: 575.6044\n",
            "Epoch 70/200\n",
            "\u001b[1m18/18\u001b[0m \u001b[32m━━━━━━━━━━━━━━━━━━━━\u001b[0m\u001b[37m\u001b[0m \u001b[1m0s\u001b[0m 5ms/step - loss: 107.7183 - val_loss: 573.8893\n",
            "Epoch 71/200\n",
            "\u001b[1m18/18\u001b[0m \u001b[32m━━━━━━━━━━━━━━━━━━━━\u001b[0m\u001b[37m\u001b[0m \u001b[1m0s\u001b[0m 5ms/step - loss: 107.6729 - val_loss: 574.6298\n",
            "Epoch 72/200\n",
            "\u001b[1m18/18\u001b[0m \u001b[32m━━━━━━━━━━━━━━━━━━━━\u001b[0m\u001b[37m\u001b[0m \u001b[1m0s\u001b[0m 6ms/step - loss: 107.6636 - val_loss: 588.3308\n",
            "Epoch 73/200\n",
            "\u001b[1m18/18\u001b[0m \u001b[32m━━━━━━━━━━━━━━━━━━━━\u001b[0m\u001b[37m\u001b[0m \u001b[1m0s\u001b[0m 5ms/step - loss: 107.4642 - val_loss: 574.0570\n",
            "Epoch 74/200\n",
            "\u001b[1m18/18\u001b[0m \u001b[32m━━━━━━━━━━━━━━━━━━━━\u001b[0m\u001b[37m\u001b[0m \u001b[1m0s\u001b[0m 7ms/step - loss: 107.2350 - val_loss: 568.8938\n",
            "Epoch 75/200\n",
            "\u001b[1m18/18\u001b[0m \u001b[32m━━━━━━━━━━━━━━━━━━━━\u001b[0m\u001b[37m\u001b[0m \u001b[1m0s\u001b[0m 6ms/step - loss: 106.6150 - val_loss: 570.1883\n",
            "Epoch 76/200\n",
            "\u001b[1m18/18\u001b[0m \u001b[32m━━━━━━━━━━━━━━━━━━━━\u001b[0m\u001b[37m\u001b[0m \u001b[1m0s\u001b[0m 6ms/step - loss: 107.6585 - val_loss: 578.3981\n",
            "Epoch 77/200\n",
            "\u001b[1m18/18\u001b[0m \u001b[32m━━━━━━━━━━━━━━━━━━━━\u001b[0m\u001b[37m\u001b[0m \u001b[1m0s\u001b[0m 6ms/step - loss: 107.4307 - val_loss: 573.9553\n",
            "Epoch 78/200\n",
            "\u001b[1m18/18\u001b[0m \u001b[32m━━━━━━━━━━━━━━━━━━━━\u001b[0m\u001b[37m\u001b[0m \u001b[1m0s\u001b[0m 5ms/step - loss: 107.6080 - val_loss: 573.2654\n",
            "Epoch 79/200\n",
            "\u001b[1m18/18\u001b[0m \u001b[32m━━━━━━━━━━━━━━━━━━━━\u001b[0m\u001b[37m\u001b[0m \u001b[1m0s\u001b[0m 7ms/step - loss: 107.7966 - val_loss: 566.6495\n",
            "Epoch 80/200\n",
            "\u001b[1m18/18\u001b[0m \u001b[32m━━━━━━━━━━━━━━━━━━━━\u001b[0m\u001b[37m\u001b[0m \u001b[1m0s\u001b[0m 7ms/step - loss: 106.0382 - val_loss: 566.1720\n",
            "Epoch 81/200\n",
            "\u001b[1m18/18\u001b[0m \u001b[32m━━━━━━━━━━━━━━━━━━━━\u001b[0m\u001b[37m\u001b[0m \u001b[1m0s\u001b[0m 5ms/step - loss: 106.2064 - val_loss: 570.0130\n",
            "Epoch 82/200\n",
            "\u001b[1m18/18\u001b[0m \u001b[32m━━━━━━━━━━━━━━━━━━━━\u001b[0m\u001b[37m\u001b[0m \u001b[1m0s\u001b[0m 5ms/step - loss: 107.7171 - val_loss: 573.9368\n",
            "Epoch 83/200\n",
            "\u001b[1m18/18\u001b[0m \u001b[32m━━━━━━━━━━━━━━━━━━━━\u001b[0m\u001b[37m\u001b[0m \u001b[1m0s\u001b[0m 5ms/step - loss: 107.2649 - val_loss: 567.4733\n",
            "Epoch 84/200\n",
            "\u001b[1m18/18\u001b[0m \u001b[32m━━━━━━━━━━━━━━━━━━━━\u001b[0m\u001b[37m\u001b[0m \u001b[1m0s\u001b[0m 7ms/step - loss: 106.4154 - val_loss: 565.0752\n",
            "Epoch 85/200\n",
            "\u001b[1m18/18\u001b[0m \u001b[32m━━━━━━━━━━━━━━━━━━━━\u001b[0m\u001b[37m\u001b[0m \u001b[1m0s\u001b[0m 6ms/step - loss: 107.8017 - val_loss: 583.8052\n",
            "Epoch 86/200\n",
            "\u001b[1m18/18\u001b[0m \u001b[32m━━━━━━━━━━━━━━━━━━━━\u001b[0m\u001b[37m\u001b[0m \u001b[1m0s\u001b[0m 6ms/step - loss: 106.7143 - val_loss: 567.7060\n",
            "Epoch 87/200\n",
            "\u001b[1m18/18\u001b[0m \u001b[32m━━━━━━━━━━━━━━━━━━━━\u001b[0m\u001b[37m\u001b[0m \u001b[1m0s\u001b[0m 6ms/step - loss: 106.2290 - val_loss: 566.7100\n",
            "Epoch 88/200\n",
            "\u001b[1m18/18\u001b[0m \u001b[32m━━━━━━━━━━━━━━━━━━━━\u001b[0m\u001b[37m\u001b[0m \u001b[1m0s\u001b[0m 6ms/step - loss: 107.3193 - val_loss: 580.1940\n",
            "Epoch 89/200\n",
            "\u001b[1m18/18\u001b[0m \u001b[32m━━━━━━━━━━━━━━━━━━━━\u001b[0m\u001b[37m\u001b[0m \u001b[1m0s\u001b[0m 6ms/step - loss: 106.4675 - val_loss: 567.1494\n",
            "Epoch 90/200\n",
            "\u001b[1m18/18\u001b[0m \u001b[32m━━━━━━━━━━━━━━━━━━━━\u001b[0m\u001b[37m\u001b[0m \u001b[1m0s\u001b[0m 5ms/step - loss: 106.1732 - val_loss: 568.6315\n",
            "Epoch 91/200\n",
            "\u001b[1m18/18\u001b[0m \u001b[32m━━━━━━━━━━━━━━━━━━━━\u001b[0m\u001b[37m\u001b[0m \u001b[1m0s\u001b[0m 6ms/step - loss: 105.8859 - val_loss: 570.3269\n",
            "Epoch 92/200\n",
            "\u001b[1m18/18\u001b[0m \u001b[32m━━━━━━━━━━━━━━━━━━━━\u001b[0m\u001b[37m\u001b[0m \u001b[1m0s\u001b[0m 6ms/step - loss: 107.7185 - val_loss: 580.3980\n",
            "Epoch 93/200\n",
            "\u001b[1m18/18\u001b[0m \u001b[32m━━━━━━━━━━━━━━━━━━━━\u001b[0m\u001b[37m\u001b[0m \u001b[1m0s\u001b[0m 6ms/step - loss: 106.7505 - val_loss: 567.1820\n",
            "Epoch 94/200\n",
            "\u001b[1m18/18\u001b[0m \u001b[32m━━━━━━━━━━━━━━━━━━━━\u001b[0m\u001b[37m\u001b[0m \u001b[1m0s\u001b[0m 5ms/step - loss: 106.6628 - val_loss: 565.9424\n",
            "Epoch 95/200\n",
            "\u001b[1m18/18\u001b[0m \u001b[32m━━━━━━━━━━━━━━━━━━━━\u001b[0m\u001b[37m\u001b[0m \u001b[1m0s\u001b[0m 5ms/step - loss: 106.5347 - val_loss: 565.5949\n",
            "Epoch 96/200\n",
            "\u001b[1m18/18\u001b[0m \u001b[32m━━━━━━━━━━━━━━━━━━━━\u001b[0m\u001b[37m\u001b[0m \u001b[1m0s\u001b[0m 5ms/step - loss: 106.4723 - val_loss: 565.3270\n",
            "Epoch 97/200\n",
            "\u001b[1m18/18\u001b[0m \u001b[32m━━━━━━━━━━━━━━━━━━━━\u001b[0m\u001b[37m\u001b[0m \u001b[1m0s\u001b[0m 5ms/step - loss: 106.7918 - val_loss: 568.0477\n",
            "Epoch 98/200\n",
            "\u001b[1m18/18\u001b[0m \u001b[32m━━━━━━━━━━━━━━━━━━━━\u001b[0m\u001b[37m\u001b[0m \u001b[1m0s\u001b[0m 5ms/step - loss: 106.8497 - val_loss: 572.0346\n",
            "Epoch 99/200\n",
            "\u001b[1m18/18\u001b[0m \u001b[32m━━━━━━━━━━━━━━━━━━━━\u001b[0m\u001b[37m\u001b[0m \u001b[1m0s\u001b[0m 5ms/step - loss: 106.3523 - val_loss: 565.9161\n",
            "Epoch 100/200\n",
            "\u001b[1m18/18\u001b[0m \u001b[32m━━━━━━━━━━━━━━━━━━━━\u001b[0m\u001b[37m\u001b[0m \u001b[1m0s\u001b[0m 5ms/step - loss: 106.3909 - val_loss: 566.0089\n",
            "Epoch 101/200\n",
            "\u001b[1m18/18\u001b[0m \u001b[32m━━━━━━━━━━━━━━━━━━━━\u001b[0m\u001b[37m\u001b[0m \u001b[1m0s\u001b[0m 5ms/step - loss: 106.0258 - val_loss: 570.6899\n",
            "Epoch 102/200\n",
            "\u001b[1m18/18\u001b[0m \u001b[32m━━━━━━━━━━━━━━━━━━━━\u001b[0m\u001b[37m\u001b[0m \u001b[1m0s\u001b[0m 5ms/step - loss: 107.7558 - val_loss: 589.7032\n",
            "Epoch 103/200\n",
            "\u001b[1m18/18\u001b[0m \u001b[32m━━━━━━━━━━━━━━━━━━━━\u001b[0m\u001b[37m\u001b[0m \u001b[1m0s\u001b[0m 6ms/step - loss: 107.7044 - val_loss: 564.9167\n",
            "Epoch 104/200\n",
            "\u001b[1m18/18\u001b[0m \u001b[32m━━━━━━━━━━━━━━━━━━━━\u001b[0m\u001b[37m\u001b[0m \u001b[1m0s\u001b[0m 5ms/step - loss: 105.1814 - val_loss: 572.1580\n",
            "Epoch 105/200\n",
            "\u001b[1m18/18\u001b[0m \u001b[32m━━━━━━━━━━━━━━━━━━━━\u001b[0m\u001b[37m\u001b[0m \u001b[1m0s\u001b[0m 5ms/step - loss: 108.1400 - val_loss: 580.0055\n",
            "Epoch 106/200\n",
            "\u001b[1m18/18\u001b[0m \u001b[32m━━━━━━━━━━━━━━━━━━━━\u001b[0m\u001b[37m\u001b[0m \u001b[1m0s\u001b[0m 5ms/step - loss: 106.7990 - val_loss: 565.9191\n",
            "Epoch 107/200\n",
            "\u001b[1m18/18\u001b[0m \u001b[32m━━━━━━━━━━━━━━━━━━━━\u001b[0m\u001b[37m\u001b[0m \u001b[1m0s\u001b[0m 5ms/step - loss: 105.5109 - val_loss: 566.7288\n",
            "Epoch 108/200\n",
            "\u001b[1m18/18\u001b[0m \u001b[32m━━━━━━━━━━━━━━━━━━━━\u001b[0m\u001b[37m\u001b[0m \u001b[1m0s\u001b[0m 5ms/step - loss: 106.3360 - val_loss: 566.8746\n",
            "Epoch 109/200\n",
            "\u001b[1m18/18\u001b[0m \u001b[32m━━━━━━━━━━━━━━━━━━━━\u001b[0m\u001b[37m\u001b[0m \u001b[1m0s\u001b[0m 5ms/step - loss: 105.7824 - val_loss: 570.3853\n",
            "Epoch 110/200\n",
            "\u001b[1m18/18\u001b[0m \u001b[32m━━━━━━━━━━━━━━━━━━━━\u001b[0m\u001b[37m\u001b[0m \u001b[1m0s\u001b[0m 5ms/step - loss: 107.1889 - val_loss: 576.1370\n",
            "Epoch 111/200\n",
            "\u001b[1m18/18\u001b[0m \u001b[32m━━━━━━━━━━━━━━━━━━━━\u001b[0m\u001b[37m\u001b[0m \u001b[1m0s\u001b[0m 5ms/step - loss: 106.3713 - val_loss: 565.9235\n",
            "Epoch 112/200\n",
            "\u001b[1m18/18\u001b[0m \u001b[32m━━━━━━━━━━━━━━━━━━━━\u001b[0m\u001b[37m\u001b[0m \u001b[1m0s\u001b[0m 5ms/step - loss: 105.8437 - val_loss: 566.3627\n",
            "Epoch 113/200\n",
            "\u001b[1m18/18\u001b[0m \u001b[32m━━━━━━━━━━━━━━━━━━━━\u001b[0m\u001b[37m\u001b[0m \u001b[1m0s\u001b[0m 5ms/step - loss: 106.2159 - val_loss: 565.8143\n",
            "Epoch 114/200\n",
            "\u001b[1m18/18\u001b[0m \u001b[32m━━━━━━━━━━━━━━━━━━━━\u001b[0m\u001b[37m\u001b[0m \u001b[1m0s\u001b[0m 6ms/step - loss: 105.7167 - val_loss: 582.9894\n",
            "Epoch 115/200\n",
            "\u001b[1m18/18\u001b[0m \u001b[32m━━━━━━━━━━━━━━━━━━━━\u001b[0m\u001b[37m\u001b[0m \u001b[1m0s\u001b[0m 5ms/step - loss: 109.2170 - val_loss: 584.1210\n",
            "Epoch 116/200\n",
            "\u001b[1m18/18\u001b[0m \u001b[32m━━━━━━━━━━━━━━━━━━━━\u001b[0m\u001b[37m\u001b[0m \u001b[1m0s\u001b[0m 5ms/step - loss: 106.3425 - val_loss: 566.1670\n",
            "Epoch 117/200\n",
            "\u001b[1m18/18\u001b[0m \u001b[32m━━━━━━━━━━━━━━━━━━━━\u001b[0m\u001b[37m\u001b[0m \u001b[1m0s\u001b[0m 5ms/step - loss: 106.3237 - val_loss: 566.2175\n",
            "Epoch 118/200\n",
            "\u001b[1m18/18\u001b[0m \u001b[32m━━━━━━━━━━━━━━━━━━━━\u001b[0m\u001b[37m\u001b[0m \u001b[1m0s\u001b[0m 5ms/step - loss: 105.7410 - val_loss: 565.8179\n",
            "Epoch 119/200\n",
            "\u001b[1m18/18\u001b[0m \u001b[32m━━━━━━━━━━━━━━━━━━━━\u001b[0m\u001b[37m\u001b[0m \u001b[1m0s\u001b[0m 5ms/step - loss: 106.2615 - val_loss: 566.8713\n",
            "Epoch 120/200\n",
            "\u001b[1m18/18\u001b[0m \u001b[32m━━━━━━━━━━━━━━━━━━━━\u001b[0m\u001b[37m\u001b[0m \u001b[1m0s\u001b[0m 5ms/step - loss: 106.1970 - val_loss: 576.3333\n",
            "Epoch 121/200\n",
            "\u001b[1m18/18\u001b[0m \u001b[32m━━━━━━━━━━━━━━━━━━━━\u001b[0m\u001b[37m\u001b[0m \u001b[1m0s\u001b[0m 5ms/step - loss: 106.3196 - val_loss: 579.8410\n",
            "Epoch 122/200\n",
            "\u001b[1m18/18\u001b[0m \u001b[32m━━━━━━━━━━━━━━━━━━━━\u001b[0m\u001b[37m\u001b[0m \u001b[1m0s\u001b[0m 6ms/step - loss: 106.6966 - val_loss: 568.4996\n",
            "Epoch 123/200\n",
            "\u001b[1m18/18\u001b[0m \u001b[32m━━━━━━━━━━━━━━━━━━━━\u001b[0m\u001b[37m\u001b[0m \u001b[1m0s\u001b[0m 5ms/step - loss: 107.1088 - val_loss: 591.9570\n",
            "Epoch 124/200\n",
            "\u001b[1m18/18\u001b[0m \u001b[32m━━━━━━━━━━━━━━━━━━━━\u001b[0m\u001b[37m\u001b[0m \u001b[1m0s\u001b[0m 5ms/step - loss: 106.6266 - val_loss: 567.8595\n",
            "Epoch 125/200\n",
            "\u001b[1m18/18\u001b[0m \u001b[32m━━━━━━━━━━━━━━━━━━━━\u001b[0m\u001b[37m\u001b[0m \u001b[1m0s\u001b[0m 5ms/step - loss: 106.1850 - val_loss: 566.4016\n",
            "Epoch 126/200\n",
            "\u001b[1m18/18\u001b[0m \u001b[32m━━━━━━━━━━━━━━━━━━━━\u001b[0m\u001b[37m\u001b[0m \u001b[1m0s\u001b[0m 5ms/step - loss: 105.4206 - val_loss: 573.9473\n",
            "Epoch 127/200\n",
            "\u001b[1m18/18\u001b[0m \u001b[32m━━━━━━━━━━━━━━━━━━━━\u001b[0m\u001b[37m\u001b[0m \u001b[1m0s\u001b[0m 6ms/step - loss: 107.2899 - val_loss: 570.7859\n",
            "Epoch 128/200\n",
            "\u001b[1m18/18\u001b[0m \u001b[32m━━━━━━━━━━━━━━━━━━━━\u001b[0m\u001b[37m\u001b[0m \u001b[1m0s\u001b[0m 5ms/step - loss: 106.2150 - val_loss: 575.6324\n",
            "Epoch 129/200\n",
            "\u001b[1m18/18\u001b[0m \u001b[32m━━━━━━━━━━━━━━━━━━━━\u001b[0m\u001b[37m\u001b[0m \u001b[1m0s\u001b[0m 5ms/step - loss: 106.2167 - val_loss: 568.6218\n",
            "Epoch 130/200\n",
            "\u001b[1m18/18\u001b[0m \u001b[32m━━━━━━━━━━━━━━━━━━━━\u001b[0m\u001b[37m\u001b[0m \u001b[1m0s\u001b[0m 5ms/step - loss: 107.0339 - val_loss: 589.9308\n",
            "Epoch 131/200\n",
            "\u001b[1m18/18\u001b[0m \u001b[32m━━━━━━━━━━━━━━━━━━━━\u001b[0m\u001b[37m\u001b[0m \u001b[1m0s\u001b[0m 6ms/step - loss: 107.6232 - val_loss: 564.7592\n",
            "Epoch 132/200\n",
            "\u001b[1m18/18\u001b[0m \u001b[32m━━━━━━━━━━━━━━━━━━━━\u001b[0m\u001b[37m\u001b[0m \u001b[1m0s\u001b[0m 5ms/step - loss: 105.2745 - val_loss: 572.2745\n",
            "Epoch 133/200\n",
            "\u001b[1m18/18\u001b[0m \u001b[32m━━━━━━━━━━━━━━━━━━━━\u001b[0m\u001b[37m\u001b[0m \u001b[1m0s\u001b[0m 5ms/step - loss: 107.0457 - val_loss: 570.4815\n",
            "Epoch 134/200\n",
            "\u001b[1m18/18\u001b[0m \u001b[32m━━━━━━━━━━━━━━━━━━━━\u001b[0m\u001b[37m\u001b[0m \u001b[1m0s\u001b[0m 5ms/step - loss: 106.1458 - val_loss: 567.1381\n",
            "Epoch 135/200\n",
            "\u001b[1m18/18\u001b[0m \u001b[32m━━━━━━━━━━━━━━━━━━━━\u001b[0m\u001b[37m\u001b[0m \u001b[1m0s\u001b[0m 5ms/step - loss: 105.5770 - val_loss: 567.4528\n",
            "Epoch 136/200\n",
            "\u001b[1m18/18\u001b[0m \u001b[32m━━━━━━━━━━━━━━━━━━━━\u001b[0m\u001b[37m\u001b[0m \u001b[1m0s\u001b[0m 5ms/step - loss: 105.6405 - val_loss: 574.4109\n",
            "Epoch 137/200\n",
            "\u001b[1m18/18\u001b[0m \u001b[32m━━━━━━━━━━━━━━━━━━━━\u001b[0m\u001b[37m\u001b[0m \u001b[1m0s\u001b[0m 5ms/step - loss: 106.7348 - val_loss: 566.4940\n",
            "Epoch 138/200\n",
            "\u001b[1m18/18\u001b[0m \u001b[32m━━━━━━━━━━━━━━━━━━━━\u001b[0m\u001b[37m\u001b[0m \u001b[1m0s\u001b[0m 5ms/step - loss: 105.5809 - val_loss: 565.7897\n",
            "Epoch 139/200\n",
            "\u001b[1m18/18\u001b[0m \u001b[32m━━━━━━━━━━━━━━━━━━━━\u001b[0m\u001b[37m\u001b[0m \u001b[1m0s\u001b[0m 5ms/step - loss: 105.2432 - val_loss: 571.7268\n",
            "Epoch 140/200\n",
            "\u001b[1m18/18\u001b[0m \u001b[32m━━━━━━━━━━━━━━━━━━━━\u001b[0m\u001b[37m\u001b[0m \u001b[1m0s\u001b[0m 5ms/step - loss: 107.5220 - val_loss: 572.6978\n",
            "Epoch 141/200\n",
            "\u001b[1m18/18\u001b[0m \u001b[32m━━━━━━━━━━━━━━━━━━━━\u001b[0m\u001b[37m\u001b[0m \u001b[1m0s\u001b[0m 5ms/step - loss: 105.6493 - val_loss: 567.2887\n",
            "Epoch 142/200\n",
            "\u001b[1m18/18\u001b[0m \u001b[32m━━━━━━━━━━━━━━━━━━━━\u001b[0m\u001b[37m\u001b[0m \u001b[1m0s\u001b[0m 5ms/step - loss: 105.7913 - val_loss: 567.0684\n",
            "Epoch 143/200\n",
            "\u001b[1m18/18\u001b[0m \u001b[32m━━━━━━━━━━━━━━━━━━━━\u001b[0m\u001b[37m\u001b[0m \u001b[1m0s\u001b[0m 5ms/step - loss: 105.5320 - val_loss: 566.5662\n",
            "Epoch 144/200\n",
            "\u001b[1m18/18\u001b[0m \u001b[32m━━━━━━━━━━━━━━━━━━━━\u001b[0m\u001b[37m\u001b[0m \u001b[1m0s\u001b[0m 5ms/step - loss: 105.1700 - val_loss: 585.5721\n",
            "Epoch 145/200\n",
            "\u001b[1m18/18\u001b[0m \u001b[32m━━━━━━━━━━━━━━━━━━━━\u001b[0m\u001b[37m\u001b[0m \u001b[1m0s\u001b[0m 5ms/step - loss: 108.6244 - val_loss: 583.8212\n",
            "Epoch 146/200\n",
            "\u001b[1m18/18\u001b[0m \u001b[32m━━━━━━━━━━━━━━━━━━━━\u001b[0m\u001b[37m\u001b[0m \u001b[1m0s\u001b[0m 5ms/step - loss: 106.6487 - val_loss: 567.8279\n",
            "Epoch 147/200\n",
            "\u001b[1m18/18\u001b[0m \u001b[32m━━━━━━━━━━━━━━━━━━━━\u001b[0m\u001b[37m\u001b[0m \u001b[1m0s\u001b[0m 5ms/step - loss: 105.0388 - val_loss: 568.7834\n",
            "Epoch 148/200\n",
            "\u001b[1m18/18\u001b[0m \u001b[32m━━━━━━━━━━━━━━━━━━━━\u001b[0m\u001b[37m\u001b[0m \u001b[1m0s\u001b[0m 5ms/step - loss: 106.2539 - val_loss: 566.0608\n",
            "Epoch 149/200\n",
            "\u001b[1m18/18\u001b[0m \u001b[32m━━━━━━━━━━━━━━━━━━━━\u001b[0m\u001b[37m\u001b[0m \u001b[1m0s\u001b[0m 5ms/step - loss: 105.8506 - val_loss: 566.7657\n",
            "Epoch 150/200\n",
            "\u001b[1m18/18\u001b[0m \u001b[32m━━━━━━━━━━━━━━━━━━━━\u001b[0m\u001b[37m\u001b[0m \u001b[1m0s\u001b[0m 5ms/step - loss: 105.5837 - val_loss: 577.5818\n",
            "Epoch 151/200\n",
            "\u001b[1m18/18\u001b[0m \u001b[32m━━━━━━━━━━━━━━━━━━━━\u001b[0m\u001b[37m\u001b[0m \u001b[1m0s\u001b[0m 5ms/step - loss: 107.4609 - val_loss: 575.3571\n",
            "Epoch 152/200\n",
            "\u001b[1m18/18\u001b[0m \u001b[32m━━━━━━━━━━━━━━━━━━━━\u001b[0m\u001b[37m\u001b[0m \u001b[1m0s\u001b[0m 5ms/step - loss: 105.8158 - val_loss: 566.1922\n",
            "Epoch 153/200\n",
            "\u001b[1m18/18\u001b[0m \u001b[32m━━━━━━━━━━━━━━━━━━━━\u001b[0m\u001b[37m\u001b[0m \u001b[1m0s\u001b[0m 5ms/step - loss: 105.5084 - val_loss: 566.5076\n",
            "Epoch 154/200\n",
            "\u001b[1m18/18\u001b[0m \u001b[32m━━━━━━━━━━━━━━━━━━━━\u001b[0m\u001b[37m\u001b[0m \u001b[1m0s\u001b[0m 5ms/step - loss: 105.3503 - val_loss: 566.7103\n",
            "Epoch 155/200\n",
            "\u001b[1m18/18\u001b[0m \u001b[32m━━━━━━━━━━━━━━━━━━━━\u001b[0m\u001b[37m\u001b[0m \u001b[1m0s\u001b[0m 5ms/step - loss: 105.2730 - val_loss: 580.0891\n",
            "Epoch 156/200\n",
            "\u001b[1m18/18\u001b[0m \u001b[32m━━━━━━━━━━━━━━━━━━━━\u001b[0m\u001b[37m\u001b[0m \u001b[1m0s\u001b[0m 5ms/step - loss: 108.1848 - val_loss: 569.6306\n",
            "Epoch 157/200\n",
            "\u001b[1m18/18\u001b[0m \u001b[32m━━━━━━━━━━━━━━━━━━━━\u001b[0m\u001b[37m\u001b[0m \u001b[1m0s\u001b[0m 5ms/step - loss: 105.3872 - val_loss: 572.1094\n",
            "Epoch 158/200\n",
            "\u001b[1m18/18\u001b[0m \u001b[32m━━━━━━━━━━━━━━━━━━━━\u001b[0m\u001b[37m\u001b[0m \u001b[1m0s\u001b[0m 5ms/step - loss: 106.6717 - val_loss: 578.9807\n",
            "Epoch 159/200\n",
            "\u001b[1m18/18\u001b[0m \u001b[32m━━━━━━━━━━━━━━━━━━━━\u001b[0m\u001b[37m\u001b[0m \u001b[1m0s\u001b[0m 5ms/step - loss: 106.1536 - val_loss: 566.9102\n",
            "Epoch 160/200\n",
            "\u001b[1m18/18\u001b[0m \u001b[32m━━━━━━━━━━━━━━━━━━━━\u001b[0m\u001b[37m\u001b[0m \u001b[1m0s\u001b[0m 5ms/step - loss: 105.1128 - val_loss: 580.6387\n",
            "Epoch 161/200\n",
            "\u001b[1m18/18\u001b[0m \u001b[32m━━━━━━━━━━━━━━━━━━━━\u001b[0m\u001b[37m\u001b[0m \u001b[1m0s\u001b[0m 5ms/step - loss: 107.6094 - val_loss: 586.8058\n",
            "Epoch 162/200\n",
            "\u001b[1m18/18\u001b[0m \u001b[32m━━━━━━━━━━━━━━━━━━━━\u001b[0m\u001b[37m\u001b[0m \u001b[1m0s\u001b[0m 5ms/step - loss: 106.7758 - val_loss: 568.4021\n",
            "Epoch 163/200\n",
            "\u001b[1m18/18\u001b[0m \u001b[32m━━━━━━━━━━━━━━━━━━━━\u001b[0m\u001b[37m\u001b[0m \u001b[1m0s\u001b[0m 6ms/step - loss: 105.6657 - val_loss: 579.1913\n",
            "Epoch 164/200\n",
            "\u001b[1m18/18\u001b[0m \u001b[32m━━━━━━━━━━━━━━━━━━━━\u001b[0m\u001b[37m\u001b[0m \u001b[1m0s\u001b[0m 5ms/step - loss: 107.5758 - val_loss: 581.2019\n",
            "Epoch 165/200\n",
            "\u001b[1m18/18\u001b[0m \u001b[32m━━━━━━━━━━━━━━━━━━━━\u001b[0m\u001b[37m\u001b[0m \u001b[1m0s\u001b[0m 5ms/step - loss: 106.1410 - val_loss: 567.7828\n",
            "Epoch 166/200\n",
            "\u001b[1m18/18\u001b[0m \u001b[32m━━━━━━━━━━━━━━━━━━━━\u001b[0m\u001b[37m\u001b[0m \u001b[1m0s\u001b[0m 5ms/step - loss: 105.0672 - val_loss: 576.7275\n",
            "Epoch 167/200\n",
            "\u001b[1m18/18\u001b[0m \u001b[32m━━━━━━━━━━━━━━━━━━━━\u001b[0m\u001b[37m\u001b[0m \u001b[1m0s\u001b[0m 5ms/step - loss: 107.1527 - val_loss: 579.1227\n",
            "Epoch 168/200\n",
            "\u001b[1m18/18\u001b[0m \u001b[32m━━━━━━━━━━━━━━━━━━━━\u001b[0m\u001b[37m\u001b[0m \u001b[1m0s\u001b[0m 5ms/step - loss: 106.4277 - val_loss: 566.3882\n",
            "Epoch 169/200\n",
            "\u001b[1m18/18\u001b[0m \u001b[32m━━━━━━━━━━━━━━━━━━━━\u001b[0m\u001b[37m\u001b[0m \u001b[1m0s\u001b[0m 5ms/step - loss: 105.0864 - val_loss: 570.8973\n",
            "Epoch 170/200\n",
            "\u001b[1m18/18\u001b[0m \u001b[32m━━━━━━━━━━━━━━━━━━━━\u001b[0m\u001b[37m\u001b[0m \u001b[1m0s\u001b[0m 6ms/step - loss: 106.8459 - val_loss: 573.3480\n",
            "Epoch 171/200\n",
            "\u001b[1m18/18\u001b[0m \u001b[32m━━━━━━━━━━━━━━━━━━━━\u001b[0m\u001b[37m\u001b[0m \u001b[1m0s\u001b[0m 6ms/step - loss: 106.3071 - val_loss: 570.8993\n",
            "Epoch 172/200\n",
            "\u001b[1m18/18\u001b[0m \u001b[32m━━━━━━━━━━━━━━━━━━━━\u001b[0m\u001b[37m\u001b[0m \u001b[1m0s\u001b[0m 5ms/step - loss: 106.1138 - val_loss: 566.2820\n",
            "Epoch 173/200\n",
            "\u001b[1m18/18\u001b[0m \u001b[32m━━━━━━━━━━━━━━━━━━━━\u001b[0m\u001b[37m\u001b[0m \u001b[1m0s\u001b[0m 6ms/step - loss: 105.3041 - val_loss: 566.7853\n",
            "Epoch 174/200\n",
            "\u001b[1m18/18\u001b[0m \u001b[32m━━━━━━━━━━━━━━━━━━━━\u001b[0m\u001b[37m\u001b[0m \u001b[1m0s\u001b[0m 6ms/step - loss: 105.0537 - val_loss: 584.4865\n",
            "Epoch 175/200\n",
            "\u001b[1m18/18\u001b[0m \u001b[32m━━━━━━━━━━━━━━━━━━━━\u001b[0m\u001b[37m\u001b[0m \u001b[1m0s\u001b[0m 5ms/step - loss: 107.8608 - val_loss: 572.4792\n",
            "Epoch 176/200\n",
            "\u001b[1m18/18\u001b[0m \u001b[32m━━━━━━━━━━━━━━━━━━━━\u001b[0m\u001b[37m\u001b[0m \u001b[1m0s\u001b[0m 5ms/step - loss: 106.5403 - val_loss: 569.8184\n",
            "Epoch 177/200\n",
            "\u001b[1m18/18\u001b[0m \u001b[32m━━━━━━━━━━━━━━━━━━━━\u001b[0m\u001b[37m\u001b[0m \u001b[1m0s\u001b[0m 5ms/step - loss: 105.4510 - val_loss: 578.5356\n",
            "Epoch 178/200\n",
            "\u001b[1m18/18\u001b[0m \u001b[32m━━━━━━━━━━━━━━━━━━━━\u001b[0m\u001b[37m\u001b[0m \u001b[1m0s\u001b[0m 5ms/step - loss: 106.6692 - val_loss: 566.7555\n",
            "Epoch 179/200\n",
            "\u001b[1m18/18\u001b[0m \u001b[32m━━━━━━━━━━━━━━━━━━━━\u001b[0m\u001b[37m\u001b[0m \u001b[1m0s\u001b[0m 6ms/step - loss: 105.9660 - val_loss: 572.6923\n",
            "Epoch 180/200\n",
            "\u001b[1m18/18\u001b[0m \u001b[32m━━━━━━━━━━━━━━━━━━━━\u001b[0m\u001b[37m\u001b[0m \u001b[1m0s\u001b[0m 5ms/step - loss: 106.0479 - val_loss: 567.5105\n",
            "Epoch 181/200\n",
            "\u001b[1m18/18\u001b[0m \u001b[32m━━━━━━━━━━━━━━━━━━━━\u001b[0m\u001b[37m\u001b[0m \u001b[1m0s\u001b[0m 5ms/step - loss: 105.3814 - val_loss: 567.4512\n",
            "Epoch 182/200\n",
            "\u001b[1m18/18\u001b[0m \u001b[32m━━━━━━━━━━━━━━━━━━━━\u001b[0m\u001b[37m\u001b[0m \u001b[1m0s\u001b[0m 5ms/step - loss: 105.3022 - val_loss: 566.9382\n",
            "Epoch 183/200\n",
            "\u001b[1m18/18\u001b[0m \u001b[32m━━━━━━━━━━━━━━━━━━━━\u001b[0m\u001b[37m\u001b[0m \u001b[1m0s\u001b[0m 5ms/step - loss: 105.2747 - val_loss: 571.1799\n",
            "Epoch 184/200\n",
            "\u001b[1m18/18\u001b[0m \u001b[32m━━━━━━━━━━━━━━━━━━━━\u001b[0m\u001b[37m\u001b[0m \u001b[1m0s\u001b[0m 5ms/step - loss: 105.9261 - val_loss: 567.4258\n",
            "Epoch 185/200\n",
            "\u001b[1m18/18\u001b[0m \u001b[32m━━━━━━━━━━━━━━━━━━━━\u001b[0m\u001b[37m\u001b[0m \u001b[1m0s\u001b[0m 5ms/step - loss: 105.5844 - val_loss: 566.0436\n",
            "Epoch 186/200\n",
            "\u001b[1m18/18\u001b[0m \u001b[32m━━━━━━━━━━━━━━━━━━━━\u001b[0m\u001b[37m\u001b[0m \u001b[1m0s\u001b[0m 5ms/step - loss: 105.3773 - val_loss: 568.0963\n",
            "Epoch 187/200\n",
            "\u001b[1m18/18\u001b[0m \u001b[32m━━━━━━━━━━━━━━━━━━━━\u001b[0m\u001b[37m\u001b[0m \u001b[1m0s\u001b[0m 5ms/step - loss: 105.6497 - val_loss: 569.6414\n",
            "Epoch 188/200\n",
            "\u001b[1m18/18\u001b[0m \u001b[32m━━━━━━━━━━━━━━━━━━━━\u001b[0m\u001b[37m\u001b[0m \u001b[1m0s\u001b[0m 5ms/step - loss: 105.8355 - val_loss: 567.4172\n",
            "Epoch 189/200\n",
            "\u001b[1m18/18\u001b[0m \u001b[32m━━━━━━━━━━━━━━━━━━━━\u001b[0m\u001b[37m\u001b[0m \u001b[1m0s\u001b[0m 5ms/step - loss: 105.2152 - val_loss: 567.7629\n",
            "Epoch 190/200\n",
            "\u001b[1m18/18\u001b[0m \u001b[32m━━━━━━━━━━━━━━━━━━━━\u001b[0m\u001b[37m\u001b[0m \u001b[1m0s\u001b[0m 5ms/step - loss: 105.2514 - val_loss: 568.3541\n",
            "Epoch 191/200\n",
            "\u001b[1m18/18\u001b[0m \u001b[32m━━━━━━━━━━━━━━━━━━━━\u001b[0m\u001b[37m\u001b[0m \u001b[1m0s\u001b[0m 5ms/step - loss: 105.1593 - val_loss: 577.6793\n",
            "Epoch 192/200\n",
            "\u001b[1m18/18\u001b[0m \u001b[32m━━━━━━━━━━━━━━━━━━━━\u001b[0m\u001b[37m\u001b[0m \u001b[1m0s\u001b[0m 5ms/step - loss: 107.2526 - val_loss: 583.9318\n",
            "Epoch 193/200\n",
            "\u001b[1m18/18\u001b[0m \u001b[32m━━━━━━━━━━━━━━━━━━━━\u001b[0m\u001b[37m\u001b[0m \u001b[1m0s\u001b[0m 5ms/step - loss: 106.5662 - val_loss: 566.6421\n",
            "Epoch 194/200\n",
            "\u001b[1m18/18\u001b[0m \u001b[32m━━━━━━━━━━━━━━━━━━━━\u001b[0m\u001b[37m\u001b[0m \u001b[1m0s\u001b[0m 5ms/step - loss: 105.1467 - val_loss: 566.5394\n",
            "Epoch 195/200\n",
            "\u001b[1m18/18\u001b[0m \u001b[32m━━━━━━━━━━━━━━━━━━━━\u001b[0m\u001b[37m\u001b[0m \u001b[1m0s\u001b[0m 5ms/step - loss: 105.0116 - val_loss: 570.7653\n",
            "Epoch 196/200\n",
            "\u001b[1m18/18\u001b[0m \u001b[32m━━━━━━━━━━━━━━━━━━━━\u001b[0m\u001b[37m\u001b[0m \u001b[1m0s\u001b[0m 6ms/step - loss: 106.0402 - val_loss: 565.9490\n",
            "Epoch 197/200\n",
            "\u001b[1m18/18\u001b[0m \u001b[32m━━━━━━━━━━━━━━━━━━━━\u001b[0m\u001b[37m\u001b[0m \u001b[1m0s\u001b[0m 6ms/step - loss: 105.1744 - val_loss: 566.7311\n",
            "Epoch 198/200\n",
            "\u001b[1m18/18\u001b[0m \u001b[32m━━━━━━━━━━━━━━━━━━━━\u001b[0m\u001b[37m\u001b[0m \u001b[1m0s\u001b[0m 6ms/step - loss: 105.3201 - val_loss: 566.8270\n",
            "Epoch 199/200\n",
            "\u001b[1m18/18\u001b[0m \u001b[32m━━━━━━━━━━━━━━━━━━━━\u001b[0m\u001b[37m\u001b[0m \u001b[1m0s\u001b[0m 6ms/step - loss: 105.2322 - val_loss: 567.6754\n",
            "Epoch 200/200\n",
            "\u001b[1m18/18\u001b[0m \u001b[32m━━━━━━━━━━━━━━━━━━━━\u001b[0m\u001b[37m\u001b[0m \u001b[1m0s\u001b[0m 6ms/step - loss: 104.8261 - val_loss: 570.9462\n"
          ]
        },
        {
          "output_type": "execute_result",
          "data": {
            "text/plain": [
              "<keras.src.callbacks.history.History at 0x7876d5f2a690>"
            ]
          },
          "metadata": {},
          "execution_count": 77
        }
      ],
      "execution_count": 77
    },
    {
      "metadata": {
        "ExecuteTime": {
          "end_time": "2025-07-22T09:04:18.417091Z",
          "start_time": "2025-07-22T09:04:18.301548Z"
        },
        "id": "408a8dd048f861a6",
        "outputId": "5aabdc62-c810-47d4-fbde-0ba5eb88e9fb",
        "colab": {
          "base_uri": "https://localhost:8080/"
        }
      },
      "cell_type": "code",
      "source": [
        "model_6.evaluate(X_test, y_test)"
      ],
      "id": "408a8dd048f861a6",
      "outputs": [
        {
          "output_type": "stream",
          "name": "stdout",
          "text": [
            "\u001b[1m18/18\u001b[0m \u001b[32m━━━━━━━━━━━━━━━━━━━━\u001b[0m\u001b[37m\u001b[0m \u001b[1m0s\u001b[0m 9ms/step - loss: 283.6055\n"
          ]
        },
        {
          "output_type": "execute_result",
          "data": {
            "text/plain": [
              "570.7376098632812"
            ]
          },
          "metadata": {},
          "execution_count": 78
        }
      ],
      "execution_count": 78
    },
    {
      "metadata": {
        "ExecuteTime": {
          "end_time": "2025-07-22T09:04:18.673926Z",
          "start_time": "2025-07-22T09:04:18.502314Z"
        },
        "id": "46ceaab4fed3518",
        "outputId": "1f505ad3-1f2a-4c6e-e5b5-a261029d1fe0",
        "colab": {
          "base_uri": "https://localhost:8080/"
        }
      },
      "cell_type": "code",
      "source": [
        "model_6_preds = tf.squeeze(model_6.predict(X_test))\n",
        "model_6_preds[:10]"
      ],
      "id": "46ceaab4fed3518",
      "outputs": [
        {
          "output_type": "stream",
          "name": "stdout",
          "text": [
            "\u001b[1m18/18\u001b[0m \u001b[32m━━━━━━━━━━━━━━━━━━━━\u001b[0m\u001b[37m\u001b[0m \u001b[1m0s\u001b[0m 7ms/step\n"
          ]
        },
        {
          "output_type": "execute_result",
          "data": {
            "text/plain": [
              "<tf.Tensor: shape=(10,), dtype=float32, numpy=\n",
              "array([8795.987, 8765.54 , 9032.263, 8738.593, 8718.527, 8708.993,\n",
              "       8651.245, 8483.663, 8428.63 , 8508.31 ], dtype=float32)>"
            ]
          },
          "metadata": {},
          "execution_count": 79
        }
      ],
      "execution_count": 79
    },
    {
      "metadata": {
        "ExecuteTime": {
          "end_time": "2025-07-22T09:04:18.755772Z",
          "start_time": "2025-07-22T09:04:18.741383Z"
        },
        "id": "205aed0780e46894"
      },
      "cell_type": "code",
      "source": [
        "model_6_results = evaluate_preds(y_true=y_test, y_pred=model_6_preds)"
      ],
      "id": "205aed0780e46894",
      "outputs": [],
      "execution_count": 80
    },
    {
      "metadata": {
        "ExecuteTime": {
          "end_time": "2025-07-22T09:04:18.921401Z",
          "start_time": "2025-07-22T09:04:18.914228Z"
        },
        "id": "bd64d695fa3ff2b9",
        "outputId": "f021dd9c-5417-4533-b009-1a0a6074cc84",
        "colab": {
          "base_uri": "https://localhost:8080/"
        }
      },
      "cell_type": "code",
      "source": [
        "model_6_results"
      ],
      "id": "bd64d695fa3ff2b9",
      "outputs": [
        {
          "output_type": "execute_result",
          "data": {
            "text/plain": [
              "{'mae': np.float32(570.73755),\n",
              " 'mse': np.float32(1158228.6),\n",
              " 'rmse': np.float32(1076.2103),\n",
              " 'mape': np.float32(2.5542226),\n",
              " 'mase': np.float32(1.0026278)}"
            ]
          },
          "metadata": {},
          "execution_count": 81
        }
      ],
      "execution_count": 81
    },
    {
      "metadata": {
        "ExecuteTime": {
          "end_time": "2025-07-22T09:04:18.988401Z",
          "start_time": "2025-07-22T09:04:18.982489Z"
        },
        "id": "6e306938b1b29904",
        "outputId": "11cc0d38-32ba-4bbe-b5f2-e3bf040c9bc9",
        "colab": {
          "base_uri": "https://localhost:8080/"
        }
      },
      "cell_type": "code",
      "source": [
        "model_1_results"
      ],
      "id": "6e306938b1b29904",
      "outputs": [
        {
          "output_type": "execute_result",
          "data": {
            "text/plain": [
              "{'mae': np.float32(566.37646),\n",
              " 'mse': np.float32(1165759.1),\n",
              " 'rmse': np.float32(1079.7032),\n",
              " 'mape': np.float32(2.5316947),\n",
              " 'mase': np.float32(0.99496657)}"
            ]
          },
          "metadata": {},
          "execution_count": 82
        }
      ],
      "execution_count": 82
    },
    {
      "metadata": {
        "ExecuteTime": {
          "end_time": "2025-07-22T09:04:19.065609Z",
          "start_time": "2025-07-22T09:04:19.060607Z"
        },
        "id": "fbd1fe8658c10cda"
      },
      "cell_type": "code",
      "source": [
        "# N-beats algorythm"
      ],
      "id": "fbd1fe8658c10cda",
      "outputs": [],
      "execution_count": 83
    },
    {
      "metadata": {
        "ExecuteTime": {
          "end_time": "2025-07-22T09:04:19.145442Z",
          "start_time": "2025-07-22T09:04:19.137923Z"
        },
        "id": "d390072efbd6d037"
      },
      "cell_type": "code",
      "source": [
        "class NBeatsBlock(tf.keras.layers.Layer):\n",
        "    def __init__(self,\n",
        "                 input_size: int,\n",
        "                 theta_size: int,\n",
        "                 horizon: int,\n",
        "                 n_neurons: int,\n",
        "                 n_layers: int,\n",
        "                 **kwargs):\n",
        "        super().__init__(**kwargs)\n",
        "        self.input_size = input_size\n",
        "        self.theta_size = theta_size\n",
        "        self.horizon = horizon\n",
        "        self.n_neurons = n_neurons\n",
        "        self.n_layers = n_layers\n",
        "\n",
        "        self.hidden = [tf.keras.layers.Dense(n_neurons, activation='relu') for _ in range(n_layers)]\n",
        "        self.theta_layer = tf.keras.layers.Dense(theta_size, activation='linear', name='theta')\n",
        "\n",
        "\n",
        "    def call(self, inputs):\n",
        "        x = inputs\n",
        "        for layer in self.hidden:\n",
        "            x = layer(x)\n",
        "        theta = self.theta_layer(x)\n",
        "        backcast, forecast = theta[:, :self.input_size], theta[:, -self.horizon]\n",
        "        return backcast, forecast"
      ],
      "id": "d390072efbd6d037",
      "outputs": [],
      "execution_count": 84
    },
    {
      "metadata": {
        "ExecuteTime": {
          "end_time": "2025-07-22T09:04:19.355343Z",
          "start_time": "2025-07-22T09:04:19.338971Z"
        },
        "id": "14aa0f4227d54eee"
      },
      "cell_type": "code",
      "source": [
        "dummy_nbeats_block_layer = NBeatsBlock(input_size=WINDOW_SIZE,\n",
        "                                       theta_size=WINDOW_SIZE+HORIZON,\n",
        "                                       horizon=HORIZON,\n",
        "                                       n_neurons=128,\n",
        "                                       n_layers=4)"
      ],
      "id": "14aa0f4227d54eee",
      "outputs": [],
      "execution_count": 85
    },
    {
      "metadata": {
        "ExecuteTime": {
          "end_time": "2025-07-22T09:04:19.395452Z",
          "start_time": "2025-07-22T09:04:19.383466Z"
        },
        "id": "41a0756b46713318",
        "outputId": "253e0aa1-6453-47d9-9d4a-dedd4354a98c",
        "colab": {
          "base_uri": "https://localhost:8080/"
        }
      },
      "cell_type": "code",
      "source": [
        "dummy_inputs = tf.expand_dims(tf.range(WINDOW_SIZE)+1, axis=0)\n",
        "dummy_inputs"
      ],
      "id": "41a0756b46713318",
      "outputs": [
        {
          "output_type": "execute_result",
          "data": {
            "text/plain": [
              "<tf.Tensor: shape=(1, 7), dtype=int32, numpy=array([[1, 2, 3, 4, 5, 6, 7]], dtype=int32)>"
            ]
          },
          "metadata": {},
          "execution_count": 86
        }
      ],
      "execution_count": 86
    },
    {
      "metadata": {
        "ExecuteTime": {
          "end_time": "2025-07-22T09:04:23.202059Z",
          "start_time": "2025-07-22T09:04:22.962891Z"
        },
        "id": "5e18ab56079bf70b",
        "outputId": "133905b2-b23e-4c94-eb8d-b17b1c0c5a14",
        "colab": {
          "base_uri": "https://localhost:8080/"
        }
      },
      "cell_type": "code",
      "source": [
        "backcast, forecast = dummy_nbeats_block_layer(dummy_inputs)\n",
        "backcast.numpy(), forecast.numpy()"
      ],
      "id": "5e18ab56079bf70b",
      "outputs": [
        {
          "output_type": "execute_result",
          "data": {
            "text/plain": [
              "(array([[-0.11805955,  0.41039643, -0.39342898, -0.03830457, -0.28710365,\n",
              "         -0.21247655, -0.7581919 ]], dtype=float32),\n",
              " array([-0.53816235], dtype=float32))"
            ]
          },
          "metadata": {},
          "execution_count": 87
        }
      ],
      "execution_count": 87
    },
    {
      "metadata": {
        "ExecuteTime": {
          "end_time": "2025-07-22T09:04:23.287155Z",
          "start_time": "2025-07-22T09:04:23.283449Z"
        },
        "id": "e059407eca478e75"
      },
      "cell_type": "code",
      "source": [
        "HORIZON = 1\n",
        "WINDOW_SIZE = 7"
      ],
      "id": "e059407eca478e75",
      "outputs": [],
      "execution_count": 88
    },
    {
      "metadata": {
        "ExecuteTime": {
          "end_time": "2025-07-22T09:04:23.618278Z",
          "start_time": "2025-07-22T09:04:23.420308Z"
        },
        "id": "7e469ecd765dda59",
        "outputId": "ba968dc3-1bc0-4293-9567-6b99674f7c3a",
        "colab": {
          "base_uri": "https://localhost:8080/",
          "height": 455
        }
      },
      "cell_type": "code",
      "source": [
        "bitcoin_prices_nbeats = bitcoin_prices.copy()\n",
        "\n",
        "for i in range(WINDOW_SIZE):\n",
        "    bitcoin_prices_nbeats[f\"price+{i+1}\"] = bitcoin_prices_nbeats['price'].shift(periods=i+1)\n",
        "\n",
        "bitcoin_prices_nbeats"
      ],
      "id": "7e469ecd765dda59",
      "outputs": [
        {
          "output_type": "execute_result",
          "data": {
            "text/plain": [
              "                   price       price+1       price+2       price+3  \\\n",
              "Date                                                                 \n",
              "2013-10-01    123.654990           NaN           NaN           NaN   \n",
              "2013-10-02    125.455000    123.654990           NaN           NaN   \n",
              "2013-10-03    108.584830    125.455000    123.654990           NaN   \n",
              "2013-10-04    118.674660    108.584830    125.455000    123.654990   \n",
              "2013-10-05    121.338660    118.674660    108.584830    125.455000   \n",
              "...                  ...           ...           ...           ...   \n",
              "2021-05-14  49764.132082  52147.821187  56573.555472  55715.546651   \n",
              "2021-05-15  50032.693137  49764.132082  52147.821187  56573.555472   \n",
              "2021-05-16  47885.625255  50032.693137  49764.132082  52147.821187   \n",
              "2021-05-17  45604.615754  47885.625255  50032.693137  49764.132082   \n",
              "2021-05-18  43144.471291  45604.615754  47885.625255  50032.693137   \n",
              "\n",
              "                 price+4       price+5       price+6       price+7  \n",
              "Date                                                                \n",
              "2013-10-01           NaN           NaN           NaN           NaN  \n",
              "2013-10-02           NaN           NaN           NaN           NaN  \n",
              "2013-10-03           NaN           NaN           NaN           NaN  \n",
              "2013-10-04           NaN           NaN           NaN           NaN  \n",
              "2013-10-05    123.654990           NaN           NaN           NaN  \n",
              "...                  ...           ...           ...           ...  \n",
              "2021-05-14  58102.191426  58788.209679  57107.120672  56583.849879  \n",
              "2021-05-15  55715.546651  58102.191426  58788.209679  57107.120672  \n",
              "2021-05-16  56573.555472  55715.546651  58102.191426  58788.209679  \n",
              "2021-05-17  52147.821187  56573.555472  55715.546651  58102.191426  \n",
              "2021-05-18  49764.132082  52147.821187  56573.555472  55715.546651  \n",
              "\n",
              "[2787 rows x 8 columns]"
            ],
            "text/html": [
              "\n",
              "  <div id=\"df-72b5cef7-2c77-4a25-957f-26a46997e770\" class=\"colab-df-container\">\n",
              "    <div>\n",
              "<style scoped>\n",
              "    .dataframe tbody tr th:only-of-type {\n",
              "        vertical-align: middle;\n",
              "    }\n",
              "\n",
              "    .dataframe tbody tr th {\n",
              "        vertical-align: top;\n",
              "    }\n",
              "\n",
              "    .dataframe thead th {\n",
              "        text-align: right;\n",
              "    }\n",
              "</style>\n",
              "<table border=\"1\" class=\"dataframe\">\n",
              "  <thead>\n",
              "    <tr style=\"text-align: right;\">\n",
              "      <th></th>\n",
              "      <th>price</th>\n",
              "      <th>price+1</th>\n",
              "      <th>price+2</th>\n",
              "      <th>price+3</th>\n",
              "      <th>price+4</th>\n",
              "      <th>price+5</th>\n",
              "      <th>price+6</th>\n",
              "      <th>price+7</th>\n",
              "    </tr>\n",
              "    <tr>\n",
              "      <th>Date</th>\n",
              "      <th></th>\n",
              "      <th></th>\n",
              "      <th></th>\n",
              "      <th></th>\n",
              "      <th></th>\n",
              "      <th></th>\n",
              "      <th></th>\n",
              "      <th></th>\n",
              "    </tr>\n",
              "  </thead>\n",
              "  <tbody>\n",
              "    <tr>\n",
              "      <th>2013-10-01</th>\n",
              "      <td>123.654990</td>\n",
              "      <td>NaN</td>\n",
              "      <td>NaN</td>\n",
              "      <td>NaN</td>\n",
              "      <td>NaN</td>\n",
              "      <td>NaN</td>\n",
              "      <td>NaN</td>\n",
              "      <td>NaN</td>\n",
              "    </tr>\n",
              "    <tr>\n",
              "      <th>2013-10-02</th>\n",
              "      <td>125.455000</td>\n",
              "      <td>123.654990</td>\n",
              "      <td>NaN</td>\n",
              "      <td>NaN</td>\n",
              "      <td>NaN</td>\n",
              "      <td>NaN</td>\n",
              "      <td>NaN</td>\n",
              "      <td>NaN</td>\n",
              "    </tr>\n",
              "    <tr>\n",
              "      <th>2013-10-03</th>\n",
              "      <td>108.584830</td>\n",
              "      <td>125.455000</td>\n",
              "      <td>123.654990</td>\n",
              "      <td>NaN</td>\n",
              "      <td>NaN</td>\n",
              "      <td>NaN</td>\n",
              "      <td>NaN</td>\n",
              "      <td>NaN</td>\n",
              "    </tr>\n",
              "    <tr>\n",
              "      <th>2013-10-04</th>\n",
              "      <td>118.674660</td>\n",
              "      <td>108.584830</td>\n",
              "      <td>125.455000</td>\n",
              "      <td>123.654990</td>\n",
              "      <td>NaN</td>\n",
              "      <td>NaN</td>\n",
              "      <td>NaN</td>\n",
              "      <td>NaN</td>\n",
              "    </tr>\n",
              "    <tr>\n",
              "      <th>2013-10-05</th>\n",
              "      <td>121.338660</td>\n",
              "      <td>118.674660</td>\n",
              "      <td>108.584830</td>\n",
              "      <td>125.455000</td>\n",
              "      <td>123.654990</td>\n",
              "      <td>NaN</td>\n",
              "      <td>NaN</td>\n",
              "      <td>NaN</td>\n",
              "    </tr>\n",
              "    <tr>\n",
              "      <th>...</th>\n",
              "      <td>...</td>\n",
              "      <td>...</td>\n",
              "      <td>...</td>\n",
              "      <td>...</td>\n",
              "      <td>...</td>\n",
              "      <td>...</td>\n",
              "      <td>...</td>\n",
              "      <td>...</td>\n",
              "    </tr>\n",
              "    <tr>\n",
              "      <th>2021-05-14</th>\n",
              "      <td>49764.132082</td>\n",
              "      <td>52147.821187</td>\n",
              "      <td>56573.555472</td>\n",
              "      <td>55715.546651</td>\n",
              "      <td>58102.191426</td>\n",
              "      <td>58788.209679</td>\n",
              "      <td>57107.120672</td>\n",
              "      <td>56583.849879</td>\n",
              "    </tr>\n",
              "    <tr>\n",
              "      <th>2021-05-15</th>\n",
              "      <td>50032.693137</td>\n",
              "      <td>49764.132082</td>\n",
              "      <td>52147.821187</td>\n",
              "      <td>56573.555472</td>\n",
              "      <td>55715.546651</td>\n",
              "      <td>58102.191426</td>\n",
              "      <td>58788.209679</td>\n",
              "      <td>57107.120672</td>\n",
              "    </tr>\n",
              "    <tr>\n",
              "      <th>2021-05-16</th>\n",
              "      <td>47885.625255</td>\n",
              "      <td>50032.693137</td>\n",
              "      <td>49764.132082</td>\n",
              "      <td>52147.821187</td>\n",
              "      <td>56573.555472</td>\n",
              "      <td>55715.546651</td>\n",
              "      <td>58102.191426</td>\n",
              "      <td>58788.209679</td>\n",
              "    </tr>\n",
              "    <tr>\n",
              "      <th>2021-05-17</th>\n",
              "      <td>45604.615754</td>\n",
              "      <td>47885.625255</td>\n",
              "      <td>50032.693137</td>\n",
              "      <td>49764.132082</td>\n",
              "      <td>52147.821187</td>\n",
              "      <td>56573.555472</td>\n",
              "      <td>55715.546651</td>\n",
              "      <td>58102.191426</td>\n",
              "    </tr>\n",
              "    <tr>\n",
              "      <th>2021-05-18</th>\n",
              "      <td>43144.471291</td>\n",
              "      <td>45604.615754</td>\n",
              "      <td>47885.625255</td>\n",
              "      <td>50032.693137</td>\n",
              "      <td>49764.132082</td>\n",
              "      <td>52147.821187</td>\n",
              "      <td>56573.555472</td>\n",
              "      <td>55715.546651</td>\n",
              "    </tr>\n",
              "  </tbody>\n",
              "</table>\n",
              "<p>2787 rows × 8 columns</p>\n",
              "</div>\n",
              "    <div class=\"colab-df-buttons\">\n",
              "\n",
              "  <div class=\"colab-df-container\">\n",
              "    <button class=\"colab-df-convert\" onclick=\"convertToInteractive('df-72b5cef7-2c77-4a25-957f-26a46997e770')\"\n",
              "            title=\"Convert this dataframe to an interactive table.\"\n",
              "            style=\"display:none;\">\n",
              "\n",
              "  <svg xmlns=\"http://www.w3.org/2000/svg\" height=\"24px\" viewBox=\"0 -960 960 960\">\n",
              "    <path d=\"M120-120v-720h720v720H120Zm60-500h600v-160H180v160Zm220 220h160v-160H400v160Zm0 220h160v-160H400v160ZM180-400h160v-160H180v160Zm440 0h160v-160H620v160ZM180-180h160v-160H180v160Zm440 0h160v-160H620v160Z\"/>\n",
              "  </svg>\n",
              "    </button>\n",
              "\n",
              "  <style>\n",
              "    .colab-df-container {\n",
              "      display:flex;\n",
              "      gap: 12px;\n",
              "    }\n",
              "\n",
              "    .colab-df-convert {\n",
              "      background-color: #E8F0FE;\n",
              "      border: none;\n",
              "      border-radius: 50%;\n",
              "      cursor: pointer;\n",
              "      display: none;\n",
              "      fill: #1967D2;\n",
              "      height: 32px;\n",
              "      padding: 0 0 0 0;\n",
              "      width: 32px;\n",
              "    }\n",
              "\n",
              "    .colab-df-convert:hover {\n",
              "      background-color: #E2EBFA;\n",
              "      box-shadow: 0px 1px 2px rgba(60, 64, 67, 0.3), 0px 1px 3px 1px rgba(60, 64, 67, 0.15);\n",
              "      fill: #174EA6;\n",
              "    }\n",
              "\n",
              "    .colab-df-buttons div {\n",
              "      margin-bottom: 4px;\n",
              "    }\n",
              "\n",
              "    [theme=dark] .colab-df-convert {\n",
              "      background-color: #3B4455;\n",
              "      fill: #D2E3FC;\n",
              "    }\n",
              "\n",
              "    [theme=dark] .colab-df-convert:hover {\n",
              "      background-color: #434B5C;\n",
              "      box-shadow: 0px 1px 3px 1px rgba(0, 0, 0, 0.15);\n",
              "      filter: drop-shadow(0px 1px 2px rgba(0, 0, 0, 0.3));\n",
              "      fill: #FFFFFF;\n",
              "    }\n",
              "  </style>\n",
              "\n",
              "    <script>\n",
              "      const buttonEl =\n",
              "        document.querySelector('#df-72b5cef7-2c77-4a25-957f-26a46997e770 button.colab-df-convert');\n",
              "      buttonEl.style.display =\n",
              "        google.colab.kernel.accessAllowed ? 'block' : 'none';\n",
              "\n",
              "      async function convertToInteractive(key) {\n",
              "        const element = document.querySelector('#df-72b5cef7-2c77-4a25-957f-26a46997e770');\n",
              "        const dataTable =\n",
              "          await google.colab.kernel.invokeFunction('convertToInteractive',\n",
              "                                                    [key], {});\n",
              "        if (!dataTable) return;\n",
              "\n",
              "        const docLinkHtml = 'Like what you see? Visit the ' +\n",
              "          '<a target=\"_blank\" href=https://colab.research.google.com/notebooks/data_table.ipynb>data table notebook</a>'\n",
              "          + ' to learn more about interactive tables.';\n",
              "        element.innerHTML = '';\n",
              "        dataTable['output_type'] = 'display_data';\n",
              "        await google.colab.output.renderOutput(dataTable, element);\n",
              "        const docLink = document.createElement('div');\n",
              "        docLink.innerHTML = docLinkHtml;\n",
              "        element.appendChild(docLink);\n",
              "      }\n",
              "    </script>\n",
              "  </div>\n",
              "\n",
              "\n",
              "    <div id=\"df-7bfee47e-8d0a-48a0-81b8-bdc8b52ec04d\">\n",
              "      <button class=\"colab-df-quickchart\" onclick=\"quickchart('df-7bfee47e-8d0a-48a0-81b8-bdc8b52ec04d')\"\n",
              "                title=\"Suggest charts\"\n",
              "                style=\"display:none;\">\n",
              "\n",
              "<svg xmlns=\"http://www.w3.org/2000/svg\" height=\"24px\"viewBox=\"0 0 24 24\"\n",
              "     width=\"24px\">\n",
              "    <g>\n",
              "        <path d=\"M19 3H5c-1.1 0-2 .9-2 2v14c0 1.1.9 2 2 2h14c1.1 0 2-.9 2-2V5c0-1.1-.9-2-2-2zM9 17H7v-7h2v7zm4 0h-2V7h2v10zm4 0h-2v-4h2v4z\"/>\n",
              "    </g>\n",
              "</svg>\n",
              "      </button>\n",
              "\n",
              "<style>\n",
              "  .colab-df-quickchart {\n",
              "      --bg-color: #E8F0FE;\n",
              "      --fill-color: #1967D2;\n",
              "      --hover-bg-color: #E2EBFA;\n",
              "      --hover-fill-color: #174EA6;\n",
              "      --disabled-fill-color: #AAA;\n",
              "      --disabled-bg-color: #DDD;\n",
              "  }\n",
              "\n",
              "  [theme=dark] .colab-df-quickchart {\n",
              "      --bg-color: #3B4455;\n",
              "      --fill-color: #D2E3FC;\n",
              "      --hover-bg-color: #434B5C;\n",
              "      --hover-fill-color: #FFFFFF;\n",
              "      --disabled-bg-color: #3B4455;\n",
              "      --disabled-fill-color: #666;\n",
              "  }\n",
              "\n",
              "  .colab-df-quickchart {\n",
              "    background-color: var(--bg-color);\n",
              "    border: none;\n",
              "    border-radius: 50%;\n",
              "    cursor: pointer;\n",
              "    display: none;\n",
              "    fill: var(--fill-color);\n",
              "    height: 32px;\n",
              "    padding: 0;\n",
              "    width: 32px;\n",
              "  }\n",
              "\n",
              "  .colab-df-quickchart:hover {\n",
              "    background-color: var(--hover-bg-color);\n",
              "    box-shadow: 0 1px 2px rgba(60, 64, 67, 0.3), 0 1px 3px 1px rgba(60, 64, 67, 0.15);\n",
              "    fill: var(--button-hover-fill-color);\n",
              "  }\n",
              "\n",
              "  .colab-df-quickchart-complete:disabled,\n",
              "  .colab-df-quickchart-complete:disabled:hover {\n",
              "    background-color: var(--disabled-bg-color);\n",
              "    fill: var(--disabled-fill-color);\n",
              "    box-shadow: none;\n",
              "  }\n",
              "\n",
              "  .colab-df-spinner {\n",
              "    border: 2px solid var(--fill-color);\n",
              "    border-color: transparent;\n",
              "    border-bottom-color: var(--fill-color);\n",
              "    animation:\n",
              "      spin 1s steps(1) infinite;\n",
              "  }\n",
              "\n",
              "  @keyframes spin {\n",
              "    0% {\n",
              "      border-color: transparent;\n",
              "      border-bottom-color: var(--fill-color);\n",
              "      border-left-color: var(--fill-color);\n",
              "    }\n",
              "    20% {\n",
              "      border-color: transparent;\n",
              "      border-left-color: var(--fill-color);\n",
              "      border-top-color: var(--fill-color);\n",
              "    }\n",
              "    30% {\n",
              "      border-color: transparent;\n",
              "      border-left-color: var(--fill-color);\n",
              "      border-top-color: var(--fill-color);\n",
              "      border-right-color: var(--fill-color);\n",
              "    }\n",
              "    40% {\n",
              "      border-color: transparent;\n",
              "      border-right-color: var(--fill-color);\n",
              "      border-top-color: var(--fill-color);\n",
              "    }\n",
              "    60% {\n",
              "      border-color: transparent;\n",
              "      border-right-color: var(--fill-color);\n",
              "    }\n",
              "    80% {\n",
              "      border-color: transparent;\n",
              "      border-right-color: var(--fill-color);\n",
              "      border-bottom-color: var(--fill-color);\n",
              "    }\n",
              "    90% {\n",
              "      border-color: transparent;\n",
              "      border-bottom-color: var(--fill-color);\n",
              "    }\n",
              "  }\n",
              "</style>\n",
              "\n",
              "      <script>\n",
              "        async function quickchart(key) {\n",
              "          const quickchartButtonEl =\n",
              "            document.querySelector('#' + key + ' button');\n",
              "          quickchartButtonEl.disabled = true;  // To prevent multiple clicks.\n",
              "          quickchartButtonEl.classList.add('colab-df-spinner');\n",
              "          try {\n",
              "            const charts = await google.colab.kernel.invokeFunction(\n",
              "                'suggestCharts', [key], {});\n",
              "          } catch (error) {\n",
              "            console.error('Error during call to suggestCharts:', error);\n",
              "          }\n",
              "          quickchartButtonEl.classList.remove('colab-df-spinner');\n",
              "          quickchartButtonEl.classList.add('colab-df-quickchart-complete');\n",
              "        }\n",
              "        (() => {\n",
              "          let quickchartButtonEl =\n",
              "            document.querySelector('#df-7bfee47e-8d0a-48a0-81b8-bdc8b52ec04d button');\n",
              "          quickchartButtonEl.style.display =\n",
              "            google.colab.kernel.accessAllowed ? 'block' : 'none';\n",
              "        })();\n",
              "      </script>\n",
              "    </div>\n",
              "\n",
              "  <div id=\"id_8d76a32a-9af5-41e1-87b9-12e6eeefd6b9\">\n",
              "    <style>\n",
              "      .colab-df-generate {\n",
              "        background-color: #E8F0FE;\n",
              "        border: none;\n",
              "        border-radius: 50%;\n",
              "        cursor: pointer;\n",
              "        display: none;\n",
              "        fill: #1967D2;\n",
              "        height: 32px;\n",
              "        padding: 0 0 0 0;\n",
              "        width: 32px;\n",
              "      }\n",
              "\n",
              "      .colab-df-generate:hover {\n",
              "        background-color: #E2EBFA;\n",
              "        box-shadow: 0px 1px 2px rgba(60, 64, 67, 0.3), 0px 1px 3px 1px rgba(60, 64, 67, 0.15);\n",
              "        fill: #174EA6;\n",
              "      }\n",
              "\n",
              "      [theme=dark] .colab-df-generate {\n",
              "        background-color: #3B4455;\n",
              "        fill: #D2E3FC;\n",
              "      }\n",
              "\n",
              "      [theme=dark] .colab-df-generate:hover {\n",
              "        background-color: #434B5C;\n",
              "        box-shadow: 0px 1px 3px 1px rgba(0, 0, 0, 0.15);\n",
              "        filter: drop-shadow(0px 1px 2px rgba(0, 0, 0, 0.3));\n",
              "        fill: #FFFFFF;\n",
              "      }\n",
              "    </style>\n",
              "    <button class=\"colab-df-generate\" onclick=\"generateWithVariable('bitcoin_prices_nbeats')\"\n",
              "            title=\"Generate code using this dataframe.\"\n",
              "            style=\"display:none;\">\n",
              "\n",
              "  <svg xmlns=\"http://www.w3.org/2000/svg\" height=\"24px\"viewBox=\"0 0 24 24\"\n",
              "       width=\"24px\">\n",
              "    <path d=\"M7,19H8.4L18.45,9,17,7.55,7,17.6ZM5,21V16.75L18.45,3.32a2,2,0,0,1,2.83,0l1.4,1.43a1.91,1.91,0,0,1,.58,1.4,1.91,1.91,0,0,1-.58,1.4L9.25,21ZM18.45,9,17,7.55Zm-12,3A5.31,5.31,0,0,0,4.9,8.1,5.31,5.31,0,0,0,1,6.5,5.31,5.31,0,0,0,4.9,4.9,5.31,5.31,0,0,0,6.5,1,5.31,5.31,0,0,0,8.1,4.9,5.31,5.31,0,0,0,12,6.5,5.46,5.46,0,0,0,6.5,12Z\"/>\n",
              "  </svg>\n",
              "    </button>\n",
              "    <script>\n",
              "      (() => {\n",
              "      const buttonEl =\n",
              "        document.querySelector('#id_8d76a32a-9af5-41e1-87b9-12e6eeefd6b9 button.colab-df-generate');\n",
              "      buttonEl.style.display =\n",
              "        google.colab.kernel.accessAllowed ? 'block' : 'none';\n",
              "\n",
              "      buttonEl.onclick = () => {\n",
              "        google.colab.notebook.generateWithVariable('bitcoin_prices_nbeats');\n",
              "      }\n",
              "      })();\n",
              "    </script>\n",
              "  </div>\n",
              "\n",
              "    </div>\n",
              "  </div>\n"
            ],
            "application/vnd.google.colaboratory.intrinsic+json": {
              "type": "dataframe",
              "variable_name": "bitcoin_prices_nbeats",
              "summary": "{\n  \"name\": \"bitcoin_prices_nbeats\",\n  \"rows\": 2787,\n  \"fields\": [\n    {\n      \"column\": \"Date\",\n      \"properties\": {\n        \"dtype\": \"date\",\n        \"min\": \"2013-10-01 00:00:00\",\n        \"max\": \"2021-05-18 00:00:00\",\n        \"num_unique_values\": 2787,\n        \"samples\": [\n          \"2019-06-11 00:00:00\",\n          \"2021-05-03 00:00:00\",\n          \"2017-10-05 00:00:00\"\n        ],\n        \"semantic_type\": \"\",\n        \"description\": \"\"\n      }\n    },\n    {\n      \"column\": \"price\",\n      \"properties\": {\n        \"dtype\": \"number\",\n        \"std\": 10887.847444369514,\n        \"min\": 108.58483,\n        \"max\": 63346.7890351052,\n        \"num_unique_values\": 2787,\n        \"samples\": [\n          7954.0062377205,\n          56427.0431250152,\n          4186.78374\n        ],\n        \"semantic_type\": \"\",\n        \"description\": \"\"\n      }\n    },\n    {\n      \"column\": \"price+1\",\n      \"properties\": {\n        \"dtype\": \"number\",\n        \"std\": 10867.669449725989,\n        \"min\": 108.58483,\n        \"max\": 63346.7890351052,\n        \"num_unique_values\": 2786,\n        \"samples\": [\n          7600.9224920885,\n          57677.9752218988,\n          4186.78374\n        ],\n        \"semantic_type\": \"\",\n        \"description\": \"\"\n      }\n    },\n    {\n      \"column\": \"price+2\",\n      \"properties\": {\n        \"dtype\": \"number\",\n        \"std\": 10844.33784830378,\n        \"min\": 108.58483,\n        \"max\": 63346.7890351052,\n        \"num_unique_values\": 2785,\n        \"samples\": [\n          7600.9224920885,\n          57302.6464240813,\n          4186.78374\n        ],\n        \"semantic_type\": \"\",\n        \"description\": \"\"\n      }\n    },\n    {\n      \"column\": \"price+3\",\n      \"properties\": {\n        \"dtype\": \"number\",\n        \"std\": 10817.871229715482,\n        \"min\": 108.58483,\n        \"max\": 63346.7890351052,\n        \"num_unique_values\": 2784,\n        \"samples\": [\n          241.07183,\n          6883.4963937703,\n          9126.6368222216\n        ],\n        \"semantic_type\": \"\",\n        \"description\": \"\"\n      }\n    },\n    {\n      \"column\": \"price+4\",\n      \"properties\": {\n        \"dtype\": \"number\",\n        \"std\": 10788.26111548367,\n        \"min\": 108.58483,\n        \"max\": 63346.7890351052,\n        \"num_unique_values\": 2783,\n        \"samples\": [\n          241.07183,\n          15374.0443857602,\n          9078.5787771302\n        ],\n        \"semantic_type\": \"\",\n        \"description\": \"\"\n      }\n    },\n    {\n      \"column\": \"price+5\",\n      \"properties\": {\n        \"dtype\": \"number\",\n        \"std\": 10758.915269128049,\n        \"min\": 108.58483,\n        \"max\": 63346.7890351052,\n        \"num_unique_values\": 2782,\n        \"samples\": [\n          6181.7442069566,\n          10691.31129913,\n          3920.99125\n        ],\n        \"semantic_type\": \"\",\n        \"description\": \"\"\n      }\n    },\n    {\n      \"column\": \"price+6\",\n      \"properties\": {\n        \"dtype\": \"number\",\n        \"std\": 10725.887328798453,\n        \"min\": 108.58483,\n        \"max\": 63346.7890351052,\n        \"num_unique_values\": 2781,\n        \"samples\": [\n          15242.93625,\n          609.495,\n          3753.435\n        ],\n        \"semantic_type\": \"\",\n        \"description\": \"\"\n      }\n    },\n    {\n      \"column\": \"price+7\",\n      \"properties\": {\n        \"dtype\": \"number\",\n        \"std\": 10685.56601239665,\n        \"min\": 108.58483,\n        \"max\": 63346.7890351052,\n        \"num_unique_values\": 2780,\n        \"samples\": [\n          15242.93625,\n          609.495,\n          3753.435\n        ],\n        \"semantic_type\": \"\",\n        \"description\": \"\"\n      }\n    }\n  ]\n}"
            }
          },
          "metadata": {},
          "execution_count": 89
        }
      ],
      "execution_count": 89
    },
    {
      "metadata": {
        "ExecuteTime": {
          "end_time": "2025-07-22T09:04:23.750586Z",
          "start_time": "2025-07-22T09:04:23.738265Z"
        },
        "id": "80e68def53634c3c",
        "outputId": "6530c95b-3234-4d38-c8ee-0ca31212c2e5",
        "colab": {
          "base_uri": "https://localhost:8080/"
        }
      },
      "cell_type": "code",
      "source": [
        "X = bitcoin_prices_nbeats.dropna().drop('price', axis=1)\n",
        "y = bitcoin_prices_nbeats.dropna()['price']\n",
        "\n",
        "split_size = int(len(X) * 0.8)\n",
        "X_train, y_train = X[:split_size], y[:split_size]\n",
        "X_test, y_test = X[split_size:], y[split_size:]\n",
        "len(X_train), len(y_train), len(X_test), len(y_test)"
      ],
      "id": "80e68def53634c3c",
      "outputs": [
        {
          "output_type": "execute_result",
          "data": {
            "text/plain": [
              "(2224, 2224, 556, 556)"
            ]
          },
          "metadata": {},
          "execution_count": 90
        }
      ],
      "execution_count": 90
    },
    {
      "metadata": {
        "ExecuteTime": {
          "end_time": "2025-07-22T09:04:24.009423Z",
          "start_time": "2025-07-22T09:04:23.873803Z"
        },
        "id": "4ce765a5202565e0"
      },
      "cell_type": "code",
      "source": [
        "# time to make our dataset performant using tf.data API\n",
        "\n",
        "train_features_dataset = tf.data.Dataset.from_tensor_slices(X_train)\n",
        "train_labels_dataset = tf.data.Dataset.from_tensor_slices(y_train)\n",
        "\n",
        "test_features_dataset = tf.data.Dataset.from_tensor_slices(X_test)\n",
        "test_labels_dataset = tf.data.Dataset.from_tensor_slices(y_test)"
      ],
      "id": "4ce765a5202565e0",
      "outputs": [],
      "execution_count": 91
    },
    {
      "metadata": {
        "ExecuteTime": {
          "end_time": "2025-07-22T09:04:24.466845Z",
          "start_time": "2025-07-22T09:04:24.299411Z"
        },
        "id": "3b72ec4ed96a9f80",
        "outputId": "b62f5329-e9cd-4a34-ffc1-af0e0a88dcc6",
        "colab": {
          "base_uri": "https://localhost:8080/"
        }
      },
      "cell_type": "code",
      "source": [
        "train_dataset = tf.data.Dataset.zip((train_features_dataset, train_labels_dataset))\n",
        "test_dataset = tf.data.Dataset.zip((test_features_dataset, test_labels_dataset))\n",
        "\n",
        "BATCH_SIZE = 1024\n",
        "train_dataset = train_dataset.batch(BATCH_SIZE).prefetch(buffer_size=tf.data.experimental.AUTOTUNE)\n",
        "test_dataset = test_dataset.batch(BATCH_SIZE).prefetch(buffer_size=tf.data.experimental.AUTOTUNE)\n",
        "\n",
        "train_dataset, test_dataset"
      ],
      "id": "3b72ec4ed96a9f80",
      "outputs": [
        {
          "output_type": "execute_result",
          "data": {
            "text/plain": [
              "(<_PrefetchDataset element_spec=(TensorSpec(shape=(None, 7), dtype=tf.float64, name=None), TensorSpec(shape=(None,), dtype=tf.float64, name=None))>,\n",
              " <_PrefetchDataset element_spec=(TensorSpec(shape=(None, 7), dtype=tf.float64, name=None), TensorSpec(shape=(None,), dtype=tf.float64, name=None))>)"
            ]
          },
          "metadata": {},
          "execution_count": 92
        }
      ],
      "execution_count": 92
    },
    {
      "metadata": {
        "ExecuteTime": {
          "end_time": "2025-07-22T09:04:24.570870Z",
          "start_time": "2025-07-22T09:04:24.559277Z"
        },
        "id": "c20aa48f920075dc",
        "outputId": "1a2161bd-8e2e-4a66-e1ac-75a5ea51be5c",
        "colab": {
          "base_uri": "https://localhost:8080/"
        }
      },
      "cell_type": "code",
      "source": [
        "N_EPOCHS = 5000\n",
        "N_NEURONS = 512\n",
        "N_LAYERS = 4\n",
        "N_STACKS = 30\n",
        "\n",
        "INPUT_SIZE = WINDOW_SIZE * HORIZON\n",
        "THETA_SIZE = INPUT_SIZE + HORIZON\n",
        "\n",
        "INPUT_SIZE, THETA_SIZE"
      ],
      "id": "c20aa48f920075dc",
      "outputs": [
        {
          "output_type": "execute_result",
          "data": {
            "text/plain": [
              "(7, 8)"
            ]
          },
          "metadata": {},
          "execution_count": 93
        }
      ],
      "execution_count": 93
    },
    {
      "metadata": {
        "ExecuteTime": {
          "end_time": "2025-07-22T09:04:24.655739Z",
          "start_time": "2025-07-22T09:04:24.641201Z"
        },
        "id": "17420ea06c95dcbe",
        "outputId": "d62b03bc-56cd-420b-9e7b-720cb14c15f0",
        "colab": {
          "base_uri": "https://localhost:8080/"
        }
      },
      "cell_type": "code",
      "source": [
        "# before we can craft our N-Beats model we need two layers for the residual connections (subtract and add\n",
        "\n",
        "tensor_1 = tf.range(10) + 10\n",
        "tensor_2 = tf.range(10)\n",
        "\n",
        "subtracted = layers.subtract([tensor_1, tensor_2])\n",
        "added = layers.add([tensor_1, tensor_2])\n",
        "\n",
        "print(f\"Input tensors: {tensor_1.numpy()} & {tensor_2.numpy()}\")\n",
        "print(f\"Subtracted tensors: {subtracted.numpy()}\")\n",
        "print(f\"Added tensors: {added.numpy()}\")"
      ],
      "id": "17420ea06c95dcbe",
      "outputs": [
        {
          "output_type": "stream",
          "name": "stdout",
          "text": [
            "Input tensors: [10 11 12 13 14 15 16 17 18 19] & [0 1 2 3 4 5 6 7 8 9]\n",
            "Subtracted tensors: [10 10 10 10 10 10 10 10 10 10]\n",
            "Added tensors: [10 12 14 16 18 20 22 24 26 28]\n"
          ]
        }
      ],
      "execution_count": 94
    },
    {
      "metadata": {
        "id": "c660d75f6646b7d3"
      },
      "cell_type": "markdown",
      "source": [
        "The n-beats algorithm uses double residual stacking to help train its deeper architecture"
      ],
      "id": "c660d75f6646b7d3"
    },
    {
      "metadata": {
        "jupyter": {
          "is_executing": true
        },
        "ExecuteTime": {
          "start_time": "2025-07-22T09:10:29.795658Z"
        },
        "id": "b05d0f7035c56348",
        "outputId": "848a5518-b296-410b-f5e6-30a60b0da24e",
        "colab": {
          "base_uri": "https://localhost:8080/"
        }
      },
      "cell_type": "code",
      "source": [
        "%%time\n",
        "\n",
        "tf.random.set_seed(42)\n",
        "\n",
        "# 1. Setup and instance of NBeatsBlock\n",
        "nbeats_block_layer = NBeatsBlock(input_size=INPUT_SIZE,\n",
        "                                 theta_size=THETA_SIZE,\n",
        "                                 horizon=HORIZON,\n",
        "                                 n_neurons=N_NEURONS,\n",
        "                                 n_layers=N_LAYERS,\n",
        "                                 name=\"InitialBlock\")\n",
        "\n",
        "# 2. create input to stack\n",
        "stack_input = layers.Input(shape=(INPUT_SIZE,), name=\"stack_input\")\n",
        "\n",
        "# 3. create initial backcast and forecast input\n",
        "residuals, forecast = nbeats_block_layer(stack_input)\n",
        "\n",
        "# 4. create stacks of bllock layers\n",
        "for i, _ in enumerate(range(N_STACKS-1)): # first stack is already created in 3.\n",
        "    # 5. the NBeatsBlock to calculate the backcast as well as the forecast\n",
        "    backcast, block_forecast = NBeatsBlock(input_size=INPUT_SIZE,\n",
        "                                           theta_size = THETA_SIZE,\n",
        "                                           horizon=HORIZON,\n",
        "                                           n_neurons = N_NEURONS,\n",
        "                                           n_layers = N_LAYERS,\n",
        "                                           name=f\"NBeatsBlock_{i}\")(residuals) # pass in the residuals\n",
        "\n",
        "    #  6. Create the double residual stacking\n",
        "    residuals = layers.subtract([residuals, backcast], name=f\"subtract_{i}\")\n",
        "    forecast = layers.add([forecast, block_forecast], name=f\"add_{i}\")\n",
        "\n",
        "# 7. put the stack model together\n",
        "model_7 = tf.keras.Model(inputs = stack_input, outputs = forecast, name=\"model_7_nbeats\")\n",
        "\n",
        "# 8. compile\n",
        "model_7.compile(loss=\"mae\",\n",
        "                optimizer=tf.keras.optimizers.Adam())\n",
        "\n",
        "# 9. fit\n",
        "model_7.fit(train_dataset,\n",
        "            epochs=N_EPOCHS,\n",
        "            validation_data=test_dataset,\n",
        "            verbose=0,\n",
        "            callbacks=[tf.keras.callbacks.EarlyStopping(monitor=\"val_loss\",\n",
        "                                                        patience=200,\n",
        "                                                        restore_best_weights=True),\n",
        "                       tf.keras.callbacks.ReduceLROnPlateau(monitor=\"val_loss\", patience=100, verbose=1)])"
      ],
      "id": "b05d0f7035c56348",
      "outputs": [
        {
          "output_type": "stream",
          "name": "stdout",
          "text": [
            "\n",
            "Epoch 935: ReduceLROnPlateau reducing learning rate to 0.00010000000474974513.\n",
            "\n",
            "Epoch 1283: ReduceLROnPlateau reducing learning rate to 1.0000000474974514e-05.\n",
            "\n",
            "Epoch 1383: ReduceLROnPlateau reducing learning rate to 1.0000000656873453e-06.\n",
            "CPU times: user 4min 37s, sys: 20.2 s, total: 4min 58s\n",
            "Wall time: 3min 50s\n"
          ]
        },
        {
          "output_type": "execute_result",
          "data": {
            "text/plain": [
              "<keras.src.callbacks.history.History at 0x7876d5db0310>"
            ]
          },
          "metadata": {},
          "execution_count": 95
        }
      ],
      "execution_count": 95
    },
    {
      "metadata": {
        "id": "4b9da13cb8b6a3ce",
        "outputId": "b197f2e5-de10-4cd0-c3e7-437753862cbd",
        "colab": {
          "base_uri": "https://localhost:8080/"
        }
      },
      "cell_type": "code",
      "outputs": [
        {
          "output_type": "stream",
          "name": "stdout",
          "text": [
            "\u001b[1m1/1\u001b[0m \u001b[32m━━━━━━━━━━━━━━━━━━━━\u001b[0m\u001b[37m\u001b[0m \u001b[1m0s\u001b[0m 15ms/step - loss: 570.2534\n"
          ]
        },
        {
          "output_type": "execute_result",
          "data": {
            "text/plain": [
              "570.25341796875"
            ]
          },
          "metadata": {},
          "execution_count": 96
        }
      ],
      "execution_count": 96,
      "source": [
        "model_7.evaluate(test_dataset)"
      ],
      "id": "4b9da13cb8b6a3ce"
    },
    {
      "metadata": {
        "id": "b749be9ffb36b634",
        "outputId": "3ab93735-372f-4f80-82e6-4e6f25587aa0",
        "colab": {
          "base_uri": "https://localhost:8080/"
        }
      },
      "cell_type": "code",
      "outputs": [
        {
          "output_type": "stream",
          "name": "stdout",
          "text": [
            "\u001b[1m1/1\u001b[0m \u001b[32m━━━━━━━━━━━━━━━━━━━━\u001b[0m\u001b[37m\u001b[0m \u001b[1m3s\u001b[0m 3s/step\n"
          ]
        },
        {
          "output_type": "execute_result",
          "data": {
            "text/plain": [
              "<tf.Tensor: shape=(10,), dtype=float32, numpy=\n",
              "array([8817.267, 8752.63 , 9011.901, 8752.407, 8724.472, 8728.596,\n",
              "       8648.101, 8493.687, 8449.82 , 8498.531], dtype=float32)>"
            ]
          },
          "metadata": {},
          "execution_count": 97
        }
      ],
      "execution_count": 97,
      "source": [
        "model_7_preds = make_preds(model_7, test_dataset)\n",
        "model_7_preds[:10]"
      ],
      "id": "b749be9ffb36b634"
    },
    {
      "metadata": {
        "id": "f851874b361864cd",
        "outputId": "5364daa0-28c3-4885-c4a5-f3b7af0a0135",
        "colab": {
          "base_uri": "https://localhost:8080/"
        }
      },
      "cell_type": "code",
      "outputs": [
        {
          "output_type": "execute_result",
          "data": {
            "text/plain": [
              "{'mae': np.float32(570.25336),\n",
              " 'mse': np.float32(1160913.5),\n",
              " 'rmse': np.float32(1077.457),\n",
              " 'mape': np.float32(2.5957878),\n",
              " 'mase': np.float32(1.0017772)}"
            ]
          },
          "metadata": {},
          "execution_count": 98
        }
      ],
      "execution_count": 98,
      "source": [
        "model_7_results = evaluate_preds(y_true=y_test, y_pred=model_7_preds)\n",
        "model_7_results"
      ],
      "id": "f851874b361864cd"
    },
    {
      "cell_type": "code",
      "source": [
        "model_1_results"
      ],
      "metadata": {
        "id": "QIv1XOOe9Cl7",
        "outputId": "fbc9558b-9a45-4c1b-fcea-95e05ac1b524",
        "colab": {
          "base_uri": "https://localhost:8080/"
        }
      },
      "id": "QIv1XOOe9Cl7",
      "execution_count": 107,
      "outputs": [
        {
          "output_type": "execute_result",
          "data": {
            "text/plain": [
              "{'mae': np.float32(566.37646),\n",
              " 'mse': np.float32(1165759.1),\n",
              " 'rmse': np.float32(1079.7032),\n",
              " 'mape': np.float32(2.5316947),\n",
              " 'mase': np.float32(0.99496657)}"
            ]
          },
          "metadata": {},
          "execution_count": 107
        }
      ]
    },
    {
      "cell_type": "code",
      "source": [
        "# Ensemble model 8"
      ],
      "metadata": {
        "id": "j1rLGzRzBZ9J"
      },
      "id": "j1rLGzRzBZ9J",
      "execution_count": 108,
      "outputs": []
    },
    {
      "cell_type": "code",
      "source": [
        "def get_ensemble_models(horizon=HORIZON,\n",
        "                         train_data=train_dataset,\n",
        "                         test_data= test_dataset,\n",
        "                         num_iter=10,\n",
        "                         num_epochs=1000,\n",
        "                         loss_fns=['mae', 'mse', 'mape']):\n",
        "   \"\"\"\n",
        "   Returns a list of num_iter models each trained on MAE, MSE and MAPE loss\n",
        "   for ex, if num_iter=10, a list of 30 trained models will be return 1)*len(['mae', 'mse', 'mape'])\n",
        "   \"\"\"\n",
        "   ensemble_models = []\n",
        "   for i in range(num_iter):\n",
        "    for loss_function in loss_fns:\n",
        "      print(f\"Optimizing model by reducing {loss_function} for {num_epochs} epochs, model number: {i}\")\n",
        "\n",
        "      model = tf.keras.Sequential([\n",
        "          #initialize dense layers with normal distribution for estimating prediction intervals\n",
        "          layers.Dense(128, kernel_initializer=\"he_normal\", activation=\"relu\"),\n",
        "          layers.Dense(128, kernel_initializer=\"he_normal\", activation=\"relu\"),\n",
        "          layers.Dense(HORIZON)\n",
        "      ])\n",
        "\n",
        "      model.compile(loss=loss_function,\n",
        "                    optimizer=tf.keras.optimizers.Adam(),\n",
        "                    metrics=[\"mae\", \"mse\"])\n",
        "\n",
        "      model.fit(train_data,\n",
        "                epochs=num_epochs,\n",
        "                verbose=0,\n",
        "                validation_data=test_data,\n",
        "                callbacks=[\n",
        "                    tf.keras.callbacks.EarlyStopping(monitor='val_loss',\n",
        "                                                     patience=200,\n",
        "                                                     restore_best_weights=True),\n",
        "                    tf.keras.callbacks.ReduceLROnPlateau(monitor=\"val_loss\",\n",
        "                                                         patience=100,\n",
        "                                                         verbose=1)\n",
        "                ])\n",
        "      ensemble_models.append(model)\n",
        "   return ensemble_models"
      ],
      "metadata": {
        "id": "Exqq9ARdBcf6"
      },
      "id": "Exqq9ARdBcf6",
      "execution_count": 114,
      "outputs": []
    },
    {
      "cell_type": "code",
      "source": [
        "%%time\n",
        "\n",
        "ensemble_models = get_ensemble_models(num_iter=5, num_epochs=1000)"
      ],
      "metadata": {
        "colab": {
          "base_uri": "https://localhost:8080/"
        },
        "collapsed": true,
        "id": "GSYBI03NDaFi",
        "outputId": "49820c2c-6050-42ff-9690-a7c87ec63040"
      },
      "id": "GSYBI03NDaFi",
      "execution_count": 115,
      "outputs": [
        {
          "output_type": "stream",
          "name": "stdout",
          "text": [
            "Optimizing model by reducing mae for 1000 epochs, model number: 0\n",
            "\n",
            "Epoch 795: ReduceLROnPlateau reducing learning rate to 0.00010000000474974513.\n",
            "Optimizing model by reducing mse for 1000 epochs, model number: 0\n",
            "\n",
            "Epoch 246: ReduceLROnPlateau reducing learning rate to 0.00010000000474974513.\n",
            "\n",
            "Epoch 346: ReduceLROnPlateau reducing learning rate to 1.0000000474974514e-05.\n",
            "Optimizing model by reducing mape for 1000 epochs, model number: 0\n",
            "\n",
            "Epoch 181: ReduceLROnPlateau reducing learning rate to 0.00010000000474974513.\n",
            "\n",
            "Epoch 489: ReduceLROnPlateau reducing learning rate to 1.0000000474974514e-05.\n",
            "\n",
            "Epoch 589: ReduceLROnPlateau reducing learning rate to 1.0000000656873453e-06.\n",
            "Optimizing model by reducing mae for 1000 epochs, model number: 1\n",
            "\n",
            "Epoch 947: ReduceLROnPlateau reducing learning rate to 0.00010000000474974513.\n",
            "Optimizing model by reducing mse for 1000 epochs, model number: 1\n",
            "\n",
            "Epoch 352: ReduceLROnPlateau reducing learning rate to 0.00010000000474974513.\n",
            "\n",
            "Epoch 452: ReduceLROnPlateau reducing learning rate to 1.0000000474974514e-05.\n",
            "Optimizing model by reducing mape for 1000 epochs, model number: 1\n",
            "\n",
            "Epoch 164: ReduceLROnPlateau reducing learning rate to 0.00010000000474974513.\n",
            "\n",
            "Epoch 425: ReduceLROnPlateau reducing learning rate to 1.0000000474974514e-05.\n",
            "\n",
            "Epoch 525: ReduceLROnPlateau reducing learning rate to 1.0000000656873453e-06.\n",
            "Optimizing model by reducing mae for 1000 epochs, model number: 2\n",
            "\n",
            "Epoch 671: ReduceLROnPlateau reducing learning rate to 0.00010000000474974513.\n",
            "\n",
            "Epoch 908: ReduceLROnPlateau reducing learning rate to 1.0000000474974514e-05.\n",
            "Optimizing model by reducing mse for 1000 epochs, model number: 2\n",
            "\n",
            "Epoch 389: ReduceLROnPlateau reducing learning rate to 0.00010000000474974513.\n",
            "\n",
            "Epoch 489: ReduceLROnPlateau reducing learning rate to 1.0000000474974514e-05.\n",
            "Optimizing model by reducing mape for 1000 epochs, model number: 2\n",
            "\n",
            "Epoch 145: ReduceLROnPlateau reducing learning rate to 0.00010000000474974513.\n",
            "\n",
            "Epoch 805: ReduceLROnPlateau reducing learning rate to 1.0000000474974514e-05.\n",
            "\n",
            "Epoch 905: ReduceLROnPlateau reducing learning rate to 1.0000000656873453e-06.\n",
            "Optimizing model by reducing mae for 1000 epochs, model number: 3\n",
            "\n",
            "Epoch 821: ReduceLROnPlateau reducing learning rate to 0.00010000000474974513.\n",
            "Optimizing model by reducing mse for 1000 epochs, model number: 3\n",
            "\n",
            "Epoch 348: ReduceLROnPlateau reducing learning rate to 0.00010000000474974513.\n",
            "\n",
            "Epoch 448: ReduceLROnPlateau reducing learning rate to 1.0000000474974514e-05.\n",
            "Optimizing model by reducing mape for 1000 epochs, model number: 3\n",
            "\n",
            "Epoch 179: ReduceLROnPlateau reducing learning rate to 0.00010000000474974513.\n",
            "\n",
            "Epoch 302: ReduceLROnPlateau reducing learning rate to 1.0000000474974514e-05.\n",
            "\n",
            "Epoch 402: ReduceLROnPlateau reducing learning rate to 1.0000000656873453e-06.\n",
            "Optimizing model by reducing mae for 1000 epochs, model number: 4\n",
            "\n",
            "Epoch 111: ReduceLROnPlateau reducing learning rate to 0.00010000000474974513.\n",
            "Optimizing model by reducing mse for 1000 epochs, model number: 4\n",
            "\n",
            "Epoch 401: ReduceLROnPlateau reducing learning rate to 0.00010000000474974513.\n",
            "\n",
            "Epoch 501: ReduceLROnPlateau reducing learning rate to 1.0000000474974514e-05.\n",
            "Optimizing model by reducing mape for 1000 epochs, model number: 4\n",
            "\n",
            "Epoch 136: ReduceLROnPlateau reducing learning rate to 0.00010000000474974513.\n",
            "\n",
            "Epoch 922: ReduceLROnPlateau reducing learning rate to 1.0000000474974514e-05.\n",
            "CPU times: user 6min 10s, sys: 58 s, total: 7min 8s\n",
            "Wall time: 5min 18s\n"
          ]
        }
      ]
    },
    {
      "cell_type": "code",
      "source": [
        "ensemble_models"
      ],
      "metadata": {
        "id": "EsxU_oAoGGcX",
        "outputId": "027696fc-30b6-456f-8fc6-f6cb4ba1f8b2",
        "colab": {
          "base_uri": "https://localhost:8080/"
        }
      },
      "id": "EsxU_oAoGGcX",
      "execution_count": 116,
      "outputs": [
        {
          "output_type": "execute_result",
          "data": {
            "text/plain": [
              "[<Sequential name=sequential_2, built=True>,\n",
              " <Sequential name=sequential_3, built=True>,\n",
              " <Sequential name=sequential_4, built=True>,\n",
              " <Sequential name=sequential_5, built=True>,\n",
              " <Sequential name=sequential_6, built=True>,\n",
              " <Sequential name=sequential_7, built=True>,\n",
              " <Sequential name=sequential_8, built=True>,\n",
              " <Sequential name=sequential_9, built=True>,\n",
              " <Sequential name=sequential_10, built=True>,\n",
              " <Sequential name=sequential_11, built=True>,\n",
              " <Sequential name=sequential_12, built=True>,\n",
              " <Sequential name=sequential_13, built=True>,\n",
              " <Sequential name=sequential_14, built=True>,\n",
              " <Sequential name=sequential_15, built=True>,\n",
              " <Sequential name=sequential_16, built=True>]"
            ]
          },
          "metadata": {},
          "execution_count": 116
        }
      ]
    },
    {
      "cell_type": "code",
      "source": [
        "#make  predictions with ensemble\n",
        "\n",
        "def make_ensemble_preds(ensemble_models, data):\n",
        "    ensemble_preds = []\n",
        "    for model in ensemble_models:\n",
        "        ensemble_preds.append(model.predict(data))\n",
        "    return tf.constant(tf.squeeze(ensemble_preds))"
      ],
      "metadata": {
        "id": "GS_O3nEBGRE4"
      },
      "id": "GS_O3nEBGRE4",
      "execution_count": 120,
      "outputs": []
    },
    {
      "cell_type": "code",
      "source": [
        "%%time\n",
        "\n",
        "emsemble_preds = make_ensemble_preds(ensemble_models=ensemble_models, data=test_dataset)"
      ],
      "metadata": {
        "id": "UEUtEPOwHMFw",
        "outputId": "5ee28933-8a98-4b39-ce22-b8334c5c5e86",
        "colab": {
          "base_uri": "https://localhost:8080/"
        }
      },
      "id": "UEUtEPOwHMFw",
      "execution_count": 121,
      "outputs": [
        {
          "output_type": "stream",
          "name": "stdout",
          "text": [
            "\u001b[1m1/1\u001b[0m \u001b[32m━━━━━━━━━━━━━━━━━━━━\u001b[0m\u001b[37m\u001b[0m \u001b[1m0s\u001b[0m 292ms/step\n"
          ]
        },
        {
          "output_type": "stream",
          "name": "stderr",
          "text": [
            "WARNING:tensorflow:5 out of the last 21 calls to <function TensorFlowTrainer.make_predict_function.<locals>.one_step_on_data_distributed at 0x78761ada9260> triggered tf.function retracing. Tracing is expensive and the excessive number of tracings could be due to (1) creating @tf.function repeatedly in a loop, (2) passing tensors with different shapes, (3) passing Python objects instead of tensors. For (1), please define your @tf.function outside of the loop. For (2), @tf.function has reduce_retracing=True option that can avoid unnecessary retracing. For (3), please refer to https://www.tensorflow.org/guide/function#controlling_retracing and https://www.tensorflow.org/api_docs/python/tf/function for  more details.\n"
          ]
        },
        {
          "output_type": "stream",
          "name": "stdout",
          "text": [
            "\u001b[1m1/1\u001b[0m \u001b[32m━━━━━━━━━━━━━━━━━━━━\u001b[0m\u001b[37m\u001b[0m \u001b[1m0s\u001b[0m 230ms/step\n"
          ]
        },
        {
          "output_type": "stream",
          "name": "stderr",
          "text": [
            "WARNING:tensorflow:6 out of the last 22 calls to <function TensorFlowTrainer.make_predict_function.<locals>.one_step_on_data_distributed at 0x78761adaa3e0> triggered tf.function retracing. Tracing is expensive and the excessive number of tracings could be due to (1) creating @tf.function repeatedly in a loop, (2) passing tensors with different shapes, (3) passing Python objects instead of tensors. For (1), please define your @tf.function outside of the loop. For (2), @tf.function has reduce_retracing=True option that can avoid unnecessary retracing. For (3), please refer to https://www.tensorflow.org/guide/function#controlling_retracing and https://www.tensorflow.org/api_docs/python/tf/function for  more details.\n"
          ]
        },
        {
          "output_type": "stream",
          "name": "stdout",
          "text": [
            "\u001b[1m1/1\u001b[0m \u001b[32m━━━━━━━━━━━━━━━━━━━━\u001b[0m\u001b[37m\u001b[0m \u001b[1m0s\u001b[0m 229ms/step\n",
            "\u001b[1m1/1\u001b[0m \u001b[32m━━━━━━━━━━━━━━━━━━━━\u001b[0m\u001b[37m\u001b[0m \u001b[1m0s\u001b[0m 229ms/step\n",
            "\u001b[1m1/1\u001b[0m \u001b[32m━━━━━━━━━━━━━━━━━━━━\u001b[0m\u001b[37m\u001b[0m \u001b[1m0s\u001b[0m 229ms/step\n",
            "\u001b[1m1/1\u001b[0m \u001b[32m━━━━━━━━━━━━━━━━━━━━\u001b[0m\u001b[37m\u001b[0m \u001b[1m0s\u001b[0m 228ms/step\n",
            "\u001b[1m1/1\u001b[0m \u001b[32m━━━━━━━━━━━━━━━━━━━━\u001b[0m\u001b[37m\u001b[0m \u001b[1m0s\u001b[0m 231ms/step\n",
            "\u001b[1m1/1\u001b[0m \u001b[32m━━━━━━━━━━━━━━━━━━━━\u001b[0m\u001b[37m\u001b[0m \u001b[1m0s\u001b[0m 229ms/step\n",
            "\u001b[1m1/1\u001b[0m \u001b[32m━━━━━━━━━━━━━━━━━━━━\u001b[0m\u001b[37m\u001b[0m \u001b[1m0s\u001b[0m 234ms/step\n",
            "\u001b[1m1/1\u001b[0m \u001b[32m━━━━━━━━━━━━━━━━━━━━\u001b[0m\u001b[37m\u001b[0m \u001b[1m0s\u001b[0m 228ms/step\n",
            "\u001b[1m1/1\u001b[0m \u001b[32m━━━━━━━━━━━━━━━━━━━━\u001b[0m\u001b[37m\u001b[0m \u001b[1m0s\u001b[0m 227ms/step\n",
            "\u001b[1m1/1\u001b[0m \u001b[32m━━━━━━━━━━━━━━━━━━━━\u001b[0m\u001b[37m\u001b[0m \u001b[1m0s\u001b[0m 233ms/step\n",
            "\u001b[1m1/1\u001b[0m \u001b[32m━━━━━━━━━━━━━━━━━━━━\u001b[0m\u001b[37m\u001b[0m \u001b[1m0s\u001b[0m 244ms/step\n",
            "\u001b[1m1/1\u001b[0m \u001b[32m━━━━━━━━━━━━━━━━━━━━\u001b[0m\u001b[37m\u001b[0m \u001b[1m0s\u001b[0m 230ms/step\n",
            "\u001b[1m1/1\u001b[0m \u001b[32m━━━━━━━━━━━━━━━━━━━━\u001b[0m\u001b[37m\u001b[0m \u001b[1m0s\u001b[0m 230ms/step\n",
            "CPU times: user 3.49 s, sys: 121 ms, total: 3.61 s\n",
            "Wall time: 3.58 s\n"
          ]
        }
      ]
    },
    {
      "cell_type": "code",
      "source": [
        "ensemble_mean = tf.reduce_mean(emsemble_preds, axis=1)"
      ],
      "metadata": {
        "id": "VzC9ir9UINfc"
      },
      "id": "VzC9ir9UINfc",
      "execution_count": 124,
      "outputs": []
    },
    {
      "cell_type": "code",
      "source": [
        "ensemble_results = evaluate_preds(y_true=y_test, y_pred=emsemble_preds)\n",
        "ensemble_results"
      ],
      "metadata": {
        "id": "xvIWgsNEHcH_",
        "outputId": "8cab93f9-37ae-402f-a6a4-67fe59753657",
        "colab": {
          "base_uri": "https://localhost:8080/"
        }
      },
      "id": "xvIWgsNEHcH_",
      "execution_count": 122,
      "outputs": [
        {
          "output_type": "execute_result",
          "data": {
            "text/plain": [
              "{'mae': np.float32(577.19183),\n",
              " 'mse': np.float32(1176819.1),\n",
              " 'rmse': np.float32(1084.813),\n",
              " 'mape': np.float32(2.6155775),\n",
              " 'mase': np.float32(1.0139662)}"
            ]
          },
          "metadata": {},
          "execution_count": 122
        }
      ]
    },
    {
      "cell_type": "code",
      "source": [],
      "metadata": {
        "id": "OkMJlSF2IMn4"
      },
      "id": "OkMJlSF2IMn4",
      "execution_count": null,
      "outputs": []
    }
  ],
  "metadata": {
    "kernelspec": {
      "display_name": "Python 3",
      "name": "python3"
    },
    "language_info": {
      "codemirror_mode": {
        "name": "ipython",
        "version": 2
      },
      "file_extension": ".py",
      "mimetype": "text/x-python",
      "name": "python",
      "nbconvert_exporter": "python",
      "pygments_lexer": "ipython2",
      "version": "2.7.6"
    },
    "colab": {
      "provenance": [],
      "gpuType": "A100",
      "machine_shape": "hm"
    },
    "accelerator": "GPU"
  },
  "nbformat": 4,
  "nbformat_minor": 5
}