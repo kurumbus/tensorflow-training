{
 "cells": [
  {
   "metadata": {
    "ExecuteTime": {
     "end_time": "2025-07-22T09:01:37.196123Z",
     "start_time": "2025-07-22T09:01:36.573132Z"
    }
   },
   "cell_type": "code",
   "source": [
    "import pandas as pd\n",
    "\n",
    "df = pd.read_csv('BTC_USD_2013-10-01_2021-05-18-CoinDesk.csv', \n",
    "                 parse_dates=[\"Date\"],\n",
    "                 index_col=[\"Date\"])\n",
    "\n",
    "df"
   ],
   "id": "7a0ac31aca5933de",
   "outputs": [
    {
     "data": {
      "text/plain": [
       "           Currency  Closing Price (USD)  24h Open (USD)  24h High (USD)  \\\n",
       "Date                                                                       \n",
       "2013-10-01      BTC           123.654990      124.304660      124.751660   \n",
       "2013-10-02      BTC           125.455000      123.654990      125.758500   \n",
       "2013-10-03      BTC           108.584830      125.455000      125.665660   \n",
       "2013-10-04      BTC           118.674660      108.584830      118.675000   \n",
       "2013-10-05      BTC           121.338660      118.674660      121.936330   \n",
       "...             ...                  ...             ...             ...   \n",
       "2021-05-14      BTC         49764.132082    49596.778891    51448.798576   \n",
       "2021-05-15      BTC         50032.693137    49717.354353    51578.312545   \n",
       "2021-05-16      BTC         47885.625255    49926.035067    50690.802950   \n",
       "2021-05-17      BTC         45604.615754    46805.537852    49670.414174   \n",
       "2021-05-18      BTC         43144.471291    46439.336570    46622.853437   \n",
       "\n",
       "            24h Low (USD)  \n",
       "Date                       \n",
       "2013-10-01     122.563490  \n",
       "2013-10-02     123.633830  \n",
       "2013-10-03      83.328330  \n",
       "2013-10-04     107.058160  \n",
       "2013-10-05     118.005660  \n",
       "...                   ...  \n",
       "2021-05-14   46294.720180  \n",
       "2021-05-15   48944.346536  \n",
       "2021-05-16   47005.102292  \n",
       "2021-05-17   43868.638969  \n",
       "2021-05-18   42102.346430  \n",
       "\n",
       "[2787 rows x 5 columns]"
      ],
      "text/html": [
       "<div>\n",
       "<style scoped>\n",
       "    .dataframe tbody tr th:only-of-type {\n",
       "        vertical-align: middle;\n",
       "    }\n",
       "\n",
       "    .dataframe tbody tr th {\n",
       "        vertical-align: top;\n",
       "    }\n",
       "\n",
       "    .dataframe thead th {\n",
       "        text-align: right;\n",
       "    }\n",
       "</style>\n",
       "<table border=\"1\" class=\"dataframe\">\n",
       "  <thead>\n",
       "    <tr style=\"text-align: right;\">\n",
       "      <th></th>\n",
       "      <th>Currency</th>\n",
       "      <th>Closing Price (USD)</th>\n",
       "      <th>24h Open (USD)</th>\n",
       "      <th>24h High (USD)</th>\n",
       "      <th>24h Low (USD)</th>\n",
       "    </tr>\n",
       "    <tr>\n",
       "      <th>Date</th>\n",
       "      <th></th>\n",
       "      <th></th>\n",
       "      <th></th>\n",
       "      <th></th>\n",
       "      <th></th>\n",
       "    </tr>\n",
       "  </thead>\n",
       "  <tbody>\n",
       "    <tr>\n",
       "      <th>2013-10-01</th>\n",
       "      <td>BTC</td>\n",
       "      <td>123.654990</td>\n",
       "      <td>124.304660</td>\n",
       "      <td>124.751660</td>\n",
       "      <td>122.563490</td>\n",
       "    </tr>\n",
       "    <tr>\n",
       "      <th>2013-10-02</th>\n",
       "      <td>BTC</td>\n",
       "      <td>125.455000</td>\n",
       "      <td>123.654990</td>\n",
       "      <td>125.758500</td>\n",
       "      <td>123.633830</td>\n",
       "    </tr>\n",
       "    <tr>\n",
       "      <th>2013-10-03</th>\n",
       "      <td>BTC</td>\n",
       "      <td>108.584830</td>\n",
       "      <td>125.455000</td>\n",
       "      <td>125.665660</td>\n",
       "      <td>83.328330</td>\n",
       "    </tr>\n",
       "    <tr>\n",
       "      <th>2013-10-04</th>\n",
       "      <td>BTC</td>\n",
       "      <td>118.674660</td>\n",
       "      <td>108.584830</td>\n",
       "      <td>118.675000</td>\n",
       "      <td>107.058160</td>\n",
       "    </tr>\n",
       "    <tr>\n",
       "      <th>2013-10-05</th>\n",
       "      <td>BTC</td>\n",
       "      <td>121.338660</td>\n",
       "      <td>118.674660</td>\n",
       "      <td>121.936330</td>\n",
       "      <td>118.005660</td>\n",
       "    </tr>\n",
       "    <tr>\n",
       "      <th>...</th>\n",
       "      <td>...</td>\n",
       "      <td>...</td>\n",
       "      <td>...</td>\n",
       "      <td>...</td>\n",
       "      <td>...</td>\n",
       "    </tr>\n",
       "    <tr>\n",
       "      <th>2021-05-14</th>\n",
       "      <td>BTC</td>\n",
       "      <td>49764.132082</td>\n",
       "      <td>49596.778891</td>\n",
       "      <td>51448.798576</td>\n",
       "      <td>46294.720180</td>\n",
       "    </tr>\n",
       "    <tr>\n",
       "      <th>2021-05-15</th>\n",
       "      <td>BTC</td>\n",
       "      <td>50032.693137</td>\n",
       "      <td>49717.354353</td>\n",
       "      <td>51578.312545</td>\n",
       "      <td>48944.346536</td>\n",
       "    </tr>\n",
       "    <tr>\n",
       "      <th>2021-05-16</th>\n",
       "      <td>BTC</td>\n",
       "      <td>47885.625255</td>\n",
       "      <td>49926.035067</td>\n",
       "      <td>50690.802950</td>\n",
       "      <td>47005.102292</td>\n",
       "    </tr>\n",
       "    <tr>\n",
       "      <th>2021-05-17</th>\n",
       "      <td>BTC</td>\n",
       "      <td>45604.615754</td>\n",
       "      <td>46805.537852</td>\n",
       "      <td>49670.414174</td>\n",
       "      <td>43868.638969</td>\n",
       "    </tr>\n",
       "    <tr>\n",
       "      <th>2021-05-18</th>\n",
       "      <td>BTC</td>\n",
       "      <td>43144.471291</td>\n",
       "      <td>46439.336570</td>\n",
       "      <td>46622.853437</td>\n",
       "      <td>42102.346430</td>\n",
       "    </tr>\n",
       "  </tbody>\n",
       "</table>\n",
       "<p>2787 rows × 5 columns</p>\n",
       "</div>"
      ]
     },
     "execution_count": 1,
     "metadata": {},
     "output_type": "execute_result"
    }
   ],
   "execution_count": 1
  },
  {
   "metadata": {
    "ExecuteTime": {
     "end_time": "2025-07-22T09:01:37.543643Z",
     "start_time": "2025-07-22T09:01:37.532584Z"
    }
   },
   "cell_type": "code",
   "source": [
    "bitcoin_prices = pd.DataFrame(df[\"Closing Price (USD)\"]).rename(columns={\"Closing Price (USD)\": \"price\"})\n",
    "\n",
    "bitcoin_prices"
   ],
   "id": "f11db24c1eb21397",
   "outputs": [
    {
     "data": {
      "text/plain": [
       "                   price\n",
       "Date                    \n",
       "2013-10-01    123.654990\n",
       "2013-10-02    125.455000\n",
       "2013-10-03    108.584830\n",
       "2013-10-04    118.674660\n",
       "2013-10-05    121.338660\n",
       "...                  ...\n",
       "2021-05-14  49764.132082\n",
       "2021-05-15  50032.693137\n",
       "2021-05-16  47885.625255\n",
       "2021-05-17  45604.615754\n",
       "2021-05-18  43144.471291\n",
       "\n",
       "[2787 rows x 1 columns]"
      ],
      "text/html": [
       "<div>\n",
       "<style scoped>\n",
       "    .dataframe tbody tr th:only-of-type {\n",
       "        vertical-align: middle;\n",
       "    }\n",
       "\n",
       "    .dataframe tbody tr th {\n",
       "        vertical-align: top;\n",
       "    }\n",
       "\n",
       "    .dataframe thead th {\n",
       "        text-align: right;\n",
       "    }\n",
       "</style>\n",
       "<table border=\"1\" class=\"dataframe\">\n",
       "  <thead>\n",
       "    <tr style=\"text-align: right;\">\n",
       "      <th></th>\n",
       "      <th>price</th>\n",
       "    </tr>\n",
       "    <tr>\n",
       "      <th>Date</th>\n",
       "      <th></th>\n",
       "    </tr>\n",
       "  </thead>\n",
       "  <tbody>\n",
       "    <tr>\n",
       "      <th>2013-10-01</th>\n",
       "      <td>123.654990</td>\n",
       "    </tr>\n",
       "    <tr>\n",
       "      <th>2013-10-02</th>\n",
       "      <td>125.455000</td>\n",
       "    </tr>\n",
       "    <tr>\n",
       "      <th>2013-10-03</th>\n",
       "      <td>108.584830</td>\n",
       "    </tr>\n",
       "    <tr>\n",
       "      <th>2013-10-04</th>\n",
       "      <td>118.674660</td>\n",
       "    </tr>\n",
       "    <tr>\n",
       "      <th>2013-10-05</th>\n",
       "      <td>121.338660</td>\n",
       "    </tr>\n",
       "    <tr>\n",
       "      <th>...</th>\n",
       "      <td>...</td>\n",
       "    </tr>\n",
       "    <tr>\n",
       "      <th>2021-05-14</th>\n",
       "      <td>49764.132082</td>\n",
       "    </tr>\n",
       "    <tr>\n",
       "      <th>2021-05-15</th>\n",
       "      <td>50032.693137</td>\n",
       "    </tr>\n",
       "    <tr>\n",
       "      <th>2021-05-16</th>\n",
       "      <td>47885.625255</td>\n",
       "    </tr>\n",
       "    <tr>\n",
       "      <th>2021-05-17</th>\n",
       "      <td>45604.615754</td>\n",
       "    </tr>\n",
       "    <tr>\n",
       "      <th>2021-05-18</th>\n",
       "      <td>43144.471291</td>\n",
       "    </tr>\n",
       "  </tbody>\n",
       "</table>\n",
       "<p>2787 rows × 1 columns</p>\n",
       "</div>"
      ]
     },
     "execution_count": 2,
     "metadata": {},
     "output_type": "execute_result"
    }
   ],
   "execution_count": 2
  },
  {
   "metadata": {
    "ExecuteTime": {
     "end_time": "2025-07-22T09:01:38.920979Z",
     "start_time": "2025-07-22T09:01:37.849809Z"
    }
   },
   "cell_type": "code",
   "source": [
    "import matplotlib.pyplot as plt\n",
    "\n",
    "bitcoin_prices.plot(figsize=(10, 7))\n",
    "plt.ylabel(\"BTC Price\")\n",
    "plt.title(\"BTC Price 01-10-2013 to 18-05-2021\")"
   ],
   "id": "52bede75f484a007",
   "outputs": [
    {
     "data": {
      "text/plain": [
       "Text(0.5, 1.0, 'BTC Price 01-10-2013 to 18-05-2021')"
      ]
     },
     "execution_count": 3,
     "metadata": {},
     "output_type": "execute_result"
    },
    {
     "data": {
      "text/plain": [
       "<Figure size 1000x700 with 1 Axes>"
      ],
      "image/png": "[encoded data removed]"
     },
     "metadata": {},
     "output_type": "display_data"
    }
   ],
   "execution_count": 3
  },
  {
   "metadata": {
    "ExecuteTime": {
     "end_time": "2025-07-22T09:01:40.030858Z",
     "start_time": "2025-07-22T09:01:39.993223Z"
    }
   },
   "cell_type": "code",
   "source": [
    "import csv\n",
    "from datetime import datetime\n",
    "\n",
    "timesteps = []\n",
    "btc_price = []\n",
    "\n",
    "with open(\"BTC_USD_2013-10-01_2021-05-18-CoinDesk.csv\", \"r\") as f:\n",
    "    csv_reader = csv.reader(f, delimiter=\",\")\n",
    "    next(csv_reader, None)\n",
    "    for line in csv_reader:\n",
    "        timesteps.append(datetime.strptime(line[1], \"%Y-%m-%d\"))\n",
    "        btc_price.append(float(line[2])) # get the closing price as float\n",
    "        \n",
    "# View first 10 of each\n",
    "\n",
    "timesteps[:10], btc_price[:10]"
   ],
   "id": "a112f6990a95d71a",
   "outputs": [
    {
     "data": {
      "text/plain": [
       "([datetime.datetime(2013, 10, 1, 0, 0),\n",
       "  datetime.datetime(2013, 10, 2, 0, 0),\n",
       "  datetime.datetime(2013, 10, 3, 0, 0),\n",
       "  datetime.datetime(2013, 10, 4, 0, 0),\n",
       "  datetime.datetime(2013, 10, 5, 0, 0),\n",
       "  datetime.datetime(2013, 10, 6, 0, 0),\n",
       "  datetime.datetime(2013, 10, 7, 0, 0),\n",
       "  datetime.datetime(2013, 10, 8, 0, 0),\n",
       "  datetime.datetime(2013, 10, 9, 0, 0),\n",
       "  datetime.datetime(2013, 10, 10, 0, 0)],\n",
       " [123.65499,\n",
       "  125.455,\n",
       "  108.58483,\n",
       "  118.67466,\n",
       "  121.33866,\n",
       "  120.65533,\n",
       "  121.795,\n",
       "  123.033,\n",
       "  124.049,\n",
       "  125.96116])"
      ]
     },
     "execution_count": 4,
     "metadata": {},
     "output_type": "execute_result"
    }
   ],
   "execution_count": 4
  },
  {
   "metadata": {
    "ExecuteTime": {
     "end_time": "2025-07-22T09:01:40.847387Z",
     "start_time": "2025-07-22T09:01:40.642296Z"
    }
   },
   "cell_type": "code",
   "source": [
    "import matplotlib.pyplot as plt\n",
    "\n",
    "plt.figure(figsize=(10, 7))\n",
    "plt.ylabel(\"BTC Price\")\n",
    "plt.title(\"BTC Price 01-10-2013 to 18-05-2021\")\n",
    "plt.plot(timesteps, btc_price)"
   ],
   "id": "5e51cfbb94eadeb9",
   "outputs": [
    {
     "data": {
      "text/plain": [
       "[<matplotlib.lines.Line2D at 0x1a36a322a50>]"
      ]
     },
     "execution_count": 5,
     "metadata": {},
     "output_type": "execute_result"
    },
    {
     "data": {
      "text/plain": [
       "<Figure size 1000x700 with 1 Axes>"
      ],
      "image/png": "[encoded data removed]"
     },
     "metadata": {},
     "output_type": "display_data"
    }
   ],
   "execution_count": 5
  },
  {
   "metadata": {
    "ExecuteTime": {
     "end_time": "2025-07-22T09:01:41.585986Z",
     "start_time": "2025-07-22T09:01:41.576097Z"
    }
   },
   "cell_type": "code",
   "source": [
    "#  WRONG WAY \n",
    "\n",
    "timesteps = bitcoin_prices.index.to_numpy()\n",
    "prices = bitcoin_prices[\"price\"].to_numpy()\n",
    "\n",
    "timesteps[:10], prices[:10]"
   ],
   "id": "44a24274f273120e",
   "outputs": [
    {
     "data": {
      "text/plain": [
       "(array(['2013-10-01T00:00:00.000000000', '2013-10-02T00:00:00.000000000',\n",
       "        '2013-10-03T00:00:00.000000000', '2013-10-04T00:00:00.000000000',\n",
       "        '2013-10-05T00:00:00.000000000', '2013-10-06T00:00:00.000000000',\n",
       "        '2013-10-07T00:00:00.000000000', '2013-10-08T00:00:00.000000000',\n",
       "        '2013-10-09T00:00:00.000000000', '2013-10-10T00:00:00.000000000'],\n",
       "       dtype='datetime64[ns]'),\n",
       " array([123.65499, 125.455  , 108.58483, 118.67466, 121.33866, 120.65533,\n",
       "        121.795  , 123.033  , 124.049  , 125.96116]))"
      ]
     },
     "execution_count": 6,
     "metadata": {},
     "output_type": "execute_result"
    }
   ],
   "execution_count": 6
  },
  {
   "metadata": {
    "ExecuteTime": {
     "end_time": "2025-07-22T09:01:42.698765Z",
     "start_time": "2025-07-22T09:01:41.637552Z"
    }
   },
   "cell_type": "code",
   "source": [
    "#  WRONG WAY \n",
    "\n",
    "from sklearn.model_selection import train_test_split\n",
    "\n",
    "X_train, X_test, y_train, y_test = train_test_split(timesteps,  #dates\n",
    "                                                    prices,  # prices\n",
    "                                                    test_size=0.2,\n",
    "                                                    random_state=42)\n",
    "\n",
    "X_train.shape, X_test.shape, y_train.shape, y_test.shape"
   ],
   "id": "1c407ea125d2f69f",
   "outputs": [
    {
     "data": {
      "text/plain": [
       "((2229,), (558,), (2229,), (558,))"
      ]
     },
     "execution_count": 7,
     "metadata": {},
     "output_type": "execute_result"
    }
   ],
   "execution_count": 7
  },
  {
   "metadata": {
    "ExecuteTime": {
     "end_time": "2025-07-22T09:01:42.922176Z",
     "start_time": "2025-07-22T09:01:42.747592Z"
    }
   },
   "cell_type": "code",
   "source": [
    "#  WRONG WAY \n",
    "\n",
    "plt.figure(figsize=(10, 7))\n",
    "plt.scatter(X_train, y_train, s=5, label=\"Train data\")\n",
    "plt.scatter(X_test, y_test, s=5, label=\"Test data\")\n",
    "plt.xlabel(\"Date\")\n",
    "plt.ylabel(\"BTC Price\")\n",
    "plt.legend(fontsize=\"x-small\")\n",
    "plt.show()"
   ],
   "id": "4933835f112d3f69",
   "outputs": [
    {
     "data": {
      "text/plain": [
       "<Figure size 1000x700 with 1 Axes>"
      ],
      "image/png": "[encoded data removed]"
     },
     "metadata": {},
     "output_type": "display_data"
    }
   ],
   "execution_count": 8
  },
  {
   "metadata": {
    "ExecuteTime": {
     "end_time": "2025-07-22T09:01:43.227913Z",
     "start_time": "2025-07-22T09:01:42.954185Z"
    }
   },
   "cell_type": "code",
   "source": [
    "####\n",
    "# RIGHT WAY\n",
    "####"
   ],
   "id": "ff3f0acfcb354a39",
   "outputs": [],
   "execution_count": 9
  },
  {
   "metadata": {
    "ExecuteTime": {
     "end_time": "2025-07-22T09:01:43.260620Z",
     "start_time": "2025-07-22T09:01:43.253264Z"
    }
   },
   "cell_type": "code",
   "source": [
    "split_size = int(0.8 * len(prices))\n",
    "\n",
    "X_train, y_train = timesteps[:split_size], prices[:split_size]\n",
    "X_test, y_test = timesteps[split_size:], prices[split_size:]\n",
    "\n",
    "len(X_train), len(y_train), len(X_test), len(y_test)"
   ],
   "id": "de39fad53ad65597",
   "outputs": [
    {
     "data": {
      "text/plain": [
       "(2229, 2229, 558, 558)"
      ]
     },
     "execution_count": 10,
     "metadata": {},
     "output_type": "execute_result"
    }
   ],
   "execution_count": 10
  },
  {
   "metadata": {
    "ExecuteTime": {
     "end_time": "2025-07-22T09:01:43.498172Z",
     "start_time": "2025-07-22T09:01:43.335823Z"
    }
   },
   "cell_type": "code",
   "source": [
    "#  WRONG WAY \n",
    "\n",
    "plt.figure(figsize=(10, 7))\n",
    "plt.scatter(X_train, y_train, s=5, label=\"Train data\")\n",
    "plt.scatter(X_test, y_test, s=5, label=\"Test data\")\n",
    "plt.xlabel(\"Date\")\n",
    "plt.ylabel(\"BTC Price\")\n",
    "plt.legend(fontsize=\"x-small\")\n",
    "plt.show()"
   ],
   "id": "4ab2fe3ced8a702",
   "outputs": [
    {
     "data": {
      "text/plain": [
       "<Figure size 1000x700 with 1 Axes>"
      ],
      "image/png": "[encoded data removed]"
     },
     "metadata": {},
     "output_type": "display_data"
    }
   ],
   "execution_count": 11
  },
  {
   "metadata": {
    "ExecuteTime": {
     "end_time": "2025-07-22T09:01:43.565211Z",
     "start_time": "2025-07-22T09:01:43.559626Z"
    }
   },
   "cell_type": "code",
   "source": [
    "def plot_time_series(timesteps, values, format=\".\", start=0, end=None, label=None):\n",
    "    \"\"\"\n",
    "    plots teimesteps (a series of points in ttime against values a series of values across timestmeps) \n",
    "     \n",
    "    :param timesteps: array of timestemp values \n",
    "    :param values:  array of values across time\n",
    "    :param format:  style of plot\n",
    "    :param start: where to start the plot (setting a value will index from start of timesteps\n",
    "    :param end:  where to end the plot\n",
    "    :param label:  where to end the plot\n",
    "    :return: \n",
    "    \"\"\"\n",
    "    \n",
    "    plt.plot(timesteps[start:end], values, format, label=label)\n",
    "    plt.xlabel(\"Time\")\n",
    "    plt.ylabel(\"BTC Price\")\n",
    "    if label:\n",
    "        plt.legend(fontsize=14)\n",
    "    plt.grid(True)"
   ],
   "id": "f101ed16c05c8983",
   "outputs": [],
   "execution_count": 12
  },
  {
   "metadata": {
    "ExecuteTime": {
     "end_time": "2025-07-22T09:01:44.022171Z",
     "start_time": "2025-07-22T09:01:43.700291Z"
    }
   },
   "cell_type": "code",
   "source": [
    "plt.figure(figsize=(10, 7))\n",
    "plot_time_series(timesteps=X_train, values=y_train, label=\"Train data\")\n",
    "plot_time_series(timesteps=X_test, values=y_test, label=\"Test data\")"
   ],
   "id": "738be07cb6d82a31",
   "outputs": [
    {
     "data": {
      "text/plain": [
       "<Figure size 1000x700 with 1 Axes>"
      ],
      "image/png": "[encoded data removed]"
     },
     "metadata": {},
     "output_type": "display_data"
    }
   ],
   "execution_count": 13
  },
  {
   "metadata": {},
   "cell_type": "markdown",
   "source": [
    "Model experiments\n",
    "\n",
    "* 0. Native model (baseline\n",
    "* 1. Dense model\n",
    "* 2. same as 1\n",
    "* 3. same as 1\n",
    "* 4. conv1d\n",
    "* 5. lstm\n",
    "* 6. same as 1 + multivariate data\n",
    "* 7. n-beats algorithm\n",
    "* 8. ensemble\n",
    "* 9. future prediction model\n",
    "* 10. same as 1 but with turkey"
   ],
   "id": "f7a193f2d0371939"
  },
  {
   "metadata": {
    "ExecuteTime": {
     "end_time": "2025-07-22T09:01:44.098833Z",
     "start_time": "2025-07-22T09:01:44.089715Z"
    }
   },
   "cell_type": "code",
   "source": [
    "# Naive forecast\n",
    "\n",
    "naive_forecast = y_test[:-1]\n",
    "\n",
    "naive_forecast[:10], naive_forecast[-10:]"
   ],
   "id": "85a95d2bd6b7af29",
   "outputs": [
    {
     "data": {
      "text/plain": [
       "(array([9226.48582088, 8794.35864452, 8798.04205463, 9081.18687849,\n",
       "        8711.53433917, 8760.89271814, 8749.52059102, 8656.97092235,\n",
       "        8500.64355816, 8469.2608989 ]),\n",
       " array([57107.12067189, 58788.20967893, 58102.19142623, 55715.54665129,\n",
       "        56573.5554719 , 52147.82118698, 49764.1320816 , 50032.69313676,\n",
       "        47885.62525472, 45604.61575361]))"
      ]
     },
     "execution_count": 14,
     "metadata": {},
     "output_type": "execute_result"
    }
   ],
   "execution_count": 14
  },
  {
   "metadata": {
    "ExecuteTime": {
     "end_time": "2025-07-22T09:01:44.498296Z",
     "start_time": "2025-07-22T09:01:44.286402Z"
    }
   },
   "cell_type": "code",
   "source": [
    "plt.figure(figsize=(10, 7))\n",
    "plot_time_series(timesteps=X_train, values=y_train, label=\"Train data\")\n",
    "plot_time_series(timesteps=X_test, values=y_test, label=\"Test data\")\n",
    "plot_time_series(timesteps=X_test[1:], values=naive_forecast, format=\"-\", label=\"Naive forecast\")"
   ],
   "id": "936e66f0aa5953f6",
   "outputs": [
    {
     "data": {
      "text/plain": [
       "<Figure size 1000x700 with 1 Axes>"
      ],
      "image/png": "[encoded data removed]"
     },
     "metadata": {},
     "output_type": "display_data"
    }
   ],
   "execution_count": 15
  },
  {
   "metadata": {
    "ExecuteTime": {
     "end_time": "2025-07-22T09:01:48.990734Z",
     "start_time": "2025-07-22T09:01:44.554924Z"
    }
   },
   "cell_type": "code",
   "source": [
    "## Evaluating a time series model\n",
    "\n",
    "import tensorflow as tf\n",
    "\n",
    "#Mean absolute scale error implementation\n",
    "\n",
    "def mean_absolute_scaled_error(y_true, y_pred):\n",
    "    \"\"\"\n",
    "    Implement MASE (assuming not seasonality of data) \n",
    "    \"\"\"\n",
    "    \n",
    "    mae = tf.reduce_mean(tf.abs(y_true - y_pred))\n",
    "    mae_naive_no_season = tf.reduce_mean(tf.abs(y_true[1:] - y_true[:-1]))\n",
    "    return mae / mae_naive_no_season"
   ],
   "id": "e5ee364d0c6f9c46",
   "outputs": [],
   "execution_count": 16
  },
  {
   "metadata": {
    "ExecuteTime": {
     "end_time": "2025-07-22T09:01:49.070048Z",
     "start_time": "2025-07-22T09:01:49.026036Z"
    }
   },
   "cell_type": "code",
   "source": "mean_absolute_scaled_error(y_true=y_test[1:], y_pred= naive_forecast).numpy()",
   "id": "e1f65e7d671718b7",
   "outputs": [
    {
     "data": {
      "text/plain": [
       "0.9995699939182624"
      ]
     },
     "execution_count": 17,
     "metadata": {},
     "output_type": "execute_result"
    }
   ],
   "execution_count": 17
  },
  {
   "metadata": {
    "ExecuteTime": {
     "end_time": "2025-07-22T09:01:49.123331Z",
     "start_time": "2025-07-22T09:01:49.115988Z"
    }
   },
   "cell_type": "code",
   "source": [
    "def evaluate_preds(y_true, y_pred):\n",
    "    y_true = tf.cast(y_true, tf.float32)\n",
    "    y_pred = tf.cast(y_pred, tf.float32)\n",
    "    \n",
    "    mae = tf.reduce_mean(tf.abs(y_true - y_pred))\n",
    "    mse = tf.reduce_mean(tf.square(y_true - y_pred))\n",
    "    rmse = tf.sqrt(mse)\n",
    "    mape = tf.reduce_mean(tf.abs((y_true - y_pred) / y_true)) * 100\n",
    "    mase = mean_absolute_scaled_error(y_true, y_pred)  # Custom implementation\n",
    "    \n",
    "    return {\n",
    "        \"mae\": mae.numpy(),\n",
    "        \"mse\": mse.numpy(),\n",
    "        \"rmse\": rmse.numpy(),\n",
    "        \"mape\": mape.numpy(),\n",
    "        \"mase\": mase.numpy() if isinstance(mase, tf.Tensor) else mase\n",
    "    }"
   ],
   "id": "e233510bbf4921b1",
   "outputs": [],
   "execution_count": 18
  },
  {
   "metadata": {
    "ExecuteTime": {
     "end_time": "2025-07-22T09:01:49.261056Z",
     "start_time": "2025-07-22T09:01:49.224117Z"
    }
   },
   "cell_type": "code",
   "source": [
    "naive_results = evaluate_preds(y_true=y_test[1:], y_pred=naive_forecast)\n",
    "\n",
    "naive_results"
   ],
   "id": "e7a1519b863e78cc",
   "outputs": [
    {
     "data": {
      "text/plain": [
       "{'mae': 567.9802,\n",
       " 'mse': 1147547.0,\n",
       " 'rmse': 1071.2362,\n",
       " 'mape': 2.5165248,\n",
       " 'mase': 0.99957}"
      ]
     },
     "execution_count": 19,
     "metadata": {},
     "output_type": "execute_result"
    }
   ],
   "execution_count": 19
  },
  {
   "metadata": {
    "ExecuteTime": {
     "end_time": "2025-07-22T09:01:49.332390Z",
     "start_time": "2025-07-22T09:01:49.327915Z"
    }
   },
   "cell_type": "code",
   "source": [
    "HORIZON=1\n",
    "WINDOW_SIZE=7"
   ],
   "id": "93d1b30306c41348",
   "outputs": [],
   "execution_count": 20
  },
  {
   "metadata": {
    "ExecuteTime": {
     "end_time": "2025-07-22T09:01:49.420959Z",
     "start_time": "2025-07-22T09:01:49.416502Z"
    }
   },
   "cell_type": "code",
   "source": [
    "def get_labelled_window(x, horizon=HORIZON):\n",
    "    \"\"\"\n",
    "    Creates labels for windowed dataset.\n",
    "    e.g. if horizon=1\n",
    "    input [0,1,2,3,4,5,6,7] -> Output: ([0,1,2,3,4,5,6], [7])\n",
    "    \"\"\"\n",
    "    return x[:, :-horizon], x[:, -horizon:]"
   ],
   "id": "7926a7bd1d5c771a",
   "outputs": [],
   "execution_count": 21
  },
  {
   "metadata": {
    "ExecuteTime": {
     "end_time": "2025-07-22T09:01:49.506105Z",
     "start_time": "2025-07-22T09:01:49.487482Z"
    }
   },
   "cell_type": "code",
   "source": [
    "test_window, test_labels = get_labelled_window(tf.expand_dims(tf.range(8)+1, axis=0))\n",
    "test_window, test_labels"
   ],
   "id": "43d01ff3b8915d01",
   "outputs": [
    {
     "data": {
      "text/plain": [
       "(<tf.Tensor: shape=(1, 7), dtype=int32, numpy=array([[1, 2, 3, 4, 5, 6, 7]])>,\n",
       " <tf.Tensor: shape=(1, 1), dtype=int32, numpy=array([[8]])>)"
      ]
     },
     "execution_count": 22,
     "metadata": {},
     "output_type": "execute_result"
    }
   ],
   "execution_count": 22
  },
  {
   "metadata": {
    "ExecuteTime": {
     "end_time": "2025-07-22T09:01:49.572568Z",
     "start_time": "2025-07-22T09:01:49.566687Z"
    }
   },
   "cell_type": "code",
   "source": [
    "import numpy as np\n",
    "\n",
    "def make_windows(x, window_size=WINDOW_SIZE, horizon=HORIZON):\n",
    "    \"\"\"\n",
    "    Turns a 1d array in a 2d array of sequential labelled windows of window_size with horizon size labels\n",
    "    \"\"\"\n",
    "    window_step = np.expand_dims(np.arange(window_size+horizon), axis=0)\n",
    "    window_indexes = window_step + np.expand_dims(\n",
    "        np.arange(len(x)-(window_size+horizon-1)), axis=0\n",
    "    ).T\n",
    "    \n",
    "    windowed_array = x[window_indexes]\n",
    "    windows, labels = get_labelled_window(windowed_array, horizon=horizon)\n",
    "    return windows, labels\n",
    "    "
   ],
   "id": "8f54290c0fec3f48",
   "outputs": [],
   "execution_count": 23
  },
  {
   "metadata": {
    "ExecuteTime": {
     "end_time": "2025-07-22T09:01:49.656234Z",
     "start_time": "2025-07-22T09:01:49.651850Z"
    }
   },
   "cell_type": "code",
   "source": "full_windows, full_labels = make_windows(prices, window_size=WINDOW_SIZE, horizon=HORIZON)",
   "id": "30d1b28a08d0258d",
   "outputs": [],
   "execution_count": 24
  },
  {
   "metadata": {
    "ExecuteTime": {
     "end_time": "2025-07-22T09:01:49.726265Z",
     "start_time": "2025-07-22T09:01:49.720396Z"
    }
   },
   "cell_type": "code",
   "source": [
    "for i in range(3):\n",
    "    print(f\"Window: {full_windows[i]} -> Label: {full_labels[i]}\")"
   ],
   "id": "eeece6390d726613",
   "outputs": [
    {
     "name": "stdout",
     "output_type": "stream",
     "text": [
      "Window: [123.65499 125.455   108.58483 118.67466 121.33866 120.65533 121.795  ] -> Label: [123.033]\n",
      "Window: [125.455   108.58483 118.67466 121.33866 120.65533 121.795   123.033  ] -> Label: [124.049]\n",
      "Window: [108.58483 118.67466 121.33866 120.65533 121.795   123.033   124.049  ] -> Label: [125.96116]\n"
     ]
    }
   ],
   "execution_count": 25
  },
  {
   "metadata": {
    "ExecuteTime": {
     "end_time": "2025-07-22T09:01:49.824645Z",
     "start_time": "2025-07-22T09:01:49.781318Z"
    }
   },
   "cell_type": "code",
   "source": "# NB: tf.keras.preprocessing.timeseries_dataset_from_array() does everything above does ",
   "id": "364d05954253e450",
   "outputs": [],
   "execution_count": 26
  },
  {
   "metadata": {
    "ExecuteTime": {
     "end_time": "2025-07-22T09:01:49.918327Z",
     "start_time": "2025-07-22T09:01:49.911571Z"
    }
   },
   "cell_type": "code",
   "source": [
    "# make train/test splits\n",
    "\n",
    "def make_train_test_splits(windows, labels, test_split=0.2):\n",
    "    \"\"\"\n",
    "    Split matching pairs of windows and labels intro train and test splits \n",
    "    \"\"\"\n",
    "    split_size = int(len(windows) * (1-test_split))\n",
    "    train_windows = windows[:split_size]\n",
    "    train_labels = labels[:split_size]\n",
    "    test_windows = windows[split_size:]\n",
    "    test_labels = labels[split_size:]\n",
    "    return train_windows,  test_windows, train_labels, test_labels"
   ],
   "id": "2a42564290d2fae",
   "outputs": [],
   "execution_count": 27
  },
  {
   "metadata": {
    "ExecuteTime": {
     "end_time": "2025-07-22T09:01:49.973983Z",
     "start_time": "2025-07-22T09:01:49.941338Z"
    }
   },
   "cell_type": "code",
   "source": [
    "# make a modelling checkpoint callback\n",
    "\n",
    "import os\n",
    "\n",
    "def create_model_checkpoint(model_name, save_path=\"model_experiments\"):\n",
    "    model_name = f\"{model_name}.keras\"\n",
    "    return tf.keras.callbacks.ModelCheckpoint(filepath=os.path.join(save_path, model_name),\n",
    "                                              save_best_only=True, \n",
    "                                              verbose=0)"
   ],
   "id": "54d64104d3e957d4",
   "outputs": [],
   "execution_count": 28
  },
  {
   "metadata": {
    "ExecuteTime": {
     "end_time": "2025-07-22T09:01:50.091578Z",
     "start_time": "2025-07-22T09:01:50.005220Z"
    }
   },
   "cell_type": "code",
   "source": [
    "## Model 1: Dense model (window=7, horizon=1)\n",
    "# Dense layer (128, Relu) output with linear activation\n",
    "# Adam, MAE\n",
    "# Batch=128 (not 32)\n",
    "# 100 epochs"
   ],
   "id": "e0b6baaf216e75f4",
   "outputs": [],
   "execution_count": 29
  },
  {
   "metadata": {
    "ExecuteTime": {
     "end_time": "2025-07-22T09:01:50.129514Z",
     "start_time": "2025-07-22T09:01:50.124055Z"
    }
   },
   "cell_type": "code",
   "source": "train_windows,  test_windows, train_labels, test_labels = make_train_test_splits(windows=full_windows, labels=full_labels)",
   "id": "4a6e2770b83567fb",
   "outputs": [],
   "execution_count": 30
  },
  {
   "metadata": {
    "ExecuteTime": {
     "end_time": "2025-07-22T09:01:50.259006Z",
     "start_time": "2025-07-22T09:01:50.206179Z"
    }
   },
   "cell_type": "code",
   "source": [
    "import tensorflow as tf\n",
    "from tensorflow.keras.models import Sequential\n",
    "\n",
    "tf.random.set_seed(42)\n",
    "\n",
    "model_1 = Sequential([\n",
    "    tf.keras.layers.Dense(128, activation=\"relu\"),\n",
    "    tf.keras.layers.Dense(HORIZON, activation=\"linear\")\n",
    "], name=\"model_1_dense\")\n",
    "\n",
    "model_1.compile(loss=\"mae\", \n",
    "                optimizer=tf.keras.optimizers.Adam(),\n",
    "                metrics=[\"mae\", \"mse\"])\n",
    "\n"
   ],
   "id": "a9c28be971d54f3f",
   "outputs": [],
   "execution_count": 31
  },
  {
   "metadata": {
    "ExecuteTime": {
     "end_time": "2025-07-22T09:02:11.473938Z",
     "start_time": "2025-07-22T09:01:50.287679Z"
    }
   },
   "cell_type": "code",
   "source": [
    "model_1.fit(x=train_windows, \n",
    "            y=train_labels, \n",
    "            epochs=100, \n",
    "            verbose=1, \n",
    "            batch_size=128,\n",
    "            validation_data=(test_windows, test_labels), \n",
    "            callbacks=[create_model_checkpoint(model_name = model_1.name)])"
   ],
   "id": "3e7706755689a32b",
   "outputs": [
    {
     "name": "stdout",
     "output_type": "stream",
     "text": [
      "Epoch 1/100\n",
      "\u001B[1m18/18\u001B[0m \u001B[32m━━━━━━━━━━━━━━━━━━━━\u001B[0m\u001B[37m\u001B[0m \u001B[1m1s\u001B[0m 19ms/step - loss: 1472.7651 - mae: 1472.7651 - mse: 6265484.5000 - val_loss: 2459.3372 - val_mae: 2459.3372 - val_mse: 14708502.0000\n",
      "Epoch 2/100\n",
      "\u001B[1m18/18\u001B[0m \u001B[32m━━━━━━━━━━━━━━━━━━━━\u001B[0m\u001B[37m\u001B[0m \u001B[1m0s\u001B[0m 12ms/step - loss: 316.0931 - mae: 316.0931 - mse: 357775.5625 - val_loss: 1108.7815 - val_mae: 1108.7815 - val_mse: 3886886.7500\n",
      "Epoch 3/100\n",
      "\u001B[1m18/18\u001B[0m \u001B[32m━━━━━━━━━━━━━━━━━━━━\u001B[0m\u001B[37m\u001B[0m \u001B[1m0s\u001B[0m 10ms/step - loss: 197.0581 - mae: 197.0581 - mse: 188184.4531 - val_loss: 1111.0377 - val_mae: 1111.0377 - val_mse: 3789220.5000\n",
      "Epoch 4/100\n",
      "\u001B[1m18/18\u001B[0m \u001B[32m━━━━━━━━━━━━━━━━━━━━\u001B[0m\u001B[37m\u001B[0m \u001B[1m0s\u001B[0m 12ms/step - loss: 183.0371 - mae: 183.0371 - mse: 170385.0625 - val_loss: 1026.5249 - val_mae: 1026.5249 - val_mse: 3391665.7500\n",
      "Epoch 5/100\n",
      "\u001B[1m18/18\u001B[0m \u001B[32m━━━━━━━━━━━━━━━━━━━━\u001B[0m\u001B[37m\u001B[0m \u001B[1m0s\u001B[0m 11ms/step - loss: 173.3074 - mae: 173.3074 - mse: 155537.4375 - val_loss: 970.7974 - val_mae: 970.7974 - val_mse: 3008234.2500\n",
      "Epoch 6/100\n",
      "\u001B[1m18/18\u001B[0m \u001B[32m━━━━━━━━━━━━━━━━━━━━\u001B[0m\u001B[37m\u001B[0m \u001B[1m0s\u001B[0m 9ms/step - loss: 163.6284 - mae: 163.6284 - mse: 141838.0000 - val_loss: 938.3575 - val_mae: 938.3575 - val_mse: 2818623.0000\n",
      "Epoch 7/100\n",
      "\u001B[1m18/18\u001B[0m \u001B[32m━━━━━━━━━━━━━━━━━━━━\u001B[0m\u001B[37m\u001B[0m \u001B[1m0s\u001B[0m 8ms/step - loss: 158.7199 - mae: 158.7199 - mse: 133313.8281 - val_loss: 911.9698 - val_mae: 911.9698 - val_mse: 2657912.5000\n",
      "Epoch 8/100\n",
      "\u001B[1m18/18\u001B[0m \u001B[32m━━━━━━━━━━━━━━━━━━━━\u001B[0m\u001B[37m\u001B[0m \u001B[1m0s\u001B[0m 8ms/step - loss: 154.1510 - mae: 154.1510 - mse: 126629.2812 - val_loss: 884.5860 - val_mae: 884.5860 - val_mse: 2501159.2500\n",
      "Epoch 9/100\n",
      "\u001B[1m18/18\u001B[0m \u001B[32m━━━━━━━━━━━━━━━━━━━━\u001B[0m\u001B[37m\u001B[0m \u001B[1m0s\u001B[0m 7ms/step - loss: 149.8536 - mae: 149.8536 - mse: 119681.6172 - val_loss: 848.1588 - val_mae: 848.1588 - val_mse: 2340239.0000\n",
      "Epoch 10/100\n",
      "\u001B[1m18/18\u001B[0m \u001B[32m━━━━━━━━━━━━━━━━━━━━\u001B[0m\u001B[37m\u001B[0m \u001B[1m0s\u001B[0m 8ms/step - loss: 146.0816 - mae: 146.0816 - mse: 114823.1641 - val_loss: 821.4258 - val_mae: 821.4258 - val_mse: 2211992.0000\n",
      "Epoch 11/100\n",
      "\u001B[1m18/18\u001B[0m \u001B[32m━━━━━━━━━━━━━━━━━━━━\u001B[0m\u001B[37m\u001B[0m \u001B[1m0s\u001B[0m 8ms/step - loss: 143.0262 - mae: 143.0262 - mse: 109493.2812 - val_loss: 803.3010 - val_mae: 803.3010 - val_mse: 2103829.0000\n",
      "Epoch 12/100\n",
      "\u001B[1m18/18\u001B[0m \u001B[32m━━━━━━━━━━━━━━━━━━━━\u001B[0m\u001B[37m\u001B[0m \u001B[1m0s\u001B[0m 7ms/step - loss: 140.4048 - mae: 140.4048 - mse: 105240.3516 - val_loss: 787.5605 - val_mae: 787.5605 - val_mse: 2012692.7500\n",
      "Epoch 13/100\n",
      "\u001B[1m18/18\u001B[0m \u001B[32m━━━━━━━━━━━━━━━━━━━━\u001B[0m\u001B[37m\u001B[0m \u001B[1m0s\u001B[0m 8ms/step - loss: 138.3604 - mae: 138.3604 - mse: 100999.2734 - val_loss: 765.3306 - val_mae: 765.3306 - val_mse: 1923900.3750\n",
      "Epoch 14/100\n",
      "\u001B[1m18/18\u001B[0m \u001B[32m━━━━━━━━━━━━━━━━━━━━\u001B[0m\u001B[37m\u001B[0m \u001B[1m0s\u001B[0m 10ms/step - loss: 135.1595 - mae: 135.1595 - mse: 98551.6797 - val_loss: 748.2262 - val_mae: 748.2262 - val_mse: 1849410.7500\n",
      "Epoch 15/100\n",
      "\u001B[1m18/18\u001B[0m \u001B[32m━━━━━━━━━━━━━━━━━━━━\u001B[0m\u001B[37m\u001B[0m \u001B[1m0s\u001B[0m 12ms/step - loss: 132.5457 - mae: 132.5457 - mse: 96259.4766 - val_loss: 738.0150 - val_mae: 738.0150 - val_mse: 1837008.5000\n",
      "Epoch 16/100\n",
      "\u001B[1m18/18\u001B[0m \u001B[32m━━━━━━━━━━━━━━━━━━━━\u001B[0m\u001B[37m\u001B[0m \u001B[1m0s\u001B[0m 11ms/step - loss: 131.9562 - mae: 131.9562 - mse: 95255.2188 - val_loss: 731.4325 - val_mae: 731.4325 - val_mse: 1804955.1250\n",
      "Epoch 17/100\n",
      "\u001B[1m18/18\u001B[0m \u001B[32m━━━━━━━━━━━━━━━━━━━━\u001B[0m\u001B[37m\u001B[0m \u001B[1m0s\u001B[0m 12ms/step - loss: 132.0923 - mae: 132.0923 - mse: 94643.3438 - val_loss: 709.2886 - val_mae: 709.2886 - val_mse: 1691791.0000\n",
      "Epoch 18/100\n",
      "\u001B[1m18/18\u001B[0m \u001B[32m━━━━━━━━━━━━━━━━━━━━\u001B[0m\u001B[37m\u001B[0m \u001B[1m0s\u001B[0m 11ms/step - loss: 129.3201 - mae: 129.3201 - mse: 92210.3203 - val_loss: 699.8940 - val_mae: 699.8940 - val_mse: 1648622.7500\n",
      "Epoch 19/100\n",
      "\u001B[1m18/18\u001B[0m \u001B[32m━━━━━━━━━━━━━━━━━━━━\u001B[0m\u001B[37m\u001B[0m \u001B[1m0s\u001B[0m 10ms/step - loss: 126.8364 - mae: 126.8364 - mse: 89921.6562 - val_loss: 690.9385 - val_mae: 690.9385 - val_mse: 1611579.6250\n",
      "Epoch 20/100\n",
      "\u001B[1m18/18\u001B[0m \u001B[32m━━━━━━━━━━━━━━━━━━━━\u001B[0m\u001B[37m\u001B[0m \u001B[1m0s\u001B[0m 13ms/step - loss: 126.2107 - mae: 126.2107 - mse: 89240.2891 - val_loss: 684.3029 - val_mae: 684.3029 - val_mse: 1601587.0000\n",
      "Epoch 21/100\n",
      "\u001B[1m18/18\u001B[0m \u001B[32m━━━━━━━━━━━━━━━━━━━━\u001B[0m\u001B[37m\u001B[0m \u001B[1m0s\u001B[0m 11ms/step - loss: 125.6339 - mae: 125.6339 - mse: 88306.9766 - val_loss: 675.4274 - val_mae: 675.4274 - val_mse: 1560667.1250\n",
      "Epoch 22/100\n",
      "\u001B[1m18/18\u001B[0m \u001B[32m━━━━━━━━━━━━━━━━━━━━\u001B[0m\u001B[37m\u001B[0m \u001B[1m0s\u001B[0m 15ms/step - loss: 124.2421 - mae: 124.2421 - mse: 86961.3125 - val_loss: 668.3419 - val_mae: 668.3419 - val_mse: 1531455.2500\n",
      "Epoch 23/100\n",
      "\u001B[1m18/18\u001B[0m \u001B[32m━━━━━━━━━━━━━━━━━━━━\u001B[0m\u001B[37m\u001B[0m \u001B[1m0s\u001B[0m 11ms/step - loss: 123.2862 - mae: 123.2862 - mse: 85883.5234 - val_loss: 662.7150 - val_mae: 662.7150 - val_mse: 1513772.6250\n",
      "Epoch 24/100\n",
      "\u001B[1m18/18\u001B[0m \u001B[32m━━━━━━━━━━━━━━━━━━━━\u001B[0m\u001B[37m\u001B[0m \u001B[1m0s\u001B[0m 10ms/step - loss: 122.4660 - mae: 122.4660 - mse: 84778.8281 - val_loss: 655.8707 - val_mae: 655.8707 - val_mse: 1476946.3750\n",
      "Epoch 25/100\n",
      "\u001B[1m18/18\u001B[0m \u001B[32m━━━━━━━━━━━━━━━━━━━━\u001B[0m\u001B[37m\u001B[0m \u001B[1m0s\u001B[0m 10ms/step - loss: 121.8389 - mae: 121.8389 - mse: 84308.7656 - val_loss: 650.9440 - val_mae: 650.9440 - val_mse: 1451396.7500\n",
      "Epoch 26/100\n",
      "\u001B[1m18/18\u001B[0m \u001B[32m━━━━━━━━━━━━━━━━━━━━\u001B[0m\u001B[37m\u001B[0m \u001B[1m0s\u001B[0m 7ms/step - loss: 121.0976 - mae: 121.0976 - mse: 83556.5703 - val_loss: 653.2818 - val_mae: 653.2818 - val_mse: 1478908.3750\n",
      "Epoch 27/100\n",
      "\u001B[1m18/18\u001B[0m \u001B[32m━━━━━━━━━━━━━━━━━━━━\u001B[0m\u001B[37m\u001B[0m \u001B[1m0s\u001B[0m 11ms/step - loss: 120.7514 - mae: 120.7514 - mse: 83124.9219 - val_loss: 643.4935 - val_mae: 643.4935 - val_mse: 1438890.3750\n",
      "Epoch 28/100\n",
      "\u001B[1m18/18\u001B[0m \u001B[32m━━━━━━━━━━━━━━━━━━━━\u001B[0m\u001B[37m\u001B[0m \u001B[1m0s\u001B[0m 11ms/step - loss: 120.5998 - mae: 120.5998 - mse: 82987.2031 - val_loss: 642.7938 - val_mae: 642.7938 - val_mse: 1435334.5000\n",
      "Epoch 29/100\n",
      "\u001B[1m18/18\u001B[0m \u001B[32m━━━━━━━━━━━━━━━━━━━━\u001B[0m\u001B[37m\u001B[0m \u001B[1m0s\u001B[0m 7ms/step - loss: 119.1587 - mae: 119.1587 - mse: 81787.2578 - val_loss: 634.2910 - val_mae: 634.2910 - val_mse: 1398445.5000\n",
      "Epoch 30/100\n",
      "\u001B[1m18/18\u001B[0m \u001B[32m━━━━━━━━━━━━━━━━━━━━\u001B[0m\u001B[37m\u001B[0m \u001B[1m0s\u001B[0m 7ms/step - loss: 119.9781 - mae: 119.9781 - mse: 82154.4062 - val_loss: 631.9808 - val_mae: 631.9808 - val_mse: 1390709.5000\n",
      "Epoch 31/100\n",
      "\u001B[1m18/18\u001B[0m \u001B[32m━━━━━━━━━━━━━━━━━━━━\u001B[0m\u001B[37m\u001B[0m \u001B[1m0s\u001B[0m 8ms/step - loss: 118.0498 - mae: 118.0498 - mse: 80497.5938 - val_loss: 631.8102 - val_mae: 631.8102 - val_mse: 1390577.2500\n",
      "Epoch 32/100\n",
      "\u001B[1m18/18\u001B[0m \u001B[32m━━━━━━━━━━━━━━━━━━━━\u001B[0m\u001B[37m\u001B[0m \u001B[1m0s\u001B[0m 7ms/step - loss: 117.9764 - mae: 117.9764 - mse: 80580.4922 - val_loss: 626.5739 - val_mae: 626.5739 - val_mse: 1370422.5000\n",
      "Epoch 33/100\n",
      "\u001B[1m18/18\u001B[0m \u001B[32m━━━━━━━━━━━━━━━━━━━━\u001B[0m\u001B[37m\u001B[0m \u001B[1m0s\u001B[0m 5ms/step - loss: 117.2465 - mae: 117.2465 - mse: 79793.8594 - val_loss: 627.2200 - val_mae: 627.2200 - val_mse: 1371160.8750\n",
      "Epoch 34/100\n",
      "\u001B[1m18/18\u001B[0m \u001B[32m━━━━━━━━━━━━━━━━━━━━\u001B[0m\u001B[37m\u001B[0m \u001B[1m0s\u001B[0m 8ms/step - loss: 116.8077 - mae: 116.8077 - mse: 79348.0469 - val_loss: 622.7146 - val_mae: 622.7146 - val_mse: 1354716.3750\n",
      "Epoch 35/100\n",
      "\u001B[1m18/18\u001B[0m \u001B[32m━━━━━━━━━━━━━━━━━━━━\u001B[0m\u001B[37m\u001B[0m \u001B[1m0s\u001B[0m 7ms/step - loss: 116.6247 - mae: 116.6247 - mse: 79288.1484 - val_loss: 621.7456 - val_mae: 621.7456 - val_mse: 1349668.3750\n",
      "Epoch 36/100\n",
      "\u001B[1m18/18\u001B[0m \u001B[32m━━━━━━━━━━━━━━━━━━━━\u001B[0m\u001B[37m\u001B[0m \u001B[1m0s\u001B[0m 5ms/step - loss: 116.2079 - mae: 116.2079 - mse: 78834.8516 - val_loss: 629.3419 - val_mae: 629.3419 - val_mse: 1368206.5000\n",
      "Epoch 37/100\n",
      "\u001B[1m18/18\u001B[0m \u001B[32m━━━━━━━━━━━━━━━━━━━━\u001B[0m\u001B[37m\u001B[0m \u001B[1m0s\u001B[0m 7ms/step - loss: 116.0762 - mae: 116.0762 - mse: 78754.7969 - val_loss: 619.0522 - val_mae: 619.0522 - val_mse: 1336547.6250\n",
      "Epoch 38/100\n",
      "\u001B[1m18/18\u001B[0m \u001B[32m━━━━━━━━━━━━━━━━━━━━\u001B[0m\u001B[37m\u001B[0m \u001B[1m0s\u001B[0m 5ms/step - loss: 115.6847 - mae: 115.6847 - mse: 78123.5859 - val_loss: 621.4506 - val_mae: 621.4506 - val_mse: 1340274.0000\n",
      "Epoch 39/100\n",
      "\u001B[1m18/18\u001B[0m \u001B[32m━━━━━━━━━━━━━━━━━━━━\u001B[0m\u001B[37m\u001B[0m \u001B[1m0s\u001B[0m 5ms/step - loss: 115.1794 - mae: 115.1794 - mse: 77994.0547 - val_loss: 624.0163 - val_mae: 624.0163 - val_mse: 1345464.6250\n",
      "Epoch 40/100\n",
      "\u001B[1m18/18\u001B[0m \u001B[32m━━━━━━━━━━━━━━━━━━━━\u001B[0m\u001B[37m\u001B[0m \u001B[1m0s\u001B[0m 6ms/step - loss: 115.0962 - mae: 115.0962 - mse: 77764.0547 - val_loss: 617.0618 - val_mae: 617.0618 - val_mse: 1323354.5000\n",
      "Epoch 41/100\n",
      "\u001B[1m18/18\u001B[0m \u001B[32m━━━━━━━━━━━━━━━━━━━━\u001B[0m\u001B[37m\u001B[0m \u001B[1m0s\u001B[0m 4ms/step - loss: 114.5491 - mae: 114.5491 - mse: 77098.9609 - val_loss: 625.5059 - val_mae: 625.5059 - val_mse: 1346107.7500\n",
      "Epoch 42/100\n",
      "\u001B[1m18/18\u001B[0m \u001B[32m━━━━━━━━━━━━━━━━━━━━\u001B[0m\u001B[37m\u001B[0m \u001B[1m0s\u001B[0m 7ms/step - loss: 114.5539 - mae: 114.5539 - mse: 77168.2266 - val_loss: 600.0150 - val_mae: 600.0150 - val_mse: 1274115.5000\n",
      "Epoch 43/100\n",
      "\u001B[1m18/18\u001B[0m \u001B[32m━━━━━━━━━━━━━━━━━━━━\u001B[0m\u001B[37m\u001B[0m \u001B[1m0s\u001B[0m 5ms/step - loss: 113.6978 - mae: 113.6978 - mse: 76408.6484 - val_loss: 629.7632 - val_mae: 629.7632 - val_mse: 1353527.7500\n",
      "Epoch 44/100\n",
      "\u001B[1m18/18\u001B[0m \u001B[32m━━━━━━━━━━━━━━━━━━━━\u001B[0m\u001B[37m\u001B[0m \u001B[1m0s\u001B[0m 5ms/step - loss: 114.2580 - mae: 114.2580 - mse: 76911.1016 - val_loss: 621.0438 - val_mae: 621.0438 - val_mse: 1327754.6250\n",
      "Epoch 45/100\n",
      "\u001B[1m18/18\u001B[0m \u001B[32m━━━━━━━━━━━━━━━━━━━━\u001B[0m\u001B[37m\u001B[0m \u001B[1m0s\u001B[0m 5ms/step - loss: 113.7144 - mae: 113.7144 - mse: 76271.4922 - val_loss: 625.5981 - val_mae: 625.5981 - val_mse: 1338165.6250\n",
      "Epoch 46/100\n",
      "\u001B[1m18/18\u001B[0m \u001B[32m━━━━━━━━━━━━━━━━━━━━\u001B[0m\u001B[37m\u001B[0m \u001B[1m0s\u001B[0m 7ms/step - loss: 113.6728 - mae: 113.6728 - mse: 76476.7500 - val_loss: 614.3022 - val_mae: 614.3022 - val_mse: 1306268.7500\n",
      "Epoch 47/100\n",
      "\u001B[1m18/18\u001B[0m \u001B[32m━━━━━━━━━━━━━━━━━━━━\u001B[0m\u001B[37m\u001B[0m \u001B[1m0s\u001B[0m 8ms/step - loss: 113.0233 - mae: 113.0233 - mse: 75909.1953 - val_loss: 609.0062 - val_mae: 609.0062 - val_mse: 1290499.0000\n",
      "Epoch 48/100\n",
      "\u001B[1m18/18\u001B[0m \u001B[32m━━━━━━━━━━━━━━━━━━━━\u001B[0m\u001B[37m\u001B[0m \u001B[1m0s\u001B[0m 8ms/step - loss: 112.5005 - mae: 112.5005 - mse: 75457.0391 - val_loss: 604.4384 - val_mae: 604.4384 - val_mse: 1276949.3750\n",
      "Epoch 49/100\n",
      "\u001B[1m18/18\u001B[0m \u001B[32m━━━━━━━━━━━━━━━━━━━━\u001B[0m\u001B[37m\u001B[0m \u001B[1m0s\u001B[0m 10ms/step - loss: 112.1508 - mae: 112.1508 - mse: 75144.5234 - val_loss: 605.0251 - val_mae: 605.0251 - val_mse: 1277458.2500\n",
      "Epoch 50/100\n",
      "\u001B[1m18/18\u001B[0m \u001B[32m━━━━━━━━━━━━━━━━━━━━\u001B[0m\u001B[37m\u001B[0m \u001B[1m0s\u001B[0m 13ms/step - loss: 112.0169 - mae: 112.0169 - mse: 75001.8672 - val_loss: 593.8028 - val_mae: 593.8028 - val_mse: 1247961.1250\n",
      "Epoch 51/100\n",
      "\u001B[1m18/18\u001B[0m \u001B[32m━━━━━━━━━━━━━━━━━━━━\u001B[0m\u001B[37m\u001B[0m \u001B[1m0s\u001B[0m 9ms/step - loss: 111.3524 - mae: 111.3524 - mse: 74045.9297 - val_loss: 621.4045 - val_mae: 621.4045 - val_mse: 1316384.1250\n",
      "Epoch 52/100\n",
      "\u001B[1m18/18\u001B[0m \u001B[32m━━━━━━━━━━━━━━━━━━━━\u001B[0m\u001B[37m\u001B[0m \u001B[1m0s\u001B[0m 9ms/step - loss: 112.1519 - mae: 112.1519 - mse: 75070.6094 - val_loss: 596.2074 - val_mae: 596.2074 - val_mse: 1251019.5000\n",
      "Epoch 53/100\n",
      "\u001B[1m18/18\u001B[0m \u001B[32m━━━━━━━━━━━━━━━━━━━━\u001B[0m\u001B[37m\u001B[0m \u001B[1m0s\u001B[0m 16ms/step - loss: 111.1228 - mae: 111.1228 - mse: 74196.9062 - val_loss: 591.6253 - val_mae: 591.6253 - val_mse: 1238628.6250\n",
      "Epoch 54/100\n",
      "\u001B[1m18/18\u001B[0m \u001B[32m━━━━━━━━━━━━━━━━━━━━\u001B[0m\u001B[37m\u001B[0m \u001B[1m0s\u001B[0m 9ms/step - loss: 110.5581 - mae: 110.5581 - mse: 73521.1797 - val_loss: 597.9255 - val_mae: 597.9255 - val_mse: 1253451.1250\n",
      "Epoch 55/100\n",
      "\u001B[1m18/18\u001B[0m \u001B[32m━━━━━━━━━━━━━━━━━━━━\u001B[0m\u001B[37m\u001B[0m \u001B[1m0s\u001B[0m 15ms/step - loss: 110.8670 - mae: 110.8670 - mse: 74017.2031 - val_loss: 588.0806 - val_mae: 588.0806 - val_mse: 1228448.8750\n",
      "Epoch 56/100\n",
      "\u001B[1m18/18\u001B[0m \u001B[32m━━━━━━━━━━━━━━━━━━━━\u001B[0m\u001B[37m\u001B[0m \u001B[1m0s\u001B[0m 7ms/step - loss: 109.9796 - mae: 109.9796 - mse: 72921.7266 - val_loss: 596.8165 - val_mae: 596.8165 - val_mse: 1248469.5000\n",
      "Epoch 57/100\n",
      "\u001B[1m18/18\u001B[0m \u001B[32m━━━━━━━━━━━━━━━━━━━━\u001B[0m\u001B[37m\u001B[0m \u001B[1m0s\u001B[0m 6ms/step - loss: 110.7031 - mae: 110.7031 - mse: 73932.5625 - val_loss: 596.8315 - val_mae: 596.8315 - val_mse: 1247494.5000\n",
      "Epoch 58/100\n",
      "\u001B[1m18/18\u001B[0m \u001B[32m━━━━━━━━━━━━━━━━━━━━\u001B[0m\u001B[37m\u001B[0m \u001B[1m0s\u001B[0m 10ms/step - loss: 110.3482 - mae: 110.3482 - mse: 73667.7109 - val_loss: 586.4531 - val_mae: 586.4531 - val_mse: 1221834.2500\n",
      "Epoch 59/100\n",
      "\u001B[1m18/18\u001B[0m \u001B[32m━━━━━━━━━━━━━━━━━━━━\u001B[0m\u001B[37m\u001B[0m \u001B[1m0s\u001B[0m 6ms/step - loss: 109.5726 - mae: 109.5726 - mse: 72726.5312 - val_loss: 591.5108 - val_mae: 591.5108 - val_mse: 1232693.1250\n",
      "Epoch 60/100\n",
      "\u001B[1m18/18\u001B[0m \u001B[32m━━━━━━━━━━━━━━━━━━━━\u001B[0m\u001B[37m\u001B[0m \u001B[1m0s\u001B[0m 11ms/step - loss: 109.6950 - mae: 109.6950 - mse: 72993.2812 - val_loss: 585.0713 - val_mae: 585.0713 - val_mse: 1217417.2500\n",
      "Epoch 61/100\n",
      "\u001B[1m18/18\u001B[0m \u001B[32m━━━━━━━━━━━━━━━━━━━━\u001B[0m\u001B[37m\u001B[0m \u001B[1m0s\u001B[0m 5ms/step - loss: 109.5401 - mae: 109.5401 - mse: 72408.5156 - val_loss: 593.3484 - val_mae: 593.3484 - val_mse: 1236319.5000\n",
      "Epoch 62/100\n",
      "\u001B[1m18/18\u001B[0m \u001B[32m━━━━━━━━━━━━━━━━━━━━\u001B[0m\u001B[37m\u001B[0m \u001B[1m0s\u001B[0m 7ms/step - loss: 109.6758 - mae: 109.6758 - mse: 72730.4297 - val_loss: 585.7148 - val_mae: 585.7148 - val_mse: 1218235.5000\n",
      "Epoch 63/100\n",
      "\u001B[1m18/18\u001B[0m \u001B[32m━━━━━━━━━━━━━━━━━━━━\u001B[0m\u001B[37m\u001B[0m \u001B[1m0s\u001B[0m 6ms/step - loss: 109.1994 - mae: 109.1994 - mse: 71995.0938 - val_loss: 597.8292 - val_mae: 597.8292 - val_mse: 1244658.6250\n",
      "Epoch 64/100\n",
      "\u001B[1m18/18\u001B[0m \u001B[32m━━━━━━━━━━━━━━━━━━━━\u001B[0m\u001B[37m\u001B[0m \u001B[1m0s\u001B[0m 12ms/step - loss: 109.2250 - mae: 109.2250 - mse: 72339.7031 - val_loss: 575.8558 - val_mae: 575.8558 - val_mse: 1193010.8750\n",
      "Epoch 65/100\n",
      "\u001B[1m18/18\u001B[0m \u001B[32m━━━━━━━━━━━━━━━━━━━━\u001B[0m\u001B[37m\u001B[0m \u001B[1m1s\u001B[0m 30ms/step - loss: 108.4890 - mae: 108.4890 - mse: 71665.2500 - val_loss: 573.5522 - val_mae: 573.5522 - val_mse: 1186149.8750\n",
      "Epoch 66/100\n",
      "\u001B[1m18/18\u001B[0m \u001B[32m━━━━━━━━━━━━━━━━━━━━\u001B[0m\u001B[37m\u001B[0m \u001B[1m0s\u001B[0m 7ms/step - loss: 109.1361 - mae: 109.1361 - mse: 71616.9219 - val_loss: 577.5487 - val_mae: 577.5487 - val_mse: 1197627.1250\n",
      "Epoch 67/100\n",
      "\u001B[1m18/18\u001B[0m \u001B[32m━━━━━━━━━━━━━━━━━━━━\u001B[0m\u001B[37m\u001B[0m \u001B[1m0s\u001B[0m 8ms/step - loss: 108.6753 - mae: 108.6753 - mse: 71477.8203 - val_loss: 575.0785 - val_mae: 575.0785 - val_mse: 1190711.2500\n",
      "Epoch 68/100\n",
      "\u001B[1m18/18\u001B[0m \u001B[32m━━━━━━━━━━━━━━━━━━━━\u001B[0m\u001B[37m\u001B[0m \u001B[1m0s\u001B[0m 9ms/step - loss: 108.5257 - mae: 108.5257 - mse: 71295.0312 - val_loss: 576.0542 - val_mae: 576.0542 - val_mse: 1193231.5000\n",
      "Epoch 69/100\n",
      "\u001B[1m18/18\u001B[0m \u001B[32m━━━━━━━━━━━━━━━━━━━━\u001B[0m\u001B[37m\u001B[0m \u001B[1m0s\u001B[0m 11ms/step - loss: 108.0434 - mae: 108.0434 - mse: 71111.9531 - val_loss: 573.4244 - val_mae: 573.4244 - val_mse: 1180639.1250\n",
      "Epoch 70/100\n",
      "\u001B[1m18/18\u001B[0m \u001B[32m━━━━━━━━━━━━━━━━━━━━\u001B[0m\u001B[37m\u001B[0m \u001B[1m0s\u001B[0m 8ms/step - loss: 110.6905 - mae: 110.6905 - mse: 71741.0312 - val_loss: 599.9554 - val_mae: 599.9554 - val_mse: 1243512.0000\n",
      "Epoch 71/100\n",
      "\u001B[1m18/18\u001B[0m \u001B[32m━━━━━━━━━━━━━━━━━━━━\u001B[0m\u001B[37m\u001B[0m \u001B[1m0s\u001B[0m 9ms/step - loss: 108.5633 - mae: 108.5633 - mse: 71626.9062 - val_loss: 570.9257 - val_mae: 570.9257 - val_mse: 1177357.7500\n",
      "Epoch 72/100\n",
      "\u001B[1m18/18\u001B[0m \u001B[32m━━━━━━━━━━━━━━━━━━━━\u001B[0m\u001B[37m\u001B[0m \u001B[1m0s\u001B[0m 8ms/step - loss: 108.2763 - mae: 108.2763 - mse: 70606.7969 - val_loss: 576.5212 - val_mae: 576.5212 - val_mse: 1192659.6250\n",
      "Epoch 73/100\n",
      "\u001B[1m18/18\u001B[0m \u001B[32m━━━━━━━━━━━━━━━━━━━━\u001B[0m\u001B[37m\u001B[0m \u001B[1m0s\u001B[0m 15ms/step - loss: 108.4585 - mae: 108.4585 - mse: 71159.0547 - val_loss: 570.8349 - val_mae: 570.8349 - val_mse: 1178061.1250\n",
      "Epoch 74/100\n",
      "\u001B[1m18/18\u001B[0m \u001B[32m━━━━━━━━━━━━━━━━━━━━\u001B[0m\u001B[37m\u001B[0m \u001B[1m0s\u001B[0m 9ms/step - loss: 108.7667 - mae: 108.7667 - mse: 70876.1328 - val_loss: 574.5628 - val_mae: 574.5628 - val_mse: 1187431.8750\n",
      "Epoch 75/100\n",
      "\u001B[1m18/18\u001B[0m \u001B[32m━━━━━━━━━━━━━━━━━━━━\u001B[0m\u001B[37m\u001B[0m \u001B[1m0s\u001B[0m 7ms/step - loss: 108.0046 - mae: 108.0046 - mse: 70631.2344 - val_loss: 571.3445 - val_mae: 571.3445 - val_mse: 1179454.3750\n",
      "Epoch 76/100\n",
      "\u001B[1m18/18\u001B[0m \u001B[32m━━━━━━━━━━━━━━━━━━━━\u001B[0m\u001B[37m\u001B[0m \u001B[1m0s\u001B[0m 12ms/step - loss: 108.1801 - mae: 108.1801 - mse: 70613.0859 - val_loss: 570.1165 - val_mae: 570.1165 - val_mse: 1176068.8750\n",
      "Epoch 77/100\n",
      "\u001B[1m18/18\u001B[0m \u001B[32m━━━━━━━━━━━━━━━━━━━━\u001B[0m\u001B[37m\u001B[0m \u001B[1m0s\u001B[0m 9ms/step - loss: 108.1566 - mae: 108.1566 - mse: 70339.9688 - val_loss: 575.5788 - val_mae: 575.5788 - val_mse: 1189698.5000\n",
      "Epoch 78/100\n",
      "\u001B[1m18/18\u001B[0m \u001B[32m━━━━━━━━━━━━━━━━━━━━\u001B[0m\u001B[37m\u001B[0m \u001B[1m0s\u001B[0m 9ms/step - loss: 108.1305 - mae: 108.1305 - mse: 70628.9062 - val_loss: 592.6024 - val_mae: 592.6024 - val_mse: 1225603.5000\n",
      "Epoch 79/100\n",
      "\u001B[1m18/18\u001B[0m \u001B[32m━━━━━━━━━━━━━━━━━━━━\u001B[0m\u001B[37m\u001B[0m \u001B[1m0s\u001B[0m 9ms/step - loss: 107.5188 - mae: 107.5188 - mse: 70386.4531 - val_loss: 573.3035 - val_mae: 573.3035 - val_mse: 1176218.8750\n",
      "Epoch 80/100\n",
      "\u001B[1m18/18\u001B[0m \u001B[32m━━━━━━━━━━━━━━━━━━━━\u001B[0m\u001B[37m\u001B[0m \u001B[1m0s\u001B[0m 7ms/step - loss: 109.0046 - mae: 109.0046 - mse: 70421.7969 - val_loss: 570.6140 - val_mae: 570.6140 - val_mse: 1176265.0000\n",
      "Epoch 81/100\n",
      "\u001B[1m18/18\u001B[0m \u001B[32m━━━━━━━━━━━━━━━━━━━━\u001B[0m\u001B[37m\u001B[0m \u001B[1m0s\u001B[0m 11ms/step - loss: 107.7665 - mae: 107.7665 - mse: 70141.9453 - val_loss: 569.7069 - val_mae: 569.7069 - val_mse: 1173898.8750\n",
      "Epoch 82/100\n",
      "\u001B[1m18/18\u001B[0m \u001B[32m━━━━━━━━━━━━━━━━━━━━\u001B[0m\u001B[37m\u001B[0m \u001B[1m0s\u001B[0m 12ms/step - loss: 107.3943 - mae: 107.3943 - mse: 69956.6016 - val_loss: 568.4241 - val_mae: 568.4241 - val_mse: 1170172.1250\n",
      "Epoch 83/100\n",
      "\u001B[1m18/18\u001B[0m \u001B[32m━━━━━━━━━━━━━━━━━━━━\u001B[0m\u001B[37m\u001B[0m \u001B[1m0s\u001B[0m 10ms/step - loss: 107.7726 - mae: 107.7726 - mse: 69892.3359 - val_loss: 572.6023 - val_mae: 572.6023 - val_mse: 1179838.6250\n",
      "Epoch 84/100\n",
      "\u001B[1m18/18\u001B[0m \u001B[32m━━━━━━━━━━━━━━━━━━━━\u001B[0m\u001B[37m\u001B[0m \u001B[1m0s\u001B[0m 8ms/step - loss: 107.5389 - mae: 107.5389 - mse: 69829.2422 - val_loss: 577.6098 - val_mae: 577.6098 - val_mse: 1191921.7500\n",
      "Epoch 85/100\n",
      "\u001B[1m18/18\u001B[0m \u001B[32m━━━━━━━━━━━━━━━━━━━━\u001B[0m\u001B[37m\u001B[0m \u001B[1m0s\u001B[0m 9ms/step - loss: 107.1376 - mae: 107.1376 - mse: 69792.9375 - val_loss: 569.3710 - val_mae: 569.3710 - val_mse: 1171316.2500\n",
      "Epoch 86/100\n",
      "\u001B[1m18/18\u001B[0m \u001B[32m━━━━━━━━━━━━━━━━━━━━\u001B[0m\u001B[37m\u001B[0m \u001B[1m0s\u001B[0m 16ms/step - loss: 106.3410 - mae: 106.3410 - mse: 69017.3203 - val_loss: 567.5957 - val_mae: 567.5957 - val_mse: 1166035.3750\n",
      "Epoch 87/100\n",
      "\u001B[1m18/18\u001B[0m \u001B[32m━━━━━━━━━━━━━━━━━━━━\u001B[0m\u001B[37m\u001B[0m \u001B[1m0s\u001B[0m 10ms/step - loss: 107.8315 - mae: 107.8315 - mse: 69773.6094 - val_loss: 578.1008 - val_mae: 578.1008 - val_mse: 1191455.0000\n",
      "Epoch 88/100\n",
      "\u001B[1m18/18\u001B[0m \u001B[32m━━━━━━━━━━━━━━━━━━━━\u001B[0m\u001B[37m\u001B[0m \u001B[1m0s\u001B[0m 10ms/step - loss: 106.6461 - mae: 106.6461 - mse: 69535.4609 - val_loss: 567.6440 - val_mae: 567.6440 - val_mse: 1165351.3750\n",
      "Epoch 89/100\n",
      "\u001B[1m18/18\u001B[0m \u001B[32m━━━━━━━━━━━━━━━━━━━━\u001B[0m\u001B[37m\u001B[0m \u001B[1m0s\u001B[0m 9ms/step - loss: 108.3425 - mae: 108.3425 - mse: 69824.6016 - val_loss: 583.6038 - val_mae: 583.6038 - val_mse: 1202665.0000\n",
      "Epoch 90/100\n",
      "\u001B[1m18/18\u001B[0m \u001B[32m━━━━━━━━━━━━━━━━━━━━\u001B[0m\u001B[37m\u001B[0m \u001B[1m0s\u001B[0m 13ms/step - loss: 106.6678 - mae: 106.6678 - mse: 69590.0391 - val_loss: 566.5418 - val_mae: 566.5418 - val_mse: 1160866.2500\n",
      "Epoch 91/100\n",
      "\u001B[1m18/18\u001B[0m \u001B[32m━━━━━━━━━━━━━━━━━━━━\u001B[0m\u001B[37m\u001B[0m \u001B[1m0s\u001B[0m 7ms/step - loss: 107.9570 - mae: 107.9570 - mse: 69678.2266 - val_loss: 575.3392 - val_mae: 575.3392 - val_mse: 1183404.7500\n",
      "Epoch 92/100\n",
      "\u001B[1m18/18\u001B[0m \u001B[32m━━━━━━━━━━━━━━━━━━━━\u001B[0m\u001B[37m\u001B[0m \u001B[1m0s\u001B[0m 8ms/step - loss: 106.5542 - mae: 106.5542 - mse: 69538.3750 - val_loss: 566.7173 - val_mae: 566.7173 - val_mse: 1161680.7500\n",
      "Epoch 93/100\n",
      "\u001B[1m18/18\u001B[0m \u001B[32m━━━━━━━━━━━━━━━━━━━━\u001B[0m\u001B[37m\u001B[0m \u001B[1m0s\u001B[0m 8ms/step - loss: 107.2143 - mae: 107.2143 - mse: 69410.6641 - val_loss: 567.7879 - val_mae: 567.7879 - val_mse: 1163955.6250\n",
      "Epoch 94/100\n",
      "\u001B[1m18/18\u001B[0m \u001B[32m━━━━━━━━━━━━━━━━━━━━\u001B[0m\u001B[37m\u001B[0m \u001B[1m0s\u001B[0m 7ms/step - loss: 107.4819 - mae: 107.4819 - mse: 69538.1562 - val_loss: 576.9016 - val_mae: 576.9016 - val_mse: 1186557.2500\n",
      "Epoch 95/100\n",
      "\u001B[1m18/18\u001B[0m \u001B[32m━━━━━━━━━━━━━━━━━━━━\u001B[0m\u001B[37m\u001B[0m \u001B[1m0s\u001B[0m 17ms/step - loss: 106.5600 - mae: 106.5600 - mse: 69479.9062 - val_loss: 565.5809 - val_mae: 565.5809 - val_mse: 1157965.3750\n",
      "Epoch 96/100\n",
      "\u001B[1m18/18\u001B[0m \u001B[32m━━━━━━━━━━━━━━━━━━━━\u001B[0m\u001B[37m\u001B[0m \u001B[1m0s\u001B[0m 6ms/step - loss: 106.7182 - mae: 106.7182 - mse: 69042.2500 - val_loss: 568.0463 - val_mae: 568.0463 - val_mse: 1163743.7500\n",
      "Epoch 97/100\n",
      "\u001B[1m18/18\u001B[0m \u001B[32m━━━━━━━━━━━━━━━━━━━━\u001B[0m\u001B[37m\u001B[0m \u001B[1m0s\u001B[0m 8ms/step - loss: 107.8785 - mae: 107.8785 - mse: 69502.8594 - val_loss: 572.4208 - val_mae: 572.4208 - val_mse: 1174848.3750\n",
      "Epoch 98/100\n",
      "\u001B[1m18/18\u001B[0m \u001B[32m━━━━━━━━━━━━━━━━━━━━\u001B[0m\u001B[37m\u001B[0m \u001B[1m0s\u001B[0m 20ms/step - loss: 106.1915 - mae: 106.1915 - mse: 69174.5625 - val_loss: 565.4708 - val_mae: 565.4708 - val_mse: 1157316.6250\n",
      "Epoch 99/100\n",
      "\u001B[1m18/18\u001B[0m \u001B[32m━━━━━━━━━━━━━━━━━━━━\u001B[0m\u001B[37m\u001B[0m \u001B[1m0s\u001B[0m 10ms/step - loss: 106.0471 - mae: 106.0471 - mse: 68703.3125 - val_loss: 565.5070 - val_mae: 565.5070 - val_mse: 1157365.6250\n",
      "Epoch 100/100\n",
      "\u001B[1m18/18\u001B[0m \u001B[32m━━━━━━━━━━━━━━━━━━━━\u001B[0m\u001B[37m\u001B[0m \u001B[1m0s\u001B[0m 8ms/step - loss: 107.9247 - mae: 107.9247 - mse: 69413.9609 - val_loss: 566.2500 - val_mae: 566.2500 - val_mse: 1159177.1250\n"
     ]
    },
    {
     "data": {
      "text/plain": [
       "<keras.src.callbacks.history.History at 0x1a3102d8690>"
      ]
     },
     "execution_count": 32,
     "metadata": {},
     "output_type": "execute_result"
    }
   ],
   "execution_count": 32
  },
  {
   "metadata": {
    "ExecuteTime": {
     "end_time": "2025-07-22T09:02:11.800127Z",
     "start_time": "2025-07-22T09:02:11.574576Z"
    }
   },
   "cell_type": "code",
   "source": "model_1.evaluate(test_windows, test_labels)",
   "id": "4f1074478a4355b4",
   "outputs": [
    {
     "name": "stdout",
     "output_type": "stream",
     "text": [
      "\u001B[1m18/18\u001B[0m \u001B[32m━━━━━━━━━━━━━━━━━━━━\u001B[0m\u001B[37m\u001B[0m \u001B[1m0s\u001B[0m 4ms/step - loss: 283.3900 - mae: 283.3900 - mse: 343118.6562\n"
     ]
    },
    {
     "data": {
      "text/plain": [
       "[566.2499389648438, 566.2499389648438, 1159177.125]"
      ]
     },
     "execution_count": 33,
     "metadata": {},
     "output_type": "execute_result"
    }
   ],
   "execution_count": 33
  },
  {
   "metadata": {
    "ExecuteTime": {
     "end_time": "2025-07-22T09:02:12.871193Z",
     "start_time": "2025-07-22T09:02:11.873178Z"
    }
   },
   "cell_type": "code",
   "source": [
    "model_1 = tf.keras.models.load_model(\"model_experiments/model_1_dense.keras\")\n",
    "\n",
    "model_1.evaluate(test_windows, test_labels)"
   ],
   "id": "767e13eba265382",
   "outputs": [
    {
     "name": "stdout",
     "output_type": "stream",
     "text": [
      "\u001B[1m18/18\u001B[0m \u001B[32m━━━━━━━━━━━━━━━━━━━━\u001B[0m\u001B[37m\u001B[0m \u001B[1m1s\u001B[0m 6ms/step - loss: 282.0894 - mae: 282.0894 - mse: 343477.2812\n"
     ]
    },
    {
     "data": {
      "text/plain": [
       "[565.4707641601562, 565.4707641601562, 1157316.5]"
      ]
     },
     "execution_count": 34,
     "metadata": {},
     "output_type": "execute_result"
    }
   ],
   "execution_count": 34
  },
  {
   "metadata": {
    "ExecuteTime": {
     "end_time": "2025-07-22T09:02:12.957137Z",
     "start_time": "2025-07-22T09:02:12.951467Z"
    }
   },
   "cell_type": "code",
   "source": [
    "## making forecasts with a model\n",
    "def make_preds(model, input_data):\n",
    "    \"\"\"\n",
    "    uses model to make prediction on input_Data\n",
    "    \"\"\"\n",
    "    forecast = model.predict(input_data)\n",
    "    return tf.squeeze(forecast)"
   ],
   "id": "6396785ed251205",
   "outputs": [],
   "execution_count": 35
  },
  {
   "metadata": {
    "ExecuteTime": {
     "end_time": "2025-07-22T09:02:13.258335Z",
     "start_time": "2025-07-22T09:02:13.050186Z"
    }
   },
   "cell_type": "code",
   "source": [
    "model_1_preds = make_preds(model_1, test_windows)\n",
    "len(model_1_preds), model_1_preds[:10]"
   ],
   "id": "d7902d3439c758fe",
   "outputs": [
    {
     "name": "stdout",
     "output_type": "stream",
     "text": [
      "\u001B[1m18/18\u001B[0m \u001B[32m━━━━━━━━━━━━━━━━━━━━\u001B[0m\u001B[37m\u001B[0m \u001B[1m0s\u001B[0m 4ms/step \n"
     ]
    },
    {
     "data": {
      "text/plain": [
       "(556,\n",
       " <tf.Tensor: shape=(10,), dtype=float32, numpy=\n",
       " array([8861.896, 8789.45 , 9045.566, 8775.937, 8753.351, 8759.858,\n",
       "        8684.706, 8520.51 , 8479.978, 8534.064], dtype=float32)>)"
      ]
     },
     "execution_count": 36,
     "metadata": {},
     "output_type": "execute_result"
    }
   ],
   "execution_count": 36
  },
  {
   "metadata": {
    "ExecuteTime": {
     "end_time": "2025-07-22T09:02:13.319439Z",
     "start_time": "2025-07-22T09:02:13.309473Z"
    }
   },
   "cell_type": "code",
   "source": "tf.squeeze(test_labels.shape), model_1_preds.shape",
   "id": "fd1eb4f31ce17b0b",
   "outputs": [
    {
     "data": {
      "text/plain": [
       "(<tf.Tensor: shape=(2,), dtype=int32, numpy=array([556,   1])>,\n",
       " TensorShape([556]))"
      ]
     },
     "execution_count": 37,
     "metadata": {},
     "output_type": "execute_result"
    }
   ],
   "execution_count": 37
  },
  {
   "metadata": {
    "ExecuteTime": {
     "end_time": "2025-07-22T09:02:13.461065Z",
     "start_time": "2025-07-22T09:02:13.431657Z"
    }
   },
   "cell_type": "code",
   "source": [
    "model_1_results = evaluate_preds(y_true=tf.squeeze(test_labels), y_pred=model_1_preds)\n",
    "model_1_results"
   ],
   "id": "97060a9c967bb93c",
   "outputs": [
    {
     "data": {
      "text/plain": [
       "{'mae': 565.4708,\n",
       " 'mse': 1157316.6,\n",
       " 'rmse': 1075.7865,\n",
       " 'mape': 2.5242836,\n",
       " 'mase': 0.9933756}"
      ]
     },
     "execution_count": 38,
     "metadata": {},
     "output_type": "execute_result"
    }
   ],
   "execution_count": 38
  },
  {
   "metadata": {
    "ExecuteTime": {
     "end_time": "2025-07-22T09:02:13.585541Z",
     "start_time": "2025-07-22T09:02:13.579459Z"
    }
   },
   "cell_type": "code",
   "source": "naive_results",
   "id": "427fbd68c7ba15c",
   "outputs": [
    {
     "data": {
      "text/plain": [
       "{'mae': 567.9802,\n",
       " 'mse': 1147547.0,\n",
       " 'rmse': 1071.2362,\n",
       " 'mape': 2.5165248,\n",
       " 'mase': 0.99957}"
      ]
     },
     "execution_count": 39,
     "metadata": {},
     "output_type": "execute_result"
    }
   ],
   "execution_count": 39
  },
  {
   "metadata": {
    "ExecuteTime": {
     "end_time": "2025-07-22T09:02:14.486267Z",
     "start_time": "2025-07-22T09:02:13.667019Z"
    }
   },
   "cell_type": "code",
   "source": [
    "offset = 300\n",
    "plt.figure(figsize=(10, 7))\n",
    "plot_time_series(timesteps=X_test[-len(test_windows):],\n",
    "                 values=test_labels[:, 0],\n",
    "                 label=\"Test data\")\n",
    "\n",
    "plot_time_series(timesteps=X_test[-len(test_windows):],\n",
    "                 values=model_1_preds,\n",
    "                 format=\"-\",\n",
    "                 label=\"model_1_preds\")"
   ],
   "id": "78c57403d5ad1722",
   "outputs": [
    {
     "data": {
      "text/plain": [
       "<Figure size 1000x700 with 1 Axes>"
      ],
      "image/png": "[encoded data removed]"
     },
     "metadata": {},
     "output_type": "display_data"
    }
   ],
   "execution_count": 40
  },
  {
   "metadata": {},
   "cell_type": "markdown",
   "source": "##### SAME BUT WINDOW IS 30",
   "id": "97b3e555480bd737"
  },
  {
   "metadata": {
    "ExecuteTime": {
     "end_time": "2025-07-22T09:02:14.704756Z",
     "start_time": "2025-07-22T09:02:14.699654Z"
    }
   },
   "cell_type": "code",
   "source": "",
   "id": "3862fd1c87248738",
   "outputs": [],
   "execution_count": null
  },
  {
   "metadata": {
    "ExecuteTime": {
     "end_time": "2025-07-22T09:02:14.810732Z",
     "start_time": "2025-07-22T09:02:14.803292Z"
    }
   },
   "cell_type": "code",
   "source": [
    "WINDOW30 = 30\n",
    "\n",
    "full_windows, full_labels = make_windows(prices, window_size=WINDOW30, horizon=HORIZON)\n",
    "train_windows, test_windows, train_labels, test_labels = make_train_test_splits(windows=full_windows,\n",
    "                                                                                labels=full_labels)"
   ],
   "id": "97d2cd1a4d98dec8",
   "outputs": [],
   "execution_count": 41
  },
  {
   "metadata": {
    "ExecuteTime": {
     "end_time": "2025-07-22T09:02:15.177914Z",
     "start_time": "2025-07-22T09:02:14.891415Z"
    }
   },
   "cell_type": "code",
   "source": [
    "model_2 = Sequential([\n",
    "    tf.keras.layers.Dense(128, activation=\"relu\"),\n",
    "    tf.keras.layers.Dense(HORIZON, activation=\"linear\")\n",
    "], name=\"model_2_dense\")\n",
    "\n",
    "model_2.compile(loss=\"mae\", \n",
    "                optimizer=tf.keras.optimizers.Adam(),\n",
    "                metrics=[\"mae\", \"mse\"])"
   ],
   "id": "67dd219830e16ed8",
   "outputs": [],
   "execution_count": 42
  },
  {
   "metadata": {
    "ExecuteTime": {
     "end_time": "2025-07-22T09:02:33.512136Z",
     "start_time": "2025-07-22T09:02:15.235562Z"
    }
   },
   "cell_type": "code",
   "source": [
    "model_2.fit(x=train_windows, \n",
    "            y=train_labels, \n",
    "            epochs=100, \n",
    "            verbose=0, \n",
    "            batch_size=128,\n",
    "            validation_data=(test_windows, test_labels), \n",
    "            callbacks=[create_model_checkpoint(model_name = model_2.name)])"
   ],
   "id": "bac04e2204990a87",
   "outputs": [
    {
     "data": {
      "text/plain": [
       "<keras.src.callbacks.history.History at 0x1a311593410>"
      ]
     },
     "execution_count": 43,
     "metadata": {},
     "output_type": "execute_result"
    }
   ],
   "execution_count": 43
  },
  {
   "metadata": {
    "ExecuteTime": {
     "end_time": "2025-07-22T09:02:33.995233Z",
     "start_time": "2025-07-22T09:02:33.596648Z"
    }
   },
   "cell_type": "code",
   "source": [
    "model_2 = tf.keras.models.load_model(\"model_experiments/model_2_dense.keras\")\n",
    "model_2.evaluate(test_windows, test_labels)"
   ],
   "id": "b9f8acf865b4e636",
   "outputs": [
    {
     "name": "stdout",
     "output_type": "stream",
     "text": [
      "\u001B[1m18/18\u001B[0m \u001B[32m━━━━━━━━━━━━━━━━━━━━\u001B[0m\u001B[37m\u001B[0m \u001B[1m0s\u001B[0m 3ms/step - loss: 315.5237 - mae: 315.5237 - mse: 389494.8750 \n"
     ]
    },
    {
     "data": {
      "text/plain": [
       "[615.889892578125, 615.889892578125, 1301614.875]"
      ]
     },
     "execution_count": 44,
     "metadata": {},
     "output_type": "execute_result"
    }
   ],
   "execution_count": 44
  },
  {
   "metadata": {
    "ExecuteTime": {
     "end_time": "2025-07-22T09:02:34.227245Z",
     "start_time": "2025-07-22T09:02:34.060355Z"
    }
   },
   "cell_type": "code",
   "source": [
    "model_2_preds = make_preds(model_2, \n",
    "                           input_data=test_windows)"
   ],
   "id": "cae63c7f648f71cb",
   "outputs": [
    {
     "name": "stdout",
     "output_type": "stream",
     "text": [
      "\u001B[1m18/18\u001B[0m \u001B[32m━━━━━━━━━━━━━━━━━━━━\u001B[0m\u001B[37m\u001B[0m \u001B[1m0s\u001B[0m 4ms/step \n"
     ]
    }
   ],
   "execution_count": 45
  },
  {
   "metadata": {
    "ExecuteTime": {
     "end_time": "2025-07-22T09:02:34.307535Z",
     "start_time": "2025-07-22T09:02:34.297950Z"
    }
   },
   "cell_type": "code",
   "source": [
    "model_2_results = evaluate_preds(y_true=tf.squeeze(test_labels), y_pred=model_2_preds)\n",
    "model_2_results"
   ],
   "id": "873cc73e46241a08",
   "outputs": [
    {
     "data": {
      "text/plain": [
       "{'mae': 615.88983,\n",
       " 'mse': 1301614.9,\n",
       " 'rmse': 1140.8834,\n",
       " 'mape': 2.8060906,\n",
       " 'mase': 1.0765814}"
      ]
     },
     "execution_count": 46,
     "metadata": {},
     "output_type": "execute_result"
    }
   ],
   "execution_count": 46
  },
  {
   "metadata": {
    "ExecuteTime": {
     "end_time": "2025-07-22T09:02:34.374234Z",
     "start_time": "2025-07-22T09:02:34.368461Z"
    }
   },
   "cell_type": "code",
   "source": "model_1_results",
   "id": "ad41c50db143bd72",
   "outputs": [
    {
     "data": {
      "text/plain": [
       "{'mae': 565.4708,\n",
       " 'mse': 1157316.6,\n",
       " 'rmse': 1075.7865,\n",
       " 'mape': 2.5242836,\n",
       " 'mase': 0.9933756}"
      ]
     },
     "execution_count": 47,
     "metadata": {},
     "output_type": "execute_result"
    }
   ],
   "execution_count": 47
  },
  {
   "metadata": {
    "ExecuteTime": {
     "end_time": "2025-07-22T09:02:34.475707Z",
     "start_time": "2025-07-22T09:02:34.472122Z"
    }
   },
   "cell_type": "code",
   "source": "# conv1d",
   "id": "1cd78804c5ee3652",
   "outputs": [],
   "execution_count": 48
  },
  {
   "metadata": {
    "ExecuteTime": {
     "end_time": "2025-07-22T09:02:34.566755Z",
     "start_time": "2025-07-22T09:02:34.561674Z"
    }
   },
   "cell_type": "code",
   "source": [
    "WINDOW_SIZE = 7\n",
    "HORIZON = 1\n",
    "\n",
    "full_windows, full_labels = make_windows(prices, window_size=WINDOW_SIZE, horizon=HORIZON) "
   ],
   "id": "5530a9ed6ef0b11",
   "outputs": [],
   "execution_count": 49
  },
  {
   "metadata": {
    "ExecuteTime": {
     "end_time": "2025-07-22T09:02:34.674578Z",
     "start_time": "2025-07-22T09:02:34.666343Z"
    }
   },
   "cell_type": "code",
   "source": "len(full_windows)",
   "id": "166119b5685c7679",
   "outputs": [
    {
     "data": {
      "text/plain": [
       "2780"
      ]
     },
     "execution_count": 50,
     "metadata": {},
     "output_type": "execute_result"
    }
   ],
   "execution_count": 50
  },
  {
   "metadata": {
    "ExecuteTime": {
     "end_time": "2025-07-22T09:02:34.764971Z",
     "start_time": "2025-07-22T09:02:34.759719Z"
    }
   },
   "cell_type": "code",
   "source": [
    "train_windows, test_windows, train_labels, test_labels = make_train_test_splits(windows=full_windows, labels=full_labels)\n",
    "len(train_windows)"
   ],
   "id": "daf460edfe9664a8",
   "outputs": [
    {
     "data": {
      "text/plain": [
       "2224"
      ]
     },
     "execution_count": 51,
     "metadata": {},
     "output_type": "execute_result"
    }
   ],
   "execution_count": 51
  },
  {
   "metadata": {
    "ExecuteTime": {
     "end_time": "2025-07-22T09:02:34.860014Z",
     "start_time": "2025-07-22T09:02:34.853319Z"
    }
   },
   "cell_type": "code",
   "source": [
    "x = tf.constant(train_windows[0])\n",
    "x"
   ],
   "id": "c7f3772e5f37d588",
   "outputs": [
    {
     "data": {
      "text/plain": [
       "<tf.Tensor: shape=(7,), dtype=float64, numpy=\n",
       "array([123.65499, 125.455  , 108.58483, 118.67466, 121.33866, 120.65533,\n",
       "       121.795  ])>"
      ]
     },
     "execution_count": 52,
     "metadata": {},
     "output_type": "execute_result"
    }
   ],
   "execution_count": 52
  },
  {
   "metadata": {
    "ExecuteTime": {
     "end_time": "2025-07-22T09:02:34.974859Z",
     "start_time": "2025-07-22T09:02:34.968026Z"
    }
   },
   "cell_type": "code",
   "source": [
    "import tensorflow as tf\n",
    "from tensorflow.keras import layers\n",
    "\n",
    "expand_dims_layer = layers.Lambda(lambda x: tf.expand_dims(x, axis=-1))"
   ],
   "id": "99e952a0d6158f4d",
   "outputs": [],
   "execution_count": 53
  },
  {
   "metadata": {
    "ExecuteTime": {
     "end_time": "2025-07-22T09:02:35.038057Z",
     "start_time": "2025-07-22T09:02:35.033420Z"
    }
   },
   "cell_type": "code",
   "source": "",
   "id": "d76a8db593d7e0d0",
   "outputs": [],
   "execution_count": null
  },
  {
   "metadata": {
    "ExecuteTime": {
     "end_time": "2025-07-22T09:02:35.102291Z",
     "start_time": "2025-07-22T09:02:35.092203Z"
    }
   },
   "cell_type": "code",
   "source": [
    "print(f\"Original shape: {x.shape}\")\n",
    "print(f\"Expanded shape: {expand_dims_layer(x).shape}\")\n",
    "print(f\"Original values with expanded shape:\\n {expand_dims_layer(x)}\")"
   ],
   "id": "8d84a22cb0587adf",
   "outputs": [
    {
     "name": "stdout",
     "output_type": "stream",
     "text": [
      "Original shape: (7,)\n",
      "Expanded shape: (7, 1)\n",
      "Original values with expanded shape:\n",
      " [[123.65499]\n",
      " [125.455  ]\n",
      " [108.58483]\n",
      " [118.67466]\n",
      " [121.33866]\n",
      " [120.65533]\n",
      " [121.795  ]]\n"
     ]
    }
   ],
   "execution_count": 54
  },
  {
   "metadata": {
    "ExecuteTime": {
     "end_time": "2025-07-22T09:02:35.219939Z",
     "start_time": "2025-07-22T09:02:35.185404Z"
    }
   },
   "cell_type": "code",
   "source": [
    "tf.random.set_seed(42)\n",
    "\n",
    "model_4 = tf.keras.Sequential([\n",
    "    layers.Lambda(lambda x: tf.expand_dims(x, axis=-1)),\n",
    "    layers.Conv1D(filters=128, kernel_size=5, strides=1, padding=\"causal\", activation=\"relu\"),\n",
    "    layers.Dense(HORIZON)\n",
    "], name=\"model_4_conv1D\")\n",
    "\n",
    "model_4.compile(loss=\"mae\", optimizer=tf.keras.optimizers.Adam())"
   ],
   "id": "27f0343de8ffbb8f",
   "outputs": [],
   "execution_count": 55
  },
  {
   "metadata": {
    "ExecuteTime": {
     "end_time": "2025-07-22T09:02:55.043158Z",
     "start_time": "2025-07-22T09:02:35.354678Z"
    }
   },
   "cell_type": "code",
   "source": [
    "model_4.fit(x=train_windows, \n",
    "            y=train_labels, \n",
    "            batch_size=128,\n",
    "            epochs=100,\n",
    "            verbose=1,\n",
    "            validation_data=(test_windows, test_labels),\n",
    "            callbacks=[create_model_checkpoint(model_name = model_4.name)])"
   ],
   "id": "40f8eec5cdc0d764",
   "outputs": [
    {
     "name": "stdout",
     "output_type": "stream",
     "text": [
      "Epoch 1/100\n",
      "WARNING:tensorflow:From C:\\code\\tesnorflow-udemy\\.venv\\Lib\\site-packages\\keras\\src\\backend\\tensorflow\\core.py:219: The name tf.placeholder is deprecated. Please use tf.compat.v1.placeholder instead.\n",
      "\n",
      "\u001B[1m18/18\u001B[0m \u001B[32m━━━━━━━━━━━━━━━━━━━━\u001B[0m\u001B[37m\u001B[0m \u001B[1m2s\u001B[0m 17ms/step - loss: 2246.9551 - val_loss: 6885.4141\n",
      "Epoch 2/100\n",
      "\u001B[1m18/18\u001B[0m \u001B[32m━━━━━━━━━━━━━━━━━━━━\u001B[0m\u001B[37m\u001B[0m \u001B[1m0s\u001B[0m 12ms/step - loss: 938.6497 - val_loss: 4991.0298\n",
      "Epoch 3/100\n",
      "\u001B[1m18/18\u001B[0m \u001B[32m━━━━━━━━━━━━━━━━━━━━\u001B[0m\u001B[37m\u001B[0m \u001B[1m0s\u001B[0m 9ms/step - loss: 713.2656 - val_loss: 3507.5422\n",
      "Epoch 4/100\n",
      "\u001B[1m18/18\u001B[0m \u001B[32m━━━━━━━━━━━━━━━━━━━━\u001B[0m\u001B[37m\u001B[0m \u001B[1m0s\u001B[0m 10ms/step - loss: 525.6711 - val_loss: 2783.8679\n",
      "Epoch 5/100\n",
      "\u001B[1m18/18\u001B[0m \u001B[32m━━━━━━━━━━━━━━━━━━━━\u001B[0m\u001B[37m\u001B[0m \u001B[1m0s\u001B[0m 9ms/step - loss: 432.1762 - val_loss: 2360.7405\n",
      "Epoch 6/100\n",
      "\u001B[1m18/18\u001B[0m \u001B[32m━━━━━━━━━━━━━━━━━━━━\u001B[0m\u001B[37m\u001B[0m \u001B[1m0s\u001B[0m 10ms/step - loss: 374.8295 - val_loss: 2089.2559\n",
      "Epoch 7/100\n",
      "\u001B[1m18/18\u001B[0m \u001B[32m━━━━━━━━━━━━━━━━━━━━\u001B[0m\u001B[37m\u001B[0m \u001B[1m0s\u001B[0m 11ms/step - loss: 335.5934 - val_loss: 1905.8157\n",
      "Epoch 8/100\n",
      "\u001B[1m18/18\u001B[0m \u001B[32m━━━━━━━━━━━━━━━━━━━━\u001B[0m\u001B[37m\u001B[0m \u001B[1m0s\u001B[0m 12ms/step - loss: 306.1225 - val_loss: 1724.9368\n",
      "Epoch 9/100\n",
      "\u001B[1m18/18\u001B[0m \u001B[32m━━━━━━━━━━━━━━━━━━━━\u001B[0m\u001B[37m\u001B[0m \u001B[1m0s\u001B[0m 13ms/step - loss: 278.4780 - val_loss: 1554.0200\n",
      "Epoch 10/100\n",
      "\u001B[1m18/18\u001B[0m \u001B[32m━━━━━━━━━━━━━━━━━━━━\u001B[0m\u001B[37m\u001B[0m \u001B[1m0s\u001B[0m 10ms/step - loss: 251.9403 - val_loss: 1401.6832\n",
      "Epoch 11/100\n",
      "\u001B[1m18/18\u001B[0m \u001B[32m━━━━━━━━━━━━━━━━━━━━\u001B[0m\u001B[37m\u001B[0m \u001B[1m0s\u001B[0m 10ms/step - loss: 231.2071 - val_loss: 1300.0504\n",
      "Epoch 12/100\n",
      "\u001B[1m18/18\u001B[0m \u001B[32m━━━━━━━━━━━━━━━━━━━━\u001B[0m\u001B[37m\u001B[0m \u001B[1m0s\u001B[0m 9ms/step - loss: 218.3228 - val_loss: 1249.7330\n",
      "Epoch 13/100\n",
      "\u001B[1m18/18\u001B[0m \u001B[32m━━━━━━━━━━━━━━━━━━━━\u001B[0m\u001B[37m\u001B[0m \u001B[1m0s\u001B[0m 9ms/step - loss: 211.7948 - val_loss: 1224.4552\n",
      "Epoch 14/100\n",
      "\u001B[1m18/18\u001B[0m \u001B[32m━━━━━━━━━━━━━━━━━━━━\u001B[0m\u001B[37m\u001B[0m \u001B[1m0s\u001B[0m 9ms/step - loss: 209.4310 - val_loss: 1219.2515\n",
      "Epoch 15/100\n",
      "\u001B[1m18/18\u001B[0m \u001B[32m━━━━━━━━━━━━━━━━━━━━\u001B[0m\u001B[37m\u001B[0m \u001B[1m0s\u001B[0m 9ms/step - loss: 208.9848 - val_loss: 1218.6096\n",
      "Epoch 16/100\n",
      "\u001B[1m18/18\u001B[0m \u001B[32m━━━━━━━━━━━━━━━━━━━━\u001B[0m\u001B[37m\u001B[0m \u001B[1m0s\u001B[0m 8ms/step - loss: 209.0141 - val_loss: 1218.4092\n",
      "Epoch 17/100\n",
      "\u001B[1m18/18\u001B[0m \u001B[32m━━━━━━━━━━━━━━━━━━━━\u001B[0m\u001B[37m\u001B[0m \u001B[1m0s\u001B[0m 9ms/step - loss: 208.9224 - val_loss: 1217.6758\n",
      "Epoch 18/100\n",
      "\u001B[1m18/18\u001B[0m \u001B[32m━━━━━━━━━━━━━━━━━━━━\u001B[0m\u001B[37m\u001B[0m \u001B[1m0s\u001B[0m 7ms/step - loss: 208.9495 - val_loss: 1219.2260\n",
      "Epoch 19/100\n",
      "\u001B[1m18/18\u001B[0m \u001B[32m━━━━━━━━━━━━━━━━━━━━\u001B[0m\u001B[37m\u001B[0m \u001B[1m0s\u001B[0m 6ms/step - loss: 209.0576 - val_loss: 1220.4017\n",
      "Epoch 20/100\n",
      "\u001B[1m18/18\u001B[0m \u001B[32m━━━━━━━━━━━━━━━━━━━━\u001B[0m\u001B[37m\u001B[0m \u001B[1m0s\u001B[0m 7ms/step - loss: 209.1805 - val_loss: 1219.7999\n",
      "Epoch 21/100\n",
      "\u001B[1m18/18\u001B[0m \u001B[32m━━━━━━━━━━━━━━━━━━━━\u001B[0m\u001B[37m\u001B[0m \u001B[1m0s\u001B[0m 9ms/step - loss: 209.0373 - val_loss: 1217.2035\n",
      "Epoch 22/100\n",
      "\u001B[1m18/18\u001B[0m \u001B[32m━━━━━━━━━━━━━━━━━━━━\u001B[0m\u001B[37m\u001B[0m \u001B[1m0s\u001B[0m 6ms/step - loss: 208.8026 - val_loss: 1217.2104\n",
      "Epoch 23/100\n",
      "\u001B[1m18/18\u001B[0m \u001B[32m━━━━━━━━━━━━━━━━━━━━\u001B[0m\u001B[37m\u001B[0m \u001B[1m0s\u001B[0m 8ms/step - loss: 208.8611 - val_loss: 1219.4105\n",
      "Epoch 24/100\n",
      "\u001B[1m18/18\u001B[0m \u001B[32m━━━━━━━━━━━━━━━━━━━━\u001B[0m\u001B[37m\u001B[0m \u001B[1m0s\u001B[0m 11ms/step - loss: 209.1455 - val_loss: 1224.9316\n",
      "Epoch 25/100\n",
      "\u001B[1m18/18\u001B[0m \u001B[32m━━━━━━━━━━━━━━━━━━━━\u001B[0m\u001B[37m\u001B[0m \u001B[1m0s\u001B[0m 15ms/step - loss: 209.3471 - val_loss: 1216.6335\n",
      "Epoch 26/100\n",
      "\u001B[1m18/18\u001B[0m \u001B[32m━━━━━━━━━━━━━━━━━━━━\u001B[0m\u001B[37m\u001B[0m \u001B[1m0s\u001B[0m 13ms/step - loss: 208.7474 - val_loss: 1220.4269\n",
      "Epoch 27/100\n",
      "\u001B[1m18/18\u001B[0m \u001B[32m━━━━━━━━━━━━━━━━━━━━\u001B[0m\u001B[37m\u001B[0m \u001B[1m0s\u001B[0m 11ms/step - loss: 209.2108 - val_loss: 1226.2556\n",
      "Epoch 28/100\n",
      "\u001B[1m18/18\u001B[0m \u001B[32m━━━━━━━━━━━━━━━━━━━━\u001B[0m\u001B[37m\u001B[0m \u001B[1m0s\u001B[0m 9ms/step - loss: 209.6377 - val_loss: 1222.3698\n",
      "Epoch 29/100\n",
      "\u001B[1m18/18\u001B[0m \u001B[32m━━━━━━━━━━━━━━━━━━━━\u001B[0m\u001B[37m\u001B[0m \u001B[1m0s\u001B[0m 9ms/step - loss: 209.1490 - val_loss: 1225.8069\n",
      "Epoch 30/100\n",
      "\u001B[1m18/18\u001B[0m \u001B[32m━━━━━━━━━━━━━━━━━━━━\u001B[0m\u001B[37m\u001B[0m \u001B[1m0s\u001B[0m 11ms/step - loss: 209.3746 - val_loss: 1219.7593\n",
      "Epoch 31/100\n",
      "\u001B[1m18/18\u001B[0m \u001B[32m━━━━━━━━━━━━━━━━━━━━\u001B[0m\u001B[37m\u001B[0m \u001B[1m0s\u001B[0m 10ms/step - loss: 209.0932 - val_loss: 1223.4209\n",
      "Epoch 32/100\n",
      "\u001B[1m18/18\u001B[0m \u001B[32m━━━━━━━━━━━━━━━━━━━━\u001B[0m\u001B[37m\u001B[0m \u001B[1m0s\u001B[0m 10ms/step - loss: 209.4001 - val_loss: 1227.0616\n",
      "Epoch 33/100\n",
      "\u001B[1m18/18\u001B[0m \u001B[32m━━━━━━━━━━━━━━━━━━━━\u001B[0m\u001B[37m\u001B[0m \u001B[1m0s\u001B[0m 12ms/step - loss: 209.5672 - val_loss: 1222.4166\n",
      "Epoch 34/100\n",
      "\u001B[1m18/18\u001B[0m \u001B[32m━━━━━━━━━━━━━━━━━━━━\u001B[0m\u001B[37m\u001B[0m \u001B[1m0s\u001B[0m 10ms/step - loss: 209.1405 - val_loss: 1223.8269\n",
      "Epoch 35/100\n",
      "\u001B[1m18/18\u001B[0m \u001B[32m━━━━━━━━━━━━━━━━━━━━\u001B[0m\u001B[37m\u001B[0m \u001B[1m0s\u001B[0m 8ms/step - loss: 209.3283 - val_loss: 1223.7181\n",
      "Epoch 36/100\n",
      "\u001B[1m18/18\u001B[0m \u001B[32m━━━━━━━━━━━━━━━━━━━━\u001B[0m\u001B[37m\u001B[0m \u001B[1m0s\u001B[0m 8ms/step - loss: 209.2483 - val_loss: 1218.6740\n",
      "Epoch 37/100\n",
      "\u001B[1m18/18\u001B[0m \u001B[32m━━━━━━━━━━━━━━━━━━━━\u001B[0m\u001B[37m\u001B[0m \u001B[1m0s\u001B[0m 8ms/step - loss: 208.9316 - val_loss: 1221.5924\n",
      "Epoch 38/100\n",
      "\u001B[1m18/18\u001B[0m \u001B[32m━━━━━━━━━━━━━━━━━━━━\u001B[0m\u001B[37m\u001B[0m \u001B[1m0s\u001B[0m 9ms/step - loss: 209.2232 - val_loss: 1224.5287\n",
      "Epoch 39/100\n",
      "\u001B[1m18/18\u001B[0m \u001B[32m━━━━━━━━━━━━━━━━━━━━\u001B[0m\u001B[37m\u001B[0m \u001B[1m0s\u001B[0m 8ms/step - loss: 209.2976 - val_loss: 1220.0011\n",
      "Epoch 40/100\n",
      "\u001B[1m18/18\u001B[0m \u001B[32m━━━━━━━━━━━━━━━━━━━━\u001B[0m\u001B[37m\u001B[0m \u001B[1m0s\u001B[0m 8ms/step - loss: 209.1124 - val_loss: 1223.2308\n",
      "Epoch 41/100\n",
      "\u001B[1m18/18\u001B[0m \u001B[32m━━━━━━━━━━━━━━━━━━━━\u001B[0m\u001B[37m\u001B[0m \u001B[1m0s\u001B[0m 9ms/step - loss: 209.3620 - val_loss: 1226.0245\n",
      "Epoch 42/100\n",
      "\u001B[1m18/18\u001B[0m \u001B[32m━━━━━━━━━━━━━━━━━━━━\u001B[0m\u001B[37m\u001B[0m \u001B[1m0s\u001B[0m 8ms/step - loss: 209.4740 - val_loss: 1225.2858\n",
      "Epoch 43/100\n",
      "\u001B[1m18/18\u001B[0m \u001B[32m━━━━━━━━━━━━━━━━━━━━\u001B[0m\u001B[37m\u001B[0m \u001B[1m0s\u001B[0m 8ms/step - loss: 209.2445 - val_loss: 1220.1541\n",
      "Epoch 44/100\n",
      "\u001B[1m18/18\u001B[0m \u001B[32m━━━━━━━━━━━━━━━━━━━━\u001B[0m\u001B[37m\u001B[0m \u001B[1m0s\u001B[0m 8ms/step - loss: 209.1004 - val_loss: 1222.3163\n",
      "Epoch 45/100\n",
      "\u001B[1m18/18\u001B[0m \u001B[32m━━━━━━━━━━━━━━━━━━━━\u001B[0m\u001B[37m\u001B[0m \u001B[1m0s\u001B[0m 9ms/step - loss: 209.3026 - val_loss: 1223.9762\n",
      "Epoch 46/100\n",
      "\u001B[1m18/18\u001B[0m \u001B[32m━━━━━━━━━━━━━━━━━━━━\u001B[0m\u001B[37m\u001B[0m \u001B[1m0s\u001B[0m 7ms/step - loss: 209.3654 - val_loss: 1222.7792\n",
      "Epoch 47/100\n",
      "\u001B[1m18/18\u001B[0m \u001B[32m━━━━━━━━━━━━━━━━━━━━\u001B[0m\u001B[37m\u001B[0m \u001B[1m0s\u001B[0m 7ms/step - loss: 209.3207 - val_loss: 1224.1250\n",
      "Epoch 48/100\n",
      "\u001B[1m18/18\u001B[0m \u001B[32m━━━━━━━━━━━━━━━━━━━━\u001B[0m\u001B[37m\u001B[0m \u001B[1m0s\u001B[0m 7ms/step - loss: 209.3393 - val_loss: 1225.0826\n",
      "Epoch 49/100\n",
      "\u001B[1m18/18\u001B[0m \u001B[32m━━━━━━━━━━━━━━━━━━━━\u001B[0m\u001B[37m\u001B[0m \u001B[1m0s\u001B[0m 9ms/step - loss: 209.2710 - val_loss: 1224.8285\n",
      "Epoch 50/100\n",
      "\u001B[1m18/18\u001B[0m \u001B[32m━━━━━━━━━━━━━━━━━━━━\u001B[0m\u001B[37m\u001B[0m \u001B[1m0s\u001B[0m 9ms/step - loss: 209.2742 - val_loss: 1220.5852\n",
      "Epoch 51/100\n",
      "\u001B[1m18/18\u001B[0m \u001B[32m━━━━━━━━━━━━━━━━━━━━\u001B[0m\u001B[37m\u001B[0m \u001B[1m0s\u001B[0m 9ms/step - loss: 209.0562 - val_loss: 1222.4990\n",
      "Epoch 52/100\n",
      "\u001B[1m18/18\u001B[0m \u001B[32m━━━━━━━━━━━━━━━━━━━━\u001B[0m\u001B[37m\u001B[0m \u001B[1m0s\u001B[0m 8ms/step - loss: 209.2463 - val_loss: 1222.0931\n",
      "Epoch 53/100\n",
      "\u001B[1m18/18\u001B[0m \u001B[32m━━━━━━━━━━━━━━━━━━━━\u001B[0m\u001B[37m\u001B[0m \u001B[1m0s\u001B[0m 8ms/step - loss: 209.3063 - val_loss: 1221.9198\n",
      "Epoch 54/100\n",
      "\u001B[1m18/18\u001B[0m \u001B[32m━━━━━━━━━━━━━━━━━━━━\u001B[0m\u001B[37m\u001B[0m \u001B[1m0s\u001B[0m 7ms/step - loss: 209.3073 - val_loss: 1220.8287\n",
      "Epoch 55/100\n",
      "\u001B[1m18/18\u001B[0m \u001B[32m━━━━━━━━━━━━━━━━━━━━\u001B[0m\u001B[37m\u001B[0m \u001B[1m0s\u001B[0m 8ms/step - loss: 209.2149 - val_loss: 1222.1770\n",
      "Epoch 56/100\n",
      "\u001B[1m18/18\u001B[0m \u001B[32m━━━━━━━━━━━━━━━━━━━━\u001B[0m\u001B[37m\u001B[0m \u001B[1m0s\u001B[0m 7ms/step - loss: 209.1994 - val_loss: 1224.3533\n",
      "Epoch 57/100\n",
      "\u001B[1m18/18\u001B[0m \u001B[32m━━━━━━━━━━━━━━━━━━━━\u001B[0m\u001B[37m\u001B[0m \u001B[1m0s\u001B[0m 9ms/step - loss: 209.2865 - val_loss: 1219.7891\n",
      "Epoch 58/100\n",
      "\u001B[1m18/18\u001B[0m \u001B[32m━━━━━━━━━━━━━━━━━━━━\u001B[0m\u001B[37m\u001B[0m \u001B[1m0s\u001B[0m 8ms/step - loss: 208.9660 - val_loss: 1221.2507\n",
      "Epoch 59/100\n",
      "\u001B[1m18/18\u001B[0m \u001B[32m━━━━━━━━━━━━━━━━━━━━\u001B[0m\u001B[37m\u001B[0m \u001B[1m0s\u001B[0m 8ms/step - loss: 209.2066 - val_loss: 1223.1526\n",
      "Epoch 60/100\n",
      "\u001B[1m18/18\u001B[0m \u001B[32m━━━━━━━━━━━━━━━━━━━━\u001B[0m\u001B[37m\u001B[0m \u001B[1m0s\u001B[0m 9ms/step - loss: 209.2548 - val_loss: 1222.9426\n",
      "Epoch 61/100\n",
      "\u001B[1m18/18\u001B[0m \u001B[32m━━━━━━━━━━━━━━━━━━━━\u001B[0m\u001B[37m\u001B[0m \u001B[1m0s\u001B[0m 11ms/step - loss: 209.2538 - val_loss: 1223.8250\n",
      "Epoch 62/100\n",
      "\u001B[1m18/18\u001B[0m \u001B[32m━━━━━━━━━━━━━━━━━━━━\u001B[0m\u001B[37m\u001B[0m \u001B[1m0s\u001B[0m 13ms/step - loss: 209.2871 - val_loss: 1223.2762\n",
      "Epoch 63/100\n",
      "\u001B[1m18/18\u001B[0m \u001B[32m━━━━━━━━━━━━━━━━━━━━\u001B[0m\u001B[37m\u001B[0m \u001B[1m0s\u001B[0m 13ms/step - loss: 209.3041 - val_loss: 1226.8344\n",
      "Epoch 64/100\n",
      "\u001B[1m18/18\u001B[0m \u001B[32m━━━━━━━━━━━━━━━━━━━━\u001B[0m\u001B[37m\u001B[0m \u001B[1m0s\u001B[0m 8ms/step - loss: 209.4295 - val_loss: 1220.9786\n",
      "Epoch 65/100\n",
      "\u001B[1m18/18\u001B[0m \u001B[32m━━━━━━━━━━━━━━━━━━━━\u001B[0m\u001B[37m\u001B[0m \u001B[1m0s\u001B[0m 8ms/step - loss: 209.0237 - val_loss: 1221.6433\n",
      "Epoch 66/100\n",
      "\u001B[1m18/18\u001B[0m \u001B[32m━━━━━━━━━━━━━━━━━━━━\u001B[0m\u001B[37m\u001B[0m \u001B[1m0s\u001B[0m 8ms/step - loss: 209.1987 - val_loss: 1221.9249\n",
      "Epoch 67/100\n",
      "\u001B[1m18/18\u001B[0m \u001B[32m━━━━━━━━━━━━━━━━━━━━\u001B[0m\u001B[37m\u001B[0m \u001B[1m0s\u001B[0m 7ms/step - loss: 209.3628 - val_loss: 1222.7777\n",
      "Epoch 68/100\n",
      "\u001B[1m18/18\u001B[0m \u001B[32m━━━━━━━━━━━━━━━━━━━━\u001B[0m\u001B[37m\u001B[0m \u001B[1m0s\u001B[0m 7ms/step - loss: 209.2853 - val_loss: 1223.0005\n",
      "Epoch 69/100\n",
      "\u001B[1m18/18\u001B[0m \u001B[32m━━━━━━━━━━━━━━━━━━━━\u001B[0m\u001B[37m\u001B[0m \u001B[1m0s\u001B[0m 6ms/step - loss: 209.2285 - val_loss: 1223.5872\n",
      "Epoch 70/100\n",
      "\u001B[1m18/18\u001B[0m \u001B[32m━━━━━━━━━━━━━━━━━━━━\u001B[0m\u001B[37m\u001B[0m \u001B[1m0s\u001B[0m 6ms/step - loss: 209.2314 - val_loss: 1223.5386\n",
      "Epoch 71/100\n",
      "\u001B[1m18/18\u001B[0m \u001B[32m━━━━━━━━━━━━━━━━━━━━\u001B[0m\u001B[37m\u001B[0m \u001B[1m0s\u001B[0m 7ms/step - loss: 209.2792 - val_loss: 1224.9147\n",
      "Epoch 72/100\n",
      "\u001B[1m18/18\u001B[0m \u001B[32m━━━━━━━━━━━━━━━━━━━━\u001B[0m\u001B[37m\u001B[0m \u001B[1m0s\u001B[0m 8ms/step - loss: 209.2982 - val_loss: 1219.3160\n",
      "Epoch 73/100\n",
      "\u001B[1m18/18\u001B[0m \u001B[32m━━━━━━━━━━━━━━━━━━━━\u001B[0m\u001B[37m\u001B[0m \u001B[1m0s\u001B[0m 8ms/step - loss: 208.8970 - val_loss: 1221.7783\n",
      "Epoch 74/100\n",
      "\u001B[1m18/18\u001B[0m \u001B[32m━━━━━━━━━━━━━━━━━━━━\u001B[0m\u001B[37m\u001B[0m \u001B[1m0s\u001B[0m 9ms/step - loss: 209.0908 - val_loss: 1220.3019\n",
      "Epoch 75/100\n",
      "\u001B[1m18/18\u001B[0m \u001B[32m━━━━━━━━━━━━━━━━━━━━\u001B[0m\u001B[37m\u001B[0m \u001B[1m0s\u001B[0m 8ms/step - loss: 209.1980 - val_loss: 1221.6776\n",
      "Epoch 76/100\n",
      "\u001B[1m18/18\u001B[0m \u001B[32m━━━━━━━━━━━━━━━━━━━━\u001B[0m\u001B[37m\u001B[0m \u001B[1m0s\u001B[0m 8ms/step - loss: 209.1673 - val_loss: 1221.5419\n",
      "Epoch 77/100\n",
      "\u001B[1m18/18\u001B[0m \u001B[32m━━━━━━━━━━━━━━━━━━━━\u001B[0m\u001B[37m\u001B[0m \u001B[1m0s\u001B[0m 9ms/step - loss: 209.1265 - val_loss: 1220.5787\n",
      "Epoch 78/100\n",
      "\u001B[1m18/18\u001B[0m \u001B[32m━━━━━━━━━━━━━━━━━━━━\u001B[0m\u001B[37m\u001B[0m \u001B[1m0s\u001B[0m 8ms/step - loss: 209.1832 - val_loss: 1221.4377\n",
      "Epoch 79/100\n",
      "\u001B[1m18/18\u001B[0m \u001B[32m━━━━━━━━━━━━━━━━━━━━\u001B[0m\u001B[37m\u001B[0m \u001B[1m0s\u001B[0m 10ms/step - loss: 209.1719 - val_loss: 1221.7802\n",
      "Epoch 80/100\n",
      "\u001B[1m18/18\u001B[0m \u001B[32m━━━━━━━━━━━━━━━━━━━━\u001B[0m\u001B[37m\u001B[0m \u001B[1m0s\u001B[0m 9ms/step - loss: 209.0682 - val_loss: 1220.0837\n",
      "Epoch 81/100\n",
      "\u001B[1m18/18\u001B[0m \u001B[32m━━━━━━━━━━━━━━━━━━━━\u001B[0m\u001B[37m\u001B[0m \u001B[1m0s\u001B[0m 8ms/step - loss: 208.9768 - val_loss: 1218.6122\n",
      "Epoch 82/100\n",
      "\u001B[1m18/18\u001B[0m \u001B[32m━━━━━━━━━━━━━━━━━━━━\u001B[0m\u001B[37m\u001B[0m \u001B[1m0s\u001B[0m 8ms/step - loss: 209.0348 - val_loss: 1219.8243\n",
      "Epoch 83/100\n",
      "\u001B[1m18/18\u001B[0m \u001B[32m━━━━━━━━━━━━━━━━━━━━\u001B[0m\u001B[37m\u001B[0m \u001B[1m0s\u001B[0m 8ms/step - loss: 208.9895 - val_loss: 1220.0229\n",
      "Epoch 84/100\n",
      "\u001B[1m18/18\u001B[0m \u001B[32m━━━━━━━━━━━━━━━━━━━━\u001B[0m\u001B[37m\u001B[0m \u001B[1m0s\u001B[0m 6ms/step - loss: 209.0139 - val_loss: 1219.7318\n",
      "Epoch 85/100\n",
      "\u001B[1m18/18\u001B[0m \u001B[32m━━━━━━━━━━━━━━━━━━━━\u001B[0m\u001B[37m\u001B[0m \u001B[1m0s\u001B[0m 6ms/step - loss: 209.0071 - val_loss: 1220.6097\n",
      "Epoch 86/100\n",
      "\u001B[1m18/18\u001B[0m \u001B[32m━━━━━━━━━━━━━━━━━━━━\u001B[0m\u001B[37m\u001B[0m \u001B[1m0s\u001B[0m 6ms/step - loss: 208.9777 - val_loss: 1220.8510\n",
      "Epoch 87/100\n",
      "\u001B[1m18/18\u001B[0m \u001B[32m━━━━━━━━━━━━━━━━━━━━\u001B[0m\u001B[37m\u001B[0m \u001B[1m0s\u001B[0m 6ms/step - loss: 209.0549 - val_loss: 1219.8854\n",
      "Epoch 88/100\n",
      "\u001B[1m18/18\u001B[0m \u001B[32m━━━━━━━━━━━━━━━━━━━━\u001B[0m\u001B[37m\u001B[0m \u001B[1m0s\u001B[0m 6ms/step - loss: 208.9972 - val_loss: 1221.1338\n",
      "Epoch 89/100\n",
      "\u001B[1m18/18\u001B[0m \u001B[32m━━━━━━━━━━━━━━━━━━━━\u001B[0m\u001B[37m\u001B[0m \u001B[1m0s\u001B[0m 6ms/step - loss: 209.0324 - val_loss: 1220.1508\n",
      "Epoch 90/100\n",
      "\u001B[1m18/18\u001B[0m \u001B[32m━━━━━━━━━━━━━━━━━━━━\u001B[0m\u001B[37m\u001B[0m \u001B[1m0s\u001B[0m 5ms/step - loss: 209.0017 - val_loss: 1218.9409\n",
      "Epoch 91/100\n",
      "\u001B[1m18/18\u001B[0m \u001B[32m━━━━━━━━━━━━━━━━━━━━\u001B[0m\u001B[37m\u001B[0m \u001B[1m0s\u001B[0m 6ms/step - loss: 209.0926 - val_loss: 1219.9026\n",
      "Epoch 92/100\n",
      "\u001B[1m18/18\u001B[0m \u001B[32m━━━━━━━━━━━━━━━━━━━━\u001B[0m\u001B[37m\u001B[0m \u001B[1m0s\u001B[0m 5ms/step - loss: 209.0428 - val_loss: 1220.3848\n",
      "Epoch 93/100\n",
      "\u001B[1m18/18\u001B[0m \u001B[32m━━━━━━━━━━━━━━━━━━━━\u001B[0m\u001B[37m\u001B[0m \u001B[1m0s\u001B[0m 6ms/step - loss: 209.0041 - val_loss: 1221.6324\n",
      "Epoch 94/100\n",
      "\u001B[1m18/18\u001B[0m \u001B[32m━━━━━━━━━━━━━━━━━━━━\u001B[0m\u001B[37m\u001B[0m \u001B[1m0s\u001B[0m 7ms/step - loss: 209.1514 - val_loss: 1219.8779\n",
      "Epoch 95/100\n",
      "\u001B[1m18/18\u001B[0m \u001B[32m━━━━━━━━━━━━━━━━━━━━\u001B[0m\u001B[37m\u001B[0m \u001B[1m0s\u001B[0m 7ms/step - loss: 209.0244 - val_loss: 1219.9832\n",
      "Epoch 96/100\n",
      "\u001B[1m18/18\u001B[0m \u001B[32m━━━━━━━━━━━━━━━━━━━━\u001B[0m\u001B[37m\u001B[0m \u001B[1m0s\u001B[0m 6ms/step - loss: 208.9250 - val_loss: 1220.6863\n",
      "Epoch 97/100\n",
      "\u001B[1m18/18\u001B[0m \u001B[32m━━━━━━━━━━━━━━━━━━━━\u001B[0m\u001B[37m\u001B[0m \u001B[1m0s\u001B[0m 6ms/step - loss: 208.9721 - val_loss: 1218.5944\n",
      "Epoch 98/100\n",
      "\u001B[1m18/18\u001B[0m \u001B[32m━━━━━━━━━━━━━━━━━━━━\u001B[0m\u001B[37m\u001B[0m \u001B[1m0s\u001B[0m 6ms/step - loss: 209.0191 - val_loss: 1218.1740\n",
      "Epoch 99/100\n",
      "\u001B[1m18/18\u001B[0m \u001B[32m━━━━━━━━━━━━━━━━━━━━\u001B[0m\u001B[37m\u001B[0m \u001B[1m0s\u001B[0m 6ms/step - loss: 209.0549 - val_loss: 1222.4806\n",
      "Epoch 100/100\n",
      "\u001B[1m18/18\u001B[0m \u001B[32m━━━━━━━━━━━━━━━━━━━━\u001B[0m\u001B[37m\u001B[0m \u001B[1m0s\u001B[0m 6ms/step - loss: 209.2394 - val_loss: 1220.0527\n"
     ]
    },
    {
     "data": {
      "text/plain": [
       "<keras.src.callbacks.history.History at 0x1a3152ed510>"
      ]
     },
     "execution_count": 56,
     "metadata": {},
     "output_type": "execute_result"
    }
   ],
   "execution_count": 56
  },
  {
   "metadata": {
    "ExecuteTime": {
     "end_time": "2025-07-22T09:02:55.120666Z",
     "start_time": "2025-07-22T09:02:55.103217Z"
    }
   },
   "cell_type": "code",
   "source": "model_4.summary()",
   "id": "500001b967f6ae54",
   "outputs": [
    {
     "data": {
      "text/plain": [
       "\u001B[1mModel: \"model_4_conv1D\"\u001B[0m\n"
      ],
      "text/html": [
       "<pre style=\"white-space:pre;overflow-x:auto;line-height:normal;font-family:Menlo,'DejaVu Sans Mono',consolas,'Courier New',monospace\"><span style=\"font-weight: bold\">Model: \"model_4_conv1D\"</span>\n",
       "</pre>\n"
      ]
     },
     "metadata": {},
     "output_type": "display_data"
    },
    {
     "data": {
      "text/plain": [
       "┏━━━━━━━━━━━━━━━━━━━━━━━━━━━━━━━━━┳━━━━━━━━━━━━━━━━━━━━━━━━┳━━━━━━━━━━━━━━━┓\n",
       "┃\u001B[1m \u001B[0m\u001B[1mLayer (type)                   \u001B[0m\u001B[1m \u001B[0m┃\u001B[1m \u001B[0m\u001B[1mOutput Shape          \u001B[0m\u001B[1m \u001B[0m┃\u001B[1m \u001B[0m\u001B[1m      Param #\u001B[0m\u001B[1m \u001B[0m┃\n",
       "┡━━━━━━━━━━━━━━━━━━━━━━━━━━━━━━━━━╇━━━━━━━━━━━━━━━━━━━━━━━━╇━━━━━━━━━━━━━━━┩\n",
       "│ lambda_1 (\u001B[38;5;33mLambda\u001B[0m)               │ (\u001B[38;5;45mNone\u001B[0m, \u001B[38;5;34m7\u001B[0m, \u001B[38;5;34m1\u001B[0m)           │             \u001B[38;5;34m0\u001B[0m │\n",
       "├─────────────────────────────────┼────────────────────────┼───────────────┤\n",
       "│ conv1d (\u001B[38;5;33mConv1D\u001B[0m)                 │ (\u001B[38;5;45mNone\u001B[0m, \u001B[38;5;34m7\u001B[0m, \u001B[38;5;34m128\u001B[0m)         │           \u001B[38;5;34m768\u001B[0m │\n",
       "├─────────────────────────────────┼────────────────────────┼───────────────┤\n",
       "│ dense_4 (\u001B[38;5;33mDense\u001B[0m)                 │ (\u001B[38;5;45mNone\u001B[0m, \u001B[38;5;34m7\u001B[0m, \u001B[38;5;34m1\u001B[0m)           │           \u001B[38;5;34m129\u001B[0m │\n",
       "└─────────────────────────────────┴────────────────────────┴───────────────┘\n"
      ],
      "text/html": [
       "<pre style=\"white-space:pre;overflow-x:auto;line-height:normal;font-family:Menlo,'DejaVu Sans Mono',consolas,'Courier New',monospace\">┏━━━━━━━━━━━━━━━━━━━━━━━━━━━━━━━━━┳━━━━━━━━━━━━━━━━━━━━━━━━┳━━━━━━━━━━━━━━━┓\n",
       "┃<span style=\"font-weight: bold\"> Layer (type)                    </span>┃<span style=\"font-weight: bold\"> Output Shape           </span>┃<span style=\"font-weight: bold\">       Param # </span>┃\n",
       "┡━━━━━━━━━━━━━━━━━━━━━━━━━━━━━━━━━╇━━━━━━━━━━━━━━━━━━━━━━━━╇━━━━━━━━━━━━━━━┩\n",
       "│ lambda_1 (<span style=\"color: #0087ff; text-decoration-color: #0087ff\">Lambda</span>)               │ (<span style=\"color: #00d7ff; text-decoration-color: #00d7ff\">None</span>, <span style=\"color: #00af00; text-decoration-color: #00af00\">7</span>, <span style=\"color: #00af00; text-decoration-color: #00af00\">1</span>)           │             <span style=\"color: #00af00; text-decoration-color: #00af00\">0</span> │\n",
       "├─────────────────────────────────┼────────────────────────┼───────────────┤\n",
       "│ conv1d (<span style=\"color: #0087ff; text-decoration-color: #0087ff\">Conv1D</span>)                 │ (<span style=\"color: #00d7ff; text-decoration-color: #00d7ff\">None</span>, <span style=\"color: #00af00; text-decoration-color: #00af00\">7</span>, <span style=\"color: #00af00; text-decoration-color: #00af00\">128</span>)         │           <span style=\"color: #00af00; text-decoration-color: #00af00\">768</span> │\n",
       "├─────────────────────────────────┼────────────────────────┼───────────────┤\n",
       "│ dense_4 (<span style=\"color: #0087ff; text-decoration-color: #0087ff\">Dense</span>)                 │ (<span style=\"color: #00d7ff; text-decoration-color: #00d7ff\">None</span>, <span style=\"color: #00af00; text-decoration-color: #00af00\">7</span>, <span style=\"color: #00af00; text-decoration-color: #00af00\">1</span>)           │           <span style=\"color: #00af00; text-decoration-color: #00af00\">129</span> │\n",
       "└─────────────────────────────────┴────────────────────────┴───────────────┘\n",
       "</pre>\n"
      ]
     },
     "metadata": {},
     "output_type": "display_data"
    },
    {
     "data": {
      "text/plain": [
       "\u001B[1m Total params: \u001B[0m\u001B[38;5;34m2,693\u001B[0m (10.52 KB)\n"
      ],
      "text/html": [
       "<pre style=\"white-space:pre;overflow-x:auto;line-height:normal;font-family:Menlo,'DejaVu Sans Mono',consolas,'Courier New',monospace\"><span style=\"font-weight: bold\"> Total params: </span><span style=\"color: #00af00; text-decoration-color: #00af00\">2,693</span> (10.52 KB)\n",
       "</pre>\n"
      ]
     },
     "metadata": {},
     "output_type": "display_data"
    },
    {
     "data": {
      "text/plain": [
       "\u001B[1m Trainable params: \u001B[0m\u001B[38;5;34m897\u001B[0m (3.50 KB)\n"
      ],
      "text/html": [
       "<pre style=\"white-space:pre;overflow-x:auto;line-height:normal;font-family:Menlo,'DejaVu Sans Mono',consolas,'Courier New',monospace\"><span style=\"font-weight: bold\"> Trainable params: </span><span style=\"color: #00af00; text-decoration-color: #00af00\">897</span> (3.50 KB)\n",
       "</pre>\n"
      ]
     },
     "metadata": {},
     "output_type": "display_data"
    },
    {
     "data": {
      "text/plain": [
       "\u001B[1m Non-trainable params: \u001B[0m\u001B[38;5;34m0\u001B[0m (0.00 B)\n"
      ],
      "text/html": [
       "<pre style=\"white-space:pre;overflow-x:auto;line-height:normal;font-family:Menlo,'DejaVu Sans Mono',consolas,'Courier New',monospace\"><span style=\"font-weight: bold\"> Non-trainable params: </span><span style=\"color: #00af00; text-decoration-color: #00af00\">0</span> (0.00 B)\n",
       "</pre>\n"
      ]
     },
     "metadata": {},
     "output_type": "display_data"
    },
    {
     "data": {
      "text/plain": [
       "\u001B[1m Optimizer params: \u001B[0m\u001B[38;5;34m1,796\u001B[0m (7.02 KB)\n"
      ],
      "text/html": [
       "<pre style=\"white-space:pre;overflow-x:auto;line-height:normal;font-family:Menlo,'DejaVu Sans Mono',consolas,'Courier New',monospace\"><span style=\"font-weight: bold\"> Optimizer params: </span><span style=\"color: #00af00; text-decoration-color: #00af00\">1,796</span> (7.02 KB)\n",
       "</pre>\n"
      ]
     },
     "metadata": {},
     "output_type": "display_data"
    }
   ],
   "execution_count": 57
  },
  {
   "metadata": {
    "ExecuteTime": {
     "end_time": "2025-07-22T09:02:55.349322Z",
     "start_time": "2025-07-22T09:02:55.232598Z"
    }
   },
   "cell_type": "code",
   "source": "model_4.evaluate(test_windows, test_labels)",
   "id": "280f9c045fec6f16",
   "outputs": [
    {
     "name": "stdout",
     "output_type": "stream",
     "text": [
      "\u001B[1m18/18\u001B[0m \u001B[32m━━━━━━━━━━━━━━━━━━━━\u001B[0m\u001B[37m\u001B[0m \u001B[1m0s\u001B[0m 3ms/step - loss: 597.6487 \n"
     ]
    },
    {
     "data": {
      "text/plain": [
       "1220.052734375"
      ]
     },
     "execution_count": 58,
     "metadata": {},
     "output_type": "execute_result"
    }
   ],
   "execution_count": 58
  },
  {
   "metadata": {
    "ExecuteTime": {
     "end_time": "2025-07-22T09:02:55.430613Z",
     "start_time": "2025-07-22T09:02:55.426910Z"
    }
   },
   "cell_type": "code",
   "source": "# RNN LSTM ",
   "id": "a3b2c94885baf693",
   "outputs": [],
   "execution_count": 59
  },
  {
   "metadata": {
    "ExecuteTime": {
     "end_time": "2025-07-22T09:02:55.533453Z",
     "start_time": "2025-07-22T09:02:55.487222Z"
    }
   },
   "cell_type": "code",
   "source": [
    "inputs = layers.Input(shape=(WINDOW_SIZE,))\n",
    "x = layers.Lambda(lambda x: tf.expand_dims(x, axis=1))(inputs)\n",
    "#x = layers.LSTM(128, return_sequences=True)(x)\n",
    "x = layers.LSTM(128, activation='relu')(x)\n",
    "#x = layers.Dense(32, activation=\"relu\")(x)\n",
    "output = layers.Dense(HORIZON)(x)\n",
    "model_5 = tf.keras.Model(inputs=inputs, outputs=output, name = \"model_5_LSTM\")"
   ],
   "id": "b4643830f76a863",
   "outputs": [],
   "execution_count": 60
  },
  {
   "metadata": {
    "ExecuteTime": {
     "end_time": "2025-07-22T09:02:55.570255Z",
     "start_time": "2025-07-22T09:02:55.562952Z"
    }
   },
   "cell_type": "code",
   "source": "model_5.compile(loss=\"mae\", optimizer=tf.keras.optimizers.Adam())",
   "id": "1d300259f18afe5b",
   "outputs": [],
   "execution_count": 61
  },
  {
   "metadata": {
    "ExecuteTime": {
     "end_time": "2025-07-22T09:03:38.653937Z",
     "start_time": "2025-07-22T09:02:55.608353Z"
    }
   },
   "cell_type": "code",
   "source": [
    "model_5.fit(x=train_windows, \n",
    "            y=train_labels, \n",
    "            epochs=200, \n",
    "            verbose=1,\n",
    "            batch_size=128,\n",
    "            validation_data=(test_windows, test_labels),\n",
    "            callbacks=[create_model_checkpoint(model_name = model_5.name)])"
   ],
   "id": "b142e8ade026f973",
   "outputs": [
    {
     "name": "stdout",
     "output_type": "stream",
     "text": [
      "Epoch 1/200\n",
      "\u001B[1m18/18\u001B[0m \u001B[32m━━━━━━━━━━━━━━━━━━━━\u001B[0m\u001B[37m\u001B[0m \u001B[1m2s\u001B[0m 21ms/step - loss: 2578.3196 - val_loss: 9252.8545\n",
      "Epoch 2/200\n",
      "\u001B[1m18/18\u001B[0m \u001B[32m━━━━━━━━━━━━━━━━━━━━\u001B[0m\u001B[37m\u001B[0m \u001B[1m0s\u001B[0m 8ms/step - loss: 1066.9250 - val_loss: 1162.8557\n",
      "Epoch 3/200\n",
      "\u001B[1m18/18\u001B[0m \u001B[32m━━━━━━━━━━━━━━━━━━━━\u001B[0m\u001B[37m\u001B[0m \u001B[1m0s\u001B[0m 5ms/step - loss: 259.6524 - val_loss: 1345.2024\n",
      "Epoch 4/200\n",
      "\u001B[1m18/18\u001B[0m \u001B[32m━━━━━━━━━━━━━━━━━━━━\u001B[0m\u001B[37m\u001B[0m \u001B[1m0s\u001B[0m 8ms/step - loss: 207.0073 - val_loss: 1039.4509\n",
      "Epoch 5/200\n",
      "\u001B[1m18/18\u001B[0m \u001B[32m━━━━━━━━━━━━━━━━━━━━\u001B[0m\u001B[37m\u001B[0m \u001B[1m0s\u001B[0m 9ms/step - loss: 182.0717 - val_loss: 1037.7833\n",
      "Epoch 6/200\n",
      "\u001B[1m18/18\u001B[0m \u001B[32m━━━━━━━━━━━━━━━━━━━━\u001B[0m\u001B[37m\u001B[0m \u001B[1m0s\u001B[0m 6ms/step - loss: 179.3017 - val_loss: 1051.3701\n",
      "Epoch 7/200\n",
      "\u001B[1m18/18\u001B[0m \u001B[32m━━━━━━━━━━━━━━━━━━━━\u001B[0m\u001B[37m\u001B[0m \u001B[1m0s\u001B[0m 7ms/step - loss: 178.0860 - val_loss: 1053.1282\n",
      "Epoch 8/200\n",
      "\u001B[1m18/18\u001B[0m \u001B[32m━━━━━━━━━━━━━━━━━━━━\u001B[0m\u001B[37m\u001B[0m \u001B[1m0s\u001B[0m 7ms/step - loss: 177.1482 - val_loss: 1047.9227\n",
      "Epoch 9/200\n",
      "\u001B[1m18/18\u001B[0m \u001B[32m━━━━━━━━━━━━━━━━━━━━\u001B[0m\u001B[37m\u001B[0m \u001B[1m0s\u001B[0m 7ms/step - loss: 175.9892 - val_loss: 1040.5923\n",
      "Epoch 10/200\n",
      "\u001B[1m18/18\u001B[0m \u001B[32m━━━━━━━━━━━━━━━━━━━━\u001B[0m\u001B[37m\u001B[0m \u001B[1m0s\u001B[0m 10ms/step - loss: 174.6586 - val_loss: 1026.7053\n",
      "Epoch 11/200\n",
      "\u001B[1m18/18\u001B[0m \u001B[32m━━━━━━━━━━━━━━━━━━━━\u001B[0m\u001B[37m\u001B[0m \u001B[1m0s\u001B[0m 9ms/step - loss: 173.0659 - val_loss: 1021.5932\n",
      "Epoch 12/200\n",
      "\u001B[1m18/18\u001B[0m \u001B[32m━━━━━━━━━━━━━━━━━━━━\u001B[0m\u001B[37m\u001B[0m \u001B[1m0s\u001B[0m 9ms/step - loss: 171.7917 - val_loss: 1020.2231\n",
      "Epoch 13/200\n",
      "\u001B[1m18/18\u001B[0m \u001B[32m━━━━━━━━━━━━━━━━━━━━\u001B[0m\u001B[37m\u001B[0m \u001B[1m0s\u001B[0m 9ms/step - loss: 170.4294 - val_loss: 1012.9897\n",
      "Epoch 14/200\n",
      "\u001B[1m18/18\u001B[0m \u001B[32m━━━━━━━━━━━━━━━━━━━━\u001B[0m\u001B[37m\u001B[0m \u001B[1m0s\u001B[0m 8ms/step - loss: 168.9735 - val_loss: 953.9760\n",
      "Epoch 15/200\n",
      "\u001B[1m18/18\u001B[0m \u001B[32m━━━━━━━━━━━━━━━━━━━━\u001B[0m\u001B[37m\u001B[0m \u001B[1m0s\u001B[0m 5ms/step - loss: 163.9411 - val_loss: 968.7852\n",
      "Epoch 16/200\n",
      "\u001B[1m18/18\u001B[0m \u001B[32m━━━━━━━━━━━━━━━━━━━━\u001B[0m\u001B[37m\u001B[0m \u001B[1m0s\u001B[0m 23ms/step - loss: 163.9018 - val_loss: 940.6201\n",
      "Epoch 17/200\n",
      "\u001B[1m18/18\u001B[0m \u001B[32m━━━━━━━━━━━━━━━━━━━━\u001B[0m\u001B[37m\u001B[0m \u001B[1m0s\u001B[0m 8ms/step - loss: 161.1780 - val_loss: 933.3643\n",
      "Epoch 18/200\n",
      "\u001B[1m18/18\u001B[0m \u001B[32m━━━━━━━━━━━━━━━━━━━━\u001B[0m\u001B[37m\u001B[0m \u001B[1m0s\u001B[0m 9ms/step - loss: 159.0748 - val_loss: 925.9868\n",
      "Epoch 19/200\n",
      "\u001B[1m18/18\u001B[0m \u001B[32m━━━━━━━━━━━━━━━━━━━━\u001B[0m\u001B[37m\u001B[0m \u001B[1m0s\u001B[0m 8ms/step - loss: 156.9284 - val_loss: 907.6048\n",
      "Epoch 20/200\n",
      "\u001B[1m18/18\u001B[0m \u001B[32m━━━━━━━━━━━━━━━━━━━━\u001B[0m\u001B[37m\u001B[0m \u001B[1m0s\u001B[0m 8ms/step - loss: 154.7166 - val_loss: 893.2551\n",
      "Epoch 21/200\n",
      "\u001B[1m18/18\u001B[0m \u001B[32m━━━━━━━━━━━━━━━━━━━━\u001B[0m\u001B[37m\u001B[0m \u001B[1m0s\u001B[0m 8ms/step - loss: 152.3615 - val_loss: 872.5422\n",
      "Epoch 22/200\n",
      "\u001B[1m18/18\u001B[0m \u001B[32m━━━━━━━━━━━━━━━━━━━━\u001B[0m\u001B[37m\u001B[0m \u001B[1m0s\u001B[0m 6ms/step - loss: 149.8272 - val_loss: 876.5318\n",
      "Epoch 23/200\n",
      "\u001B[1m18/18\u001B[0m \u001B[32m━━━━━━━━━━━━━━━━━━━━\u001B[0m\u001B[37m\u001B[0m \u001B[1m0s\u001B[0m 24ms/step - loss: 147.5500 - val_loss: 843.8380\n",
      "Epoch 24/200\n",
      "\u001B[1m18/18\u001B[0m \u001B[32m━━━━━━━━━━━━━━━━━━━━\u001B[0m\u001B[37m\u001B[0m \u001B[1m0s\u001B[0m 8ms/step - loss: 145.4549 - val_loss: 814.2447\n",
      "Epoch 25/200\n",
      "\u001B[1m18/18\u001B[0m \u001B[32m━━━━━━━━━━━━━━━━━━━━\u001B[0m\u001B[37m\u001B[0m \u001B[1m0s\u001B[0m 6ms/step - loss: 170.2219 - val_loss: 818.1131\n",
      "Epoch 26/200\n",
      "\u001B[1m18/18\u001B[0m \u001B[32m━━━━━━━━━━━━━━━━━━━━\u001B[0m\u001B[37m\u001B[0m \u001B[1m0s\u001B[0m 7ms/step - loss: 146.2123 - val_loss: 885.3100\n",
      "Epoch 27/200\n",
      "\u001B[1m18/18\u001B[0m \u001B[32m━━━━━━━━━━━━━━━━━━━━\u001B[0m\u001B[37m\u001B[0m \u001B[1m0s\u001B[0m 8ms/step - loss: 144.7537 - val_loss: 812.8063\n",
      "Epoch 28/200\n",
      "\u001B[1m18/18\u001B[0m \u001B[32m━━━━━━━━━━━━━━━━━━━━\u001B[0m\u001B[37m\u001B[0m \u001B[1m0s\u001B[0m 6ms/step - loss: 139.7494 - val_loss: 833.6400\n",
      "Epoch 29/200\n",
      "\u001B[1m18/18\u001B[0m \u001B[32m━━━━━━━━━━━━━━━━━━━━\u001B[0m\u001B[37m\u001B[0m \u001B[1m0s\u001B[0m 8ms/step - loss: 138.5495 - val_loss: 786.1219\n",
      "Epoch 30/200\n",
      "\u001B[1m18/18\u001B[0m \u001B[32m━━━━━━━━━━━━━━━━━━━━\u001B[0m\u001B[37m\u001B[0m \u001B[1m0s\u001B[0m 5ms/step - loss: 135.9711 - val_loss: 806.6669\n",
      "Epoch 31/200\n",
      "\u001B[1m18/18\u001B[0m \u001B[32m━━━━━━━━━━━━━━━━━━━━\u001B[0m\u001B[37m\u001B[0m \u001B[1m0s\u001B[0m 8ms/step - loss: 134.8049 - val_loss: 775.3669\n",
      "Epoch 32/200\n",
      "\u001B[1m18/18\u001B[0m \u001B[32m━━━━━━━━━━━━━━━━━━━━\u001B[0m\u001B[37m\u001B[0m \u001B[1m0s\u001B[0m 7ms/step - loss: 132.2598 - val_loss: 777.9473\n",
      "Epoch 33/200\n",
      "\u001B[1m18/18\u001B[0m \u001B[32m━━━━━━━━━━━━━━━━━━━━\u001B[0m\u001B[37m\u001B[0m \u001B[1m0s\u001B[0m 8ms/step - loss: 131.0393 - val_loss: 746.3047\n",
      "Epoch 34/200\n",
      "\u001B[1m18/18\u001B[0m \u001B[32m━━━━━━━━━━━━━━━━━━━━\u001B[0m\u001B[37m\u001B[0m \u001B[1m0s\u001B[0m 7ms/step - loss: 128.7501 - val_loss: 748.8374\n",
      "Epoch 35/200\n",
      "\u001B[1m18/18\u001B[0m \u001B[32m━━━━━━━━━━━━━━━━━━━━\u001B[0m\u001B[37m\u001B[0m \u001B[1m0s\u001B[0m 8ms/step - loss: 127.4487 - val_loss: 716.8829\n",
      "Epoch 36/200\n",
      "\u001B[1m18/18\u001B[0m \u001B[32m━━━━━━━━━━━━━━━━━━━━\u001B[0m\u001B[37m\u001B[0m \u001B[1m0s\u001B[0m 10ms/step - loss: 124.8970 - val_loss: 704.7252\n",
      "Epoch 37/200\n",
      "\u001B[1m18/18\u001B[0m \u001B[32m━━━━━━━━━━━━━━━━━━━━\u001B[0m\u001B[37m\u001B[0m \u001B[1m0s\u001B[0m 7ms/step - loss: 123.4017 - val_loss: 693.9901\n",
      "Epoch 38/200\n",
      "\u001B[1m18/18\u001B[0m \u001B[32m━━━━━━━━━━━━━━━━━━━━\u001B[0m\u001B[37m\u001B[0m \u001B[1m0s\u001B[0m 8ms/step - loss: 122.0573 - val_loss: 687.9781\n",
      "Epoch 39/200\n",
      "\u001B[1m18/18\u001B[0m \u001B[32m━━━━━━━━━━━━━━━━━━━━\u001B[0m\u001B[37m\u001B[0m \u001B[1m0s\u001B[0m 7ms/step - loss: 120.9734 - val_loss: 672.3073\n",
      "Epoch 40/200\n",
      "\u001B[1m18/18\u001B[0m \u001B[32m━━━━━━━━━━━━━━━━━━━━\u001B[0m\u001B[37m\u001B[0m \u001B[1m0s\u001B[0m 8ms/step - loss: 119.7844 - val_loss: 664.9600\n",
      "Epoch 41/200\n",
      "\u001B[1m18/18\u001B[0m \u001B[32m━━━━━━━━━━━━━━━━━━━━\u001B[0m\u001B[37m\u001B[0m \u001B[1m0s\u001B[0m 8ms/step - loss: 118.8526 - val_loss: 655.4254\n",
      "Epoch 42/200\n",
      "\u001B[1m18/18\u001B[0m \u001B[32m━━━━━━━━━━━━━━━━━━━━\u001B[0m\u001B[37m\u001B[0m \u001B[1m0s\u001B[0m 8ms/step - loss: 117.9498 - val_loss: 653.6324\n",
      "Epoch 43/200\n",
      "\u001B[1m18/18\u001B[0m \u001B[32m━━━━━━━━━━━━━━━━━━━━\u001B[0m\u001B[37m\u001B[0m \u001B[1m0s\u001B[0m 9ms/step - loss: 117.6336 - val_loss: 646.1959\n",
      "Epoch 44/200\n",
      "\u001B[1m18/18\u001B[0m \u001B[32m━━━━━━━━━━━━━━━━━━━━\u001B[0m\u001B[37m\u001B[0m \u001B[1m0s\u001B[0m 8ms/step - loss: 117.0749 - val_loss: 640.0815\n",
      "Epoch 45/200\n",
      "\u001B[1m18/18\u001B[0m \u001B[32m━━━━━━━━━━━━━━━━━━━━\u001B[0m\u001B[37m\u001B[0m \u001B[1m0s\u001B[0m 8ms/step - loss: 116.6472 - val_loss: 640.0912\n",
      "Epoch 46/200\n",
      "\u001B[1m18/18\u001B[0m \u001B[32m━━━━━━━━━━━━━━━━━━━━\u001B[0m\u001B[37m\u001B[0m \u001B[1m0s\u001B[0m 8ms/step - loss: 116.0523 - val_loss: 635.2065\n",
      "Epoch 47/200\n",
      "\u001B[1m18/18\u001B[0m \u001B[32m━━━━━━━━━━━━━━━━━━━━\u001B[0m\u001B[37m\u001B[0m \u001B[1m0s\u001B[0m 6ms/step - loss: 115.6590 - val_loss: 642.4586\n",
      "Epoch 48/200\n",
      "\u001B[1m18/18\u001B[0m \u001B[32m━━━━━━━━━━━━━━━━━━━━\u001B[0m\u001B[37m\u001B[0m \u001B[1m0s\u001B[0m 8ms/step - loss: 116.0852 - val_loss: 633.2258\n",
      "Epoch 49/200\n",
      "\u001B[1m18/18\u001B[0m \u001B[32m━━━━━━━━━━━━━━━━━━━━\u001B[0m\u001B[37m\u001B[0m \u001B[1m0s\u001B[0m 8ms/step - loss: 115.2219 - val_loss: 619.6381\n",
      "Epoch 50/200\n",
      "\u001B[1m18/18\u001B[0m \u001B[32m━━━━━━━━━━━━━━━━━━━━\u001B[0m\u001B[37m\u001B[0m \u001B[1m0s\u001B[0m 8ms/step - loss: 114.4151 - val_loss: 617.8743\n",
      "Epoch 51/200\n",
      "\u001B[1m18/18\u001B[0m \u001B[32m━━━━━━━━━━━━━━━━━━━━\u001B[0m\u001B[37m\u001B[0m \u001B[1m0s\u001B[0m 12ms/step - loss: 113.9249 - val_loss: 617.7342\n",
      "Epoch 52/200\n",
      "\u001B[1m18/18\u001B[0m \u001B[32m━━━━━━━━━━━━━━━━━━━━\u001B[0m\u001B[37m\u001B[0m \u001B[1m0s\u001B[0m 11ms/step - loss: 113.7909 - val_loss: 612.6252\n",
      "Epoch 53/200\n",
      "\u001B[1m18/18\u001B[0m \u001B[32m━━━━━━━━━━━━━━━━━━━━\u001B[0m\u001B[37m\u001B[0m \u001B[1m0s\u001B[0m 13ms/step - loss: 113.3829 - val_loss: 606.7930\n",
      "Epoch 54/200\n",
      "\u001B[1m18/18\u001B[0m \u001B[32m━━━━━━━━━━━━━━━━━━━━\u001B[0m\u001B[37m\u001B[0m \u001B[1m0s\u001B[0m 12ms/step - loss: 112.9757 - val_loss: 604.1111\n",
      "Epoch 55/200\n",
      "\u001B[1m18/18\u001B[0m \u001B[32m━━━━━━━━━━━━━━━━━━━━\u001B[0m\u001B[37m\u001B[0m \u001B[1m0s\u001B[0m 9ms/step - loss: 112.7551 - val_loss: 604.8586\n",
      "Epoch 56/200\n",
      "\u001B[1m18/18\u001B[0m \u001B[32m━━━━━━━━━━━━━━━━━━━━\u001B[0m\u001B[37m\u001B[0m \u001B[1m0s\u001B[0m 7ms/step - loss: 112.7669 - val_loss: 604.7160\n",
      "Epoch 57/200\n",
      "\u001B[1m18/18\u001B[0m \u001B[32m━━━━━━━━━━━━━━━━━━━━\u001B[0m\u001B[37m\u001B[0m \u001B[1m0s\u001B[0m 14ms/step - loss: 112.5389 - val_loss: 599.1552\n",
      "Epoch 58/200\n",
      "\u001B[1m18/18\u001B[0m \u001B[32m━━━━━━━━━━━━━━━━━━━━\u001B[0m\u001B[37m\u001B[0m \u001B[1m0s\u001B[0m 10ms/step - loss: 111.9926 - val_loss: 596.4033\n",
      "Epoch 59/200\n",
      "\u001B[1m18/18\u001B[0m \u001B[32m━━━━━━━━━━━━━━━━━━━━\u001B[0m\u001B[37m\u001B[0m \u001B[1m0s\u001B[0m 6ms/step - loss: 112.2117 - val_loss: 597.0267\n",
      "Epoch 60/200\n",
      "\u001B[1m18/18\u001B[0m \u001B[32m━━━━━━━━━━━━━━━━━━━━\u001B[0m\u001B[37m\u001B[0m \u001B[1m0s\u001B[0m 9ms/step - loss: 111.9934 - val_loss: 593.7369\n",
      "Epoch 61/200\n",
      "\u001B[1m18/18\u001B[0m \u001B[32m━━━━━━━━━━━━━━━━━━━━\u001B[0m\u001B[37m\u001B[0m \u001B[1m0s\u001B[0m 8ms/step - loss: 111.5712 - val_loss: 591.9297\n",
      "Epoch 62/200\n",
      "\u001B[1m18/18\u001B[0m \u001B[32m━━━━━━━━━━━━━━━━━━━━\u001B[0m\u001B[37m\u001B[0m \u001B[1m0s\u001B[0m 6ms/step - loss: 111.4422 - val_loss: 597.8635\n",
      "Epoch 63/200\n",
      "\u001B[1m18/18\u001B[0m \u001B[32m━━━━━━━━━━━━━━━━━━━━\u001B[0m\u001B[37m\u001B[0m \u001B[1m0s\u001B[0m 6ms/step - loss: 112.0216 - val_loss: 592.9066\n",
      "Epoch 64/200\n",
      "\u001B[1m18/18\u001B[0m \u001B[32m━━━━━━━━━━━━━━━━━━━━\u001B[0m\u001B[37m\u001B[0m \u001B[1m0s\u001B[0m 8ms/step - loss: 111.4866 - val_loss: 593.9381\n",
      "Epoch 65/200\n",
      "\u001B[1m18/18\u001B[0m \u001B[32m━━━━━━━━━━━━━━━━━━━━\u001B[0m\u001B[37m\u001B[0m \u001B[1m0s\u001B[0m 12ms/step - loss: 111.5279 - val_loss: 592.5801\n",
      "Epoch 66/200\n",
      "\u001B[1m18/18\u001B[0m \u001B[32m━━━━━━━━━━━━━━━━━━━━\u001B[0m\u001B[37m\u001B[0m \u001B[1m0s\u001B[0m 13ms/step - loss: 111.2215 - val_loss: 589.4365\n",
      "Epoch 67/200\n",
      "\u001B[1m18/18\u001B[0m \u001B[32m━━━━━━━━━━━━━━━━━━━━\u001B[0m\u001B[37m\u001B[0m \u001B[1m0s\u001B[0m 9ms/step - loss: 111.0993 - val_loss: 594.4008\n",
      "Epoch 68/200\n",
      "\u001B[1m18/18\u001B[0m \u001B[32m━━━━━━━━━━━━━━━━━━━━\u001B[0m\u001B[37m\u001B[0m \u001B[1m0s\u001B[0m 14ms/step - loss: 111.8997 - val_loss: 587.1431\n",
      "Epoch 69/200\n",
      "\u001B[1m18/18\u001B[0m \u001B[32m━━━━━━━━━━━━━━━━━━━━\u001B[0m\u001B[37m\u001B[0m \u001B[1m0s\u001B[0m 13ms/step - loss: 110.9432 - val_loss: 585.4115\n",
      "Epoch 70/200\n",
      "\u001B[1m18/18\u001B[0m \u001B[32m━━━━━━━━━━━━━━━━━━━━\u001B[0m\u001B[37m\u001B[0m \u001B[1m0s\u001B[0m 10ms/step - loss: 110.8481 - val_loss: 585.1353\n",
      "Epoch 71/200\n",
      "\u001B[1m18/18\u001B[0m \u001B[32m━━━━━━━━━━━━━━━━━━━━\u001B[0m\u001B[37m\u001B[0m \u001B[1m0s\u001B[0m 8ms/step - loss: 110.6338 - val_loss: 592.5914\n",
      "Epoch 72/200\n",
      "\u001B[1m18/18\u001B[0m \u001B[32m━━━━━━━━━━━━━━━━━━━━\u001B[0m\u001B[37m\u001B[0m \u001B[1m0s\u001B[0m 9ms/step - loss: 111.1875 - val_loss: 589.6570\n",
      "Epoch 73/200\n",
      "\u001B[1m18/18\u001B[0m \u001B[32m━━━━━━━━━━━━━━━━━━━━\u001B[0m\u001B[37m\u001B[0m \u001B[1m0s\u001B[0m 7ms/step - loss: 110.7989 - val_loss: 592.6233\n",
      "Epoch 74/200\n",
      "\u001B[1m18/18\u001B[0m \u001B[32m━━━━━━━━━━━━━━━━━━━━\u001B[0m\u001B[37m\u001B[0m \u001B[1m0s\u001B[0m 7ms/step - loss: 110.8548 - val_loss: 585.9078\n",
      "Epoch 75/200\n",
      "\u001B[1m18/18\u001B[0m \u001B[32m━━━━━━━━━━━━━━━━━━━━\u001B[0m\u001B[37m\u001B[0m \u001B[1m0s\u001B[0m 7ms/step - loss: 110.6332 - val_loss: 588.6632\n",
      "Epoch 76/200\n",
      "\u001B[1m18/18\u001B[0m \u001B[32m━━━━━━━━━━━━━━━━━━━━\u001B[0m\u001B[37m\u001B[0m \u001B[1m0s\u001B[0m 12ms/step - loss: 110.4764 - val_loss: 582.7822\n",
      "Epoch 77/200\n",
      "\u001B[1m18/18\u001B[0m \u001B[32m━━━━━━━━━━━━━━━━━━━━\u001B[0m\u001B[37m\u001B[0m \u001B[1m0s\u001B[0m 10ms/step - loss: 110.1360 - val_loss: 589.7508\n",
      "Epoch 78/200\n",
      "\u001B[1m18/18\u001B[0m \u001B[32m━━━━━━━━━━━━━━━━━━━━\u001B[0m\u001B[37m\u001B[0m \u001B[1m0s\u001B[0m 7ms/step - loss: 110.5368 - val_loss: 586.3623\n",
      "Epoch 79/200\n",
      "\u001B[1m18/18\u001B[0m \u001B[32m━━━━━━━━━━━━━━━━━━━━\u001B[0m\u001B[37m\u001B[0m \u001B[1m0s\u001B[0m 9ms/step - loss: 110.1557 - val_loss: 597.5446\n",
      "Epoch 80/200\n",
      "\u001B[1m18/18\u001B[0m \u001B[32m━━━━━━━━━━━━━━━━━━━━\u001B[0m\u001B[37m\u001B[0m \u001B[1m0s\u001B[0m 13ms/step - loss: 111.0583 - val_loss: 579.0869\n",
      "Epoch 81/200\n",
      "\u001B[1m18/18\u001B[0m \u001B[32m━━━━━━━━━━━━━━━━━━━━\u001B[0m\u001B[37m\u001B[0m \u001B[1m0s\u001B[0m 9ms/step - loss: 109.8385 - val_loss: 577.2610\n",
      "Epoch 82/200\n",
      "\u001B[1m18/18\u001B[0m \u001B[32m━━━━━━━━━━━━━━━━━━━━\u001B[0m\u001B[37m\u001B[0m \u001B[1m0s\u001B[0m 6ms/step - loss: 109.4069 - val_loss: 579.3953\n",
      "Epoch 83/200\n",
      "\u001B[1m18/18\u001B[0m \u001B[32m━━━━━━━━━━━━━━━━━━━━\u001B[0m\u001B[37m\u001B[0m \u001B[1m0s\u001B[0m 6ms/step - loss: 109.4649 - val_loss: 581.8439\n",
      "Epoch 84/200\n",
      "\u001B[1m18/18\u001B[0m \u001B[32m━━━━━━━━━━━━━━━━━━━━\u001B[0m\u001B[37m\u001B[0m \u001B[1m0s\u001B[0m 5ms/step - loss: 109.8440 - val_loss: 579.4348\n",
      "Epoch 85/200\n",
      "\u001B[1m18/18\u001B[0m \u001B[32m━━━━━━━━━━━━━━━━━━━━\u001B[0m\u001B[37m\u001B[0m \u001B[1m0s\u001B[0m 7ms/step - loss: 109.4307 - val_loss: 580.5194\n",
      "Epoch 86/200\n",
      "\u001B[1m18/18\u001B[0m \u001B[32m━━━━━━━━━━━━━━━━━━━━\u001B[0m\u001B[37m\u001B[0m \u001B[1m0s\u001B[0m 9ms/step - loss: 109.6777 - val_loss: 576.7798\n",
      "Epoch 87/200\n",
      "\u001B[1m18/18\u001B[0m \u001B[32m━━━━━━━━━━━━━━━━━━━━\u001B[0m\u001B[37m\u001B[0m \u001B[1m0s\u001B[0m 9ms/step - loss: 109.4534 - val_loss: 590.4459\n",
      "Epoch 88/200\n",
      "\u001B[1m18/18\u001B[0m \u001B[32m━━━━━━━━━━━━━━━━━━━━\u001B[0m\u001B[37m\u001B[0m \u001B[1m0s\u001B[0m 10ms/step - loss: 110.3890 - val_loss: 592.7679\n",
      "Epoch 89/200\n",
      "\u001B[1m18/18\u001B[0m \u001B[32m━━━━━━━━━━━━━━━━━━━━\u001B[0m\u001B[37m\u001B[0m \u001B[1m0s\u001B[0m 11ms/step - loss: 110.7868 - val_loss: 586.5023\n",
      "Epoch 90/200\n",
      "\u001B[1m18/18\u001B[0m \u001B[32m━━━━━━━━━━━━━━━━━━━━\u001B[0m\u001B[37m\u001B[0m \u001B[1m0s\u001B[0m 12ms/step - loss: 109.6738 - val_loss: 577.1237\n",
      "Epoch 91/200\n",
      "\u001B[1m18/18\u001B[0m \u001B[32m━━━━━━━━━━━━━━━━━━━━\u001B[0m\u001B[37m\u001B[0m \u001B[1m0s\u001B[0m 14ms/step - loss: 109.0454 - val_loss: 575.6311\n",
      "Epoch 92/200\n",
      "\u001B[1m18/18\u001B[0m \u001B[32m━━━━━━━━━━━━━━━━━━━━\u001B[0m\u001B[37m\u001B[0m \u001B[1m0s\u001B[0m 13ms/step - loss: 108.6763 - val_loss: 577.4119\n",
      "Epoch 93/200\n",
      "\u001B[1m18/18\u001B[0m \u001B[32m━━━━━━━━━━━━━━━━━━━━\u001B[0m\u001B[37m\u001B[0m \u001B[1m0s\u001B[0m 11ms/step - loss: 109.0723 - val_loss: 577.3993\n",
      "Epoch 94/200\n",
      "\u001B[1m18/18\u001B[0m \u001B[32m━━━━━━━━━━━━━━━━━━━━\u001B[0m\u001B[37m\u001B[0m \u001B[1m0s\u001B[0m 16ms/step - loss: 108.9055 - val_loss: 574.1978\n",
      "Epoch 95/200\n",
      "\u001B[1m18/18\u001B[0m \u001B[32m━━━━━━━━━━━━━━━━━━━━\u001B[0m\u001B[37m\u001B[0m \u001B[1m0s\u001B[0m 19ms/step - loss: 108.6457 - val_loss: 573.3245\n",
      "Epoch 96/200\n",
      "\u001B[1m18/18\u001B[0m \u001B[32m━━━━━━━━━━━━━━━━━━━━\u001B[0m\u001B[37m\u001B[0m \u001B[1m0s\u001B[0m 9ms/step - loss: 108.2741 - val_loss: 574.1216\n",
      "Epoch 97/200\n",
      "\u001B[1m18/18\u001B[0m \u001B[32m━━━━━━━━━━━━━━━━━━━━\u001B[0m\u001B[37m\u001B[0m \u001B[1m0s\u001B[0m 9ms/step - loss: 108.4974 - val_loss: 577.5391\n",
      "Epoch 98/200\n",
      "\u001B[1m18/18\u001B[0m \u001B[32m━━━━━━━━━━━━━━━━━━━━\u001B[0m\u001B[37m\u001B[0m \u001B[1m0s\u001B[0m 7ms/step - loss: 108.8754 - val_loss: 574.7045\n",
      "Epoch 99/200\n",
      "\u001B[1m18/18\u001B[0m \u001B[32m━━━━━━━━━━━━━━━━━━━━\u001B[0m\u001B[37m\u001B[0m \u001B[1m0s\u001B[0m 10ms/step - loss: 108.6648 - val_loss: 572.8400\n",
      "Epoch 100/200\n",
      "\u001B[1m18/18\u001B[0m \u001B[32m━━━━━━━━━━━━━━━━━━━━\u001B[0m\u001B[37m\u001B[0m \u001B[1m0s\u001B[0m 8ms/step - loss: 107.9637 - val_loss: 577.3652\n",
      "Epoch 101/200\n",
      "\u001B[1m18/18\u001B[0m \u001B[32m━━━━━━━━━━━━━━━━━━━━\u001B[0m\u001B[37m\u001B[0m \u001B[1m0s\u001B[0m 8ms/step - loss: 108.8561 - val_loss: 579.1017\n",
      "Epoch 102/200\n",
      "\u001B[1m18/18\u001B[0m \u001B[32m━━━━━━━━━━━━━━━━━━━━\u001B[0m\u001B[37m\u001B[0m \u001B[1m0s\u001B[0m 12ms/step - loss: 108.5198 - val_loss: 571.6385\n",
      "Epoch 103/200\n",
      "\u001B[1m18/18\u001B[0m \u001B[32m━━━━━━━━━━━━━━━━━━━━\u001B[0m\u001B[37m\u001B[0m \u001B[1m0s\u001B[0m 16ms/step - loss: 107.9074 - val_loss: 571.5256\n",
      "Epoch 104/200\n",
      "\u001B[1m18/18\u001B[0m \u001B[32m━━━━━━━━━━━━━━━━━━━━\u001B[0m\u001B[37m\u001B[0m \u001B[1m0s\u001B[0m 9ms/step - loss: 108.0679 - val_loss: 572.8072\n",
      "Epoch 105/200\n",
      "\u001B[1m18/18\u001B[0m \u001B[32m━━━━━━━━━━━━━━━━━━━━\u001B[0m\u001B[37m\u001B[0m \u001B[1m0s\u001B[0m 8ms/step - loss: 108.1735 - val_loss: 572.1705\n",
      "Epoch 106/200\n",
      "\u001B[1m18/18\u001B[0m \u001B[32m━━━━━━━━━━━━━━━━━━━━\u001B[0m\u001B[37m\u001B[0m \u001B[1m0s\u001B[0m 8ms/step - loss: 107.9197 - val_loss: 572.8577\n",
      "Epoch 107/200\n",
      "\u001B[1m18/18\u001B[0m \u001B[32m━━━━━━━━━━━━━━━━━━━━\u001B[0m\u001B[37m\u001B[0m \u001B[1m0s\u001B[0m 8ms/step - loss: 107.5093 - val_loss: 572.7086\n",
      "Epoch 108/200\n",
      "\u001B[1m18/18\u001B[0m \u001B[32m━━━━━━━━━━━━━━━━━━━━\u001B[0m\u001B[37m\u001B[0m \u001B[1m0s\u001B[0m 8ms/step - loss: 107.5049 - val_loss: 576.5624\n",
      "Epoch 109/200\n",
      "\u001B[1m18/18\u001B[0m \u001B[32m━━━━━━━━━━━━━━━━━━━━\u001B[0m\u001B[37m\u001B[0m \u001B[1m0s\u001B[0m 7ms/step - loss: 107.2102 - val_loss: 573.3583\n",
      "Epoch 110/200\n",
      "\u001B[1m18/18\u001B[0m \u001B[32m━━━━━━━━━━━━━━━━━━━━\u001B[0m\u001B[37m\u001B[0m \u001B[1m0s\u001B[0m 7ms/step - loss: 107.2079 - val_loss: 574.7202\n",
      "Epoch 111/200\n",
      "\u001B[1m18/18\u001B[0m \u001B[32m━━━━━━━━━━━━━━━━━━━━\u001B[0m\u001B[37m\u001B[0m \u001B[1m0s\u001B[0m 7ms/step - loss: 107.0874 - val_loss: 573.4869\n",
      "Epoch 112/200\n",
      "\u001B[1m18/18\u001B[0m \u001B[32m━━━━━━━━━━━━━━━━━━━━\u001B[0m\u001B[37m\u001B[0m \u001B[1m0s\u001B[0m 7ms/step - loss: 107.2769 - val_loss: 576.0309\n",
      "Epoch 113/200\n",
      "\u001B[1m18/18\u001B[0m \u001B[32m━━━━━━━━━━━━━━━━━━━━\u001B[0m\u001B[37m\u001B[0m \u001B[1m0s\u001B[0m 8ms/step - loss: 107.0406 - val_loss: 572.6229\n",
      "Epoch 114/200\n",
      "\u001B[1m18/18\u001B[0m \u001B[32m━━━━━━━━━━━━━━━━━━━━\u001B[0m\u001B[37m\u001B[0m \u001B[1m0s\u001B[0m 8ms/step - loss: 106.8823 - val_loss: 573.0873\n",
      "Epoch 115/200\n",
      "\u001B[1m18/18\u001B[0m \u001B[32m━━━━━━━━━━━━━━━━━━━━\u001B[0m\u001B[37m\u001B[0m \u001B[1m0s\u001B[0m 7ms/step - loss: 107.2244 - val_loss: 572.1464\n",
      "Epoch 116/200\n",
      "\u001B[1m18/18\u001B[0m \u001B[32m━━━━━━━━━━━━━━━━━━━━\u001B[0m\u001B[37m\u001B[0m \u001B[1m0s\u001B[0m 8ms/step - loss: 106.9254 - val_loss: 571.8072\n",
      "Epoch 117/200\n",
      "\u001B[1m18/18\u001B[0m \u001B[32m━━━━━━━━━━━━━━━━━━━━\u001B[0m\u001B[37m\u001B[0m \u001B[1m0s\u001B[0m 7ms/step - loss: 106.7813 - val_loss: 572.0276\n",
      "Epoch 118/200\n",
      "\u001B[1m18/18\u001B[0m \u001B[32m━━━━━━━━━━━━━━━━━━━━\u001B[0m\u001B[37m\u001B[0m \u001B[1m0s\u001B[0m 8ms/step - loss: 107.0224 - val_loss: 573.2737\n",
      "Epoch 119/200\n",
      "\u001B[1m18/18\u001B[0m \u001B[32m━━━━━━━━━━━━━━━━━━━━\u001B[0m\u001B[37m\u001B[0m \u001B[1m0s\u001B[0m 7ms/step - loss: 106.7001 - val_loss: 571.7818\n",
      "Epoch 120/200\n",
      "\u001B[1m18/18\u001B[0m \u001B[32m━━━━━━━━━━━━━━━━━━━━\u001B[0m\u001B[37m\u001B[0m \u001B[1m0s\u001B[0m 7ms/step - loss: 106.7182 - val_loss: 573.3118\n",
      "Epoch 121/200\n",
      "\u001B[1m18/18\u001B[0m \u001B[32m━━━━━━━━━━━━━━━━━━━━\u001B[0m\u001B[37m\u001B[0m \u001B[1m0s\u001B[0m 10ms/step - loss: 106.5383 - val_loss: 570.8854\n",
      "Epoch 122/200\n",
      "\u001B[1m18/18\u001B[0m \u001B[32m━━━━━━━━━━━━━━━━━━━━\u001B[0m\u001B[37m\u001B[0m \u001B[1m0s\u001B[0m 10ms/step - loss: 106.5966 - val_loss: 570.2590\n",
      "Epoch 123/200\n",
      "\u001B[1m18/18\u001B[0m \u001B[32m━━━━━━━━━━━━━━━━━━━━\u001B[0m\u001B[37m\u001B[0m \u001B[1m0s\u001B[0m 9ms/step - loss: 106.6117 - val_loss: 571.0603\n",
      "Epoch 124/200\n",
      "\u001B[1m18/18\u001B[0m \u001B[32m━━━━━━━━━━━━━━━━━━━━\u001B[0m\u001B[37m\u001B[0m \u001B[1m0s\u001B[0m 9ms/step - loss: 106.5123 - val_loss: 571.1011\n",
      "Epoch 125/200\n",
      "\u001B[1m18/18\u001B[0m \u001B[32m━━━━━━━━━━━━━━━━━━━━\u001B[0m\u001B[37m\u001B[0m \u001B[1m0s\u001B[0m 10ms/step - loss: 106.3160 - val_loss: 570.9496\n",
      "Epoch 126/200\n",
      "\u001B[1m18/18\u001B[0m \u001B[32m━━━━━━━━━━━━━━━━━━━━\u001B[0m\u001B[37m\u001B[0m \u001B[1m0s\u001B[0m 8ms/step - loss: 106.3417 - val_loss: 571.3668\n",
      "Epoch 127/200\n",
      "\u001B[1m18/18\u001B[0m \u001B[32m━━━━━━━━━━━━━━━━━━━━\u001B[0m\u001B[37m\u001B[0m \u001B[1m0s\u001B[0m 7ms/step - loss: 106.2024 - val_loss: 570.9627\n",
      "Epoch 128/200\n",
      "\u001B[1m18/18\u001B[0m \u001B[32m━━━━━━━━━━━━━━━━━━━━\u001B[0m\u001B[37m\u001B[0m \u001B[1m0s\u001B[0m 7ms/step - loss: 106.6089 - val_loss: 573.2630\n",
      "Epoch 129/200\n",
      "\u001B[1m18/18\u001B[0m \u001B[32m━━━━━━━━━━━━━━━━━━━━\u001B[0m\u001B[37m\u001B[0m \u001B[1m0s\u001B[0m 8ms/step - loss: 106.0444 - val_loss: 570.8829\n",
      "Epoch 130/200\n",
      "\u001B[1m18/18\u001B[0m \u001B[32m━━━━━━━━━━━━━━━━━━━━\u001B[0m\u001B[37m\u001B[0m \u001B[1m0s\u001B[0m 7ms/step - loss: 106.5998 - val_loss: 571.2449\n",
      "Epoch 131/200\n",
      "\u001B[1m18/18\u001B[0m \u001B[32m━━━━━━━━━━━━━━━━━━━━\u001B[0m\u001B[37m\u001B[0m \u001B[1m0s\u001B[0m 9ms/step - loss: 106.1004 - val_loss: 570.8132\n",
      "Epoch 132/200\n",
      "\u001B[1m18/18\u001B[0m \u001B[32m━━━━━━━━━━━━━━━━━━━━\u001B[0m\u001B[37m\u001B[0m \u001B[1m0s\u001B[0m 10ms/step - loss: 105.9525 - val_loss: 570.2008\n",
      "Epoch 133/200\n",
      "\u001B[1m18/18\u001B[0m \u001B[32m━━━━━━━━━━━━━━━━━━━━\u001B[0m\u001B[37m\u001B[0m \u001B[1m0s\u001B[0m 7ms/step - loss: 106.3646 - val_loss: 570.9515\n",
      "Epoch 134/200\n",
      "\u001B[1m18/18\u001B[0m \u001B[32m━━━━━━━━━━━━━━━━━━━━\u001B[0m\u001B[37m\u001B[0m \u001B[1m0s\u001B[0m 8ms/step - loss: 106.1566 - val_loss: 574.0776\n",
      "Epoch 135/200\n",
      "\u001B[1m18/18\u001B[0m \u001B[32m━━━━━━━━━━━━━━━━━━━━\u001B[0m\u001B[37m\u001B[0m \u001B[1m0s\u001B[0m 7ms/step - loss: 105.8820 - val_loss: 570.3738\n",
      "Epoch 136/200\n",
      "\u001B[1m18/18\u001B[0m \u001B[32m━━━━━━━━━━━━━━━━━━━━\u001B[0m\u001B[37m\u001B[0m \u001B[1m0s\u001B[0m 7ms/step - loss: 106.9665 - val_loss: 571.3472\n",
      "Epoch 137/200\n",
      "\u001B[1m18/18\u001B[0m \u001B[32m━━━━━━━━━━━━━━━━━━━━\u001B[0m\u001B[37m\u001B[0m \u001B[1m0s\u001B[0m 8ms/step - loss: 106.5867 - val_loss: 570.6260\n",
      "Epoch 138/200\n",
      "\u001B[1m18/18\u001B[0m \u001B[32m━━━━━━━━━━━━━━━━━━━━\u001B[0m\u001B[37m\u001B[0m \u001B[1m0s\u001B[0m 10ms/step - loss: 106.0414 - val_loss: 568.9248\n",
      "Epoch 139/200\n",
      "\u001B[1m18/18\u001B[0m \u001B[32m━━━━━━━━━━━━━━━━━━━━\u001B[0m\u001B[37m\u001B[0m \u001B[1m0s\u001B[0m 7ms/step - loss: 106.0723 - val_loss: 571.0687\n",
      "Epoch 140/200\n",
      "\u001B[1m18/18\u001B[0m \u001B[32m━━━━━━━━━━━━━━━━━━━━\u001B[0m\u001B[37m\u001B[0m \u001B[1m0s\u001B[0m 9ms/step - loss: 105.7032 - val_loss: 569.6462\n",
      "Epoch 141/200\n",
      "\u001B[1m18/18\u001B[0m \u001B[32m━━━━━━━━━━━━━━━━━━━━\u001B[0m\u001B[37m\u001B[0m \u001B[1m0s\u001B[0m 9ms/step - loss: 106.8366 - val_loss: 570.0149\n",
      "Epoch 142/200\n",
      "\u001B[1m18/18\u001B[0m \u001B[32m━━━━━━━━━━━━━━━━━━━━\u001B[0m\u001B[37m\u001B[0m \u001B[1m0s\u001B[0m 9ms/step - loss: 105.9330 - val_loss: 569.2844\n",
      "Epoch 143/200\n",
      "\u001B[1m18/18\u001B[0m \u001B[32m━━━━━━━━━━━━━━━━━━━━\u001B[0m\u001B[37m\u001B[0m \u001B[1m0s\u001B[0m 10ms/step - loss: 105.7463 - val_loss: 571.0985\n",
      "Epoch 144/200\n",
      "\u001B[1m18/18\u001B[0m \u001B[32m━━━━━━━━━━━━━━━━━━━━\u001B[0m\u001B[37m\u001B[0m \u001B[1m0s\u001B[0m 14ms/step - loss: 105.8285 - val_loss: 570.5424\n",
      "Epoch 145/200\n",
      "\u001B[1m18/18\u001B[0m \u001B[32m━━━━━━━━━━━━━━━━━━━━\u001B[0m\u001B[37m\u001B[0m \u001B[1m0s\u001B[0m 13ms/step - loss: 105.5581 - val_loss: 573.4871\n",
      "Epoch 146/200\n",
      "\u001B[1m18/18\u001B[0m \u001B[32m━━━━━━━━━━━━━━━━━━━━\u001B[0m\u001B[37m\u001B[0m \u001B[1m0s\u001B[0m 18ms/step - loss: 107.4250 - val_loss: 568.7625\n",
      "Epoch 147/200\n",
      "\u001B[1m18/18\u001B[0m \u001B[32m━━━━━━━━━━━━━━━━━━━━\u001B[0m\u001B[37m\u001B[0m \u001B[1m0s\u001B[0m 19ms/step - loss: 105.6167 - val_loss: 566.9976\n",
      "Epoch 148/200\n",
      "\u001B[1m18/18\u001B[0m \u001B[32m━━━━━━━━━━━━━━━━━━━━\u001B[0m\u001B[37m\u001B[0m \u001B[1m0s\u001B[0m 14ms/step - loss: 105.9685 - val_loss: 568.6179\n",
      "Epoch 149/200\n",
      "\u001B[1m18/18\u001B[0m \u001B[32m━━━━━━━━━━━━━━━━━━━━\u001B[0m\u001B[37m\u001B[0m \u001B[1m0s\u001B[0m 10ms/step - loss: 105.5669 - val_loss: 569.2316\n",
      "Epoch 150/200\n",
      "\u001B[1m18/18\u001B[0m \u001B[32m━━━━━━━━━━━━━━━━━━━━\u001B[0m\u001B[37m\u001B[0m \u001B[1m0s\u001B[0m 10ms/step - loss: 105.5392 - val_loss: 569.1462\n",
      "Epoch 151/200\n",
      "\u001B[1m18/18\u001B[0m \u001B[32m━━━━━━━━━━━━━━━━━━━━\u001B[0m\u001B[37m\u001B[0m \u001B[1m0s\u001B[0m 10ms/step - loss: 105.5099 - val_loss: 569.6836\n",
      "Epoch 152/200\n",
      "\u001B[1m18/18\u001B[0m \u001B[32m━━━━━━━━━━━━━━━━━━━━\u001B[0m\u001B[37m\u001B[0m \u001B[1m0s\u001B[0m 8ms/step - loss: 105.3913 - val_loss: 569.0577\n",
      "Epoch 153/200\n",
      "\u001B[1m18/18\u001B[0m \u001B[32m━━━━━━━━━━━━━━━━━━━━\u001B[0m\u001B[37m\u001B[0m \u001B[1m0s\u001B[0m 7ms/step - loss: 105.5084 - val_loss: 569.2798\n",
      "Epoch 154/200\n",
      "\u001B[1m18/18\u001B[0m \u001B[32m━━━━━━━━━━━━━━━━━━━━\u001B[0m\u001B[37m\u001B[0m \u001B[1m0s\u001B[0m 7ms/step - loss: 105.6165 - val_loss: 570.6246\n",
      "Epoch 155/200\n",
      "\u001B[1m18/18\u001B[0m \u001B[32m━━━━━━━━━━━━━━━━━━━━\u001B[0m\u001B[37m\u001B[0m \u001B[1m0s\u001B[0m 8ms/step - loss: 105.6511 - val_loss: 567.8629\n",
      "Epoch 156/200\n",
      "\u001B[1m18/18\u001B[0m \u001B[32m━━━━━━━━━━━━━━━━━━━━\u001B[0m\u001B[37m\u001B[0m \u001B[1m0s\u001B[0m 9ms/step - loss: 105.6268 - val_loss: 569.0903\n",
      "Epoch 157/200\n",
      "\u001B[1m18/18\u001B[0m \u001B[32m━━━━━━━━━━━━━━━━━━━━\u001B[0m\u001B[37m\u001B[0m \u001B[1m0s\u001B[0m 9ms/step - loss: 105.2230 - val_loss: 567.9772\n",
      "Epoch 158/200\n",
      "\u001B[1m18/18\u001B[0m \u001B[32m━━━━━━━━━━━━━━━━━━━━\u001B[0m\u001B[37m\u001B[0m \u001B[1m0s\u001B[0m 14ms/step - loss: 106.2027 - val_loss: 568.9576\n",
      "Epoch 159/200\n",
      "\u001B[1m18/18\u001B[0m \u001B[32m━━━━━━━━━━━━━━━━━━━━\u001B[0m\u001B[37m\u001B[0m \u001B[1m0s\u001B[0m 14ms/step - loss: 105.1987 - val_loss: 570.5721\n",
      "Epoch 160/200\n",
      "\u001B[1m18/18\u001B[0m \u001B[32m━━━━━━━━━━━━━━━━━━━━\u001B[0m\u001B[37m\u001B[0m \u001B[1m0s\u001B[0m 13ms/step - loss: 107.1954 - val_loss: 573.0101\n",
      "Epoch 161/200\n",
      "\u001B[1m18/18\u001B[0m \u001B[32m━━━━━━━━━━━━━━━━━━━━\u001B[0m\u001B[37m\u001B[0m \u001B[1m0s\u001B[0m 14ms/step - loss: 105.7971 - val_loss: 566.2022\n",
      "Epoch 162/200\n",
      "\u001B[1m18/18\u001B[0m \u001B[32m━━━━━━━━━━━━━━━━━━━━\u001B[0m\u001B[37m\u001B[0m \u001B[1m0s\u001B[0m 12ms/step - loss: 105.2318 - val_loss: 566.2565\n",
      "Epoch 163/200\n",
      "\u001B[1m18/18\u001B[0m \u001B[32m━━━━━━━━━━━━━━━━━━━━\u001B[0m\u001B[37m\u001B[0m \u001B[1m0s\u001B[0m 12ms/step - loss: 105.6128 - val_loss: 568.0253\n",
      "Epoch 164/200\n",
      "\u001B[1m18/18\u001B[0m \u001B[32m━━━━━━━━━━━━━━━━━━━━\u001B[0m\u001B[37m\u001B[0m \u001B[1m0s\u001B[0m 14ms/step - loss: 105.2682 - val_loss: 566.5960\n",
      "Epoch 165/200\n",
      "\u001B[1m18/18\u001B[0m \u001B[32m━━━━━━━━━━━━━━━━━━━━\u001B[0m\u001B[37m\u001B[0m \u001B[1m0s\u001B[0m 14ms/step - loss: 105.2975 - val_loss: 567.8518\n",
      "Epoch 166/200\n",
      "\u001B[1m18/18\u001B[0m \u001B[32m━━━━━━━━━━━━━━━━━━━━\u001B[0m\u001B[37m\u001B[0m \u001B[1m0s\u001B[0m 19ms/step - loss: 105.3303 - val_loss: 566.0253\n",
      "Epoch 167/200\n",
      "\u001B[1m18/18\u001B[0m \u001B[32m━━━━━━━━━━━━━━━━━━━━\u001B[0m\u001B[37m\u001B[0m \u001B[1m0s\u001B[0m 15ms/step - loss: 105.1272 - val_loss: 565.9952\n",
      "Epoch 168/200\n",
      "\u001B[1m18/18\u001B[0m \u001B[32m━━━━━━━━━━━━━━━━━━━━\u001B[0m\u001B[37m\u001B[0m \u001B[1m0s\u001B[0m 13ms/step - loss: 105.2045 - val_loss: 566.1498\n",
      "Epoch 169/200\n",
      "\u001B[1m18/18\u001B[0m \u001B[32m━━━━━━━━━━━━━━━━━━━━\u001B[0m\u001B[37m\u001B[0m \u001B[1m0s\u001B[0m 15ms/step - loss: 105.1724 - val_loss: 567.3923\n",
      "Epoch 170/200\n",
      "\u001B[1m18/18\u001B[0m \u001B[32m━━━━━━━━━━━━━━━━━━━━\u001B[0m\u001B[37m\u001B[0m \u001B[1m0s\u001B[0m 14ms/step - loss: 105.1814 - val_loss: 566.6269\n",
      "Epoch 171/200\n",
      "\u001B[1m18/18\u001B[0m \u001B[32m━━━━━━━━━━━━━━━━━━━━\u001B[0m\u001B[37m\u001B[0m \u001B[1m0s\u001B[0m 15ms/step - loss: 105.0615 - val_loss: 566.4518\n",
      "Epoch 172/200\n",
      "\u001B[1m18/18\u001B[0m \u001B[32m━━━━━━━━━━━━━━━━━━━━\u001B[0m\u001B[37m\u001B[0m \u001B[1m1s\u001B[0m 27ms/step - loss: 105.0765 - val_loss: 565.5571\n",
      "Epoch 173/200\n",
      "\u001B[1m18/18\u001B[0m \u001B[32m━━━━━━━━━━━━━━━━━━━━\u001B[0m\u001B[37m\u001B[0m \u001B[1m0s\u001B[0m 13ms/step - loss: 105.1046 - val_loss: 568.2708\n",
      "Epoch 174/200\n",
      "\u001B[1m18/18\u001B[0m \u001B[32m━━━━━━━━━━━━━━━━━━━━\u001B[0m\u001B[37m\u001B[0m \u001B[1m0s\u001B[0m 16ms/step - loss: 104.9001 - val_loss: 565.6642\n",
      "Epoch 175/200\n",
      "\u001B[1m18/18\u001B[0m \u001B[32m━━━━━━━━━━━━━━━━━━━━\u001B[0m\u001B[37m\u001B[0m \u001B[1m0s\u001B[0m 12ms/step - loss: 105.2621 - val_loss: 567.5740\n",
      "Epoch 176/200\n",
      "\u001B[1m18/18\u001B[0m \u001B[32m━━━━━━━━━━━━━━━━━━━━\u001B[0m\u001B[37m\u001B[0m \u001B[1m0s\u001B[0m 14ms/step - loss: 105.2333 - val_loss: 566.6748\n",
      "Epoch 177/200\n",
      "\u001B[1m18/18\u001B[0m \u001B[32m━━━━━━━━━━━━━━━━━━━━\u001B[0m\u001B[37m\u001B[0m \u001B[1m0s\u001B[0m 18ms/step - loss: 105.1406 - val_loss: 564.4665\n",
      "Epoch 178/200\n",
      "\u001B[1m18/18\u001B[0m \u001B[32m━━━━━━━━━━━━━━━━━━━━\u001B[0m\u001B[37m\u001B[0m \u001B[1m0s\u001B[0m 9ms/step - loss: 104.9844 - val_loss: 566.7190\n",
      "Epoch 179/200\n",
      "\u001B[1m18/18\u001B[0m \u001B[32m━━━━━━━━━━━━━━━━━━━━\u001B[0m\u001B[37m\u001B[0m \u001B[1m0s\u001B[0m 8ms/step - loss: 104.8891 - val_loss: 565.7895\n",
      "Epoch 180/200\n",
      "\u001B[1m18/18\u001B[0m \u001B[32m━━━━━━━━━━━━━━━━━━━━\u001B[0m\u001B[37m\u001B[0m \u001B[1m0s\u001B[0m 8ms/step - loss: 105.0277 - val_loss: 564.7146\n",
      "Epoch 181/200\n",
      "\u001B[1m18/18\u001B[0m \u001B[32m━━━━━━━━━━━━━━━━━━━━\u001B[0m\u001B[37m\u001B[0m \u001B[1m0s\u001B[0m 8ms/step - loss: 104.9693 - val_loss: 566.1403\n",
      "Epoch 182/200\n",
      "\u001B[1m18/18\u001B[0m \u001B[32m━━━━━━━━━━━━━━━━━━━━\u001B[0m\u001B[37m\u001B[0m \u001B[1m0s\u001B[0m 11ms/step - loss: 104.8950 - val_loss: 564.2704\n",
      "Epoch 183/200\n",
      "\u001B[1m18/18\u001B[0m \u001B[32m━━━━━━━━━━━━━━━━━━━━\u001B[0m\u001B[37m\u001B[0m \u001B[1m0s\u001B[0m 8ms/step - loss: 104.9664 - val_loss: 564.6476\n",
      "Epoch 184/200\n",
      "\u001B[1m18/18\u001B[0m \u001B[32m━━━━━━━━━━━━━━━━━━━━\u001B[0m\u001B[37m\u001B[0m \u001B[1m0s\u001B[0m 8ms/step - loss: 104.8985 - val_loss: 565.8931\n",
      "Epoch 185/200\n",
      "\u001B[1m18/18\u001B[0m \u001B[32m━━━━━━━━━━━━━━━━━━━━\u001B[0m\u001B[37m\u001B[0m \u001B[1m0s\u001B[0m 8ms/step - loss: 104.7294 - val_loss: 565.2979\n",
      "Epoch 186/200\n",
      "\u001B[1m18/18\u001B[0m \u001B[32m━━━━━━━━━━━━━━━━━━━━\u001B[0m\u001B[37m\u001B[0m \u001B[1m0s\u001B[0m 10ms/step - loss: 105.3613 - val_loss: 565.4426\n",
      "Epoch 187/200\n",
      "\u001B[1m18/18\u001B[0m \u001B[32m━━━━━━━━━━━━━━━━━━━━\u001B[0m\u001B[37m\u001B[0m \u001B[1m0s\u001B[0m 12ms/step - loss: 104.7225 - val_loss: 565.0479\n",
      "Epoch 188/200\n",
      "\u001B[1m18/18\u001B[0m \u001B[32m━━━━━━━━━━━━━━━━━━━━\u001B[0m\u001B[37m\u001B[0m \u001B[1m0s\u001B[0m 13ms/step - loss: 104.8662 - val_loss: 566.5364\n",
      "Epoch 189/200\n",
      "\u001B[1m18/18\u001B[0m \u001B[32m━━━━━━━━━━━━━━━━━━━━\u001B[0m\u001B[37m\u001B[0m \u001B[1m0s\u001B[0m 11ms/step - loss: 104.6833 - val_loss: 564.5585\n",
      "Epoch 190/200\n",
      "\u001B[1m18/18\u001B[0m \u001B[32m━━━━━━━━━━━━━━━━━━━━\u001B[0m\u001B[37m\u001B[0m \u001B[1m0s\u001B[0m 11ms/step - loss: 104.9074 - val_loss: 564.7885\n",
      "Epoch 191/200\n",
      "\u001B[1m18/18\u001B[0m \u001B[32m━━━━━━━━━━━━━━━━━━━━\u001B[0m\u001B[37m\u001B[0m \u001B[1m0s\u001B[0m 12ms/step - loss: 104.7501 - val_loss: 565.7968\n",
      "Epoch 192/200\n",
      "\u001B[1m18/18\u001B[0m \u001B[32m━━━━━━━━━━━━━━━━━━━━\u001B[0m\u001B[37m\u001B[0m \u001B[1m0s\u001B[0m 10ms/step - loss: 104.8466 - val_loss: 564.6333\n",
      "Epoch 193/200\n",
      "\u001B[1m18/18\u001B[0m \u001B[32m━━━━━━━━━━━━━━━━━━━━\u001B[0m\u001B[37m\u001B[0m \u001B[1m0s\u001B[0m 11ms/step - loss: 104.6743 - val_loss: 565.2496\n",
      "Epoch 194/200\n",
      "\u001B[1m18/18\u001B[0m \u001B[32m━━━━━━━━━━━━━━━━━━━━\u001B[0m\u001B[37m\u001B[0m \u001B[1m0s\u001B[0m 13ms/step - loss: 105.0108 - val_loss: 565.5761\n",
      "Epoch 195/200\n",
      "\u001B[1m18/18\u001B[0m \u001B[32m━━━━━━━━━━━━━━━━━━━━\u001B[0m\u001B[37m\u001B[0m \u001B[1m0s\u001B[0m 12ms/step - loss: 104.7574 - val_loss: 564.8800\n",
      "Epoch 196/200\n",
      "\u001B[1m18/18\u001B[0m \u001B[32m━━━━━━━━━━━━━━━━━━━━\u001B[0m\u001B[37m\u001B[0m \u001B[1m0s\u001B[0m 13ms/step - loss: 104.7474 - val_loss: 565.5657\n",
      "Epoch 197/200\n",
      "\u001B[1m18/18\u001B[0m \u001B[32m━━━━━━━━━━━━━━━━━━━━\u001B[0m\u001B[37m\u001B[0m \u001B[1m0s\u001B[0m 13ms/step - loss: 104.6541 - val_loss: 567.9576\n",
      "Epoch 198/200\n",
      "\u001B[1m18/18\u001B[0m \u001B[32m━━━━━━━━━━━━━━━━━━━━\u001B[0m\u001B[37m\u001B[0m \u001B[1m0s\u001B[0m 12ms/step - loss: 105.9371 - val_loss: 567.0753\n",
      "Epoch 199/200\n",
      "\u001B[1m18/18\u001B[0m \u001B[32m━━━━━━━━━━━━━━━━━━━━\u001B[0m\u001B[37m\u001B[0m \u001B[1m0s\u001B[0m 12ms/step - loss: 104.5616 - val_loss: 567.9369\n",
      "Epoch 200/200\n",
      "\u001B[1m18/18\u001B[0m \u001B[32m━━━━━━━━━━━━━━━━━━━━\u001B[0m\u001B[37m\u001B[0m \u001B[1m0s\u001B[0m 11ms/step - loss: 105.4113 - val_loss: 564.9589\n"
     ]
    },
    {
     "data": {
      "text/plain": [
       "<keras.src.callbacks.history.History at 0x1a316c4e990>"
      ]
     },
     "execution_count": 62,
     "metadata": {},
     "output_type": "execute_result"
    }
   ],
   "execution_count": 62
  },
  {
   "metadata": {
    "ExecuteTime": {
     "end_time": "2025-07-22T09:03:38.845943Z",
     "start_time": "2025-07-22T09:03:38.696046Z"
    }
   },
   "cell_type": "code",
   "source": "model_5.evaluate(test_windows, test_labels)\n",
   "id": "dd6ebc94a7436619",
   "outputs": [
    {
     "name": "stdout",
     "output_type": "stream",
     "text": [
      "\u001B[1m18/18\u001B[0m \u001B[32m━━━━━━━━━━━━━━━━━━━━\u001B[0m\u001B[37m\u001B[0m \u001B[1m0s\u001B[0m 4ms/step - loss: 281.3625 \n"
     ]
    },
    {
     "data": {
      "text/plain": [
       "564.9589233398438"
      ]
     },
     "execution_count": 63,
     "metadata": {},
     "output_type": "execute_result"
    }
   ],
   "execution_count": 63
  },
  {
   "metadata": {
    "ExecuteTime": {
     "end_time": "2025-07-22T09:03:39.412604Z",
     "start_time": "2025-07-22T09:03:38.956500Z"
    }
   },
   "cell_type": "code",
   "source": "model_5_preds = make_preds(model_5, test_windows)",
   "id": "db0af047f4c7440f",
   "outputs": [
    {
     "name": "stdout",
     "output_type": "stream",
     "text": [
      "\u001B[1m18/18\u001B[0m \u001B[32m━━━━━━━━━━━━━━━━━━━━\u001B[0m\u001B[37m\u001B[0m \u001B[1m0s\u001B[0m 12ms/step\n"
     ]
    }
   ],
   "execution_count": 64
  },
  {
   "metadata": {
    "ExecuteTime": {
     "end_time": "2025-07-22T09:03:39.493159Z",
     "start_time": "2025-07-22T09:03:39.473760Z"
    }
   },
   "cell_type": "code",
   "source": [
    "model_5_results = evaluate_preds(y_true=tf.squeeze(test_labels), y_pred=model_5_preds)\n",
    "model_5_results\n"
   ],
   "id": "7e0f5bd8ef82f5aa",
   "outputs": [
    {
     "data": {
      "text/plain": [
       "{'mae': 564.9589,\n",
       " 'mse': 1158032.0,\n",
       " 'rmse': 1076.1189,\n",
       " 'mape': 2.5321016,\n",
       " 'mase': 0.99247634}"
      ]
     },
     "execution_count": 65,
     "metadata": {},
     "output_type": "execute_result"
    }
   ],
   "execution_count": 65
  },
  {
   "metadata": {
    "ExecuteTime": {
     "end_time": "2025-07-22T09:03:39.556317Z",
     "start_time": "2025-07-22T09:03:39.542722Z"
    }
   },
   "cell_type": "code",
   "source": "naive_results",
   "id": "b1f68882c7add559",
   "outputs": [
    {
     "data": {
      "text/plain": [
       "{'mae': 567.9802,\n",
       " 'mse': 1147547.0,\n",
       " 'rmse': 1071.2362,\n",
       " 'mape': 2.5165248,\n",
       " 'mase': 0.99957}"
      ]
     },
     "execution_count": 66,
     "metadata": {},
     "output_type": "execute_result"
    }
   ],
   "execution_count": 66
  },
  {
   "metadata": {
    "ExecuteTime": {
     "end_time": "2025-07-22T09:03:39.679093Z",
     "start_time": "2025-07-22T09:03:39.674070Z"
    }
   },
   "cell_type": "code",
   "source": "## MULTIVARIATE",
   "id": "cd0a3f6765d4583",
   "outputs": [],
   "execution_count": 67
  },
  {
   "metadata": {
    "ExecuteTime": {
     "end_time": "2025-07-22T09:03:39.821905Z",
     "start_time": "2025-07-22T09:03:39.809536Z"
    }
   },
   "cell_type": "code",
   "source": "bitcoin_prices.head()",
   "id": "a4d94f8d1fe6701f",
   "outputs": [
    {
     "data": {
      "text/plain": [
       "                price\n",
       "Date                 \n",
       "2013-10-01  123.65499\n",
       "2013-10-02  125.45500\n",
       "2013-10-03  108.58483\n",
       "2013-10-04  118.67466\n",
       "2013-10-05  121.33866"
      ],
      "text/html": [
       "<div>\n",
       "<style scoped>\n",
       "    .dataframe tbody tr th:only-of-type {\n",
       "        vertical-align: middle;\n",
       "    }\n",
       "\n",
       "    .dataframe tbody tr th {\n",
       "        vertical-align: top;\n",
       "    }\n",
       "\n",
       "    .dataframe thead th {\n",
       "        text-align: right;\n",
       "    }\n",
       "</style>\n",
       "<table border=\"1\" class=\"dataframe\">\n",
       "  <thead>\n",
       "    <tr style=\"text-align: right;\">\n",
       "      <th></th>\n",
       "      <th>price</th>\n",
       "    </tr>\n",
       "    <tr>\n",
       "      <th>Date</th>\n",
       "      <th></th>\n",
       "    </tr>\n",
       "  </thead>\n",
       "  <tbody>\n",
       "    <tr>\n",
       "      <th>2013-10-01</th>\n",
       "      <td>123.65499</td>\n",
       "    </tr>\n",
       "    <tr>\n",
       "      <th>2013-10-02</th>\n",
       "      <td>125.45500</td>\n",
       "    </tr>\n",
       "    <tr>\n",
       "      <th>2013-10-03</th>\n",
       "      <td>108.58483</td>\n",
       "    </tr>\n",
       "    <tr>\n",
       "      <th>2013-10-04</th>\n",
       "      <td>118.67466</td>\n",
       "    </tr>\n",
       "    <tr>\n",
       "      <th>2013-10-05</th>\n",
       "      <td>121.33866</td>\n",
       "    </tr>\n",
       "  </tbody>\n",
       "</table>\n",
       "</div>"
      ]
     },
     "execution_count": 68,
     "metadata": {},
     "output_type": "execute_result"
    }
   ],
   "execution_count": 68
  },
  {
   "metadata": {
    "ExecuteTime": {
     "end_time": "2025-07-22T09:03:40.160771Z",
     "start_time": "2025-07-22T09:03:40.153585Z"
    }
   },
   "cell_type": "code",
   "source": [
    "#block reward date\n",
    "block_reward_1 = 50 # not in dataset\n",
    "block_reward_2 = 25 # 8.11.2012\n",
    "block_reward_3 = 12.5 # 9.7.206\n",
    "block_reward_4 = 6.25 # 18.5.2020\n",
    "\n",
    "#block reward dates\n",
    "block_reward_2_datetime = np.datetime64(\"2012-11-28\")\n",
    "block_reward_3_datetime = np.datetime64(\"2016-07-09\")\n",
    "block_reward_4_datetime = np.datetime64(\"2020-05-18\")\n",
    "\n",
    "block_reward_2_days = (block_reward_3_datetime - bitcoin_prices.index[0]).days\n",
    "block_reward_3_days = (block_reward_4_datetime - bitcoin_prices.index[0]).days\n"
   ],
   "id": "5a4a53250684a4b0",
   "outputs": [],
   "execution_count": 69
  },
  {
   "metadata": {
    "ExecuteTime": {
     "end_time": "2025-07-22T09:03:40.266037Z",
     "start_time": "2025-07-22T09:03:40.247379Z"
    }
   },
   "cell_type": "code",
   "source": [
    "bitcoin_prices_block = bitcoin_prices.copy()\n",
    "bitcoin_prices_block[\"block_reward\"] = None\n",
    "bitcoin_prices_block.iloc[:block_reward_2_days, -1] = block_reward_2\n",
    "bitcoin_prices_block.iloc[block_reward_2_days:block_reward_3_days, -1] = block_reward_3\n",
    "bitcoin_prices_block.iloc[block_reward_3_days:, -1] = block_reward_4\n",
    "bitcoin_prices_block "
   ],
   "id": "8d21d9ce0af34c97",
   "outputs": [
    {
     "data": {
      "text/plain": [
       "                   price block_reward\n",
       "Date                                 \n",
       "2013-10-01    123.654990           25\n",
       "2013-10-02    125.455000           25\n",
       "2013-10-03    108.584830           25\n",
       "2013-10-04    118.674660           25\n",
       "2013-10-05    121.338660           25\n",
       "...                  ...          ...\n",
       "2021-05-14  49764.132082         6.25\n",
       "2021-05-15  50032.693137         6.25\n",
       "2021-05-16  47885.625255         6.25\n",
       "2021-05-17  45604.615754         6.25\n",
       "2021-05-18  43144.471291         6.25\n",
       "\n",
       "[2787 rows x 2 columns]"
      ],
      "text/html": [
       "<div>\n",
       "<style scoped>\n",
       "    .dataframe tbody tr th:only-of-type {\n",
       "        vertical-align: middle;\n",
       "    }\n",
       "\n",
       "    .dataframe tbody tr th {\n",
       "        vertical-align: top;\n",
       "    }\n",
       "\n",
       "    .dataframe thead th {\n",
       "        text-align: right;\n",
       "    }\n",
       "</style>\n",
       "<table border=\"1\" class=\"dataframe\">\n",
       "  <thead>\n",
       "    <tr style=\"text-align: right;\">\n",
       "      <th></th>\n",
       "      <th>price</th>\n",
       "      <th>block_reward</th>\n",
       "    </tr>\n",
       "    <tr>\n",
       "      <th>Date</th>\n",
       "      <th></th>\n",
       "      <th></th>\n",
       "    </tr>\n",
       "  </thead>\n",
       "  <tbody>\n",
       "    <tr>\n",
       "      <th>2013-10-01</th>\n",
       "      <td>123.654990</td>\n",
       "      <td>25</td>\n",
       "    </tr>\n",
       "    <tr>\n",
       "      <th>2013-10-02</th>\n",
       "      <td>125.455000</td>\n",
       "      <td>25</td>\n",
       "    </tr>\n",
       "    <tr>\n",
       "      <th>2013-10-03</th>\n",
       "      <td>108.584830</td>\n",
       "      <td>25</td>\n",
       "    </tr>\n",
       "    <tr>\n",
       "      <th>2013-10-04</th>\n",
       "      <td>118.674660</td>\n",
       "      <td>25</td>\n",
       "    </tr>\n",
       "    <tr>\n",
       "      <th>2013-10-05</th>\n",
       "      <td>121.338660</td>\n",
       "      <td>25</td>\n",
       "    </tr>\n",
       "    <tr>\n",
       "      <th>...</th>\n",
       "      <td>...</td>\n",
       "      <td>...</td>\n",
       "    </tr>\n",
       "    <tr>\n",
       "      <th>2021-05-14</th>\n",
       "      <td>49764.132082</td>\n",
       "      <td>6.25</td>\n",
       "    </tr>\n",
       "    <tr>\n",
       "      <th>2021-05-15</th>\n",
       "      <td>50032.693137</td>\n",
       "      <td>6.25</td>\n",
       "    </tr>\n",
       "    <tr>\n",
       "      <th>2021-05-16</th>\n",
       "      <td>47885.625255</td>\n",
       "      <td>6.25</td>\n",
       "    </tr>\n",
       "    <tr>\n",
       "      <th>2021-05-17</th>\n",
       "      <td>45604.615754</td>\n",
       "      <td>6.25</td>\n",
       "    </tr>\n",
       "    <tr>\n",
       "      <th>2021-05-18</th>\n",
       "      <td>43144.471291</td>\n",
       "      <td>6.25</td>\n",
       "    </tr>\n",
       "  </tbody>\n",
       "</table>\n",
       "<p>2787 rows × 2 columns</p>\n",
       "</div>"
      ]
     },
     "execution_count": 70,
     "metadata": {},
     "output_type": "execute_result"
    }
   ],
   "execution_count": 70
  },
  {
   "metadata": {
    "ExecuteTime": {
     "end_time": "2025-07-22T09:03:41.010694Z",
     "start_time": "2025-07-22T09:03:40.634816Z"
    }
   },
   "cell_type": "code",
   "source": [
    "from sklearn.preprocessing import minmax_scale\n",
    "\n",
    "scaled_price_block_df = pd.DataFrame(\n",
    "    minmax_scale(bitcoin_prices_block[[\"price\", \"block_reward\"]]),\n",
    "    columns =bitcoin_prices_block.columns,\n",
    "    index = bitcoin_prices_block.index)\n",
    "\n",
    "scaled_price_block_df.plot(figsize=(10, 7))"
   ],
   "id": "6cd96e4e4a4b5d31",
   "outputs": [
    {
     "data": {
      "text/plain": [
       "<Axes: xlabel='Date'>"
      ]
     },
     "execution_count": 71,
     "metadata": {},
     "output_type": "execute_result"
    },
    {
     "data": {
      "text/plain": [
       "<Figure size 1000x700 with 1 Axes>"
      ],
      "image/png": "[encoded data removed]"
     },
     "metadata": {},
     "output_type": "display_data"
    }
   ],
   "execution_count": 71
  },
  {
   "metadata": {
    "ExecuteTime": {
     "end_time": "2025-07-22T09:03:41.333725Z",
     "start_time": "2025-07-22T09:03:41.316772Z"
    }
   },
   "cell_type": "code",
   "source": [
    "HORIZON = 1\n",
    "WINDOW_SIZE = 7\n",
    "\n",
    "bitcoin_prices_windowed = bitcoin_prices_block.copy()\n",
    "\n",
    "\n",
    "for i in range(WINDOW_SIZE): # shift values for each step in WINDOW SIZE\n",
    "    bitcoin_prices_windowed[f\"price_{i+1}\"] = (\n",
    "        bitcoin_prices_windowed[f\"price\"].shift(periods=i+1))\n",
    "\n",
    "bitcoin_prices_windowed"
   ],
   "id": "d6530bdfe0ede414",
   "outputs": [
    {
     "data": {
      "text/plain": [
       "                   price block_reward       price_1       price_2  \\\n",
       "Date                                                                \n",
       "2013-10-01    123.654990           25           NaN           NaN   \n",
       "2013-10-02    125.455000           25    123.654990           NaN   \n",
       "2013-10-03    108.584830           25    125.455000    123.654990   \n",
       "2013-10-04    118.674660           25    108.584830    125.455000   \n",
       "2013-10-05    121.338660           25    118.674660    108.584830   \n",
       "...                  ...          ...           ...           ...   \n",
       "2021-05-14  49764.132082         6.25  52147.821187  56573.555472   \n",
       "2021-05-15  50032.693137         6.25  49764.132082  52147.821187   \n",
       "2021-05-16  47885.625255         6.25  50032.693137  49764.132082   \n",
       "2021-05-17  45604.615754         6.25  47885.625255  50032.693137   \n",
       "2021-05-18  43144.471291         6.25  45604.615754  47885.625255   \n",
       "\n",
       "                 price_3       price_4       price_5       price_6  \\\n",
       "Date                                                                 \n",
       "2013-10-01           NaN           NaN           NaN           NaN   \n",
       "2013-10-02           NaN           NaN           NaN           NaN   \n",
       "2013-10-03           NaN           NaN           NaN           NaN   \n",
       "2013-10-04    123.654990           NaN           NaN           NaN   \n",
       "2013-10-05    125.455000    123.654990           NaN           NaN   \n",
       "...                  ...           ...           ...           ...   \n",
       "2021-05-14  55715.546651  58102.191426  58788.209679  57107.120672   \n",
       "2021-05-15  56573.555472  55715.546651  58102.191426  58788.209679   \n",
       "2021-05-16  52147.821187  56573.555472  55715.546651  58102.191426   \n",
       "2021-05-17  49764.132082  52147.821187  56573.555472  55715.546651   \n",
       "2021-05-18  50032.693137  49764.132082  52147.821187  56573.555472   \n",
       "\n",
       "                 price_7  \n",
       "Date                      \n",
       "2013-10-01           NaN  \n",
       "2013-10-02           NaN  \n",
       "2013-10-03           NaN  \n",
       "2013-10-04           NaN  \n",
       "2013-10-05           NaN  \n",
       "...                  ...  \n",
       "2021-05-14  56583.849879  \n",
       "2021-05-15  57107.120672  \n",
       "2021-05-16  58788.209679  \n",
       "2021-05-17  58102.191426  \n",
       "2021-05-18  55715.546651  \n",
       "\n",
       "[2787 rows x 9 columns]"
      ],
      "text/html": [
       "<div>\n",
       "<style scoped>\n",
       "    .dataframe tbody tr th:only-of-type {\n",
       "        vertical-align: middle;\n",
       "    }\n",
       "\n",
       "    .dataframe tbody tr th {\n",
       "        vertical-align: top;\n",
       "    }\n",
       "\n",
       "    .dataframe thead th {\n",
       "        text-align: right;\n",
       "    }\n",
       "</style>\n",
       "<table border=\"1\" class=\"dataframe\">\n",
       "  <thead>\n",
       "    <tr style=\"text-align: right;\">\n",
       "      <th></th>\n",
       "      <th>price</th>\n",
       "      <th>block_reward</th>\n",
       "      <th>price_1</th>\n",
       "      <th>price_2</th>\n",
       "      <th>price_3</th>\n",
       "      <th>price_4</th>\n",
       "      <th>price_5</th>\n",
       "      <th>price_6</th>\n",
       "      <th>price_7</th>\n",
       "    </tr>\n",
       "    <tr>\n",
       "      <th>Date</th>\n",
       "      <th></th>\n",
       "      <th></th>\n",
       "      <th></th>\n",
       "      <th></th>\n",
       "      <th></th>\n",
       "      <th></th>\n",
       "      <th></th>\n",
       "      <th></th>\n",
       "      <th></th>\n",
       "    </tr>\n",
       "  </thead>\n",
       "  <tbody>\n",
       "    <tr>\n",
       "      <th>2013-10-01</th>\n",
       "      <td>123.654990</td>\n",
       "      <td>25</td>\n",
       "      <td>NaN</td>\n",
       "      <td>NaN</td>\n",
       "      <td>NaN</td>\n",
       "      <td>NaN</td>\n",
       "      <td>NaN</td>\n",
       "      <td>NaN</td>\n",
       "      <td>NaN</td>\n",
       "    </tr>\n",
       "    <tr>\n",
       "      <th>2013-10-02</th>\n",
       "      <td>125.455000</td>\n",
       "      <td>25</td>\n",
       "      <td>123.654990</td>\n",
       "      <td>NaN</td>\n",
       "      <td>NaN</td>\n",
       "      <td>NaN</td>\n",
       "      <td>NaN</td>\n",
       "      <td>NaN</td>\n",
       "      <td>NaN</td>\n",
       "    </tr>\n",
       "    <tr>\n",
       "      <th>2013-10-03</th>\n",
       "      <td>108.584830</td>\n",
       "      <td>25</td>\n",
       "      <td>125.455000</td>\n",
       "      <td>123.654990</td>\n",
       "      <td>NaN</td>\n",
       "      <td>NaN</td>\n",
       "      <td>NaN</td>\n",
       "      <td>NaN</td>\n",
       "      <td>NaN</td>\n",
       "    </tr>\n",
       "    <tr>\n",
       "      <th>2013-10-04</th>\n",
       "      <td>118.674660</td>\n",
       "      <td>25</td>\n",
       "      <td>108.584830</td>\n",
       "      <td>125.455000</td>\n",
       "      <td>123.654990</td>\n",
       "      <td>NaN</td>\n",
       "      <td>NaN</td>\n",
       "      <td>NaN</td>\n",
       "      <td>NaN</td>\n",
       "    </tr>\n",
       "    <tr>\n",
       "      <th>2013-10-05</th>\n",
       "      <td>121.338660</td>\n",
       "      <td>25</td>\n",
       "      <td>118.674660</td>\n",
       "      <td>108.584830</td>\n",
       "      <td>125.455000</td>\n",
       "      <td>123.654990</td>\n",
       "      <td>NaN</td>\n",
       "      <td>NaN</td>\n",
       "      <td>NaN</td>\n",
       "    </tr>\n",
       "    <tr>\n",
       "      <th>...</th>\n",
       "      <td>...</td>\n",
       "      <td>...</td>\n",
       "      <td>...</td>\n",
       "      <td>...</td>\n",
       "      <td>...</td>\n",
       "      <td>...</td>\n",
       "      <td>...</td>\n",
       "      <td>...</td>\n",
       "      <td>...</td>\n",
       "    </tr>\n",
       "    <tr>\n",
       "      <th>2021-05-14</th>\n",
       "      <td>49764.132082</td>\n",
       "      <td>6.25</td>\n",
       "      <td>52147.821187</td>\n",
       "      <td>56573.555472</td>\n",
       "      <td>55715.546651</td>\n",
       "      <td>58102.191426</td>\n",
       "      <td>58788.209679</td>\n",
       "      <td>57107.120672</td>\n",
       "      <td>56583.849879</td>\n",
       "    </tr>\n",
       "    <tr>\n",
       "      <th>2021-05-15</th>\n",
       "      <td>50032.693137</td>\n",
       "      <td>6.25</td>\n",
       "      <td>49764.132082</td>\n",
       "      <td>52147.821187</td>\n",
       "      <td>56573.555472</td>\n",
       "      <td>55715.546651</td>\n",
       "      <td>58102.191426</td>\n",
       "      <td>58788.209679</td>\n",
       "      <td>57107.120672</td>\n",
       "    </tr>\n",
       "    <tr>\n",
       "      <th>2021-05-16</th>\n",
       "      <td>47885.625255</td>\n",
       "      <td>6.25</td>\n",
       "      <td>50032.693137</td>\n",
       "      <td>49764.132082</td>\n",
       "      <td>52147.821187</td>\n",
       "      <td>56573.555472</td>\n",
       "      <td>55715.546651</td>\n",
       "      <td>58102.191426</td>\n",
       "      <td>58788.209679</td>\n",
       "    </tr>\n",
       "    <tr>\n",
       "      <th>2021-05-17</th>\n",
       "      <td>45604.615754</td>\n",
       "      <td>6.25</td>\n",
       "      <td>47885.625255</td>\n",
       "      <td>50032.693137</td>\n",
       "      <td>49764.132082</td>\n",
       "      <td>52147.821187</td>\n",
       "      <td>56573.555472</td>\n",
       "      <td>55715.546651</td>\n",
       "      <td>58102.191426</td>\n",
       "    </tr>\n",
       "    <tr>\n",
       "      <th>2021-05-18</th>\n",
       "      <td>43144.471291</td>\n",
       "      <td>6.25</td>\n",
       "      <td>45604.615754</td>\n",
       "      <td>47885.625255</td>\n",
       "      <td>50032.693137</td>\n",
       "      <td>49764.132082</td>\n",
       "      <td>52147.821187</td>\n",
       "      <td>56573.555472</td>\n",
       "      <td>55715.546651</td>\n",
       "    </tr>\n",
       "  </tbody>\n",
       "</table>\n",
       "<p>2787 rows × 9 columns</p>\n",
       "</div>"
      ]
     },
     "execution_count": 72,
     "metadata": {},
     "output_type": "execute_result"
    }
   ],
   "execution_count": 72
  },
  {
   "metadata": {
    "ExecuteTime": {
     "end_time": "2025-07-22T09:03:41.525693Z",
     "start_time": "2025-07-22T09:03:41.515754Z"
    }
   },
   "cell_type": "code",
   "source": [
    "X = bitcoin_prices_windowed.dropna().drop('price', axis=1).astype(np.float32)\n",
    "y = bitcoin_prices_windowed.dropna()['price'].astype(np.float32)"
   ],
   "id": "1bd375339392f4bc",
   "outputs": [],
   "execution_count": 73
  },
  {
   "metadata": {
    "ExecuteTime": {
     "end_time": "2025-07-22T09:03:42.013808Z",
     "start_time": "2025-07-22T09:03:42.006141Z"
    }
   },
   "cell_type": "code",
   "source": [
    "split_size = int(len(X) * 0.8)\n",
    "X_train, y_train = X[:split_size], y[:split_size]\n",
    "X_test, y_test = X[split_size:], y[split_size:]\n",
    "\n",
    "len(X_train), len(y_train), len(X_test), len(y_test)"
   ],
   "id": "ba7cff00323eed9a",
   "outputs": [
    {
     "data": {
      "text/plain": [
       "(2224, 2224, 556, 556)"
      ]
     },
     "execution_count": 74,
     "metadata": {},
     "output_type": "execute_result"
    }
   ],
   "execution_count": 74
  },
  {
   "metadata": {
    "ExecuteTime": {
     "end_time": "2025-07-22T09:03:42.245317Z",
     "start_time": "2025-07-22T09:03:42.214413Z"
    }
   },
   "cell_type": "code",
   "source": [
    "tf.random.set_seed(42)\n",
    "model_6 = tf.keras.Sequential([\n",
    "    layers.Dense(128, activation='relu'),\n",
    "   # layers.Dense(128, activation='relu'),\n",
    "    layers.Dense(HORIZON)\n",
    "], name=\"model_6_dense_multivariate\")\n",
    "\n",
    "model_6.compile(loss=\"mae\", \n",
    "                optimizer = tf.keras.optimizers.Adam())"
   ],
   "id": "c25f7bf32dd8c08c",
   "outputs": [],
   "execution_count": 75
  },
  {
   "metadata": {
    "ExecuteTime": {
     "end_time": "2025-07-22T09:04:18.268837Z",
     "start_time": "2025-07-22T09:03:42.489163Z"
    }
   },
   "cell_type": "code",
   "source": [
    "model_6.fit(x=X_train, y=y_train,\n",
    "            epochs=200,\n",
    "            batch_size=128,\n",
    "            verbose=1,\n",
    "            validation_data=(X_test, y_test),\n",
    "            callbacks=[create_model_checkpoint(model_name = model_6.name)])"
   ],
   "id": "19cc0f71e5836e06",
   "outputs": [
    {
     "name": "stdout",
     "output_type": "stream",
     "text": [
      "Epoch 1/200\n",
      "\u001B[1m18/18\u001B[0m \u001B[32m━━━━━━━━━━━━━━━━━━━━\u001B[0m\u001B[37m\u001B[0m \u001B[1m2s\u001B[0m 21ms/step - loss: 2023.6733 - val_loss: 1073.9980\n",
      "Epoch 2/200\n",
      "\u001B[1m18/18\u001B[0m \u001B[32m━━━━━━━━━━━━━━━━━━━━\u001B[0m\u001B[37m\u001B[0m \u001B[1m0s\u001B[0m 6ms/step - loss: 319.0971 - val_loss: 1588.9330\n",
      "Epoch 3/200\n",
      "\u001B[1m18/18\u001B[0m \u001B[32m━━━━━━━━━━━━━━━━━━━━\u001B[0m\u001B[37m\u001B[0m \u001B[1m0s\u001B[0m 7ms/step - loss: 228.6572 - val_loss: 1047.7341\n",
      "Epoch 4/200\n",
      "\u001B[1m18/18\u001B[0m \u001B[32m━━━━━━━━━━━━━━━━━━━━\u001B[0m\u001B[37m\u001B[0m \u001B[1m0s\u001B[0m 8ms/step - loss: 180.9698 - val_loss: 1043.8698\n",
      "Epoch 5/200\n",
      "\u001B[1m18/18\u001B[0m \u001B[32m━━━━━━━━━━━━━━━━━━━━\u001B[0m\u001B[37m\u001B[0m \u001B[1m0s\u001B[0m 9ms/step - loss: 176.5354 - val_loss: 1038.3313\n",
      "Epoch 6/200\n",
      "\u001B[1m18/18\u001B[0m \u001B[32m━━━━━━━━━━━━━━━━━━━━\u001B[0m\u001B[37m\u001B[0m \u001B[1m0s\u001B[0m 8ms/step - loss: 173.3362 - val_loss: 986.1425\n",
      "Epoch 7/200\n",
      "\u001B[1m18/18\u001B[0m \u001B[32m━━━━━━━━━━━━━━━━━━━━\u001B[0m\u001B[37m\u001B[0m \u001B[1m0s\u001B[0m 8ms/step - loss: 167.7579 - val_loss: 954.3995\n",
      "Epoch 8/200\n",
      "\u001B[1m18/18\u001B[0m \u001B[32m━━━━━━━━━━━━━━━━━━━━\u001B[0m\u001B[37m\u001B[0m \u001B[1m0s\u001B[0m 7ms/step - loss: 163.1476 - val_loss: 939.3274\n",
      "Epoch 9/200\n",
      "\u001B[1m18/18\u001B[0m \u001B[32m━━━━━━━━━━━━━━━━━━━━\u001B[0m\u001B[37m\u001B[0m \u001B[1m0s\u001B[0m 8ms/step - loss: 156.9778 - val_loss: 904.3625\n",
      "Epoch 10/200\n",
      "\u001B[1m18/18\u001B[0m \u001B[32m━━━━━━━━━━━━━━━━━━━━\u001B[0m\u001B[37m\u001B[0m \u001B[1m0s\u001B[0m 8ms/step - loss: 152.1113 - val_loss: 882.1310\n",
      "Epoch 11/200\n",
      "\u001B[1m18/18\u001B[0m \u001B[32m━━━━━━━━━━━━━━━━━━━━\u001B[0m\u001B[37m\u001B[0m \u001B[1m0s\u001B[0m 9ms/step - loss: 147.5397 - val_loss: 851.6783\n",
      "Epoch 12/200\n",
      "\u001B[1m18/18\u001B[0m \u001B[32m━━━━━━━━━━━━━━━━━━━━\u001B[0m\u001B[37m\u001B[0m \u001B[1m0s\u001B[0m 8ms/step - loss: 143.2694 - val_loss: 835.4184\n",
      "Epoch 13/200\n",
      "\u001B[1m18/18\u001B[0m \u001B[32m━━━━━━━━━━━━━━━━━━━━\u001B[0m\u001B[37m\u001B[0m \u001B[1m0s\u001B[0m 11ms/step - loss: 140.2890 - val_loss: 820.0181\n",
      "Epoch 14/200\n",
      "\u001B[1m18/18\u001B[0m \u001B[32m━━━━━━━━━━━━━━━━━━━━\u001B[0m\u001B[37m\u001B[0m \u001B[1m0s\u001B[0m 10ms/step - loss: 136.8957 - val_loss: 760.1839\n",
      "Epoch 15/200\n",
      "\u001B[1m18/18\u001B[0m \u001B[32m━━━━━━━━━━━━━━━━━━━━\u001B[0m\u001B[37m\u001B[0m \u001B[1m0s\u001B[0m 12ms/step - loss: 131.5609 - val_loss: 735.9047\n",
      "Epoch 16/200\n",
      "\u001B[1m18/18\u001B[0m \u001B[32m━━━━━━━━━━━━━━━━━━━━\u001B[0m\u001B[37m\u001B[0m \u001B[1m0s\u001B[0m 13ms/step - loss: 128.6319 - val_loss: 719.1043\n",
      "Epoch 17/200\n",
      "\u001B[1m18/18\u001B[0m \u001B[32m━━━━━━━━━━━━━━━━━━━━\u001B[0m\u001B[37m\u001B[0m \u001B[1m0s\u001B[0m 15ms/step - loss: 126.5803 - val_loss: 700.3361\n",
      "Epoch 18/200\n",
      "\u001B[1m18/18\u001B[0m \u001B[32m━━━━━━━━━━━━━━━━━━━━\u001B[0m\u001B[37m\u001B[0m \u001B[1m0s\u001B[0m 12ms/step - loss: 124.7728 - val_loss: 687.9667\n",
      "Epoch 19/200\n",
      "\u001B[1m18/18\u001B[0m \u001B[32m━━━━━━━━━━━━━━━━━━━━\u001B[0m\u001B[37m\u001B[0m \u001B[1m0s\u001B[0m 10ms/step - loss: 123.1774 - val_loss: 674.0148\n",
      "Epoch 20/200\n",
      "\u001B[1m18/18\u001B[0m \u001B[32m━━━━━━━━━━━━━━━━━━━━\u001B[0m\u001B[37m\u001B[0m \u001B[1m0s\u001B[0m 9ms/step - loss: 121.8971 - val_loss: 662.5020\n",
      "Epoch 21/200\n",
      "\u001B[1m18/18\u001B[0m \u001B[32m━━━━━━━━━━━━━━━━━━━━\u001B[0m\u001B[37m\u001B[0m \u001B[1m0s\u001B[0m 9ms/step - loss: 120.7991 - val_loss: 653.4760\n",
      "Epoch 22/200\n",
      "\u001B[1m18/18\u001B[0m \u001B[32m━━━━━━━━━━━━━━━━━━━━\u001B[0m\u001B[37m\u001B[0m \u001B[1m0s\u001B[0m 15ms/step - loss: 119.0413 - val_loss: 646.3925\n",
      "Epoch 23/200\n",
      "\u001B[1m18/18\u001B[0m \u001B[32m━━━━━━━━━━━━━━━━━━━━\u001B[0m\u001B[37m\u001B[0m \u001B[1m0s\u001B[0m 12ms/step - loss: 118.2071 - val_loss: 636.6339\n",
      "Epoch 24/200\n",
      "\u001B[1m18/18\u001B[0m \u001B[32m━━━━━━━━━━━━━━━━━━━━\u001B[0m\u001B[37m\u001B[0m \u001B[1m0s\u001B[0m 12ms/step - loss: 116.9667 - val_loss: 632.9698\n",
      "Epoch 25/200\n",
      "\u001B[1m18/18\u001B[0m \u001B[32m━━━━━━━━━━━━━━━━━━━━\u001B[0m\u001B[37m\u001B[0m \u001B[1m0s\u001B[0m 11ms/step - loss: 116.6098 - val_loss: 624.1011\n",
      "Epoch 26/200\n",
      "\u001B[1m18/18\u001B[0m \u001B[32m━━━━━━━━━━━━━━━━━━━━\u001B[0m\u001B[37m\u001B[0m \u001B[1m0s\u001B[0m 10ms/step - loss: 116.8310 - val_loss: 619.8754\n",
      "Epoch 27/200\n",
      "\u001B[1m18/18\u001B[0m \u001B[32m━━━━━━━━━━━━━━━━━━━━\u001B[0m\u001B[37m\u001B[0m \u001B[1m0s\u001B[0m 9ms/step - loss: 115.1802 - val_loss: 614.8147\n",
      "Epoch 28/200\n",
      "\u001B[1m18/18\u001B[0m \u001B[32m━━━━━━━━━━━━━━━━━━━━\u001B[0m\u001B[37m\u001B[0m \u001B[1m0s\u001B[0m 9ms/step - loss: 114.6758 - val_loss: 613.6271\n",
      "Epoch 29/200\n",
      "\u001B[1m18/18\u001B[0m \u001B[32m━━━━━━━━━━━━━━━━━━━━\u001B[0m\u001B[37m\u001B[0m \u001B[1m0s\u001B[0m 10ms/step - loss: 115.1250 - val_loss: 607.2276\n",
      "Epoch 30/200\n",
      "\u001B[1m18/18\u001B[0m \u001B[32m━━━━━━━━━━━━━━━━━━━━\u001B[0m\u001B[37m\u001B[0m \u001B[1m0s\u001B[0m 8ms/step - loss: 113.5081 - val_loss: 612.6633\n",
      "Epoch 31/200\n",
      "\u001B[1m18/18\u001B[0m \u001B[32m━━━━━━━━━━━━━━━━━━━━\u001B[0m\u001B[37m\u001B[0m \u001B[1m0s\u001B[0m 13ms/step - loss: 113.7235 - val_loss: 600.8076\n",
      "Epoch 32/200\n",
      "\u001B[1m18/18\u001B[0m \u001B[32m━━━━━━━━━━━━━━━━━━━━\u001B[0m\u001B[37m\u001B[0m \u001B[1m0s\u001B[0m 7ms/step - loss: 113.4140 - val_loss: 608.7629\n",
      "Epoch 33/200\n",
      "\u001B[1m18/18\u001B[0m \u001B[32m━━━━━━━━━━━━━━━━━━━━\u001B[0m\u001B[37m\u001B[0m \u001B[1m0s\u001B[0m 10ms/step - loss: 112.7345 - val_loss: 599.6047\n",
      "Epoch 34/200\n",
      "\u001B[1m18/18\u001B[0m \u001B[32m━━━━━━━━━━━━━━━━━━━━\u001B[0m\u001B[37m\u001B[0m \u001B[1m0s\u001B[0m 6ms/step - loss: 112.8098 - val_loss: 601.4709\n",
      "Epoch 35/200\n",
      "\u001B[1m18/18\u001B[0m \u001B[32m━━━━━━━━━━━━━━━━━━━━\u001B[0m\u001B[37m\u001B[0m \u001B[1m0s\u001B[0m 13ms/step - loss: 111.8719 - val_loss: 597.9095\n",
      "Epoch 36/200\n",
      "\u001B[1m18/18\u001B[0m \u001B[32m━━━━━━━━━━━━━━━━━━━━\u001B[0m\u001B[37m\u001B[0m \u001B[1m0s\u001B[0m 9ms/step - loss: 112.2354 - val_loss: 599.1212\n",
      "Epoch 37/200\n",
      "\u001B[1m18/18\u001B[0m \u001B[32m━━━━━━━━━━━━━━━━━━━━\u001B[0m\u001B[37m\u001B[0m \u001B[1m0s\u001B[0m 8ms/step - loss: 111.3682 - val_loss: 603.8790\n",
      "Epoch 38/200\n",
      "\u001B[1m18/18\u001B[0m \u001B[32m━━━━━━━━━━━━━━━━━━━━\u001B[0m\u001B[37m\u001B[0m \u001B[1m0s\u001B[0m 9ms/step - loss: 112.0037 - val_loss: 595.9151\n",
      "Epoch 39/200\n",
      "\u001B[1m18/18\u001B[0m \u001B[32m━━━━━━━━━━━━━━━━━━━━\u001B[0m\u001B[37m\u001B[0m \u001B[1m0s\u001B[0m 9ms/step - loss: 110.6455 - val_loss: 590.7036\n",
      "Epoch 40/200\n",
      "\u001B[1m18/18\u001B[0m \u001B[32m━━━━━━━━━━━━━━━━━━━━\u001B[0m\u001B[37m\u001B[0m \u001B[1m0s\u001B[0m 8ms/step - loss: 112.9202 - val_loss: 597.3994\n",
      "Epoch 41/200\n",
      "\u001B[1m18/18\u001B[0m \u001B[32m━━━━━━━━━━━━━━━━━━━━\u001B[0m\u001B[37m\u001B[0m \u001B[1m0s\u001B[0m 6ms/step - loss: 110.9038 - val_loss: 596.0690\n",
      "Epoch 42/200\n",
      "\u001B[1m18/18\u001B[0m \u001B[32m━━━━━━━━━━━━━━━━━━━━\u001B[0m\u001B[37m\u001B[0m \u001B[1m0s\u001B[0m 6ms/step - loss: 110.5033 - val_loss: 591.4318\n",
      "Epoch 43/200\n",
      "\u001B[1m18/18\u001B[0m \u001B[32m━━━━━━━━━━━━━━━━━━━━\u001B[0m\u001B[37m\u001B[0m \u001B[1m0s\u001B[0m 8ms/step - loss: 110.6627 - val_loss: 586.1324\n",
      "Epoch 44/200\n",
      "\u001B[1m18/18\u001B[0m \u001B[32m━━━━━━━━━━━━━━━━━━━━\u001B[0m\u001B[37m\u001B[0m \u001B[1m0s\u001B[0m 6ms/step - loss: 110.1592 - val_loss: 587.7501\n",
      "Epoch 45/200\n",
      "\u001B[1m18/18\u001B[0m \u001B[32m━━━━━━━━━━━━━━━━━━━━\u001B[0m\u001B[37m\u001B[0m \u001B[1m0s\u001B[0m 7ms/step - loss: 110.0463 - val_loss: 590.4567\n",
      "Epoch 46/200\n",
      "\u001B[1m18/18\u001B[0m \u001B[32m━━━━━━━━━━━━━━━━━━━━\u001B[0m\u001B[37m\u001B[0m \u001B[1m0s\u001B[0m 6ms/step - loss: 110.0050 - val_loss: 590.7707\n",
      "Epoch 47/200\n",
      "\u001B[1m18/18\u001B[0m \u001B[32m━━━━━━━━━━━━━━━━━━━━\u001B[0m\u001B[37m\u001B[0m \u001B[1m0s\u001B[0m 5ms/step - loss: 109.6831 - val_loss: 587.0447\n",
      "Epoch 48/200\n",
      "\u001B[1m18/18\u001B[0m \u001B[32m━━━━━━━━━━━━━━━━━━━━\u001B[0m\u001B[37m\u001B[0m \u001B[1m0s\u001B[0m 5ms/step - loss: 110.0544 - val_loss: 603.5566\n",
      "Epoch 49/200\n",
      "\u001B[1m18/18\u001B[0m \u001B[32m━━━━━━━━━━━━━━━━━━━━\u001B[0m\u001B[37m\u001B[0m \u001B[1m0s\u001B[0m 8ms/step - loss: 109.6969 - val_loss: 578.0725\n",
      "Epoch 50/200\n",
      "\u001B[1m18/18\u001B[0m \u001B[32m━━━━━━━━━━━━━━━━━━━━\u001B[0m\u001B[37m\u001B[0m \u001B[1m0s\u001B[0m 5ms/step - loss: 110.6183 - val_loss: 587.3117\n",
      "Epoch 51/200\n",
      "\u001B[1m18/18\u001B[0m \u001B[32m━━━━━━━━━━━━━━━━━━━━\u001B[0m\u001B[37m\u001B[0m \u001B[1m0s\u001B[0m 5ms/step - loss: 109.1939 - val_loss: 584.8349\n",
      "Epoch 52/200\n",
      "\u001B[1m18/18\u001B[0m \u001B[32m━━━━━━━━━━━━━━━━━━━━\u001B[0m\u001B[37m\u001B[0m \u001B[1m0s\u001B[0m 7ms/step - loss: 109.1967 - val_loss: 577.1537\n",
      "Epoch 53/200\n",
      "\u001B[1m18/18\u001B[0m \u001B[32m━━━━━━━━━━━━━━━━━━━━\u001B[0m\u001B[37m\u001B[0m \u001B[1m0s\u001B[0m 6ms/step - loss: 109.2290 - val_loss: 579.1772\n",
      "Epoch 54/200\n",
      "\u001B[1m18/18\u001B[0m \u001B[32m━━━━━━━━━━━━━━━━━━━━\u001B[0m\u001B[37m\u001B[0m \u001B[1m0s\u001B[0m 6ms/step - loss: 109.1214 - val_loss: 580.2639\n",
      "Epoch 55/200\n",
      "\u001B[1m18/18\u001B[0m \u001B[32m━━━━━━━━━━━━━━━━━━━━\u001B[0m\u001B[37m\u001B[0m \u001B[1m0s\u001B[0m 8ms/step - loss: 109.1510 - val_loss: 575.6053\n",
      "Epoch 56/200\n",
      "\u001B[1m18/18\u001B[0m \u001B[32m━━━━━━━━━━━━━━━━━━━━\u001B[0m\u001B[37m\u001B[0m \u001B[1m0s\u001B[0m 5ms/step - loss: 109.1719 - val_loss: 579.2719\n",
      "Epoch 57/200\n",
      "\u001B[1m18/18\u001B[0m \u001B[32m━━━━━━━━━━━━━━━━━━━━\u001B[0m\u001B[37m\u001B[0m \u001B[1m0s\u001B[0m 5ms/step - loss: 109.0457 - val_loss: 580.0186\n",
      "Epoch 58/200\n",
      "\u001B[1m18/18\u001B[0m \u001B[32m━━━━━━━━━━━━━━━━━━━━\u001B[0m\u001B[37m\u001B[0m \u001B[1m0s\u001B[0m 5ms/step - loss: 109.0802 - val_loss: 581.9771\n",
      "Epoch 59/200\n",
      "\u001B[1m18/18\u001B[0m \u001B[32m━━━━━━━━━━━━━━━━━━━━\u001B[0m\u001B[37m\u001B[0m \u001B[1m0s\u001B[0m 8ms/step - loss: 108.6818 - val_loss: 573.4678\n",
      "Epoch 60/200\n",
      "\u001B[1m18/18\u001B[0m \u001B[32m━━━━━━━━━━━━━━━━━━━━\u001B[0m\u001B[37m\u001B[0m \u001B[1m0s\u001B[0m 5ms/step - loss: 108.9702 - val_loss: 578.3343\n",
      "Epoch 61/200\n",
      "\u001B[1m18/18\u001B[0m \u001B[32m━━━━━━━━━━━━━━━━━━━━\u001B[0m\u001B[37m\u001B[0m \u001B[1m0s\u001B[0m 5ms/step - loss: 108.7010 - val_loss: 578.1991\n",
      "Epoch 62/200\n",
      "\u001B[1m18/18\u001B[0m \u001B[32m━━━━━━━━━━━━━━━━━━━━\u001B[0m\u001B[37m\u001B[0m \u001B[1m0s\u001B[0m 9ms/step - loss: 108.7494 - val_loss: 572.3806\n",
      "Epoch 63/200\n",
      "\u001B[1m18/18\u001B[0m \u001B[32m━━━━━━━━━━━━━━━━━━━━\u001B[0m\u001B[37m\u001B[0m \u001B[1m0s\u001B[0m 7ms/step - loss: 108.4913 - val_loss: 574.2651\n",
      "Epoch 64/200\n",
      "\u001B[1m18/18\u001B[0m \u001B[32m━━━━━━━━━━━━━━━━━━━━\u001B[0m\u001B[37m\u001B[0m \u001B[1m0s\u001B[0m 12ms/step - loss: 108.4022 - val_loss: 572.2817\n",
      "Epoch 65/200\n",
      "\u001B[1m18/18\u001B[0m \u001B[32m━━━━━━━━━━━━━━━━━━━━\u001B[0m\u001B[37m\u001B[0m \u001B[1m0s\u001B[0m 9ms/step - loss: 108.2155 - val_loss: 574.7462\n",
      "Epoch 66/200\n",
      "\u001B[1m18/18\u001B[0m \u001B[32m━━━━━━━━━━━━━━━━━━━━\u001B[0m\u001B[37m\u001B[0m \u001B[1m0s\u001B[0m 13ms/step - loss: 108.6113 - val_loss: 571.1003\n",
      "Epoch 67/200\n",
      "\u001B[1m18/18\u001B[0m \u001B[32m━━━━━━━━━━━━━━━━━━━━\u001B[0m\u001B[37m\u001B[0m \u001B[1m0s\u001B[0m 8ms/step - loss: 108.4033 - val_loss: 577.6259\n",
      "Epoch 68/200\n",
      "\u001B[1m18/18\u001B[0m \u001B[32m━━━━━━━━━━━━━━━━━━━━\u001B[0m\u001B[37m\u001B[0m \u001B[1m0s\u001B[0m 13ms/step - loss: 107.8392 - val_loss: 569.3516\n",
      "Epoch 69/200\n",
      "\u001B[1m18/18\u001B[0m \u001B[32m━━━━━━━━━━━━━━━━━━━━\u001B[0m\u001B[37m\u001B[0m \u001B[1m0s\u001B[0m 8ms/step - loss: 108.2265 - val_loss: 575.2878\n",
      "Epoch 70/200\n",
      "\u001B[1m18/18\u001B[0m \u001B[32m━━━━━━━━━━━━━━━━━━━━\u001B[0m\u001B[37m\u001B[0m \u001B[1m0s\u001B[0m 9ms/step - loss: 108.0035 - val_loss: 578.0869\n",
      "Epoch 71/200\n",
      "\u001B[1m18/18\u001B[0m \u001B[32m━━━━━━━━━━━━━━━━━━━━\u001B[0m\u001B[37m\u001B[0m \u001B[1m0s\u001B[0m 12ms/step - loss: 107.8538 - val_loss: 568.7750\n",
      "Epoch 72/200\n",
      "\u001B[1m18/18\u001B[0m \u001B[32m━━━━━━━━━━━━━━━━━━━━\u001B[0m\u001B[37m\u001B[0m \u001B[1m0s\u001B[0m 7ms/step - loss: 107.8737 - val_loss: 576.5262\n",
      "Epoch 73/200\n",
      "\u001B[1m18/18\u001B[0m \u001B[32m━━━━━━━━━━━━━━━━━━━━\u001B[0m\u001B[37m\u001B[0m \u001B[1m0s\u001B[0m 7ms/step - loss: 107.7109 - val_loss: 571.7574\n",
      "Epoch 74/200\n",
      "\u001B[1m18/18\u001B[0m \u001B[32m━━━━━━━━━━━━━━━━━━━━\u001B[0m\u001B[37m\u001B[0m \u001B[1m0s\u001B[0m 8ms/step - loss: 107.6829 - val_loss: 567.6940\n",
      "Epoch 75/200\n",
      "\u001B[1m18/18\u001B[0m \u001B[32m━━━━━━━━━━━━━━━━━━━━\u001B[0m\u001B[37m\u001B[0m \u001B[1m0s\u001B[0m 5ms/step - loss: 108.0886 - val_loss: 569.8407\n",
      "Epoch 76/200\n",
      "\u001B[1m18/18\u001B[0m \u001B[32m━━━━━━━━━━━━━━━━━━━━\u001B[0m\u001B[37m\u001B[0m \u001B[1m0s\u001B[0m 5ms/step - loss: 107.5706 - val_loss: 573.8819\n",
      "Epoch 77/200\n",
      "\u001B[1m18/18\u001B[0m \u001B[32m━━━━━━━━━━━━━━━━━━━━\u001B[0m\u001B[37m\u001B[0m \u001B[1m0s\u001B[0m 5ms/step - loss: 107.3852 - val_loss: 571.6467\n",
      "Epoch 78/200\n",
      "\u001B[1m18/18\u001B[0m \u001B[32m━━━━━━━━━━━━━━━━━━━━\u001B[0m\u001B[37m\u001B[0m \u001B[1m0s\u001B[0m 5ms/step - loss: 107.5149 - val_loss: 574.9170\n",
      "Epoch 79/200\n",
      "\u001B[1m18/18\u001B[0m \u001B[32m━━━━━━━━━━━━━━━━━━━━\u001B[0m\u001B[37m\u001B[0m \u001B[1m1s\u001B[0m 28ms/step - loss: 107.5206 - val_loss: 567.2070\n",
      "Epoch 80/200\n",
      "\u001B[1m18/18\u001B[0m \u001B[32m━━━━━━━━━━━━━━━━━━━━\u001B[0m\u001B[37m\u001B[0m \u001B[1m0s\u001B[0m 7ms/step - loss: 108.7041 - val_loss: 570.9132\n",
      "Epoch 81/200\n",
      "\u001B[1m18/18\u001B[0m \u001B[32m━━━━━━━━━━━━━━━━━━━━\u001B[0m\u001B[37m\u001B[0m \u001B[1m0s\u001B[0m 6ms/step - loss: 108.0690 - val_loss: 567.3953\n",
      "Epoch 82/200\n",
      "\u001B[1m18/18\u001B[0m \u001B[32m━━━━━━━━━━━━━━━━━━━━\u001B[0m\u001B[37m\u001B[0m \u001B[1m0s\u001B[0m 7ms/step - loss: 107.3811 - val_loss: 573.0298\n",
      "Epoch 83/200\n",
      "\u001B[1m18/18\u001B[0m \u001B[32m━━━━━━━━━━━━━━━━━━━━\u001B[0m\u001B[37m\u001B[0m \u001B[1m0s\u001B[0m 6ms/step - loss: 107.5221 - val_loss: 571.5465\n",
      "Epoch 84/200\n",
      "\u001B[1m18/18\u001B[0m \u001B[32m━━━━━━━━━━━━━━━━━━━━\u001B[0m\u001B[37m\u001B[0m \u001B[1m0s\u001B[0m 5ms/step - loss: 107.2641 - val_loss: 572.3765\n",
      "Epoch 85/200\n",
      "\u001B[1m18/18\u001B[0m \u001B[32m━━━━━━━━━━━━━━━━━━━━\u001B[0m\u001B[37m\u001B[0m \u001B[1m0s\u001B[0m 7ms/step - loss: 107.0853 - val_loss: 565.2151\n",
      "Epoch 86/200\n",
      "\u001B[1m18/18\u001B[0m \u001B[32m━━━━━━━━━━━━━━━━━━━━\u001B[0m\u001B[37m\u001B[0m \u001B[1m0s\u001B[0m 8ms/step - loss: 108.7290 - val_loss: 565.1576\n",
      "Epoch 87/200\n",
      "\u001B[1m18/18\u001B[0m \u001B[32m━━━━━━━━━━━━━━━━━━━━\u001B[0m\u001B[37m\u001B[0m \u001B[1m0s\u001B[0m 7ms/step - loss: 107.5621 - val_loss: 568.4927\n",
      "Epoch 88/200\n",
      "\u001B[1m18/18\u001B[0m \u001B[32m━━━━━━━━━━━━━━━━━━━━\u001B[0m\u001B[37m\u001B[0m \u001B[1m0s\u001B[0m 10ms/step - loss: 107.0997 - val_loss: 564.5223\n",
      "Epoch 89/200\n",
      "\u001B[1m18/18\u001B[0m \u001B[32m━━━━━━━━━━━━━━━━━━━━\u001B[0m\u001B[37m\u001B[0m \u001B[1m0s\u001B[0m 10ms/step - loss: 108.5327 - val_loss: 564.3674\n",
      "Epoch 90/200\n",
      "\u001B[1m18/18\u001B[0m \u001B[32m━━━━━━━━━━━━━━━━━━━━\u001B[0m\u001B[37m\u001B[0m \u001B[1m0s\u001B[0m 6ms/step - loss: 107.5465 - val_loss: 568.9784\n",
      "Epoch 91/200\n",
      "\u001B[1m18/18\u001B[0m \u001B[32m━━━━━━━━━━━━━━━━━━━━\u001B[0m\u001B[37m\u001B[0m \u001B[1m0s\u001B[0m 7ms/step - loss: 107.1971 - val_loss: 568.5437\n",
      "Epoch 92/200\n",
      "\u001B[1m18/18\u001B[0m \u001B[32m━━━━━━━━━━━━━━━━━━━━\u001B[0m\u001B[37m\u001B[0m \u001B[1m0s\u001B[0m 7ms/step - loss: 106.9595 - val_loss: 565.0447\n",
      "Epoch 93/200\n",
      "\u001B[1m18/18\u001B[0m \u001B[32m━━━━━━━━━━━━━━━━━━━━\u001B[0m\u001B[37m\u001B[0m \u001B[1m0s\u001B[0m 6ms/step - loss: 107.2018 - val_loss: 576.8246\n",
      "Epoch 94/200\n",
      "\u001B[1m18/18\u001B[0m \u001B[32m━━━━━━━━━━━━━━━━━━━━\u001B[0m\u001B[37m\u001B[0m \u001B[1m0s\u001B[0m 6ms/step - loss: 106.4595 - val_loss: 565.8176\n",
      "Epoch 95/200\n",
      "\u001B[1m18/18\u001B[0m \u001B[32m━━━━━━━━━━━━━━━━━━━━\u001B[0m\u001B[37m\u001B[0m \u001B[1m0s\u001B[0m 6ms/step - loss: 106.7089 - val_loss: 566.4797\n",
      "Epoch 96/200\n",
      "\u001B[1m18/18\u001B[0m \u001B[32m━━━━━━━━━━━━━━━━━━━━\u001B[0m\u001B[37m\u001B[0m \u001B[1m0s\u001B[0m 6ms/step - loss: 106.3072 - val_loss: 581.6876\n",
      "Epoch 97/200\n",
      "\u001B[1m18/18\u001B[0m \u001B[32m━━━━━━━━━━━━━━━━━━━━\u001B[0m\u001B[37m\u001B[0m \u001B[1m0s\u001B[0m 6ms/step - loss: 106.4201 - val_loss: 565.1203\n",
      "Epoch 98/200\n",
      "\u001B[1m18/18\u001B[0m \u001B[32m━━━━━━━━━━━━━━━━━━━━\u001B[0m\u001B[37m\u001B[0m \u001B[1m0s\u001B[0m 6ms/step - loss: 106.7023 - val_loss: 576.7170\n",
      "Epoch 99/200\n",
      "\u001B[1m18/18\u001B[0m \u001B[32m━━━━━━━━━━━━━━━━━━━━\u001B[0m\u001B[37m\u001B[0m \u001B[1m0s\u001B[0m 5ms/step - loss: 106.1486 - val_loss: 564.4551\n",
      "Epoch 100/200\n",
      "\u001B[1m18/18\u001B[0m \u001B[32m━━━━━━━━━━━━━━━━━━━━\u001B[0m\u001B[37m\u001B[0m \u001B[1m0s\u001B[0m 6ms/step - loss: 106.3400 - val_loss: 564.9761\n",
      "Epoch 101/200\n",
      "\u001B[1m18/18\u001B[0m \u001B[32m━━━━━━━━━━━━━━━━━━━━\u001B[0m\u001B[37m\u001B[0m \u001B[1m0s\u001B[0m 6ms/step - loss: 106.3742 - val_loss: 564.6055\n",
      "Epoch 102/200\n",
      "\u001B[1m18/18\u001B[0m \u001B[32m━━━━━━━━━━━━━━━━━━━━\u001B[0m\u001B[37m\u001B[0m \u001B[1m0s\u001B[0m 6ms/step - loss: 105.9860 - val_loss: 570.3432\n",
      "Epoch 103/200\n",
      "\u001B[1m18/18\u001B[0m \u001B[32m━━━━━━━━━━━━━━━━━━━━\u001B[0m\u001B[37m\u001B[0m \u001B[1m0s\u001B[0m 5ms/step - loss: 106.1973 - val_loss: 568.0335\n",
      "Epoch 104/200\n",
      "\u001B[1m18/18\u001B[0m \u001B[32m━━━━━━━━━━━━━━━━━━━━\u001B[0m\u001B[37m\u001B[0m \u001B[1m0s\u001B[0m 8ms/step - loss: 105.9455 - val_loss: 563.7891\n",
      "Epoch 105/200\n",
      "\u001B[1m18/18\u001B[0m \u001B[32m━━━━━━━━━━━━━━━━━━━━\u001B[0m\u001B[37m\u001B[0m \u001B[1m0s\u001B[0m 5ms/step - loss: 106.9525 - val_loss: 568.4968\n",
      "Epoch 106/200\n",
      "\u001B[1m18/18\u001B[0m \u001B[32m━━━━━━━━━━━━━━━━━━━━\u001B[0m\u001B[37m\u001B[0m \u001B[1m0s\u001B[0m 5ms/step - loss: 105.9653 - val_loss: 563.8914\n",
      "Epoch 107/200\n",
      "\u001B[1m18/18\u001B[0m \u001B[32m━━━━━━━━━━━━━━━━━━━━\u001B[0m\u001B[37m\u001B[0m \u001B[1m0s\u001B[0m 7ms/step - loss: 105.9422 - val_loss: 569.3433\n",
      "Epoch 108/200\n",
      "\u001B[1m18/18\u001B[0m \u001B[32m━━━━━━━━━━━━━━━━━━━━\u001B[0m\u001B[37m\u001B[0m \u001B[1m0s\u001B[0m 5ms/step - loss: 106.0775 - val_loss: 563.7902\n",
      "Epoch 109/200\n",
      "\u001B[1m18/18\u001B[0m \u001B[32m━━━━━━━━━━━━━━━━━━━━\u001B[0m\u001B[37m\u001B[0m \u001B[1m0s\u001B[0m 6ms/step - loss: 105.8950 - val_loss: 564.3126\n",
      "Epoch 110/200\n",
      "\u001B[1m18/18\u001B[0m \u001B[32m━━━━━━━━━━━━━━━━━━━━\u001B[0m\u001B[37m\u001B[0m \u001B[1m0s\u001B[0m 6ms/step - loss: 105.9278 - val_loss: 565.6546\n",
      "Epoch 111/200\n",
      "\u001B[1m18/18\u001B[0m \u001B[32m━━━━━━━━━━━━━━━━━━━━\u001B[0m\u001B[37m\u001B[0m \u001B[1m0s\u001B[0m 6ms/step - loss: 105.9530 - val_loss: 565.1064\n",
      "Epoch 112/200\n",
      "\u001B[1m18/18\u001B[0m \u001B[32m━━━━━━━━━━━━━━━━━━━━\u001B[0m\u001B[37m\u001B[0m \u001B[1m0s\u001B[0m 6ms/step - loss: 105.7459 - val_loss: 569.4593\n",
      "Epoch 113/200\n",
      "\u001B[1m18/18\u001B[0m \u001B[32m━━━━━━━━━━━━━━━━━━━━\u001B[0m\u001B[37m\u001B[0m \u001B[1m0s\u001B[0m 6ms/step - loss: 105.7663 - val_loss: 564.9741\n",
      "Epoch 114/200\n",
      "\u001B[1m18/18\u001B[0m \u001B[32m━━━━━━━━━━━━━━━━━━━━\u001B[0m\u001B[37m\u001B[0m \u001B[1m0s\u001B[0m 5ms/step - loss: 105.8708 - val_loss: 567.3331\n",
      "Epoch 115/200\n",
      "\u001B[1m18/18\u001B[0m \u001B[32m━━━━━━━━━━━━━━━━━━━━\u001B[0m\u001B[37m\u001B[0m \u001B[1m0s\u001B[0m 5ms/step - loss: 105.5460 - val_loss: 564.0363\n",
      "Epoch 116/200\n",
      "\u001B[1m18/18\u001B[0m \u001B[32m━━━━━━━━━━━━━━━━━━━━\u001B[0m\u001B[37m\u001B[0m \u001B[1m0s\u001B[0m 5ms/step - loss: 106.2667 - val_loss: 568.6404\n",
      "Epoch 117/200\n",
      "\u001B[1m18/18\u001B[0m \u001B[32m━━━━━━━━━━━━━━━━━━━━\u001B[0m\u001B[37m\u001B[0m \u001B[1m0s\u001B[0m 5ms/step - loss: 105.5191 - val_loss: 565.6377\n",
      "Epoch 118/200\n",
      "\u001B[1m18/18\u001B[0m \u001B[32m━━━━━━━━━━━━━━━━━━━━\u001B[0m\u001B[37m\u001B[0m \u001B[1m0s\u001B[0m 6ms/step - loss: 107.8534 - val_loss: 565.3763\n",
      "Epoch 119/200\n",
      "\u001B[1m18/18\u001B[0m \u001B[32m━━━━━━━━━━━━━━━━━━━━\u001B[0m\u001B[37m\u001B[0m \u001B[1m0s\u001B[0m 8ms/step - loss: 105.5344 - val_loss: 564.2334\n",
      "Epoch 120/200\n",
      "\u001B[1m18/18\u001B[0m \u001B[32m━━━━━━━━━━━━━━━━━━━━\u001B[0m\u001B[37m\u001B[0m \u001B[1m0s\u001B[0m 7ms/step - loss: 105.7624 - val_loss: 563.5864\n",
      "Epoch 121/200\n",
      "\u001B[1m18/18\u001B[0m \u001B[32m━━━━━━━━━━━━━━━━━━━━\u001B[0m\u001B[37m\u001B[0m \u001B[1m0s\u001B[0m 7ms/step - loss: 105.9425 - val_loss: 564.6070\n",
      "Epoch 122/200\n",
      "\u001B[1m18/18\u001B[0m \u001B[32m━━━━━━━━━━━━━━━━━━━━\u001B[0m\u001B[37m\u001B[0m \u001B[1m0s\u001B[0m 9ms/step - loss: 105.7231 - val_loss: 566.0917\n",
      "Epoch 123/200\n",
      "\u001B[1m18/18\u001B[0m \u001B[32m━━━━━━━━━━━━━━━━━━━━\u001B[0m\u001B[37m\u001B[0m \u001B[1m0s\u001B[0m 10ms/step - loss: 105.4247 - val_loss: 564.9503\n",
      "Epoch 124/200\n",
      "\u001B[1m18/18\u001B[0m \u001B[32m━━━━━━━━━━━━━━━━━━━━\u001B[0m\u001B[37m\u001B[0m \u001B[1m0s\u001B[0m 9ms/step - loss: 105.6486 - val_loss: 564.4496\n",
      "Epoch 125/200\n",
      "\u001B[1m18/18\u001B[0m \u001B[32m━━━━━━━━━━━━━━━━━━━━\u001B[0m\u001B[37m\u001B[0m \u001B[1m0s\u001B[0m 14ms/step - loss: 105.8357 - val_loss: 563.3492\n",
      "Epoch 126/200\n",
      "\u001B[1m18/18\u001B[0m \u001B[32m━━━━━━━━━━━━━━━━━━━━\u001B[0m\u001B[37m\u001B[0m \u001B[1m0s\u001B[0m 7ms/step - loss: 105.7550 - val_loss: 563.6536\n",
      "Epoch 127/200\n",
      "\u001B[1m18/18\u001B[0m \u001B[32m━━━━━━━━━━━━━━━━━━━━\u001B[0m\u001B[37m\u001B[0m \u001B[1m0s\u001B[0m 11ms/step - loss: 105.6352 - val_loss: 566.8889\n",
      "Epoch 128/200\n",
      "\u001B[1m18/18\u001B[0m \u001B[32m━━━━━━━━━━━━━━━━━━━━\u001B[0m\u001B[37m\u001B[0m \u001B[1m0s\u001B[0m 11ms/step - loss: 105.3011 - val_loss: 563.7637\n",
      "Epoch 129/200\n",
      "\u001B[1m18/18\u001B[0m \u001B[32m━━━━━━━━━━━━━━━━━━━━\u001B[0m\u001B[37m\u001B[0m \u001B[1m0s\u001B[0m 14ms/step - loss: 106.2528 - val_loss: 567.6903\n",
      "Epoch 130/200\n",
      "\u001B[1m18/18\u001B[0m \u001B[32m━━━━━━━━━━━━━━━━━━━━\u001B[0m\u001B[37m\u001B[0m \u001B[1m0s\u001B[0m 11ms/step - loss: 105.4619 - val_loss: 564.4347\n",
      "Epoch 131/200\n",
      "\u001B[1m18/18\u001B[0m \u001B[32m━━━━━━━━━━━━━━━━━━━━\u001B[0m\u001B[37m\u001B[0m \u001B[1m0s\u001B[0m 9ms/step - loss: 106.4341 - val_loss: 576.1675\n",
      "Epoch 132/200\n",
      "\u001B[1m18/18\u001B[0m \u001B[32m━━━━━━━━━━━━━━━━━━━━\u001B[0m\u001B[37m\u001B[0m \u001B[1m0s\u001B[0m 9ms/step - loss: 105.4978 - val_loss: 565.1484\n",
      "Epoch 133/200\n",
      "\u001B[1m18/18\u001B[0m \u001B[32m━━━━━━━━━━━━━━━━━━━━\u001B[0m\u001B[37m\u001B[0m \u001B[1m0s\u001B[0m 7ms/step - loss: 105.3398 - val_loss: 564.7286\n",
      "Epoch 134/200\n",
      "\u001B[1m18/18\u001B[0m \u001B[32m━━━━━━━━━━━━━━━━━━━━\u001B[0m\u001B[37m\u001B[0m \u001B[1m0s\u001B[0m 6ms/step - loss: 106.1230 - val_loss: 565.5212\n",
      "Epoch 135/200\n",
      "\u001B[1m18/18\u001B[0m \u001B[32m━━━━━━━━━━━━━━━━━━━━\u001B[0m\u001B[37m\u001B[0m \u001B[1m0s\u001B[0m 6ms/step - loss: 105.3449 - val_loss: 563.9736\n",
      "Epoch 136/200\n",
      "\u001B[1m18/18\u001B[0m \u001B[32m━━━━━━━━━━━━━━━━━━━━\u001B[0m\u001B[37m\u001B[0m \u001B[1m0s\u001B[0m 6ms/step - loss: 105.9588 - val_loss: 564.1062\n",
      "Epoch 137/200\n",
      "\u001B[1m18/18\u001B[0m \u001B[32m━━━━━━━━━━━━━━━━━━━━\u001B[0m\u001B[37m\u001B[0m \u001B[1m0s\u001B[0m 8ms/step - loss: 105.4039 - val_loss: 564.2136\n",
      "Epoch 138/200\n",
      "\u001B[1m18/18\u001B[0m \u001B[32m━━━━━━━━━━━━━━━━━━━━\u001B[0m\u001B[37m\u001B[0m \u001B[1m0s\u001B[0m 6ms/step - loss: 105.5542 - val_loss: 564.1729\n",
      "Epoch 139/200\n",
      "\u001B[1m18/18\u001B[0m \u001B[32m━━━━━━━━━━━━━━━━━━━━\u001B[0m\u001B[37m\u001B[0m \u001B[1m0s\u001B[0m 7ms/step - loss: 105.4371 - val_loss: 564.5889\n",
      "Epoch 140/200\n",
      "\u001B[1m18/18\u001B[0m \u001B[32m━━━━━━━━━━━━━━━━━━━━\u001B[0m\u001B[37m\u001B[0m \u001B[1m0s\u001B[0m 8ms/step - loss: 105.3461 - val_loss: 563.5203\n",
      "Epoch 141/200\n",
      "\u001B[1m18/18\u001B[0m \u001B[32m━━━━━━━━━━━━━━━━━━━━\u001B[0m\u001B[37m\u001B[0m \u001B[1m0s\u001B[0m 15ms/step - loss: 105.3144 - val_loss: 563.0687\n",
      "Epoch 142/200\n",
      "\u001B[1m18/18\u001B[0m \u001B[32m━━━━━━━━━━━━━━━━━━━━\u001B[0m\u001B[37m\u001B[0m \u001B[1m0s\u001B[0m 9ms/step - loss: 105.7431 - val_loss: 564.6539\n",
      "Epoch 143/200\n",
      "\u001B[1m18/18\u001B[0m \u001B[32m━━━━━━━━━━━━━━━━━━━━\u001B[0m\u001B[37m\u001B[0m \u001B[1m0s\u001B[0m 9ms/step - loss: 105.3269 - val_loss: 564.4352\n",
      "Epoch 144/200\n",
      "\u001B[1m18/18\u001B[0m \u001B[32m━━━━━━━━━━━━━━━━━━━━\u001B[0m\u001B[37m\u001B[0m \u001B[1m0s\u001B[0m 9ms/step - loss: 105.2942 - val_loss: 564.6052\n",
      "Epoch 145/200\n",
      "\u001B[1m18/18\u001B[0m \u001B[32m━━━━━━━━━━━━━━━━━━━━\u001B[0m\u001B[37m\u001B[0m \u001B[1m0s\u001B[0m 9ms/step - loss: 106.1420 - val_loss: 566.7288\n",
      "Epoch 146/200\n",
      "\u001B[1m18/18\u001B[0m \u001B[32m━━━━━━━━━━━━━━━━━━━━\u001B[0m\u001B[37m\u001B[0m \u001B[1m0s\u001B[0m 9ms/step - loss: 105.1846 - val_loss: 564.4705\n",
      "Epoch 147/200\n",
      "\u001B[1m18/18\u001B[0m \u001B[32m━━━━━━━━━━━━━━━━━━━━\u001B[0m\u001B[37m\u001B[0m \u001B[1m0s\u001B[0m 10ms/step - loss: 105.5286 - val_loss: 563.2690\n",
      "Epoch 148/200\n",
      "\u001B[1m18/18\u001B[0m \u001B[32m━━━━━━━━━━━━━━━━━━━━\u001B[0m\u001B[37m\u001B[0m \u001B[1m0s\u001B[0m 9ms/step - loss: 105.4772 - val_loss: 564.2733\n",
      "Epoch 149/200\n",
      "\u001B[1m18/18\u001B[0m \u001B[32m━━━━━━━━━━━━━━━━━━━━\u001B[0m\u001B[37m\u001B[0m \u001B[1m0s\u001B[0m 8ms/step - loss: 106.1056 - val_loss: 564.7038\n",
      "Epoch 150/200\n",
      "\u001B[1m18/18\u001B[0m \u001B[32m━━━━━━━━━━━━━━━━━━━━\u001B[0m\u001B[37m\u001B[0m \u001B[1m0s\u001B[0m 8ms/step - loss: 105.1076 - val_loss: 565.1254\n",
      "Epoch 151/200\n",
      "\u001B[1m18/18\u001B[0m \u001B[32m━━━━━━━━━━━━━━━━━━━━\u001B[0m\u001B[37m\u001B[0m \u001B[1m0s\u001B[0m 7ms/step - loss: 105.6617 - val_loss: 564.5076\n",
      "Epoch 152/200\n",
      "\u001B[1m18/18\u001B[0m \u001B[32m━━━━━━━━━━━━━━━━━━━━\u001B[0m\u001B[37m\u001B[0m \u001B[1m0s\u001B[0m 6ms/step - loss: 105.1879 - val_loss: 565.7143\n",
      "Epoch 153/200\n",
      "\u001B[1m18/18\u001B[0m \u001B[32m━━━━━━━━━━━━━━━━━━━━\u001B[0m\u001B[37m\u001B[0m \u001B[1m0s\u001B[0m 5ms/step - loss: 106.1127 - val_loss: 572.6253\n",
      "Epoch 154/200\n",
      "\u001B[1m18/18\u001B[0m \u001B[32m━━━━━━━━━━━━━━━━━━━━\u001B[0m\u001B[37m\u001B[0m \u001B[1m0s\u001B[0m 5ms/step - loss: 105.3594 - val_loss: 564.3603\n",
      "Epoch 155/200\n",
      "\u001B[1m18/18\u001B[0m \u001B[32m━━━━━━━━━━━━━━━━━━━━\u001B[0m\u001B[37m\u001B[0m \u001B[1m0s\u001B[0m 5ms/step - loss: 105.1467 - val_loss: 564.9271\n",
      "Epoch 156/200\n",
      "\u001B[1m18/18\u001B[0m \u001B[32m━━━━━━━━━━━━━━━━━━━━\u001B[0m\u001B[37m\u001B[0m \u001B[1m0s\u001B[0m 5ms/step - loss: 105.8316 - val_loss: 568.9239\n",
      "Epoch 157/200\n",
      "\u001B[1m18/18\u001B[0m \u001B[32m━━━━━━━━━━━━━━━━━━━━\u001B[0m\u001B[37m\u001B[0m \u001B[1m0s\u001B[0m 5ms/step - loss: 106.9636 - val_loss: 571.5082\n",
      "Epoch 158/200\n",
      "\u001B[1m18/18\u001B[0m \u001B[32m━━━━━━━━━━━━━━━━━━━━\u001B[0m\u001B[37m\u001B[0m \u001B[1m0s\u001B[0m 5ms/step - loss: 105.2654 - val_loss: 565.9293\n",
      "Epoch 159/200\n",
      "\u001B[1m18/18\u001B[0m \u001B[32m━━━━━━━━━━━━━━━━━━━━\u001B[0m\u001B[37m\u001B[0m \u001B[1m0s\u001B[0m 6ms/step - loss: 105.4539 - val_loss: 564.3223\n",
      "Epoch 160/200\n",
      "\u001B[1m18/18\u001B[0m \u001B[32m━━━━━━━━━━━━━━━━━━━━\u001B[0m\u001B[37m\u001B[0m \u001B[1m0s\u001B[0m 5ms/step - loss: 105.5947 - val_loss: 565.0333\n",
      "Epoch 161/200\n",
      "\u001B[1m18/18\u001B[0m \u001B[32m━━━━━━━━━━━━━━━━━━━━\u001B[0m\u001B[37m\u001B[0m \u001B[1m0s\u001B[0m 5ms/step - loss: 105.1786 - val_loss: 565.7288\n",
      "Epoch 162/200\n",
      "\u001B[1m18/18\u001B[0m \u001B[32m━━━━━━━━━━━━━━━━━━━━\u001B[0m\u001B[37m\u001B[0m \u001B[1m0s\u001B[0m 5ms/step - loss: 105.7609 - val_loss: 563.8829\n",
      "Epoch 163/200\n",
      "\u001B[1m18/18\u001B[0m \u001B[32m━━━━━━━━━━━━━━━━━━━━\u001B[0m\u001B[37m\u001B[0m \u001B[1m0s\u001B[0m 5ms/step - loss: 105.6359 - val_loss: 565.9658\n",
      "Epoch 164/200\n",
      "\u001B[1m18/18\u001B[0m \u001B[32m━━━━━━━━━━━━━━━━━━━━\u001B[0m\u001B[37m\u001B[0m \u001B[1m0s\u001B[0m 5ms/step - loss: 105.2192 - val_loss: 564.2727\n",
      "Epoch 165/200\n",
      "\u001B[1m18/18\u001B[0m \u001B[32m━━━━━━━━━━━━━━━━━━━━\u001B[0m\u001B[37m\u001B[0m \u001B[1m0s\u001B[0m 5ms/step - loss: 105.1029 - val_loss: 566.8500\n",
      "Epoch 166/200\n",
      "\u001B[1m18/18\u001B[0m \u001B[32m━━━━━━━━━━━━━━━━━━━━\u001B[0m\u001B[37m\u001B[0m \u001B[1m0s\u001B[0m 5ms/step - loss: 106.1347 - val_loss: 571.8066\n",
      "Epoch 167/200\n",
      "\u001B[1m18/18\u001B[0m \u001B[32m━━━━━━━━━━━━━━━━━━━━\u001B[0m\u001B[37m\u001B[0m \u001B[1m0s\u001B[0m 5ms/step - loss: 105.6728 - val_loss: 566.5703\n",
      "Epoch 168/200\n",
      "\u001B[1m18/18\u001B[0m \u001B[32m━━━━━━━━━━━━━━━━━━━━\u001B[0m\u001B[37m\u001B[0m \u001B[1m0s\u001B[0m 5ms/step - loss: 105.5781 - val_loss: 569.1636\n",
      "Epoch 169/200\n",
      "\u001B[1m18/18\u001B[0m \u001B[32m━━━━━━━━━━━━━━━━━━━━\u001B[0m\u001B[37m\u001B[0m \u001B[1m0s\u001B[0m 6ms/step - loss: 106.3540 - val_loss: 564.6991\n",
      "Epoch 170/200\n",
      "\u001B[1m18/18\u001B[0m \u001B[32m━━━━━━━━━━━━━━━━━━━━\u001B[0m\u001B[37m\u001B[0m \u001B[1m0s\u001B[0m 9ms/step - loss: 105.6280 - val_loss: 564.9700\n",
      "Epoch 171/200\n",
      "\u001B[1m18/18\u001B[0m \u001B[32m━━━━━━━━━━━━━━━━━━━━\u001B[0m\u001B[37m\u001B[0m \u001B[1m0s\u001B[0m 10ms/step - loss: 105.3350 - val_loss: 564.9385\n",
      "Epoch 172/200\n",
      "\u001B[1m18/18\u001B[0m \u001B[32m━━━━━━━━━━━━━━━━━━━━\u001B[0m\u001B[37m\u001B[0m \u001B[1m0s\u001B[0m 10ms/step - loss: 105.0273 - val_loss: 564.9901\n",
      "Epoch 173/200\n",
      "\u001B[1m18/18\u001B[0m \u001B[32m━━━━━━━━━━━━━━━━━━━━\u001B[0m\u001B[37m\u001B[0m \u001B[1m0s\u001B[0m 9ms/step - loss: 105.8349 - val_loss: 564.9778\n",
      "Epoch 174/200\n",
      "\u001B[1m18/18\u001B[0m \u001B[32m━━━━━━━━━━━━━━━━━━━━\u001B[0m\u001B[37m\u001B[0m \u001B[1m0s\u001B[0m 9ms/step - loss: 105.0704 - val_loss: 566.8691\n",
      "Epoch 175/200\n",
      "\u001B[1m18/18\u001B[0m \u001B[32m━━━━━━━━━━━━━━━━━━━━\u001B[0m\u001B[37m\u001B[0m \u001B[1m0s\u001B[0m 12ms/step - loss: 105.6253 - val_loss: 569.0679\n",
      "Epoch 176/200\n",
      "\u001B[1m18/18\u001B[0m \u001B[32m━━━━━━━━━━━━━━━━━━━━\u001B[0m\u001B[37m\u001B[0m \u001B[1m0s\u001B[0m 10ms/step - loss: 106.2351 - val_loss: 565.9067\n",
      "Epoch 177/200\n",
      "\u001B[1m18/18\u001B[0m \u001B[32m━━━━━━━━━━━━━━━━━━━━\u001B[0m\u001B[37m\u001B[0m \u001B[1m0s\u001B[0m 8ms/step - loss: 105.7998 - val_loss: 566.2375\n",
      "Epoch 178/200\n",
      "\u001B[1m18/18\u001B[0m \u001B[32m━━━━━━━━━━━━━━━━━━━━\u001B[0m\u001B[37m\u001B[0m \u001B[1m0s\u001B[0m 9ms/step - loss: 104.8769 - val_loss: 565.0035\n",
      "Epoch 179/200\n",
      "\u001B[1m18/18\u001B[0m \u001B[32m━━━━━━━━━━━━━━━━━━━━\u001B[0m\u001B[37m\u001B[0m \u001B[1m0s\u001B[0m 11ms/step - loss: 105.3365 - val_loss: 565.8923\n",
      "Epoch 180/200\n",
      "\u001B[1m18/18\u001B[0m \u001B[32m━━━━━━━━━━━━━━━━━━━━\u001B[0m\u001B[37m\u001B[0m \u001B[1m0s\u001B[0m 11ms/step - loss: 105.6749 - val_loss: 564.9719\n",
      "Epoch 181/200\n",
      "\u001B[1m18/18\u001B[0m \u001B[32m━━━━━━━━━━━━━━━━━━━━\u001B[0m\u001B[37m\u001B[0m \u001B[1m0s\u001B[0m 11ms/step - loss: 105.3415 - val_loss: 565.1746\n",
      "Epoch 182/200\n",
      "\u001B[1m18/18\u001B[0m \u001B[32m━━━━━━━━━━━━━━━━━━━━\u001B[0m\u001B[37m\u001B[0m \u001B[1m0s\u001B[0m 8ms/step - loss: 105.3424 - val_loss: 566.6241\n",
      "Epoch 183/200\n",
      "\u001B[1m18/18\u001B[0m \u001B[32m━━━━━━━━━━━━━━━━━━━━\u001B[0m\u001B[37m\u001B[0m \u001B[1m0s\u001B[0m 9ms/step - loss: 105.4419 - val_loss: 566.6936\n",
      "Epoch 184/200\n",
      "\u001B[1m18/18\u001B[0m \u001B[32m━━━━━━━━━━━━━━━━━━━━\u001B[0m\u001B[37m\u001B[0m \u001B[1m0s\u001B[0m 10ms/step - loss: 105.5106 - val_loss: 566.8416\n",
      "Epoch 185/200\n",
      "\u001B[1m18/18\u001B[0m \u001B[32m━━━━━━━━━━━━━━━━━━━━\u001B[0m\u001B[37m\u001B[0m \u001B[1m0s\u001B[0m 6ms/step - loss: 105.6296 - val_loss: 566.4799\n",
      "Epoch 186/200\n",
      "\u001B[1m18/18\u001B[0m \u001B[32m━━━━━━━━━━━━━━━━━━━━\u001B[0m\u001B[37m\u001B[0m \u001B[1m0s\u001B[0m 7ms/step - loss: 106.1234 - val_loss: 567.2772\n",
      "Epoch 187/200\n",
      "\u001B[1m18/18\u001B[0m \u001B[32m━━━━━━━━━━━━━━━━━━━━\u001B[0m\u001B[37m\u001B[0m \u001B[1m0s\u001B[0m 6ms/step - loss: 104.8515 - val_loss: 566.0534\n",
      "Epoch 188/200\n",
      "\u001B[1m18/18\u001B[0m \u001B[32m━━━━━━━━━━━━━━━━━━━━\u001B[0m\u001B[37m\u001B[0m \u001B[1m0s\u001B[0m 7ms/step - loss: 105.3066 - val_loss: 566.7889\n",
      "Epoch 189/200\n",
      "\u001B[1m18/18\u001B[0m \u001B[32m━━━━━━━━━━━━━━━━━━━━\u001B[0m\u001B[37m\u001B[0m \u001B[1m0s\u001B[0m 8ms/step - loss: 104.9335 - val_loss: 566.0387\n",
      "Epoch 190/200\n",
      "\u001B[1m18/18\u001B[0m \u001B[32m━━━━━━━━━━━━━━━━━━━━\u001B[0m\u001B[37m\u001B[0m \u001B[1m0s\u001B[0m 6ms/step - loss: 105.0791 - val_loss: 569.3325\n",
      "Epoch 191/200\n",
      "\u001B[1m18/18\u001B[0m \u001B[32m━━━━━━━━━━━━━━━━━━━━\u001B[0m\u001B[37m\u001B[0m \u001B[1m0s\u001B[0m 6ms/step - loss: 106.1273 - val_loss: 565.0916\n",
      "Epoch 192/200\n",
      "\u001B[1m18/18\u001B[0m \u001B[32m━━━━━━━━━━━━━━━━━━━━\u001B[0m\u001B[37m\u001B[0m \u001B[1m0s\u001B[0m 6ms/step - loss: 105.5788 - val_loss: 565.3932\n",
      "Epoch 193/200\n",
      "\u001B[1m18/18\u001B[0m \u001B[32m━━━━━━━━━━━━━━━━━━━━\u001B[0m\u001B[37m\u001B[0m \u001B[1m0s\u001B[0m 6ms/step - loss: 105.3013 - val_loss: 568.1680\n",
      "Epoch 194/200\n",
      "\u001B[1m18/18\u001B[0m \u001B[32m━━━━━━━━━━━━━━━━━━━━\u001B[0m\u001B[37m\u001B[0m \u001B[1m0s\u001B[0m 5ms/step - loss: 105.8387 - val_loss: 568.7360\n",
      "Epoch 195/200\n",
      "\u001B[1m18/18\u001B[0m \u001B[32m━━━━━━━━━━━━━━━━━━━━\u001B[0m\u001B[37m\u001B[0m \u001B[1m0s\u001B[0m 5ms/step - loss: 106.4216 - val_loss: 570.7476\n",
      "Epoch 196/200\n",
      "\u001B[1m18/18\u001B[0m \u001B[32m━━━━━━━━━━━━━━━━━━━━\u001B[0m\u001B[37m\u001B[0m \u001B[1m0s\u001B[0m 5ms/step - loss: 104.9492 - val_loss: 565.4689\n",
      "Epoch 197/200\n",
      "\u001B[1m18/18\u001B[0m \u001B[32m━━━━━━━━━━━━━━━━━━━━\u001B[0m\u001B[37m\u001B[0m \u001B[1m0s\u001B[0m 5ms/step - loss: 104.8510 - val_loss: 567.6855\n",
      "Epoch 198/200\n",
      "\u001B[1m18/18\u001B[0m \u001B[32m━━━━━━━━━━━━━━━━━━━━\u001B[0m\u001B[37m\u001B[0m \u001B[1m0s\u001B[0m 5ms/step - loss: 105.8198 - val_loss: 567.1766\n",
      "Epoch 199/200\n",
      "\u001B[1m18/18\u001B[0m \u001B[32m━━━━━━━━━━━━━━━━━━━━\u001B[0m\u001B[37m\u001B[0m \u001B[1m0s\u001B[0m 5ms/step - loss: 105.8147 - val_loss: 565.7081\n",
      "Epoch 200/200\n",
      "\u001B[1m18/18\u001B[0m \u001B[32m━━━━━━━━━━━━━━━━━━━━\u001B[0m\u001B[37m\u001B[0m \u001B[1m0s\u001B[0m 5ms/step - loss: 105.2973 - val_loss: 566.5455\n"
     ]
    },
    {
     "data": {
      "text/plain": [
       "<keras.src.callbacks.history.History at 0x1a316c48750>"
      ]
     },
     "execution_count": 76,
     "metadata": {},
     "output_type": "execute_result"
    }
   ],
   "execution_count": 76
  },
  {
   "metadata": {
    "ExecuteTime": {
     "end_time": "2025-07-22T09:04:18.417091Z",
     "start_time": "2025-07-22T09:04:18.301548Z"
    }
   },
   "cell_type": "code",
   "source": "model_6.evaluate(X_test, y_test)",
   "id": "408a8dd048f861a6",
   "outputs": [
    {
     "name": "stdout",
     "output_type": "stream",
     "text": [
      "\u001B[1m18/18\u001B[0m \u001B[32m━━━━━━━━━━━━━━━━━━━━\u001B[0m\u001B[37m\u001B[0m \u001B[1m0s\u001B[0m 3ms/step - loss: 281.2821 \n"
     ]
    },
    {
     "data": {
      "text/plain": [
       "566.54541015625"
      ]
     },
     "execution_count": 77,
     "metadata": {},
     "output_type": "execute_result"
    }
   ],
   "execution_count": 77
  },
  {
   "metadata": {
    "ExecuteTime": {
     "end_time": "2025-07-22T09:04:18.673926Z",
     "start_time": "2025-07-22T09:04:18.502314Z"
    }
   },
   "cell_type": "code",
   "source": [
    "model_6_preds = tf.squeeze(model_6.predict(X_test))\n",
    "model_6_preds[:10]"
   ],
   "id": "46ceaab4fed3518",
   "outputs": [
    {
     "name": "stdout",
     "output_type": "stream",
     "text": [
      "\u001B[1m18/18\u001B[0m \u001B[32m━━━━━━━━━━━━━━━━━━━━\u001B[0m\u001B[37m\u001B[0m \u001B[1m0s\u001B[0m 3ms/step \n"
     ]
    },
    {
     "data": {
      "text/plain": [
       "<tf.Tensor: shape=(10,), dtype=float32, numpy=\n",
       "array([8811.203 , 8776.159 , 9047.036 , 8747.915 , 8717.436 , 8718.893 ,\n",
       "       8670.282 , 8502.588 , 8437.696 , 8526.1045], dtype=float32)>"
      ]
     },
     "execution_count": 78,
     "metadata": {},
     "output_type": "execute_result"
    }
   ],
   "execution_count": 78
  },
  {
   "metadata": {
    "ExecuteTime": {
     "end_time": "2025-07-22T09:04:18.755772Z",
     "start_time": "2025-07-22T09:04:18.741383Z"
    }
   },
   "cell_type": "code",
   "source": "model_6_results = evaluate_preds(y_true=y_test, y_pred=model_6_preds)",
   "id": "205aed0780e46894",
   "outputs": [],
   "execution_count": 79
  },
  {
   "metadata": {
    "ExecuteTime": {
     "end_time": "2025-07-22T09:04:18.921401Z",
     "start_time": "2025-07-22T09:04:18.914228Z"
    }
   },
   "cell_type": "code",
   "source": "model_6_results",
   "id": "bd64d695fa3ff2b9",
   "outputs": [
    {
     "data": {
      "text/plain": [
       "{'mae': 566.5455,\n",
       " 'mse': 1155881.1,\n",
       " 'rmse': 1075.1191,\n",
       " 'mape': 2.5277486,\n",
       " 'mase': 0.99526346}"
      ]
     },
     "execution_count": 80,
     "metadata": {},
     "output_type": "execute_result"
    }
   ],
   "execution_count": 80
  },
  {
   "metadata": {
    "ExecuteTime": {
     "end_time": "2025-07-22T09:04:18.988401Z",
     "start_time": "2025-07-22T09:04:18.982489Z"
    }
   },
   "cell_type": "code",
   "source": "model_1_results",
   "id": "6e306938b1b29904",
   "outputs": [
    {
     "data": {
      "text/plain": [
       "{'mae': 565.4708,\n",
       " 'mse': 1157316.6,\n",
       " 'rmse': 1075.7865,\n",
       " 'mape': 2.5242836,\n",
       " 'mase': 0.9933756}"
      ]
     },
     "execution_count": 81,
     "metadata": {},
     "output_type": "execute_result"
    }
   ],
   "execution_count": 81
  },
  {
   "metadata": {
    "ExecuteTime": {
     "end_time": "2025-07-22T09:04:19.065609Z",
     "start_time": "2025-07-22T09:04:19.060607Z"
    }
   },
   "cell_type": "code",
   "source": "# N-beats algorythm",
   "id": "fbd1fe8658c10cda",
   "outputs": [],
   "execution_count": 82
  },
  {
   "metadata": {
    "ExecuteTime": {
     "end_time": "2025-07-22T09:04:19.145442Z",
     "start_time": "2025-07-22T09:04:19.137923Z"
    }
   },
   "cell_type": "code",
   "source": [
    "class NBeatsBlock(tf.keras.layers.Layer):\n",
    "    def __init__(self,\n",
    "                 input_size: int,\n",
    "                 theta_size: int,\n",
    "                 horizon: int,\n",
    "                 n_neurons: int,\n",
    "                 n_layers: int,\n",
    "                 **kwargs):\n",
    "        super().__init__(**kwargs)\n",
    "        self.input_size = input_size\n",
    "        self.theta_size = theta_size\n",
    "        self.horizon = horizon\n",
    "        self.n_neurons = n_neurons\n",
    "        self.n_layers = n_layers\n",
    "        \n",
    "        self.hidden = [tf.keras.layers.Dense(n_neurons, activation='relu') for _ in range(n_layers)]\n",
    "        self.theta_layer = tf.keras.layers.Dense(theta_size, activation='linear', name='theta')\n",
    "        \n",
    "        \n",
    "    def call(self, inputs):\n",
    "        x = inputs\n",
    "        for layer in self.hidden:\n",
    "            x = layer(x)\n",
    "        theta = self.theta_layer(x)\n",
    "        backcast, forecast = theta[:, :self.input_size], theta[:, -self.horizon]\n",
    "        return backcast, forecast"
   ],
   "id": "d390072efbd6d037",
   "outputs": [],
   "execution_count": 83
  },
  {
   "metadata": {
    "ExecuteTime": {
     "end_time": "2025-07-22T09:04:19.355343Z",
     "start_time": "2025-07-22T09:04:19.338971Z"
    }
   },
   "cell_type": "code",
   "source": [
    "dummy_nbeats_block_layer = NBeatsBlock(input_size=WINDOW_SIZE, \n",
    "                                       theta_size=WINDOW_SIZE+HORIZON,\n",
    "                                       horizon=HORIZON,\n",
    "                                       n_neurons=128,\n",
    "                                       n_layers=4)"
   ],
   "id": "14aa0f4227d54eee",
   "outputs": [],
   "execution_count": 84
  },
  {
   "metadata": {
    "ExecuteTime": {
     "end_time": "2025-07-22T09:04:19.395452Z",
     "start_time": "2025-07-22T09:04:19.383466Z"
    }
   },
   "cell_type": "code",
   "source": [
    "dummy_inputs = tf.expand_dims(tf.range(WINDOW_SIZE)+1, axis=0)\n",
    "dummy_inputs"
   ],
   "id": "41a0756b46713318",
   "outputs": [
    {
     "data": {
      "text/plain": [
       "<tf.Tensor: shape=(1, 7), dtype=int32, numpy=array([[1, 2, 3, 4, 5, 6, 7]])>"
      ]
     },
     "execution_count": 85,
     "metadata": {},
     "output_type": "execute_result"
    }
   ],
   "execution_count": 85
  },
  {
   "metadata": {
    "ExecuteTime": {
     "end_time": "2025-07-22T09:04:23.202059Z",
     "start_time": "2025-07-22T09:04:22.962891Z"
    }
   },
   "cell_type": "code",
   "source": [
    "backcast, forecast = dummy_nbeats_block_layer(dummy_inputs)\n",
    "backcast.numpy(), forecast.numpy()"
   ],
   "id": "5e18ab56079bf70b",
   "outputs": [
    {
     "data": {
      "text/plain": [
       "(array([[ 0.9418386 ,  0.18309979, -0.25438088,  0.51712453, -0.05206652,\n",
       "         -0.40168166,  0.6288146 ]], dtype=float32),\n",
       " array([0.20341976], dtype=float32))"
      ]
     },
     "execution_count": 86,
     "metadata": {},
     "output_type": "execute_result"
    }
   ],
   "execution_count": 86
  },
  {
   "metadata": {
    "ExecuteTime": {
     "end_time": "2025-07-22T09:04:23.287155Z",
     "start_time": "2025-07-22T09:04:23.283449Z"
    }
   },
   "cell_type": "code",
   "source": [
    "HORIZON = 1\n",
    "WINDOW_SIZE = 7 "
   ],
   "id": "e059407eca478e75",
   "outputs": [],
   "execution_count": 87
  },
  {
   "metadata": {
    "ExecuteTime": {
     "end_time": "2025-07-22T09:04:23.618278Z",
     "start_time": "2025-07-22T09:04:23.420308Z"
    }
   },
   "cell_type": "code",
   "source": [
    "bitcoin_prices_nbeats = bitcoin_prices.copy()\n",
    "\n",
    "for i in range(WINDOW_SIZE):\n",
    "    bitcoin_prices_nbeats[f\"price+{i+1}\"] = bitcoin_prices_nbeats['price'].shift(periods=i+1)\n",
    "    \n",
    "bitcoin_prices_nbeats"
   ],
   "id": "7e469ecd765dda59",
   "outputs": [
    {
     "data": {
      "text/plain": [
       "                   price       price+1       price+2       price+3  \\\n",
       "Date                                                                 \n",
       "2013-10-01    123.654990           NaN           NaN           NaN   \n",
       "2013-10-02    125.455000    123.654990           NaN           NaN   \n",
       "2013-10-03    108.584830    125.455000    123.654990           NaN   \n",
       "2013-10-04    118.674660    108.584830    125.455000    123.654990   \n",
       "2013-10-05    121.338660    118.674660    108.584830    125.455000   \n",
       "...                  ...           ...           ...           ...   \n",
       "2021-05-14  49764.132082  52147.821187  56573.555472  55715.546651   \n",
       "2021-05-15  50032.693137  49764.132082  52147.821187  56573.555472   \n",
       "2021-05-16  47885.625255  50032.693137  49764.132082  52147.821187   \n",
       "2021-05-17  45604.615754  47885.625255  50032.693137  49764.132082   \n",
       "2021-05-18  43144.471291  45604.615754  47885.625255  50032.693137   \n",
       "\n",
       "                 price+4       price+5       price+6       price+7  \n",
       "Date                                                                \n",
       "2013-10-01           NaN           NaN           NaN           NaN  \n",
       "2013-10-02           NaN           NaN           NaN           NaN  \n",
       "2013-10-03           NaN           NaN           NaN           NaN  \n",
       "2013-10-04           NaN           NaN           NaN           NaN  \n",
       "2013-10-05    123.654990           NaN           NaN           NaN  \n",
       "...                  ...           ...           ...           ...  \n",
       "2021-05-14  58102.191426  58788.209679  57107.120672  56583.849879  \n",
       "2021-05-15  55715.546651  58102.191426  58788.209679  57107.120672  \n",
       "2021-05-16  56573.555472  55715.546651  58102.191426  58788.209679  \n",
       "2021-05-17  52147.821187  56573.555472  55715.546651  58102.191426  \n",
       "2021-05-18  49764.132082  52147.821187  56573.555472  55715.546651  \n",
       "\n",
       "[2787 rows x 8 columns]"
      ],
      "text/html": [
       "<div>\n",
       "<style scoped>\n",
       "    .dataframe tbody tr th:only-of-type {\n",
       "        vertical-align: middle;\n",
       "    }\n",
       "\n",
       "    .dataframe tbody tr th {\n",
       "        vertical-align: top;\n",
       "    }\n",
       "\n",
       "    .dataframe thead th {\n",
       "        text-align: right;\n",
       "    }\n",
       "</style>\n",
       "<table border=\"1\" class=\"dataframe\">\n",
       "  <thead>\n",
       "    <tr style=\"text-align: right;\">\n",
       "      <th></th>\n",
       "      <th>price</th>\n",
       "      <th>price+1</th>\n",
       "      <th>price+2</th>\n",
       "      <th>price+3</th>\n",
       "      <th>price+4</th>\n",
       "      <th>price+5</th>\n",
       "      <th>price+6</th>\n",
       "      <th>price+7</th>\n",
       "    </tr>\n",
       "    <tr>\n",
       "      <th>Date</th>\n",
       "      <th></th>\n",
       "      <th></th>\n",
       "      <th></th>\n",
       "      <th></th>\n",
       "      <th></th>\n",
       "      <th></th>\n",
       "      <th></th>\n",
       "      <th></th>\n",
       "    </tr>\n",
       "  </thead>\n",
       "  <tbody>\n",
       "    <tr>\n",
       "      <th>2013-10-01</th>\n",
       "      <td>123.654990</td>\n",
       "      <td>NaN</td>\n",
       "      <td>NaN</td>\n",
       "      <td>NaN</td>\n",
       "      <td>NaN</td>\n",
       "      <td>NaN</td>\n",
       "      <td>NaN</td>\n",
       "      <td>NaN</td>\n",
       "    </tr>\n",
       "    <tr>\n",
       "      <th>2013-10-02</th>\n",
       "      <td>125.455000</td>\n",
       "      <td>123.654990</td>\n",
       "      <td>NaN</td>\n",
       "      <td>NaN</td>\n",
       "      <td>NaN</td>\n",
       "      <td>NaN</td>\n",
       "      <td>NaN</td>\n",
       "      <td>NaN</td>\n",
       "    </tr>\n",
       "    <tr>\n",
       "      <th>2013-10-03</th>\n",
       "      <td>108.584830</td>\n",
       "      <td>125.455000</td>\n",
       "      <td>123.654990</td>\n",
       "      <td>NaN</td>\n",
       "      <td>NaN</td>\n",
       "      <td>NaN</td>\n",
       "      <td>NaN</td>\n",
       "      <td>NaN</td>\n",
       "    </tr>\n",
       "    <tr>\n",
       "      <th>2013-10-04</th>\n",
       "      <td>118.674660</td>\n",
       "      <td>108.584830</td>\n",
       "      <td>125.455000</td>\n",
       "      <td>123.654990</td>\n",
       "      <td>NaN</td>\n",
       "      <td>NaN</td>\n",
       "      <td>NaN</td>\n",
       "      <td>NaN</td>\n",
       "    </tr>\n",
       "    <tr>\n",
       "      <th>2013-10-05</th>\n",
       "      <td>121.338660</td>\n",
       "      <td>118.674660</td>\n",
       "      <td>108.584830</td>\n",
       "      <td>125.455000</td>\n",
       "      <td>123.654990</td>\n",
       "      <td>NaN</td>\n",
       "      <td>NaN</td>\n",
       "      <td>NaN</td>\n",
       "    </tr>\n",
       "    <tr>\n",
       "      <th>...</th>\n",
       "      <td>...</td>\n",
       "      <td>...</td>\n",
       "      <td>...</td>\n",
       "      <td>...</td>\n",
       "      <td>...</td>\n",
       "      <td>...</td>\n",
       "      <td>...</td>\n",
       "      <td>...</td>\n",
       "    </tr>\n",
       "    <tr>\n",
       "      <th>2021-05-14</th>\n",
       "      <td>49764.132082</td>\n",
       "      <td>52147.821187</td>\n",
       "      <td>56573.555472</td>\n",
       "      <td>55715.546651</td>\n",
       "      <td>58102.191426</td>\n",
       "      <td>58788.209679</td>\n",
       "      <td>57107.120672</td>\n",
       "      <td>56583.849879</td>\n",
       "    </tr>\n",
       "    <tr>\n",
       "      <th>2021-05-15</th>\n",
       "      <td>50032.693137</td>\n",
       "      <td>49764.132082</td>\n",
       "      <td>52147.821187</td>\n",
       "      <td>56573.555472</td>\n",
       "      <td>55715.546651</td>\n",
       "      <td>58102.191426</td>\n",
       "      <td>58788.209679</td>\n",
       "      <td>57107.120672</td>\n",
       "    </tr>\n",
       "    <tr>\n",
       "      <th>2021-05-16</th>\n",
       "      <td>47885.625255</td>\n",
       "      <td>50032.693137</td>\n",
       "      <td>49764.132082</td>\n",
       "      <td>52147.821187</td>\n",
       "      <td>56573.555472</td>\n",
       "      <td>55715.546651</td>\n",
       "      <td>58102.191426</td>\n",
       "      <td>58788.209679</td>\n",
       "    </tr>\n",
       "    <tr>\n",
       "      <th>2021-05-17</th>\n",
       "      <td>45604.615754</td>\n",
       "      <td>47885.625255</td>\n",
       "      <td>50032.693137</td>\n",
       "      <td>49764.132082</td>\n",
       "      <td>52147.821187</td>\n",
       "      <td>56573.555472</td>\n",
       "      <td>55715.546651</td>\n",
       "      <td>58102.191426</td>\n",
       "    </tr>\n",
       "    <tr>\n",
       "      <th>2021-05-18</th>\n",
       "      <td>43144.471291</td>\n",
       "      <td>45604.615754</td>\n",
       "      <td>47885.625255</td>\n",
       "      <td>50032.693137</td>\n",
       "      <td>49764.132082</td>\n",
       "      <td>52147.821187</td>\n",
       "      <td>56573.555472</td>\n",
       "      <td>55715.546651</td>\n",
       "    </tr>\n",
       "  </tbody>\n",
       "</table>\n",
       "<p>2787 rows × 8 columns</p>\n",
       "</div>"
      ]
     },
     "execution_count": 88,
     "metadata": {},
     "output_type": "execute_result"
    }
   ],
   "execution_count": 88
  },
  {
   "metadata": {
    "ExecuteTime": {
     "end_time": "2025-07-22T09:04:23.750586Z",
     "start_time": "2025-07-22T09:04:23.738265Z"
    }
   },
   "cell_type": "code",
   "source": [
    "X = bitcoin_prices_nbeats.dropna().drop('price', axis=1)\n",
    "y = bitcoin_prices_nbeats.dropna()['price']\n",
    "\n",
    "split_size = int(len(X) * 0.8)\n",
    "X_train, y_train = X[:split_size], y[:split_size]\n",
    "X_test, y_test = X[split_size:], y[split_size:]\n",
    "len(X_train), len(y_train), len(X_test), len(y_test)"
   ],
   "id": "80e68def53634c3c",
   "outputs": [
    {
     "data": {
      "text/plain": [
       "(2224, 2224, 556, 556)"
      ]
     },
     "execution_count": 89,
     "metadata": {},
     "output_type": "execute_result"
    }
   ],
   "execution_count": 89
  },
  {
   "metadata": {
    "ExecuteTime": {
     "end_time": "2025-07-22T09:04:24.009423Z",
     "start_time": "2025-07-22T09:04:23.873803Z"
    }
   },
   "cell_type": "code",
   "source": [
    "# time to make our dataset performant using tf.data API\n",
    "\n",
    "train_features_dataset = tf.data.Dataset.from_tensor_slices(X_train)\n",
    "train_labels_dataset = tf.data.Dataset.from_tensor_slices(y_train)\n",
    "\n",
    "test_features_dataset = tf.data.Dataset.from_tensor_slices(X_test)\n",
    "test_labels_dataset = tf.data.Dataset.from_tensor_slices(y_test)"
   ],
   "id": "4ce765a5202565e0",
   "outputs": [],
   "execution_count": 90
  },
  {
   "metadata": {
    "ExecuteTime": {
     "end_time": "2025-07-22T09:04:24.466845Z",
     "start_time": "2025-07-22T09:04:24.299411Z"
    }
   },
   "cell_type": "code",
   "source": [
    "train_dataset = tf.data.Dataset.zip((train_features_dataset, train_labels_dataset))\n",
    "test_dataset = tf.data.Dataset.zip((test_features_dataset, test_labels_dataset))\n",
    "\n",
    "BATCH_SIZE = 1024\n",
    "train_dataset = train_dataset.batch(BATCH_SIZE).prefetch(buffer_size=tf.data.experimental.AUTOTUNE)\n",
    "test_dataset = test_dataset.batch(BATCH_SIZE).prefetch(buffer_size=tf.data.experimental.AUTOTUNE)\n",
    "\n",
    "train_dataset, test_dataset"
   ],
   "id": "3b72ec4ed96a9f80",
   "outputs": [
    {
     "data": {
      "text/plain": [
       "(<_PrefetchDataset element_spec=(TensorSpec(shape=(None, 7), dtype=tf.float64, name=None), TensorSpec(shape=(None,), dtype=tf.float64, name=None))>,\n",
       " <_PrefetchDataset element_spec=(TensorSpec(shape=(None, 7), dtype=tf.float64, name=None), TensorSpec(shape=(None,), dtype=tf.float64, name=None))>)"
      ]
     },
     "execution_count": 91,
     "metadata": {},
     "output_type": "execute_result"
    }
   ],
   "execution_count": 91
  },
  {
   "metadata": {
    "ExecuteTime": {
     "end_time": "2025-07-22T09:04:24.570870Z",
     "start_time": "2025-07-22T09:04:24.559277Z"
    }
   },
   "cell_type": "code",
   "source": [
    "N_EPOCHS = 5000\n",
    "N_NEURONS = 512\n",
    "N_LAYERS = 4\n",
    "N_STACKS = 30\n",
    "\n",
    "INPUT_SIZE = WINDOW_SIZE * HORIZON\n",
    "THETA_SIZE = INPUT_SIZE + HORIZON\n",
    "\n",
    "INPUT_SIZE, THETA_SIZE"
   ],
   "id": "c20aa48f920075dc",
   "outputs": [
    {
     "data": {
      "text/plain": [
       "(7, 8)"
      ]
     },
     "execution_count": 92,
     "metadata": {},
     "output_type": "execute_result"
    }
   ],
   "execution_count": 92
  },
  {
   "metadata": {
    "ExecuteTime": {
     "end_time": "2025-07-22T09:04:24.655739Z",
     "start_time": "2025-07-22T09:04:24.641201Z"
    }
   },
   "cell_type": "code",
   "source": [
    "# before we can craft our N-Beats model we need two layers for the residual connections (subtract and add\n",
    "\n",
    "tensor_1 = tf.range(10) + 10\n",
    "tensor_2 = tf.range(10) \n",
    "\n",
    "subtracted = layers.subtract([tensor_1, tensor_2])\n",
    "added = layers.add([tensor_1, tensor_2])\n",
    "\n",
    "print(f\"Input tensors: {tensor_1.numpy()} & {tensor_2.numpy()}\")\n",
    "print(f\"Subtracted tensors: {subtracted.numpy()}\")\n",
    "print(f\"Added tensors: {added.numpy()}\")"
   ],
   "id": "17420ea06c95dcbe",
   "outputs": [
    {
     "name": "stdout",
     "output_type": "stream",
     "text": [
      "Input tensors: [10 11 12 13 14 15 16 17 18 19] & [0 1 2 3 4 5 6 7 8 9]\n",
      "Subtracted tensors: [10 10 10 10 10 10 10 10 10 10]\n",
      "Added tensors: [10 12 14 16 18 20 22 24 26 28]\n"
     ]
    }
   ],
   "execution_count": 93
  },
  {
   "metadata": {},
   "cell_type": "markdown",
   "source": "The n-beats algorithm uses double residual stacking to help train its deeper architecture",
   "id": "c660d75f6646b7d3"
  },
  {
   "metadata": {
    "jupyter": {
     "is_executing": true
    },
    "ExecuteTime": {
     "start_time": "2025-07-22T09:10:29.795658Z"
    }
   },
   "cell_type": "code",
   "source": [
    "%%time\n",
    "\n",
    "tf.random.set_seed(42)\n",
    "\n",
    "# 1. Setup and instance of NBeatsBlock\n",
    "nbeats_block_layer = NBeatsBlock(input_size=INPUT_SIZE,\n",
    "                                 theta_size=THETA_SIZE,\n",
    "                                 horizon=HORIZON,\n",
    "                                 n_neurons=N_NEURONS,\n",
    "                                 n_layers=N_LAYERS,\n",
    "                                 name=\"InitialBlock\")\n",
    "\n",
    "# 2. create input to stack\n",
    "stack_input = layers.Input(shape=(INPUT_SIZE,), name=\"stack_input\")\n",
    "\n",
    "# 3. create initial backcast and forecast input\n",
    "residuals, forecast = nbeats_block_layer(stack_input)\n",
    "\n",
    "# 4. create stacks of bllock layers\n",
    "for i, _ in enumerate(range(N_STACKS-1)): # first stack is already created in 3.\n",
    "    # 5. the NBeatsBlock to calculate the backcast as well as the forecast\n",
    "    backcast, block_forecast = NBeatsBlock(input_size=INPUT_SIZE,\n",
    "                                           theta_size = THETA_SIZE,\n",
    "                                           horizon=HORIZON,\n",
    "                                           n_neurons = N_NEURONS,\n",
    "                                           n_layers = N_LAYERS,\n",
    "                                           name=f\"NBeatsBlock_{i}\")(residuals) # pass in the residuals \n",
    "\n",
    "    #  6. Create the double residual stacking\n",
    "    residuals = layers.subtract([residuals, backcast], name=f\"subtract_{i}\")\n",
    "    forecast = layers.add([forecast, block_forecast], name=f\"add_{i}\")\n",
    "\n",
    "# 7. put the stack model together \n",
    "model_7 = tf.keras.Model(inputs = stack_input, outputs = forecast, name=\"model_7_nbeats\")\n",
    "\n",
    "# 8. compile\n",
    "model_7.compile(loss=\"mae\",\n",
    "                optimizer=tf.keras.optimizers.Adam())\n",
    "\n",
    "# 9. fit\n",
    "model_7.fit(train_dataset,\n",
    "            epochs=N_EPOCHS,\n",
    "            validation_data=test_dataset,\n",
    "            verbose=0,\n",
    "            callbacks=[tf.keras.callbacks.EarlyStopping(monitor=\"val_loss\",\n",
    "                                                        patience=200,\n",
    "                                                        restore_best_weights=True),\n",
    "                       tf.keras.callbacks.ReduceLROnPlateau(monitor=\"val_loss\", patience=100, verbose=1)])"
   ],
   "id": "b05d0f7035c56348",
   "outputs": [],
   "execution_count": null
  },
  {
   "metadata": {},
   "cell_type": "code",
   "outputs": [],
   "execution_count": null,
   "source": "model_7.evaluate(test_dataset)",
   "id": "4b9da13cb8b6a3ce"
  },
  {
   "metadata": {},
   "cell_type": "code",
   "outputs": [],
   "execution_count": null,
   "source": [
    "model_7_preds = make_preds(model_7, test_dataset)\n",
    "model_7_preds[:10]"
   ],
   "id": "b749be9ffb36b634"
  },
  {
   "metadata": {},
   "cell_type": "code",
   "outputs": [],
   "execution_count": null,
   "source": [
    "model_7_results = evaluate_preds(y_true=y_test, y_pred=model_7_preds)\n",
    "model_7_results"
   ],
   "id": "f851874b361864cd"
  }
 ],
 "metadata": {
  "kernelspec": {
   "display_name": "Python 3",
   "language": "python",
   "name": "python3"
  },
  "language_info": {
   "codemirror_mode": {
    "name": "ipython",
    "version": 2
   },
   "file_extension": ".py",
   "mimetype": "text/x-python",
   "name": "python",
   "nbconvert_exporter": "python",
   "pygments_lexer": "ipython2",
   "version": "2.7.6"
  }
 },
 "nbformat": 4,
 "nbformat_minor": 5
}
